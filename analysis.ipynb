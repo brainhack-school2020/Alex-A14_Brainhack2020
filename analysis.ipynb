{
 "cells": [
  {
   "cell_type": "markdown",
   "metadata": {},
   "source": [
    "# Predicting Schizophrenia Diagnosis"
   ]
  },
  {
   "cell_type": "code",
   "execution_count": 29,
   "metadata": {
    "scrolled": true
   },
   "outputs": [
    {
     "name": "stderr",
     "output_type": "stream",
     "text": [
      "/home/aalbury/miniconda3/lib/python3.7/site-packages/numpy/lib/npyio.py:2372: VisibleDeprecationWarning:\n",
      "\n",
      "Reading unicode strings without specifying the encoding argument is deprecated. Set the encoding, use None for the system default.\n",
      "\n"
     ]
    },
    {
     "name": "stdout",
     "output_type": "stream",
     "text": [
      "Downloading data from https://ndownloader.figshare.com/files/6848352 ...\n"
     ]
    },
    {
     "name": "stderr",
     "output_type": "stream",
     "text": [
      "Downloaded 4303893 of 4303893 bytes (100.0%,    0.0s remaining) ...done. (7 seconds, 0 min)\n"
     ]
    },
    {
     "name": "stdout",
     "output_type": "stream",
     "text": [
      "Downloading data from https://ndownloader.figshare.com/files/6848355 ...\n"
     ]
    },
    {
     "name": "stderr",
     "output_type": "stream",
     "text": [
      "\r",
      "Downloaded 23837 of 23837 bytes (100.0%,    0.0s remaining) ...done. (6 seconds, 0 min)\n",
      "Extracting data from /home/aalbury/nilearn_data/cobre/f1549b465246de612b4ab314805d9a4e/fmri_0040029.tsv.gz..... done.\n"
     ]
    },
    {
     "name": "stdout",
     "output_type": "stream",
     "text": [
      "Downloading data from https://ndownloader.figshare.com/files/6848964 ...\n"
     ]
    },
    {
     "name": "stderr",
     "output_type": "stream",
     "text": [
      "Downloaded 4499372 of 4499372 bytes (100.0%,    0.0s remaining) ...done. (12 seconds, 0 min)\n"
     ]
    },
    {
     "name": "stdout",
     "output_type": "stream",
     "text": [
      "Downloading data from https://ndownloader.figshare.com/files/6848967 ...\n"
     ]
    },
    {
     "name": "stderr",
     "output_type": "stream",
     "text": [
      "\r",
      "Downloaded 24098 of 24098 bytes (100.0%,    0.0s remaining) ...done. (1 seconds, 0 min)\n",
      "Extracting data from /home/aalbury/nilearn_data/cobre/c40fbbae26164964a850266b5eab9c1b/fmri_0040133.tsv.gz..... done.\n"
     ]
    },
    {
     "name": "stdout",
     "output_type": "stream",
     "text": [
      "Downloading data from https://ndownloader.figshare.com/files/6848304 ...\n"
     ]
    },
    {
     "name": "stderr",
     "output_type": "stream",
     "text": [
      "Downloaded 4514752 of 4514752 bytes (100.0%,    0.0s remaining) ...done. (11 seconds, 0 min)\n"
     ]
    },
    {
     "name": "stdout",
     "output_type": "stream",
     "text": [
      "Downloading data from https://ndownloader.figshare.com/files/6848307 ...\n"
     ]
    },
    {
     "name": "stderr",
     "output_type": "stream",
     "text": [
      "\r",
      "Downloaded 23895 of 23895 bytes (100.0%,    0.0s remaining) ...done. (1 seconds, 0 min)\n",
      "Extracting data from /home/aalbury/nilearn_data/cobre/a93fad3aad3897219b9761fd2b3673c2/fmri_0040021.tsv.gz..... done.\n"
     ]
    },
    {
     "name": "stdout",
     "output_type": "stream",
     "text": [
      "Downloading data from https://ndownloader.figshare.com/files/6848988 ...\n"
     ]
    },
    {
     "name": "stderr",
     "output_type": "stream",
     "text": [
      "Downloaded 4081189 of 4081189 bytes (100.0%,    0.0s remaining) ...done. (9 seconds, 0 min)\n"
     ]
    },
    {
     "name": "stdout",
     "output_type": "stream",
     "text": [
      "Downloading data from https://ndownloader.figshare.com/files/6848991 ...\n"
     ]
    },
    {
     "name": "stderr",
     "output_type": "stream",
     "text": [
      "\r",
      "Downloaded 24018 of 24018 bytes (100.0%,    0.0s remaining) ...done. (1 seconds, 0 min)\n",
      "Extracting data from /home/aalbury/nilearn_data/cobre/074e1a811ce944695346377d70f9971a/fmri_0040137.tsv.gz..... done.\n"
     ]
    },
    {
     "name": "stdout",
     "output_type": "stream",
     "text": [
      "Downloading data from https://ndownloader.figshare.com/files/6848676 ...\n"
     ]
    },
    {
     "name": "stderr",
     "output_type": "stream",
     "text": [
      "Downloaded 4639152 of 4639152 bytes (100.0%,    0.0s remaining) ...done. (8 seconds, 0 min)\n"
     ]
    },
    {
     "name": "stdout",
     "output_type": "stream",
     "text": [
      "Downloading data from https://ndownloader.figshare.com/files/6848679 ...\n"
     ]
    },
    {
     "name": "stderr",
     "output_type": "stream",
     "text": [
      "\r",
      "Downloaded 24157 of 24157 bytes (100.0%,    0.0s remaining) ...done. (1 seconds, 0 min)\n",
      "Extracting data from /home/aalbury/nilearn_data/cobre/9294cb1e05427bb3045d3975619b0890/fmri_0040085.tsv.gz..... done.\n"
     ]
    },
    {
     "name": "stdout",
     "output_type": "stream",
     "text": [
      "Downloading data from https://ndownloader.figshare.com/files/6848742 ...\n"
     ]
    },
    {
     "name": "stderr",
     "output_type": "stream",
     "text": [
      "Downloaded 4343132 of 4343132 bytes (100.0%,    0.0s remaining) ...done. (6 seconds, 0 min)\n"
     ]
    },
    {
     "name": "stdout",
     "output_type": "stream",
     "text": [
      "Downloading data from https://ndownloader.figshare.com/files/6848745 ...\n"
     ]
    },
    {
     "name": "stderr",
     "output_type": "stream",
     "text": [
      "\r",
      "Downloaded 24288 of 24288 bytes (100.0%,    0.0s remaining) ...done. (1 seconds, 0 min)\n",
      "Extracting data from /home/aalbury/nilearn_data/cobre/fe30ad948ff3c61ea5a8219012168901/fmri_0040096.tsv.gz..... done.\n"
     ]
    },
    {
     "name": "stdout",
     "output_type": "stream",
     "text": [
      "Downloading data from https://ndownloader.figshare.com/files/6848898 ...\n"
     ]
    },
    {
     "name": "stderr",
     "output_type": "stream",
     "text": [
      "Downloaded 4407737 of 4407737 bytes (100.0%,    0.0s remaining) ...done. (6 seconds, 0 min)\n"
     ]
    },
    {
     "name": "stdout",
     "output_type": "stream",
     "text": [
      "Downloading data from https://ndownloader.figshare.com/files/6848901 ...\n"
     ]
    },
    {
     "name": "stderr",
     "output_type": "stream",
     "text": [
      "\r",
      "Downloaded 23809 of 23809 bytes (100.0%,    0.0s remaining) ...done. (1 seconds, 0 min)\n",
      "Extracting data from /home/aalbury/nilearn_data/cobre/3c999b44ec4999b7d2da82ecd0e749ec/fmri_0040122.tsv.gz..... done.\n"
     ]
    },
    {
     "name": "stdout",
     "output_type": "stream",
     "text": [
      "Downloading data from https://ndownloader.figshare.com/files/6848310 ...\n"
     ]
    },
    {
     "name": "stderr",
     "output_type": "stream",
     "text": [
      "Downloaded 4371608 of 4371608 bytes (100.0%,    0.0s remaining) ...done. (29 seconds, 0 min)\n"
     ]
    },
    {
     "name": "stdout",
     "output_type": "stream",
     "text": [
      "Downloading data from https://ndownloader.figshare.com/files/6848313 ...\n"
     ]
    },
    {
     "name": "stderr",
     "output_type": "stream",
     "text": [
      "\r",
      "Downloaded 24070 of 24070 bytes (100.0%,    0.0s remaining) ...done. (1 seconds, 0 min)\n",
      "Extracting data from /home/aalbury/nilearn_data/cobre/456d859c3569e8f5962b80e096330062/fmri_0040022.tsv.gz..... done.\n"
     ]
    },
    {
     "name": "stdout",
     "output_type": "stream",
     "text": [
      "Downloading data from https://ndownloader.figshare.com/files/6848610 ...\n"
     ]
    },
    {
     "name": "stderr",
     "output_type": "stream",
     "text": [
      "Downloaded 4424854 of 4424854 bytes (100.0%,    0.0s remaining) ...done. (17 seconds, 0 min)\n"
     ]
    },
    {
     "name": "stdout",
     "output_type": "stream",
     "text": [
      "Downloading data from https://ndownloader.figshare.com/files/6848613 ...\n"
     ]
    },
    {
     "name": "stderr",
     "output_type": "stream",
     "text": [
      "\r",
      "Downloaded 24270 of 24270 bytes (100.0%,    0.0s remaining) ...done. (1 seconds, 0 min)\n",
      "Extracting data from /home/aalbury/nilearn_data/cobre/2ea61e582fc3521ee2bbc6746f6184f8/fmri_0040073.tsv.gz..... done.\n"
     ]
    },
    {
     "name": "stdout",
     "output_type": "stream",
     "text": [
      "Downloading data from https://ndownloader.figshare.com/files/6849018 ...\n"
     ]
    },
    {
     "name": "stderr",
     "output_type": "stream",
     "text": [
      "Downloaded 4546119 of 4546119 bytes (100.0%,    0.0s remaining) ...done. (8 seconds, 0 min)\n"
     ]
    },
    {
     "name": "stdout",
     "output_type": "stream",
     "text": [
      "Downloading data from https://ndownloader.figshare.com/files/6849021 ...\n"
     ]
    },
    {
     "name": "stderr",
     "output_type": "stream",
     "text": [
      "\r",
      "Downloaded 23888 of 23888 bytes (100.0%,    0.0s remaining) ...done. (1 seconds, 0 min)\n",
      "Extracting data from /home/aalbury/nilearn_data/cobre/c6d5bd48a8b3c543c02e280f636e1c63/fmri_0040142.tsv.gz..... done.\n"
     ]
    },
    {
     "name": "stdout",
     "output_type": "stream",
     "text": [
      "Downloading data from https://ndownloader.figshare.com/files/6848400 ...\n"
     ]
    },
    {
     "name": "stderr",
     "output_type": "stream",
     "text": [
      "Downloaded 4492007 of 4492007 bytes (100.0%,    0.0s remaining) ...done. (7 seconds, 0 min)\n"
     ]
    },
    {
     "name": "stdout",
     "output_type": "stream",
     "text": [
      "Downloading data from https://ndownloader.figshare.com/files/6848403 ...\n"
     ]
    },
    {
     "name": "stderr",
     "output_type": "stream",
     "text": [
      "\r",
      "Downloaded 23960 of 23960 bytes (100.0%,    0.0s remaining) ...done. (1 seconds, 0 min)\n",
      "Extracting data from /home/aalbury/nilearn_data/cobre/4c545e7d237bd26e3e4940de09ac74ce/fmri_0040037.tsv.gz..... done.\n"
     ]
    },
    {
     "name": "stdout",
     "output_type": "stream",
     "text": [
      "Downloading data from https://ndownloader.figshare.com/files/6848532 ...\n"
     ]
    },
    {
     "name": "stderr",
     "output_type": "stream",
     "text": [
      "Downloaded 4619945 of 4619945 bytes (100.0%,    0.0s remaining) ...done. (8 seconds, 0 min)\n"
     ]
    },
    {
     "name": "stdout",
     "output_type": "stream",
     "text": [
      "Downloading data from https://ndownloader.figshare.com/files/6848535 ...\n"
     ]
    },
    {
     "name": "stderr",
     "output_type": "stream",
     "text": [
      "\r",
      "Downloaded 23916 of 23916 bytes (100.0%,    0.0s remaining) ...done. (1 seconds, 0 min)\n",
      "Extracting data from /home/aalbury/nilearn_data/cobre/cb2042a760d08af2da4895bec94ba766/fmri_0040059.tsv.gz..... done.\n"
     ]
    },
    {
     "name": "stdout",
     "output_type": "stream",
     "text": [
      "Downloading data from https://ndownloader.figshare.com/files/6848604 ...\n"
     ]
    },
    {
     "name": "stderr",
     "output_type": "stream",
     "text": [
      "Downloaded 4524639 of 4524639 bytes (100.0%,    0.0s remaining) ...done. (16 seconds, 0 min)\n"
     ]
    },
    {
     "name": "stdout",
     "output_type": "stream",
     "text": [
      "Downloading data from https://ndownloader.figshare.com/files/6848607 ...\n"
     ]
    },
    {
     "name": "stderr",
     "output_type": "stream",
     "text": [
      "\r",
      "Downloaded 23950 of 23950 bytes (100.0%,    0.0s remaining) ...done. (1 seconds, 0 min)\n",
      "Extracting data from /home/aalbury/nilearn_data/cobre/8a252244ede345c00c07c732ccb7090d/fmri_0040072.tsv.gz..... done.\n"
     ]
    },
    {
     "name": "stdout",
     "output_type": "stream",
     "text": [
      "Downloading data from https://ndownloader.figshare.com/files/6848646 ...\n"
     ]
    },
    {
     "name": "stderr",
     "output_type": "stream",
     "text": [
      "Downloaded 4410163 of 4410163 bytes (100.0%,    0.0s remaining) ...done. (7 seconds, 0 min)\n"
     ]
    },
    {
     "name": "stdout",
     "output_type": "stream",
     "text": [
      "Downloading data from https://ndownloader.figshare.com/files/6848649 ...\n"
     ]
    },
    {
     "name": "stderr",
     "output_type": "stream",
     "text": [
      "\r",
      "Downloaded 24228 of 24228 bytes (100.0%,    0.0s remaining) ...done. (1 seconds, 0 min)\n",
      "Extracting data from /home/aalbury/nilearn_data/cobre/3ca9612264cca5658926bc6823fec3f3/fmri_0040079.tsv.gz..... done.\n"
     ]
    },
    {
     "name": "stdout",
     "output_type": "stream",
     "text": [
      "Downloading data from https://ndownloader.figshare.com/files/6848652 ...\n"
     ]
    },
    {
     "name": "stderr",
     "output_type": "stream",
     "text": [
      "Downloaded 4446835 of 4446835 bytes (100.0%,    0.0s remaining) ...done. (7 seconds, 0 min)\n"
     ]
    },
    {
     "name": "stdout",
     "output_type": "stream",
     "text": [
      "Downloading data from https://ndownloader.figshare.com/files/6848655 ...\n"
     ]
    },
    {
     "name": "stderr",
     "output_type": "stream",
     "text": [
      "\r",
      "Downloaded 23954 of 23954 bytes (100.0%,    0.0s remaining) ...done. (1 seconds, 0 min)\n",
      "Extracting data from /home/aalbury/nilearn_data/cobre/548b44ab0d8c4b98d75f6b6042327070/fmri_0040080.tsv.gz..... done.\n"
     ]
    },
    {
     "name": "stdout",
     "output_type": "stream",
     "text": [
      "Downloading data from https://ndownloader.figshare.com/files/6848184 ...\n"
     ]
    },
    {
     "name": "stderr",
     "output_type": "stream",
     "text": [
      "Downloaded 4697375 of 4697375 bytes (100.0%,    0.0s remaining) ...done. (4 seconds, 0 min)\n"
     ]
    },
    {
     "name": "stdout",
     "output_type": "stream",
     "text": [
      "Downloading data from https://ndownloader.figshare.com/files/6848187 ...\n"
     ]
    },
    {
     "name": "stderr",
     "output_type": "stream",
     "text": [
      "\r",
      "Downloaded 24417 of 24417 bytes (100.0%,    0.0s remaining) ...done. (1 seconds, 0 min)\n",
      "Extracting data from /home/aalbury/nilearn_data/cobre/3b4fb092665591f76d7322a7dcbad5a9/fmri_0040001.tsv.gz..... done.\n"
     ]
    },
    {
     "name": "stdout",
     "output_type": "stream",
     "text": [
      "Downloading data from https://ndownloader.figshare.com/files/6848196 ...\n"
     ]
    },
    {
     "name": "stderr",
     "output_type": "stream",
     "text": [
      "Downloaded 4267284 of 4267284 bytes (100.0%,    0.0s remaining) ...done. (7 seconds, 0 min)\n"
     ]
    },
    {
     "name": "stdout",
     "output_type": "stream",
     "text": [
      "Downloading data from https://ndownloader.figshare.com/files/6848199 ...\n"
     ]
    },
    {
     "name": "stderr",
     "output_type": "stream",
     "text": [
      "\r",
      "Downloaded 23920 of 23920 bytes (100.0%,    0.0s remaining) ...done. (1 seconds, 0 min)\n",
      "Extracting data from /home/aalbury/nilearn_data/cobre/9e8009b8fae67a0090292af91199ccb6/fmri_0040003.tsv.gz..... done.\n"
     ]
    },
    {
     "name": "stdout",
     "output_type": "stream",
     "text": [
      "Downloading data from https://ndownloader.figshare.com/files/6848226 ...\n"
     ]
    },
    {
     "name": "stderr",
     "output_type": "stream",
     "text": [
      "Downloaded 4576579 of 4576579 bytes (100.0%,    0.0s remaining) ...done. (7 seconds, 0 min)\n"
     ]
    },
    {
     "name": "stdout",
     "output_type": "stream",
     "text": [
      "Downloading data from https://ndownloader.figshare.com/files/6848229 ...\n"
     ]
    },
    {
     "name": "stderr",
     "output_type": "stream",
     "text": [
      "\r",
      "Downloaded 23997 of 23997 bytes (100.0%,    0.0s remaining) ...done. (1 seconds, 0 min)\n",
      "Extracting data from /home/aalbury/nilearn_data/cobre/e8b526b0c72ce2b076e1951a99637ce1/fmri_0040008.tsv.gz..... done.\n"
     ]
    },
    {
     "name": "stdout",
     "output_type": "stream",
     "text": [
      "Downloading data from https://ndownloader.figshare.com/files/6848244 ...\n"
     ]
    },
    {
     "name": "stderr",
     "output_type": "stream",
     "text": [
      "Downloaded 4598085 of 4598085 bytes (100.0%,    0.0s remaining) ...done. (9 seconds, 0 min)\n"
     ]
    },
    {
     "name": "stdout",
     "output_type": "stream",
     "text": [
      "Downloading data from https://ndownloader.figshare.com/files/6848247 ...\n"
     ]
    },
    {
     "name": "stderr",
     "output_type": "stream",
     "text": [
      "\r",
      "Downloaded 24218 of 24218 bytes (100.0%,    0.0s remaining) ...done. (1 seconds, 0 min)\n",
      "Extracting data from /home/aalbury/nilearn_data/cobre/797f8708de05c78a7ff27b00bdc5652e/fmri_0040011.tsv.gz..... done.\n"
     ]
    },
    {
     "name": "stdout",
     "output_type": "stream",
     "text": [
      "Downloading data from https://ndownloader.figshare.com/files/6848634 ...\n"
     ]
    },
    {
     "name": "stderr",
     "output_type": "stream",
     "text": [
      "Downloaded 4412317 of 4412317 bytes (100.0%,    0.0s remaining) ...done. (7 seconds, 0 min)\n"
     ]
    },
    {
     "name": "stdout",
     "output_type": "stream",
     "text": [
      "Downloading data from https://ndownloader.figshare.com/files/6848637 ...\n"
     ]
    },
    {
     "name": "stderr",
     "output_type": "stream",
     "text": [
      "\r",
      "Downloaded 24002 of 24002 bytes (100.0%,    0.0s remaining) ...done. (1 seconds, 0 min)\n",
      "Extracting data from /home/aalbury/nilearn_data/cobre/7a3179c6afab68083abda20501e6f063/fmri_0040077.tsv.gz..... done.\n"
     ]
    },
    {
     "name": "stdout",
     "output_type": "stream",
     "text": [
      "Downloading data from https://ndownloader.figshare.com/files/6848382 ...\n"
     ]
    },
    {
     "name": "stderr",
     "output_type": "stream",
     "text": [
      "Downloaded 4627634 of 4627634 bytes (100.0%,    0.0s remaining) ...done. (7 seconds, 0 min)\n"
     ]
    },
    {
     "name": "stdout",
     "output_type": "stream",
     "text": [
      "Downloading data from https://ndownloader.figshare.com/files/6848385 ...\n"
     ]
    },
    {
     "name": "stderr",
     "output_type": "stream",
     "text": [
      "\r",
      "Downloaded 24094 of 24094 bytes (100.0%,    0.0s remaining) ...done. (2 seconds, 0 min)\n",
      "Extracting data from /home/aalbury/nilearn_data/cobre/559fc4fa1df118bc63c511e2c75f04fc/fmri_0040034.tsv.gz..... done.\n"
     ]
    },
    {
     "name": "stdout",
     "output_type": "stream",
     "text": [
      "Downloading data from https://ndownloader.figshare.com/files/6848814 ...\n"
     ]
    },
    {
     "name": "stderr",
     "output_type": "stream",
     "text": [
      "Downloaded 4325032 of 4325032 bytes (100.0%,    0.0s remaining) ...done. (6 seconds, 0 min)\n"
     ]
    },
    {
     "name": "stdout",
     "output_type": "stream",
     "text": [
      "Downloading data from https://ndownloader.figshare.com/files/6848817 ...\n"
     ]
    },
    {
     "name": "stderr",
     "output_type": "stream",
     "text": [
      "\r",
      "Downloaded 24046 of 24046 bytes (100.0%,    0.0s remaining) ...done. (1 seconds, 0 min)\n",
      "Extracting data from /home/aalbury/nilearn_data/cobre/cf2f8fe2b25bb0181d915e1873ac9044/fmri_0040108.tsv.gz..... done.\n"
     ]
    },
    {
     "name": "stdout",
     "output_type": "stream",
     "text": [
      "Downloading data from https://ndownloader.figshare.com/files/6848232 ...\n"
     ]
    },
    {
     "name": "stderr",
     "output_type": "stream",
     "text": [
      "Downloaded 4409707 of 4409707 bytes (100.0%,    0.0s remaining) ...done. (11 seconds, 0 min)\n"
     ]
    },
    {
     "name": "stdout",
     "output_type": "stream",
     "text": [
      "Downloading data from https://ndownloader.figshare.com/files/6848235 ...\n"
     ]
    },
    {
     "name": "stderr",
     "output_type": "stream",
     "text": [
      "\r",
      "Downloaded 24074 of 24074 bytes (100.0%,    0.0s remaining) ...done. (1 seconds, 0 min)\n",
      "Extracting data from /home/aalbury/nilearn_data/cobre/eb260aa2c2d4f7c43344b8364a0a28c2/fmri_0040009.tsv.gz..... done.\n"
     ]
    },
    {
     "name": "stdout",
     "output_type": "stream",
     "text": [
      "Downloading data from https://ndownloader.figshare.com/files/6848370 ...\n"
     ]
    },
    {
     "name": "stderr",
     "output_type": "stream",
     "text": [
      "Downloaded 4595193 of 4595193 bytes (100.0%,    0.0s remaining) ...done. (9 seconds, 0 min)\n"
     ]
    },
    {
     "name": "stdout",
     "output_type": "stream",
     "text": [
      "Downloading data from https://ndownloader.figshare.com/files/6848373 ...\n"
     ]
    },
    {
     "name": "stderr",
     "output_type": "stream",
     "text": [
      "\r",
      "Downloaded 23842 of 23842 bytes (100.0%,    0.0s remaining) ...done. (1 seconds, 0 min)\n",
      "Extracting data from /home/aalbury/nilearn_data/cobre/bc34c1c0e4d9d261c457b6dca10a73e7/fmri_0040032.tsv.gz..... done.\n"
     ]
    },
    {
     "name": "stdout",
     "output_type": "stream",
     "text": [
      "Downloading data from https://ndownloader.figshare.com/files/6848250 ...\n"
     ]
    },
    {
     "name": "stderr",
     "output_type": "stream",
     "text": [
      "Downloaded 4572039 of 4572039 bytes (100.0%,    0.0s remaining) ...done. (4 seconds, 0 min)\n"
     ]
    },
    {
     "name": "stdout",
     "output_type": "stream",
     "text": [
      "Downloading data from https://ndownloader.figshare.com/files/6848253 ...\n"
     ]
    },
    {
     "name": "stderr",
     "output_type": "stream",
     "text": [
      "\r",
      "Downloaded 24058 of 24058 bytes (100.0%,    0.0s remaining) ...done. (1 seconds, 0 min)\n",
      "Extracting data from /home/aalbury/nilearn_data/cobre/18475aebea226bd7e99061db888d8b52/fmri_0040012.tsv.gz..... done.\n"
     ]
    },
    {
     "name": "stdout",
     "output_type": "stream",
     "text": [
      "Downloading data from https://ndownloader.figshare.com/files/6848328 ...\n"
     ]
    },
    {
     "name": "stderr",
     "output_type": "stream",
     "text": [
      "Downloaded 4305576 of 4305576 bytes (100.0%,    0.0s remaining) ...done. (5 seconds, 0 min)\n"
     ]
    },
    {
     "name": "stdout",
     "output_type": "stream",
     "text": [
      "Downloading data from https://ndownloader.figshare.com/files/6848331 ...\n"
     ]
    },
    {
     "name": "stderr",
     "output_type": "stream",
     "text": [
      "\r",
      "Downloaded 24057 of 24057 bytes (100.0%,    0.0s remaining) ...done. (1 seconds, 0 min)\n",
      "Extracting data from /home/aalbury/nilearn_data/cobre/46e722967eb6e70e092da8c89ece2f64/fmri_0040025.tsv.gz..... done.\n"
     ]
    },
    {
     "name": "stdout",
     "output_type": "stream",
     "text": [
      "Downloading data from https://ndownloader.figshare.com/files/6848694 ...\n"
     ]
    },
    {
     "name": "stderr",
     "output_type": "stream",
     "text": [
      "Downloaded 4415744 of 4415744 bytes (100.0%,    0.0s remaining) ...done. (7 seconds, 0 min)\n"
     ]
    },
    {
     "name": "stdout",
     "output_type": "stream",
     "text": [
      "Downloading data from https://ndownloader.figshare.com/files/6848697 ...\n"
     ]
    },
    {
     "name": "stderr",
     "output_type": "stream",
     "text": [
      "\r",
      "Downloaded 24401 of 24401 bytes (100.0%,    0.0s remaining) ...done. (1 seconds, 0 min)\n",
      "Extracting data from /home/aalbury/nilearn_data/cobre/262b9678efb7738453b841979345b737/fmri_0040088.tsv.gz..... done.\n"
     ]
    },
    {
     "name": "stdout",
     "output_type": "stream",
     "text": [
      "Downloading data from https://ndownloader.figshare.com/files/6848820 ...\n"
     ]
    },
    {
     "name": "stderr",
     "output_type": "stream",
     "text": [
      "Downloaded 4498069 of 4498069 bytes (100.0%,    0.0s remaining) ...done. (6 seconds, 0 min)\n"
     ]
    },
    {
     "name": "stdout",
     "output_type": "stream",
     "text": [
      "Downloading data from https://ndownloader.figshare.com/files/6848823 ...\n"
     ]
    },
    {
     "name": "stderr",
     "output_type": "stream",
     "text": [
      "\r",
      "Downloaded 23955 of 23955 bytes (100.0%,    0.0s remaining) ...done. (1 seconds, 0 min)\n",
      "Extracting data from /home/aalbury/nilearn_data/cobre/1a39bb37a2ad86ae337ff7ad9dd19633/fmri_0040109.tsv.gz..... done.\n"
     ]
    },
    {
     "name": "stdout",
     "output_type": "stream",
     "text": [
      "Downloading data from https://ndownloader.figshare.com/files/6848754 ...\n"
     ]
    },
    {
     "name": "stderr",
     "output_type": "stream",
     "text": [
      "Downloaded 4310726 of 4310726 bytes (100.0%,    0.0s remaining) ...done. (6 seconds, 0 min)\n"
     ]
    },
    {
     "name": "stdout",
     "output_type": "stream",
     "text": [
      "Downloading data from https://ndownloader.figshare.com/files/6848757 ...\n"
     ]
    },
    {
     "name": "stderr",
     "output_type": "stream",
     "text": [
      "\r",
      "Downloaded 23905 of 23905 bytes (100.0%,    0.0s remaining) ...done. (1 seconds, 0 min)\n",
      "Extracting data from /home/aalbury/nilearn_data/cobre/1a05462fa223fa90bf0c2191b765c773/fmri_0040098.tsv.gz..... done.\n"
     ]
    },
    {
     "name": "stdout",
     "output_type": "stream",
     "text": [
      "Downloading data from https://ndownloader.figshare.com/files/6848766 ...\n"
     ]
    },
    {
     "name": "stderr",
     "output_type": "stream",
     "text": [
      "Downloaded 4580313 of 4580313 bytes (100.0%,    0.0s remaining) ...done. (6 seconds, 0 min)\n"
     ]
    },
    {
     "name": "stdout",
     "output_type": "stream",
     "text": [
      "Downloading data from https://ndownloader.figshare.com/files/6848769 ...\n"
     ]
    },
    {
     "name": "stderr",
     "output_type": "stream",
     "text": [
      "\r",
      "Downloaded 24191 of 24191 bytes (100.0%,    0.0s remaining) ...done. (1 seconds, 0 min)\n",
      "Extracting data from /home/aalbury/nilearn_data/cobre/be49f8d6fbda9610118341d2b3824cc8/fmri_0040100.tsv.gz..... done.\n"
     ]
    },
    {
     "name": "stdout",
     "output_type": "stream",
     "text": [
      "Downloading data from https://ndownloader.figshare.com/files/6848460 ...\n"
     ]
    },
    {
     "name": "stderr",
     "output_type": "stream",
     "text": [
      "Downloaded 4332199 of 4332199 bytes (100.0%,    0.0s remaining) ...done. (4 seconds, 0 min)\n"
     ]
    },
    {
     "name": "stdout",
     "output_type": "stream",
     "text": [
      "Downloading data from https://ndownloader.figshare.com/files/6848463 ...\n"
     ]
    },
    {
     "name": "stderr",
     "output_type": "stream",
     "text": [
      "\r",
      "Downloaded 24064 of 24064 bytes (100.0%,    0.0s remaining) ...done. (1 seconds, 0 min)\n",
      "Extracting data from /home/aalbury/nilearn_data/cobre/464fa45d7a4e5648989426e01cedba5c/fmri_0040047.tsv.gz..... done.\n"
     ]
    },
    {
     "name": "stdout",
     "output_type": "stream",
     "text": [
      "Downloading data from https://ndownloader.figshare.com/files/6848760 ...\n"
     ]
    },
    {
     "name": "stderr",
     "output_type": "stream",
     "text": [
      "Downloaded 4586801 of 4586801 bytes (100.0%,    0.0s remaining) ...done. (4 seconds, 0 min)\n"
     ]
    },
    {
     "name": "stdout",
     "output_type": "stream",
     "text": [
      "Downloading data from https://ndownloader.figshare.com/files/6848763 ...\n"
     ]
    },
    {
     "name": "stderr",
     "output_type": "stream",
     "text": [
      "\r",
      "Downloaded 24120 of 24120 bytes (100.0%,    0.0s remaining) ...done. (1 seconds, 0 min)\n",
      "Extracting data from /home/aalbury/nilearn_data/cobre/38f589110f71c6738d4594f0ac1ad7a7/fmri_0040099.tsv.gz..... done.\n"
     ]
    },
    {
     "name": "stdout",
     "output_type": "stream",
     "text": [
      "Downloading data from https://ndownloader.figshare.com/files/6848430 ...\n"
     ]
    },
    {
     "name": "stderr",
     "output_type": "stream",
     "text": [
      "Downloaded 4402140 of 4402140 bytes (100.0%,    0.0s remaining) ...done. (6 seconds, 0 min)\n"
     ]
    },
    {
     "name": "stdout",
     "output_type": "stream",
     "text": [
      "Downloading data from https://ndownloader.figshare.com/files/6848433 ...\n"
     ]
    },
    {
     "name": "stderr",
     "output_type": "stream",
     "text": [
      "\r",
      "Downloaded 23987 of 23987 bytes (100.0%,    0.0s remaining) ...done. (1 seconds, 0 min)\n",
      "Extracting data from /home/aalbury/nilearn_data/cobre/629039eb91b668ba9180f122d202a99a/fmri_0040042.tsv.gz..... done.\n"
     ]
    },
    {
     "name": "stdout",
     "output_type": "stream",
     "text": [
      "Downloading data from https://ndownloader.figshare.com/files/6848622 ...\n"
     ]
    },
    {
     "name": "stderr",
     "output_type": "stream",
     "text": [
      "Downloaded 2023514 of 2023514 bytes (100.0%,    0.0s remaining) ...done. (3 seconds, 0 min)\n"
     ]
    },
    {
     "name": "stdout",
     "output_type": "stream",
     "text": [
      "Downloading data from https://ndownloader.figshare.com/files/6848625 ...\n"
     ]
    },
    {
     "name": "stderr",
     "output_type": "stream",
     "text": [
      "\r",
      "Downloaded 10363 of 10363 bytes (100.0%,    0.0s remaining) ...done. (1 seconds, 0 min)\n",
      "Extracting data from /home/aalbury/nilearn_data/cobre/fa6dddf3186a4435575f7a1ed297faae/fmri_0040075.tsv.gz..... done.\n"
     ]
    },
    {
     "name": "stdout",
     "output_type": "stream",
     "text": [
      "Downloading data from https://ndownloader.figshare.com/files/6848784 ...\n"
     ]
    },
    {
     "name": "stderr",
     "output_type": "stream",
     "text": [
      "Downloaded 4635847 of 4635847 bytes (100.0%,    0.0s remaining) ...done. (7 seconds, 0 min)\n"
     ]
    },
    {
     "name": "stdout",
     "output_type": "stream",
     "text": [
      "Downloading data from https://ndownloader.figshare.com/files/6848787 ...\n"
     ]
    },
    {
     "name": "stderr",
     "output_type": "stream",
     "text": [
      "\r",
      "Downloaded 23853 of 23853 bytes (100.0%,    0.0s remaining) ...done. (1 seconds, 0 min)\n",
      "Extracting data from /home/aalbury/nilearn_data/cobre/321185bd10831a3701afef181ed4273e/fmri_0040103.tsv.gz..... done.\n"
     ]
    },
    {
     "name": "stdout",
     "output_type": "stream",
     "text": [
      "Downloading data from https://ndownloader.figshare.com/files/6848538 ...\n"
     ]
    },
    {
     "name": "stderr",
     "output_type": "stream",
     "text": [
      "Downloaded 4337046 of 4337046 bytes (100.0%,    0.0s remaining) ...done. (9 seconds, 0 min)\n"
     ]
    },
    {
     "name": "stdout",
     "output_type": "stream",
     "text": [
      "Downloading data from https://ndownloader.figshare.com/files/6848541 ...\n"
     ]
    },
    {
     "name": "stderr",
     "output_type": "stream",
     "text": [
      "\r",
      "Downloaded 24256 of 24256 bytes (100.0%,    0.0s remaining) ...done. (1 seconds, 0 min)\n",
      "Extracting data from /home/aalbury/nilearn_data/cobre/32154f247e90cba41e3c35a59788ac90/fmri_0040060.tsv.gz..... done.\n"
     ]
    },
    {
     "name": "stdout",
     "output_type": "stream",
     "text": [
      "Downloading data from https://ndownloader.figshare.com/files/6848922 ...\n"
     ]
    },
    {
     "name": "stderr",
     "output_type": "stream",
     "text": [
      "Downloaded 4623949 of 4623949 bytes (100.0%,    0.0s remaining) ...done. (6 seconds, 0 min)\n"
     ]
    },
    {
     "name": "stdout",
     "output_type": "stream",
     "text": [
      "Downloading data from https://ndownloader.figshare.com/files/6848925 ...\n"
     ]
    },
    {
     "name": "stderr",
     "output_type": "stream",
     "text": [
      "\r",
      "Downloaded 22738 of 22738 bytes (100.0%,    0.0s remaining) ...done. (1 seconds, 0 min)\n",
      "Extracting data from /home/aalbury/nilearn_data/cobre/0c8a546a37188a64b3df92c363a37c75/fmri_0040126.tsv.gz..... done.\n"
     ]
    },
    {
     "name": "stdout",
     "output_type": "stream",
     "text": [
      "Downloading data from https://ndownloader.figshare.com/files/6848838 ...\n"
     ]
    },
    {
     "name": "stderr",
     "output_type": "stream",
     "text": [
      "Downloaded 4647206 of 4647206 bytes (100.0%,    0.0s remaining) ...done. (5 seconds, 0 min)\n"
     ]
    },
    {
     "name": "stdout",
     "output_type": "stream",
     "text": [
      "Downloading data from https://ndownloader.figshare.com/files/6848841 ...\n"
     ]
    },
    {
     "name": "stderr",
     "output_type": "stream",
     "text": [
      "\r",
      "Downloaded 24106 of 24106 bytes (100.0%,    0.0s remaining) ...done. (1 seconds, 0 min)\n",
      "Extracting data from /home/aalbury/nilearn_data/cobre/223535a3d0f5536a8098fa4146d78f96/fmri_0040112.tsv.gz..... done.\n"
     ]
    },
    {
     "name": "stdout",
     "output_type": "stream",
     "text": [
      "Downloading data from https://ndownloader.figshare.com/files/6848658 ...\n"
     ]
    },
    {
     "name": "stderr",
     "output_type": "stream",
     "text": [
      "Downloaded 4547973 of 4547973 bytes (100.0%,    0.0s remaining) ...done. (4 seconds, 0 min)\n"
     ]
    },
    {
     "name": "stdout",
     "output_type": "stream",
     "text": [
      "Downloading data from https://ndownloader.figshare.com/files/6848661 ...\n"
     ]
    },
    {
     "name": "stderr",
     "output_type": "stream",
     "text": [
      "\r",
      "Downloaded 23974 of 23974 bytes (100.0%,    0.0s remaining) ...done. (1 seconds, 0 min)\n",
      "Extracting data from /home/aalbury/nilearn_data/cobre/4a04a4cc2fb08af93d922a9da72793a1/fmri_0040081.tsv.gz..... done.\n"
     ]
    },
    {
     "name": "stdout",
     "output_type": "stream",
     "text": [
      "Downloading data from https://ndownloader.figshare.com/files/6848826 ...\n"
     ]
    },
    {
     "name": "stderr",
     "output_type": "stream",
     "text": [
      "Downloaded 4393147 of 4393147 bytes (100.0%,    0.0s remaining) ...done. (4 seconds, 0 min)\n"
     ]
    },
    {
     "name": "stdout",
     "output_type": "stream",
     "text": [
      "Downloading data from https://ndownloader.figshare.com/files/6848829 ...\n"
     ]
    },
    {
     "name": "stderr",
     "output_type": "stream",
     "text": [
      "\r",
      "Downloaded 23987 of 23987 bytes (100.0%,    0.0s remaining) ...done. (1 seconds, 0 min)\n",
      "Extracting data from /home/aalbury/nilearn_data/cobre/1a7a95d2dddc00b6dc8ea8f1c9a3a7ef/fmri_0040110.tsv.gz..... done.\n"
     ]
    },
    {
     "name": "stdout",
     "output_type": "stream",
     "text": [
      "Downloading data from https://ndownloader.figshare.com/files/6848472 ...\n"
     ]
    },
    {
     "name": "stderr",
     "output_type": "stream",
     "text": [
      "Downloaded 4610293 of 4610293 bytes (100.0%,    0.0s remaining) ...done. (4 seconds, 0 min)\n"
     ]
    },
    {
     "name": "stdout",
     "output_type": "stream",
     "text": [
      "Downloading data from https://ndownloader.figshare.com/files/6848475 ...\n"
     ]
    },
    {
     "name": "stderr",
     "output_type": "stream",
     "text": [
      "\r",
      "Downloaded 24036 of 24036 bytes (100.0%,    0.0s remaining) ...done. (1 seconds, 0 min)\n",
      "Extracting data from /home/aalbury/nilearn_data/cobre/a653a53f44e3a36017e48112481b799f/fmri_0040049.tsv.gz..... done.\n"
     ]
    },
    {
     "name": "stdout",
     "output_type": "stream",
     "text": [
      "Downloading data from https://ndownloader.figshare.com/files/6848802 ...\n"
     ]
    },
    {
     "name": "stderr",
     "output_type": "stream",
     "text": [
      "Downloaded 4542026 of 4542026 bytes (100.0%,    0.0s remaining) ...done. (5 seconds, 0 min)\n"
     ]
    },
    {
     "name": "stdout",
     "output_type": "stream",
     "text": [
      "Downloading data from https://ndownloader.figshare.com/files/6848805 ...\n"
     ]
    },
    {
     "name": "stderr",
     "output_type": "stream",
     "text": [
      "\r",
      "Downloaded 24008 of 24008 bytes (100.0%,    0.0s remaining) ...done. (1 seconds, 0 min)\n",
      "Extracting data from /home/aalbury/nilearn_data/cobre/fbe7932b931e7aac276b73713f2b48f7/fmri_0040106.tsv.gz..... done.\n"
     ]
    },
    {
     "name": "stdout",
     "output_type": "stream",
     "text": [
      "Downloading data from https://ndownloader.figshare.com/files/6848268 ...\n"
     ]
    },
    {
     "name": "stderr",
     "output_type": "stream",
     "text": [
      "Downloaded 4234757 of 4234757 bytes (100.0%,    0.0s remaining) ...done. (5 seconds, 0 min)\n"
     ]
    },
    {
     "name": "stdout",
     "output_type": "stream",
     "text": [
      "Downloading data from https://ndownloader.figshare.com/files/6848271 ...\n"
     ]
    },
    {
     "name": "stderr",
     "output_type": "stream",
     "text": [
      "\r",
      "Downloaded 23945 of 23945 bytes (100.0%,    0.0s remaining) ...done. (1 seconds, 0 min)\n",
      "Extracting data from /home/aalbury/nilearn_data/cobre/a49b4db4fc1d15e60e94f2c8ce2b540c/fmri_0040015.tsv.gz..... done.\n"
     ]
    },
    {
     "name": "stdout",
     "output_type": "stream",
     "text": [
      "Downloading data from https://ndownloader.figshare.com/files/6848208 ...\n"
     ]
    },
    {
     "name": "stderr",
     "output_type": "stream",
     "text": [
      "Downloaded 4606288 of 4606288 bytes (100.0%,    0.0s remaining) ...done. (4 seconds, 0 min)\n"
     ]
    },
    {
     "name": "stdout",
     "output_type": "stream",
     "text": [
      "Downloading data from https://ndownloader.figshare.com/files/6848211 ...\n"
     ]
    },
    {
     "name": "stderr",
     "output_type": "stream",
     "text": [
      "\r",
      "Downloaded 24336 of 24336 bytes (100.0%,    0.0s remaining) ...done. (1 seconds, 0 min)\n",
      "Extracting data from /home/aalbury/nilearn_data/cobre/3cc26e31470f08daabd476c187faf7ab/fmri_0040005.tsv.gz..... done.\n"
     ]
    },
    {
     "name": "stdout",
     "output_type": "stream",
     "text": [
      "Downloading data from https://ndownloader.figshare.com/files/6848442 ...\n"
     ]
    },
    {
     "name": "stderr",
     "output_type": "stream",
     "text": [
      "Downloaded 4401529 of 4401529 bytes (100.0%,    0.0s remaining) ...done. (5 seconds, 0 min)\n"
     ]
    },
    {
     "name": "stdout",
     "output_type": "stream",
     "text": [
      "Downloading data from https://ndownloader.figshare.com/files/6848445 ...\n"
     ]
    },
    {
     "name": "stderr",
     "output_type": "stream",
     "text": [
      "\r",
      "Downloaded 24099 of 24099 bytes (100.0%,    0.0s remaining) ...done. (1 seconds, 0 min)\n",
      "Extracting data from /home/aalbury/nilearn_data/cobre/5d210a2285666e70c2dcc66210e477b9/fmri_0040044.tsv.gz..... done.\n"
     ]
    },
    {
     "name": "stdout",
     "output_type": "stream",
     "text": [
      "Downloading data from https://ndownloader.figshare.com/files/6848274 ...\n"
     ]
    },
    {
     "name": "stderr",
     "output_type": "stream",
     "text": [
      "Downloaded 4607647 of 4607647 bytes (100.0%,    0.0s remaining) ...done. (4 seconds, 0 min)\n"
     ]
    },
    {
     "name": "stdout",
     "output_type": "stream",
     "text": [
      "Downloading data from https://ndownloader.figshare.com/files/6848277 ...\n"
     ]
    },
    {
     "name": "stderr",
     "output_type": "stream",
     "text": [
      "\r",
      "Downloaded 24176 of 24176 bytes (100.0%,    0.0s remaining) ...done. (1 seconds, 0 min)\n",
      "Extracting data from /home/aalbury/nilearn_data/cobre/c37a040359f7136307e5541a58369578/fmri_0040016.tsv.gz..... done.\n"
     ]
    },
    {
     "name": "stdout",
     "output_type": "stream",
     "text": [
      "Downloading data from https://ndownloader.figshare.com/files/6848718 ...\n"
     ]
    },
    {
     "name": "stderr",
     "output_type": "stream",
     "text": [
      "Downloaded 4522924 of 4522924 bytes (100.0%,    0.0s remaining) ...done. (12 seconds, 0 min)\n"
     ]
    },
    {
     "name": "stdout",
     "output_type": "stream",
     "text": [
      "Downloading data from https://ndownloader.figshare.com/files/6848721 ...\n"
     ]
    },
    {
     "name": "stderr",
     "output_type": "stream",
     "text": [
      "\r",
      "Downloaded 24073 of 24073 bytes (100.0%,    0.0s remaining) ...done. (2 seconds, 0 min)\n",
      "Extracting data from /home/aalbury/nilearn_data/cobre/4acb9160c066c1620a26601ed9bad8fa/fmri_0040092.tsv.gz..... done.\n"
     ]
    },
    {
     "name": "stdout",
     "output_type": "stream",
     "text": [
      "Downloading data from https://ndownloader.figshare.com/files/6848664 ...\n"
     ]
    },
    {
     "name": "stderr",
     "output_type": "stream",
     "text": [
      "Downloaded 4351779 of 4351779 bytes (100.0%,    0.0s remaining) ...done. (4 seconds, 0 min)\n"
     ]
    },
    {
     "name": "stdout",
     "output_type": "stream",
     "text": [
      "Downloading data from https://ndownloader.figshare.com/files/6848667 ...\n"
     ]
    },
    {
     "name": "stderr",
     "output_type": "stream",
     "text": [
      "\r",
      "Downloaded 24149 of 24149 bytes (100.0%,    0.0s remaining) ...done. (1 seconds, 0 min)\n",
      "Extracting data from /home/aalbury/nilearn_data/cobre/65e373478e617322618fcb1b6458b695/fmri_0040082.tsv.gz..... done.\n"
     ]
    },
    {
     "name": "stdout",
     "output_type": "stream",
     "text": [
      "Downloading data from https://ndownloader.figshare.com/files/6848772 ...\n"
     ]
    },
    {
     "name": "stderr",
     "output_type": "stream",
     "text": [
      "Downloaded 4354517 of 4354517 bytes (100.0%,    0.0s remaining) ...done. (6 seconds, 0 min)\n"
     ]
    },
    {
     "name": "stdout",
     "output_type": "stream",
     "text": [
      "Downloading data from https://ndownloader.figshare.com/files/6848775 ...\n"
     ]
    },
    {
     "name": "stderr",
     "output_type": "stream",
     "text": [
      "\r",
      "Downloaded 24096 of 24096 bytes (100.0%,    0.0s remaining) ...done. (1 seconds, 0 min)\n",
      "Extracting data from /home/aalbury/nilearn_data/cobre/76d22a017c497c5b147929e2cadfe7a1/fmri_0040101.tsv.gz..... done.\n"
     ]
    },
    {
     "name": "stdout",
     "output_type": "stream",
     "text": [
      "Downloading data from https://ndownloader.figshare.com/files/6848958 ...\n"
     ]
    },
    {
     "name": "stderr",
     "output_type": "stream",
     "text": [
      "Downloaded 4712968 of 4712968 bytes (100.0%,    0.0s remaining) ...done. (4 seconds, 0 min)\n"
     ]
    },
    {
     "name": "stdout",
     "output_type": "stream",
     "text": [
      "Downloading data from https://ndownloader.figshare.com/files/6848961 ...\n"
     ]
    },
    {
     "name": "stderr",
     "output_type": "stream",
     "text": [
      "\r",
      "Downloaded 24032 of 24032 bytes (100.0%,    0.0s remaining) ...done. (1 seconds, 0 min)\n",
      "Extracting data from /home/aalbury/nilearn_data/cobre/7fc23d1d8d2a171a87acf65bef292017/fmri_0040132.tsv.gz..... done.\n"
     ]
    },
    {
     "name": "stdout",
     "output_type": "stream",
     "text": [
      "Downloading data from https://ndownloader.figshare.com/files/6848412 ...\n"
     ]
    },
    {
     "name": "stderr",
     "output_type": "stream",
     "text": [
      "Downloaded 4419995 of 4419995 bytes (100.0%,    0.0s remaining) ...done. (6 seconds, 0 min)\n"
     ]
    },
    {
     "name": "stdout",
     "output_type": "stream",
     "text": [
      "Downloading data from https://ndownloader.figshare.com/files/6848415 ...\n"
     ]
    },
    {
     "name": "stderr",
     "output_type": "stream",
     "text": [
      "\r",
      "Downloaded 24297 of 24297 bytes (100.0%,    0.0s remaining) ...done. (1 seconds, 0 min)\n",
      "Extracting data from /home/aalbury/nilearn_data/cobre/e4561a4d86d1453c5c82165b19ca12df/fmri_0040039.tsv.gz..... done.\n"
     ]
    },
    {
     "name": "stdout",
     "output_type": "stream",
     "text": [
      "Downloading data from https://ndownloader.figshare.com/files/6848598 ...\n"
     ]
    },
    {
     "name": "stderr",
     "output_type": "stream",
     "text": [
      "Downloaded 4589027 of 4589027 bytes (100.0%,    0.0s remaining) ...done. (6 seconds, 0 min)\n"
     ]
    },
    {
     "name": "stdout",
     "output_type": "stream",
     "text": [
      "Downloading data from https://ndownloader.figshare.com/files/6848601 ...\n"
     ]
    },
    {
     "name": "stderr",
     "output_type": "stream",
     "text": [
      "\r",
      "Downloaded 24138 of 24138 bytes (100.0%,    0.0s remaining) ...done. (1 seconds, 0 min)\n",
      "Extracting data from /home/aalbury/nilearn_data/cobre/66c1827f0566d7e10d707729c574e4c9/fmri_0040071.tsv.gz..... done.\n"
     ]
    },
    {
     "name": "stdout",
     "output_type": "stream",
     "text": [
      "Downloading data from https://ndownloader.figshare.com/files/6848238 ...\n"
     ]
    },
    {
     "name": "stderr",
     "output_type": "stream",
     "text": [
      "Downloaded 4534677 of 4534677 bytes (100.0%,    0.0s remaining) ...done. (7 seconds, 0 min)\n"
     ]
    },
    {
     "name": "stdout",
     "output_type": "stream",
     "text": [
      "Downloading data from https://ndownloader.figshare.com/files/6848241 ...\n"
     ]
    },
    {
     "name": "stderr",
     "output_type": "stream",
     "text": [
      "\r",
      "Downloaded 24198 of 24198 bytes (100.0%,    0.0s remaining) ...done. (1 seconds, 0 min)\n",
      "Extracting data from /home/aalbury/nilearn_data/cobre/5ac96f6fe2ff3a366856c7519a259ae1/fmri_0040010.tsv.gz..... done.\n"
     ]
    },
    {
     "name": "stdout",
     "output_type": "stream",
     "text": [
      "Downloading data from https://ndownloader.figshare.com/files/6848748 ...\n"
     ]
    },
    {
     "name": "stderr",
     "output_type": "stream",
     "text": [
      "Downloaded 4487452 of 4487452 bytes (100.0%,    0.0s remaining) ...done. (8 seconds, 0 min)\n"
     ]
    },
    {
     "name": "stdout",
     "output_type": "stream",
     "text": [
      "Downloading data from https://ndownloader.figshare.com/files/6848751 ...\n"
     ]
    },
    {
     "name": "stderr",
     "output_type": "stream",
     "text": [
      "\r",
      "Downloaded 24139 of 24139 bytes (100.0%,    0.0s remaining) ...done. (1 seconds, 0 min)\n",
      "Extracting data from /home/aalbury/nilearn_data/cobre/33a605d076b1ec10305d36158a019ca2/fmri_0040097.tsv.gz..... done.\n"
     ]
    },
    {
     "name": "stdout",
     "output_type": "stream",
     "text": [
      "Downloading data from https://ndownloader.figshare.com/files/6848796 ...\n"
     ]
    },
    {
     "name": "stderr",
     "output_type": "stream",
     "text": [
      "Downloaded 4669705 of 4669705 bytes (100.0%,    0.0s remaining) ...done. (5 seconds, 0 min)\n"
     ]
    },
    {
     "name": "stdout",
     "output_type": "stream",
     "text": [
      "Downloading data from https://ndownloader.figshare.com/files/6848799 ...\n"
     ]
    },
    {
     "name": "stderr",
     "output_type": "stream",
     "text": [
      "\r",
      "Downloaded 24245 of 24245 bytes (100.0%,    0.0s remaining) ...done. (1 seconds, 0 min)\n",
      "Extracting data from /home/aalbury/nilearn_data/cobre/8af538f3408e1b1497436e7628c12cd1/fmri_0040105.tsv.gz..... done.\n"
     ]
    },
    {
     "name": "stdout",
     "output_type": "stream",
     "text": [
      "Downloading data from https://ndownloader.figshare.com/files/6849024 ...\n"
     ]
    },
    {
     "name": "stderr",
     "output_type": "stream",
     "text": [
      "Downloaded 4686280 of 4686280 bytes (100.0%,    0.0s remaining) ...done. (7 seconds, 0 min)\n"
     ]
    },
    {
     "name": "stdout",
     "output_type": "stream",
     "text": [
      "Downloading data from https://ndownloader.figshare.com/files/6849027 ...\n"
     ]
    },
    {
     "name": "stderr",
     "output_type": "stream",
     "text": [
      "\r",
      "Downloaded 24040 of 24040 bytes (100.0%,    0.0s remaining) ...done. (1 seconds, 0 min)\n",
      "Extracting data from /home/aalbury/nilearn_data/cobre/9918b97ac22971acffd50b5b20ed63a9/fmri_0040143.tsv.gz..... done.\n"
     ]
    },
    {
     "name": "stdout",
     "output_type": "stream",
     "text": [
      "Downloading data from https://ndownloader.figshare.com/files/6848214 ...\n"
     ]
    },
    {
     "name": "stderr",
     "output_type": "stream",
     "text": [
      "Downloaded 4614678 of 4614678 bytes (100.0%,    0.0s remaining) ...done. (7 seconds, 0 min)\n"
     ]
    },
    {
     "name": "stdout",
     "output_type": "stream",
     "text": [
      "Downloading data from https://ndownloader.figshare.com/files/6848217 ...\n"
     ]
    },
    {
     "name": "stderr",
     "output_type": "stream",
     "text": [
      "\r",
      "Downloaded 24226 of 24226 bytes (100.0%,    0.0s remaining) ...done. (1 seconds, 0 min)\n",
      "Extracting data from /home/aalbury/nilearn_data/cobre/22c47ad0848e42ca09a41e38a539a586/fmri_0040006.tsv.gz..... done.\n"
     ]
    },
    {
     "name": "stdout",
     "output_type": "stream",
     "text": [
      "Downloading data from https://ndownloader.figshare.com/files/6848202 ...\n"
     ]
    },
    {
     "name": "stderr",
     "output_type": "stream",
     "text": [
      "Downloaded 4677442 of 4677442 bytes (100.0%,    0.0s remaining) ...done. (4 seconds, 0 min)\n"
     ]
    },
    {
     "name": "stdout",
     "output_type": "stream",
     "text": [
      "Downloading data from https://ndownloader.figshare.com/files/6848205 ...\n"
     ]
    },
    {
     "name": "stderr",
     "output_type": "stream",
     "text": [
      "\r",
      "Downloaded 23964 of 23964 bytes (100.0%,    0.0s remaining) ...done. (1 seconds, 0 min)\n",
      "Extracting data from /home/aalbury/nilearn_data/cobre/2f46e386b49aee2ace572298b18aea2d/fmri_0040004.tsv.gz..... done.\n"
     ]
    },
    {
     "name": "stdout",
     "output_type": "stream",
     "text": [
      "Downloading data from https://ndownloader.figshare.com/files/6848562 ...\n"
     ]
    },
    {
     "name": "stderr",
     "output_type": "stream",
     "text": [
      "Downloaded 4596847 of 4596847 bytes (100.0%,    0.0s remaining) ...done. (10 seconds, 0 min)\n"
     ]
    },
    {
     "name": "stdout",
     "output_type": "stream",
     "text": [
      "Downloading data from https://ndownloader.figshare.com/files/6848565 ...\n"
     ]
    },
    {
     "name": "stderr",
     "output_type": "stream",
     "text": [
      "\r",
      "Downloaded 24117 of 24117 bytes (100.0%,    0.0s remaining) ...done. (1 seconds, 0 min)\n",
      "Extracting data from /home/aalbury/nilearn_data/cobre/316a59145109c16a527ab8d92a9789c6/fmri_0040064.tsv.gz..... done.\n"
     ]
    },
    {
     "name": "stdout",
     "output_type": "stream",
     "text": [
      "Downloading data from https://ndownloader.figshare.com/files/6848640 ...\n"
     ]
    },
    {
     "name": "stderr",
     "output_type": "stream",
     "text": [
      "Downloaded 4485179 of 4485179 bytes (100.0%,    0.0s remaining) ...done. (6 seconds, 0 min)\n"
     ]
    },
    {
     "name": "stdout",
     "output_type": "stream",
     "text": [
      "Downloading data from https://ndownloader.figshare.com/files/6848643 ...\n"
     ]
    },
    {
     "name": "stderr",
     "output_type": "stream",
     "text": [
      "\r",
      "Downloaded 24073 of 24073 bytes (100.0%,    0.0s remaining) ...done. (1 seconds, 0 min)\n",
      "Extracting data from /home/aalbury/nilearn_data/cobre/e65881d7f743bf728be584597c350fb0/fmri_0040078.tsv.gz..... done.\n"
     ]
    },
    {
     "name": "stdout",
     "output_type": "stream",
     "text": [
      "Downloading data from https://ndownloader.figshare.com/files/6848730 ...\n"
     ]
    },
    {
     "name": "stderr",
     "output_type": "stream",
     "text": [
      "Downloaded 4436080 of 4436080 bytes (100.0%,    0.0s remaining) ...done. (6 seconds, 0 min)\n"
     ]
    },
    {
     "name": "stdout",
     "output_type": "stream",
     "text": [
      "Downloading data from https://ndownloader.figshare.com/files/6848733 ...\n"
     ]
    },
    {
     "name": "stderr",
     "output_type": "stream",
     "text": [
      "\r",
      "Downloaded 24120 of 24120 bytes (100.0%,    0.0s remaining) ...done. (1 seconds, 0 min)\n",
      "Extracting data from /home/aalbury/nilearn_data/cobre/d81f30f9782ad5750682a04c0c63ad86/fmri_0040094.tsv.gz..... done.\n"
     ]
    },
    {
     "name": "stdout",
     "output_type": "stream",
     "text": [
      "Downloading data from https://ndownloader.figshare.com/files/6848670 ...\n"
     ]
    },
    {
     "name": "stderr",
     "output_type": "stream",
     "text": [
      "Downloaded 3902422 of 3902422 bytes (100.0%,    0.0s remaining) ...done. (6 seconds, 0 min)\n"
     ]
    },
    {
     "name": "stdout",
     "output_type": "stream",
     "text": [
      "Downloading data from https://ndownloader.figshare.com/files/6848673 ...\n"
     ]
    },
    {
     "name": "stderr",
     "output_type": "stream",
     "text": [
      "\r",
      "Downloaded 24351 of 24351 bytes (100.0%,    0.0s remaining) ...done. (1 seconds, 0 min)\n",
      "Extracting data from /home/aalbury/nilearn_data/cobre/7874a5a9f7979cc31d01f73eb576e67e/fmri_0040084.tsv.gz..... done.\n"
     ]
    },
    {
     "name": "stdout",
     "output_type": "stream",
     "text": [
      "Downloading data from https://ndownloader.figshare.com/files/6848424 ...\n"
     ]
    },
    {
     "name": "stderr",
     "output_type": "stream",
     "text": [
      "Downloaded 4343353 of 4343353 bytes (100.0%,    0.0s remaining) ...done. (5 seconds, 0 min)\n"
     ]
    },
    {
     "name": "stdout",
     "output_type": "stream",
     "text": [
      "Downloading data from https://ndownloader.figshare.com/files/6848427 ...\n"
     ]
    },
    {
     "name": "stderr",
     "output_type": "stream",
     "text": [
      "\r",
      "Downloaded 24185 of 24185 bytes (100.0%,    0.0s remaining) ...done. (1 seconds, 0 min)\n",
      "Extracting data from /home/aalbury/nilearn_data/cobre/7707908b86cd00610a0da82a49cba7d1/fmri_0040041.tsv.gz..... done.\n"
     ]
    },
    {
     "name": "stdout",
     "output_type": "stream",
     "text": [
      "Downloading data from https://ndownloader.figshare.com/files/6848700 ...\n"
     ]
    },
    {
     "name": "stderr",
     "output_type": "stream",
     "text": [
      "Downloaded 4301164 of 4301164 bytes (100.0%,    0.0s remaining) ...done. (4 seconds, 0 min)\n"
     ]
    },
    {
     "name": "stdout",
     "output_type": "stream",
     "text": [
      "Downloading data from https://ndownloader.figshare.com/files/6848703 ...\n"
     ]
    },
    {
     "name": "stderr",
     "output_type": "stream",
     "text": [
      "\r",
      "Downloaded 24307 of 24307 bytes (100.0%,    0.0s remaining) ...done. (1 seconds, 0 min)\n",
      "Extracting data from /home/aalbury/nilearn_data/cobre/70de19035ad72b43cc8384b0e59c5cf3/fmri_0040089.tsv.gz..... done.\n"
     ]
    },
    {
     "name": "stdout",
     "output_type": "stream",
     "text": [
      "Downloading data from https://ndownloader.figshare.com/files/6848418 ...\n"
     ]
    },
    {
     "name": "stderr",
     "output_type": "stream",
     "text": [
      "Downloaded 4262891 of 4262891 bytes (100.0%,    0.0s remaining) ...done. (5 seconds, 0 min)\n"
     ]
    },
    {
     "name": "stdout",
     "output_type": "stream",
     "text": [
      "Downloading data from https://ndownloader.figshare.com/files/6848421 ...\n"
     ]
    },
    {
     "name": "stderr",
     "output_type": "stream",
     "text": [
      "\r",
      "Downloaded 24220 of 24220 bytes (100.0%,    0.0s remaining) ...done. (1 seconds, 0 min)\n",
      "Extracting data from /home/aalbury/nilearn_data/cobre/9ebb1028205a5f825475866bb9288800/fmri_0040040.tsv.gz..... done.\n"
     ]
    },
    {
     "name": "stdout",
     "output_type": "stream",
     "text": [
      "Downloading data from https://ndownloader.figshare.com/files/6848346 ...\n"
     ]
    },
    {
     "name": "stderr",
     "output_type": "stream",
     "text": [
      "Downloaded 4399794 of 4399794 bytes (100.0%,    0.0s remaining) ...done. (5 seconds, 0 min)\n"
     ]
    },
    {
     "name": "stdout",
     "output_type": "stream",
     "text": [
      "Downloading data from https://ndownloader.figshare.com/files/6848349 ...\n"
     ]
    },
    {
     "name": "stderr",
     "output_type": "stream",
     "text": [
      "\r",
      "Downloaded 24132 of 24132 bytes (100.0%,    0.0s remaining) ...done. (1 seconds, 0 min)\n",
      "Extracting data from /home/aalbury/nilearn_data/cobre/3b593703b0a29043c971f3cc9a190148/fmri_0040028.tsv.gz..... done.\n"
     ]
    },
    {
     "name": "stdout",
     "output_type": "stream",
     "text": [
      "Downloading data from https://ndownloader.figshare.com/files/6848220 ...\n"
     ]
    },
    {
     "name": "stderr",
     "output_type": "stream",
     "text": [
      "Downloaded 4553009 of 4553009 bytes (100.0%,    0.0s remaining) ...done. (5 seconds, 0 min)\n"
     ]
    },
    {
     "name": "stdout",
     "output_type": "stream",
     "text": [
      "Downloading data from https://ndownloader.figshare.com/files/6848223 ...\n"
     ]
    },
    {
     "name": "stderr",
     "output_type": "stream",
     "text": [
      "\r",
      "Downloaded 24184 of 24184 bytes (100.0%,    0.0s remaining) ...done. (1 seconds, 0 min)\n",
      "Extracting data from /home/aalbury/nilearn_data/cobre/6e6fcccace5a7d17c5f297df03e023a8/fmri_0040007.tsv.gz..... done.\n"
     ]
    },
    {
     "name": "stdout",
     "output_type": "stream",
     "text": [
      "Downloading data from https://ndownloader.figshare.com/files/6848490 ...\n"
     ]
    },
    {
     "name": "stderr",
     "output_type": "stream",
     "text": [
      "Downloaded 4653489 of 4653489 bytes (100.0%,    0.0s remaining) ...done. (7 seconds, 0 min)\n"
     ]
    },
    {
     "name": "stdout",
     "output_type": "stream",
     "text": [
      "Downloading data from https://ndownloader.figshare.com/files/6848493 ...\n"
     ]
    },
    {
     "name": "stderr",
     "output_type": "stream",
     "text": [
      "\r",
      "Downloaded 24098 of 24098 bytes (100.0%,    0.0s remaining) ...done. (1 seconds, 0 min)\n",
      "Extracting data from /home/aalbury/nilearn_data/cobre/f006ca3519f6bb28f44b9cf417d21baf/fmri_0040052.tsv.gz..... done.\n"
     ]
    },
    {
     "name": "stdout",
     "output_type": "stream",
     "text": [
      "Downloading data from https://ndownloader.figshare.com/files/6848568 ...\n"
     ]
    },
    {
     "name": "stderr",
     "output_type": "stream",
     "text": [
      "Downloaded 4596677 of 4596677 bytes (100.0%,    0.0s remaining) ...done. (6 seconds, 0 min)\n"
     ]
    },
    {
     "name": "stdout",
     "output_type": "stream",
     "text": [
      "Downloading data from https://ndownloader.figshare.com/files/6848571 ...\n"
     ]
    },
    {
     "name": "stderr",
     "output_type": "stream",
     "text": [
      "\r",
      "Downloaded 23936 of 23936 bytes (100.0%,    0.0s remaining) ...done. (1 seconds, 0 min)\n",
      "Extracting data from /home/aalbury/nilearn_data/cobre/299ca69e0ad3a861a125a7c752e83e5a/fmri_0040065.tsv.gz..... done.\n"
     ]
    },
    {
     "name": "stdout",
     "output_type": "stream",
     "text": [
      "Downloading data from https://ndownloader.figshare.com/files/6848934 ...\n"
     ]
    },
    {
     "name": "stderr",
     "output_type": "stream",
     "text": [
      "Downloaded 4587115 of 4587115 bytes (100.0%,    0.0s remaining) ...done. (5 seconds, 0 min)\n"
     ]
    },
    {
     "name": "stdout",
     "output_type": "stream",
     "text": [
      "Downloading data from https://ndownloader.figshare.com/files/6848937 ...\n"
     ]
    },
    {
     "name": "stderr",
     "output_type": "stream",
     "text": [
      "\r",
      "Downloaded 24202 of 24202 bytes (100.0%,    0.0s remaining) ...done. (1 seconds, 0 min)\n",
      "Extracting data from /home/aalbury/nilearn_data/cobre/5eb64f00c4a989fd64422c592475ed4c/fmri_0040128.tsv.gz..... done.\n"
     ]
    },
    {
     "name": "stdout",
     "output_type": "stream",
     "text": [
      "Downloading data from https://ndownloader.figshare.com/files/6848484 ...\n"
     ]
    },
    {
     "name": "stderr",
     "output_type": "stream",
     "text": [
      "Downloaded 4672864 of 4672864 bytes (100.0%,    0.0s remaining) ...done. (9 seconds, 0 min)\n"
     ]
    },
    {
     "name": "stdout",
     "output_type": "stream",
     "text": [
      "Downloading data from https://ndownloader.figshare.com/files/6848487 ...\n"
     ]
    },
    {
     "name": "stderr",
     "output_type": "stream",
     "text": [
      "\r",
      "Downloaded 23851 of 23851 bytes (100.0%,    0.0s remaining) ...done. (1 seconds, 0 min)\n",
      "Extracting data from /home/aalbury/nilearn_data/cobre/ce31f466fadb6e22c80c0b8969b17ff8/fmri_0040051.tsv.gz..... done.\n"
     ]
    },
    {
     "name": "stdout",
     "output_type": "stream",
     "text": [
      "Downloading data from https://ndownloader.figshare.com/files/6848850 ...\n"
     ]
    },
    {
     "name": "stderr",
     "output_type": "stream",
     "text": [
      "Downloaded 4331760 of 4331760 bytes (100.0%,    0.0s remaining) ...done. (5 seconds, 0 min)\n"
     ]
    },
    {
     "name": "stdout",
     "output_type": "stream",
     "text": [
      "Downloading data from https://ndownloader.figshare.com/files/6848853 ...\n"
     ]
    },
    {
     "name": "stderr",
     "output_type": "stream",
     "text": [
      "\r",
      "Downloaded 24121 of 24121 bytes (100.0%,    0.0s remaining) ...done. (1 seconds, 0 min)\n",
      "Extracting data from /home/aalbury/nilearn_data/cobre/cff9fd15d22059a176d15190e6caf601/fmri_0040114.tsv.gz..... done.\n"
     ]
    },
    {
     "name": "stdout",
     "output_type": "stream",
     "text": [
      "Downloading data from https://ndownloader.figshare.com/files/6848940 ...\n"
     ]
    },
    {
     "name": "stderr",
     "output_type": "stream",
     "text": [
      "Downloaded 4518393 of 4518393 bytes (100.0%,    0.0s remaining) ...done. (4 seconds, 0 min)\n"
     ]
    },
    {
     "name": "stdout",
     "output_type": "stream",
     "text": [
      "Downloading data from https://ndownloader.figshare.com/files/6848943 ...\n"
     ]
    },
    {
     "name": "stderr",
     "output_type": "stream",
     "text": [
      "\r",
      "Downloaded 23945 of 23945 bytes (100.0%,    0.0s remaining) ...done. (1 seconds, 0 min)\n",
      "Extracting data from /home/aalbury/nilearn_data/cobre/447df6e56661d38b5f894d96e38b01c2/fmri_0040129.tsv.gz..... done.\n"
     ]
    },
    {
     "name": "stdout",
     "output_type": "stream",
     "text": [
      "Downloading data from https://ndownloader.figshare.com/files/6848496 ...\n"
     ]
    },
    {
     "name": "stderr",
     "output_type": "stream",
     "text": [
      "Downloaded 4516202 of 4516202 bytes (100.0%,    0.0s remaining) ...done. (8 seconds, 0 min)\n"
     ]
    },
    {
     "name": "stdout",
     "output_type": "stream",
     "text": [
      "Downloading data from https://ndownloader.figshare.com/files/6848499 ...\n"
     ]
    },
    {
     "name": "stderr",
     "output_type": "stream",
     "text": [
      "\r",
      "Downloaded 23822 of 23822 bytes (100.0%,    0.0s remaining) ...done. (1 seconds, 0 min)\n",
      "Extracting data from /home/aalbury/nilearn_data/cobre/4c7d2fca87218d8466eecbacf3eab588/fmri_0040053.tsv.gz..... done.\n"
     ]
    },
    {
     "name": "stdout",
     "output_type": "stream",
     "text": [
      "Downloading data from https://ndownloader.figshare.com/files/6848586 ...\n"
     ]
    },
    {
     "name": "stderr",
     "output_type": "stream",
     "text": [
      "Downloaded 4595254 of 4595254 bytes (100.0%,    0.0s remaining) ...done. (5 seconds, 0 min)\n"
     ]
    },
    {
     "name": "stdout",
     "output_type": "stream",
     "text": [
      "Downloading data from https://ndownloader.figshare.com/files/6848589 ...\n"
     ]
    },
    {
     "name": "stderr",
     "output_type": "stream",
     "text": [
      "\r",
      "Downloaded 24039 of 24039 bytes (100.0%,    0.0s remaining) ...done. (1 seconds, 0 min)\n",
      "Extracting data from /home/aalbury/nilearn_data/cobre/7c77d9be9410f1827a5bfd2a9d55f421/fmri_0040068.tsv.gz..... done.\n"
     ]
    },
    {
     "name": "stdout",
     "output_type": "stream",
     "text": [
      "Downloading data from https://ndownloader.figshare.com/files/6848712 ...\n"
     ]
    },
    {
     "name": "stderr",
     "output_type": "stream",
     "text": [
      "Downloaded 4556172 of 4556172 bytes (100.0%,    0.0s remaining) ...done. (6 seconds, 0 min)\n"
     ]
    },
    {
     "name": "stdout",
     "output_type": "stream",
     "text": [
      "Downloading data from https://ndownloader.figshare.com/files/6848715 ...\n"
     ]
    },
    {
     "name": "stderr",
     "output_type": "stream",
     "text": [
      "\r",
      "Downloaded 23985 of 23985 bytes (100.0%,    0.0s remaining) ...done. (1 seconds, 0 min)\n",
      "Extracting data from /home/aalbury/nilearn_data/cobre/aea7a57b01069fb5564e61dc1f42530c/fmri_0040091.tsv.gz..... done.\n"
     ]
    },
    {
     "name": "stdout",
     "output_type": "stream",
     "text": [
      "Downloading data from https://ndownloader.figshare.com/files/6848976 ...\n"
     ]
    },
    {
     "name": "stderr",
     "output_type": "stream",
     "text": [
      "Downloaded 4624452 of 4624452 bytes (100.0%,    0.0s remaining) ...done. (9 seconds, 0 min)\n"
     ]
    },
    {
     "name": "stdout",
     "output_type": "stream",
     "text": [
      "Downloading data from https://ndownloader.figshare.com/files/6848979 ...\n"
     ]
    },
    {
     "name": "stderr",
     "output_type": "stream",
     "text": [
      "\r",
      "Downloaded 23840 of 23840 bytes (100.0%,    0.0s remaining) ...done. (1 seconds, 0 min)\n",
      "Extracting data from /home/aalbury/nilearn_data/cobre/98a2d5d55994201cf5ca899f41edb483/fmri_0040135.tsv.gz..... done.\n"
     ]
    },
    {
     "name": "stdout",
     "output_type": "stream",
     "text": [
      "Downloading data from https://ndownloader.figshare.com/files/6848724 ...\n"
     ]
    },
    {
     "name": "stderr",
     "output_type": "stream",
     "text": [
      "Downloaded 4533894 of 4533894 bytes (100.0%,    0.0s remaining) ...done. (5 seconds, 0 min)\n"
     ]
    },
    {
     "name": "stdout",
     "output_type": "stream",
     "text": [
      "Downloading data from https://ndownloader.figshare.com/files/6848727 ...\n"
     ]
    },
    {
     "name": "stderr",
     "output_type": "stream",
     "text": [
      "\r",
      "Downloaded 23901 of 23901 bytes (100.0%,    0.0s remaining) ...done. (1 seconds, 0 min)\n",
      "Extracting data from /home/aalbury/nilearn_data/cobre/8ac369f55252247ed042bfbdbdaf8832/fmri_0040093.tsv.gz..... done.\n"
     ]
    },
    {
     "name": "stdout",
     "output_type": "stream",
     "text": [
      "Downloading data from https://ndownloader.figshare.com/files/6848394 ...\n"
     ]
    },
    {
     "name": "stderr",
     "output_type": "stream",
     "text": [
      "Downloaded 4566244 of 4566244 bytes (100.0%,    0.0s remaining) ...done. (4 seconds, 0 min)\n"
     ]
    },
    {
     "name": "stdout",
     "output_type": "stream",
     "text": [
      "Downloading data from https://ndownloader.figshare.com/files/6848397 ...\n"
     ]
    },
    {
     "name": "stderr",
     "output_type": "stream",
     "text": [
      "\r",
      "Downloaded 23937 of 23937 bytes (100.0%,    0.0s remaining) ...done. (1 seconds, 0 min)\n",
      "Extracting data from /home/aalbury/nilearn_data/cobre/d22a0250adab29b895fcd9e986961ac6/fmri_0040036.tsv.gz..... done.\n"
     ]
    },
    {
     "name": "stdout",
     "output_type": "stream",
     "text": [
      "Downloading data from https://ndownloader.figshare.com/files/6848790 ...\n"
     ]
    },
    {
     "name": "stderr",
     "output_type": "stream",
     "text": [
      "Downloaded 4566556 of 4566556 bytes (100.0%,    0.0s remaining) ...done. (7 seconds, 0 min)\n"
     ]
    },
    {
     "name": "stdout",
     "output_type": "stream",
     "text": [
      "Downloading data from https://ndownloader.figshare.com/files/6848793 ...\n"
     ]
    },
    {
     "name": "stderr",
     "output_type": "stream",
     "text": [
      "\r",
      "Downloaded 24109 of 24109 bytes (100.0%,    0.0s remaining) ...done. (1 seconds, 0 min)\n",
      "Extracting data from /home/aalbury/nilearn_data/cobre/386c9d2e3df1d7f9be222929c539a85e/fmri_0040104.tsv.gz..... done.\n"
     ]
    },
    {
     "name": "stdout",
     "output_type": "stream",
     "text": [
      "Downloading data from https://ndownloader.figshare.com/files/6848886 ...\n"
     ]
    },
    {
     "name": "stderr",
     "output_type": "stream",
     "text": [
      "Downloaded 4335464 of 4335464 bytes (100.0%,    0.0s remaining) ...done. (5 seconds, 0 min)\n"
     ]
    },
    {
     "name": "stdout",
     "output_type": "stream",
     "text": [
      "Downloading data from https://ndownloader.figshare.com/files/6848889 ...\n"
     ]
    },
    {
     "name": "stderr",
     "output_type": "stream",
     "text": [
      "\r",
      "Downloaded 23986 of 23986 bytes (100.0%,    0.0s remaining) ...done. (1 seconds, 0 min)\n",
      "Extracting data from /home/aalbury/nilearn_data/cobre/5dc5e3b270269cba3966fa31588b7257/fmri_0040120.tsv.gz..... done.\n"
     ]
    },
    {
     "name": "stdout",
     "output_type": "stream",
     "text": [
      "Downloading data from https://ndownloader.figshare.com/files/6848928 ...\n"
     ]
    },
    {
     "name": "stderr",
     "output_type": "stream",
     "text": [
      "Downloaded 4358576 of 4358576 bytes (100.0%,    0.0s remaining) ...done. (18 seconds, 0 min)\n"
     ]
    },
    {
     "name": "stdout",
     "output_type": "stream",
     "text": [
      "Downloading data from https://ndownloader.figshare.com/files/6848931 ...\n"
     ]
    },
    {
     "name": "stderr",
     "output_type": "stream",
     "text": [
      "\r",
      "Downloaded 24203 of 24203 bytes (100.0%,    0.0s remaining) ...done. (1 seconds, 0 min)\n",
      "Extracting data from /home/aalbury/nilearn_data/cobre/b316555cbb1737d7e894b988e9780e64/fmri_0040127.tsv.gz..... done.\n"
     ]
    },
    {
     "name": "stdout",
     "output_type": "stream",
     "text": [
      "Downloading data from https://ndownloader.figshare.com/files/6848514 ...\n"
     ]
    },
    {
     "name": "stderr",
     "output_type": "stream",
     "text": [
      "Downloaded 4639453 of 4639453 bytes (100.0%,    0.0s remaining) ...done. (4 seconds, 0 min)\n"
     ]
    },
    {
     "name": "stdout",
     "output_type": "stream",
     "text": [
      "Downloading data from https://ndownloader.figshare.com/files/6848517 ...\n"
     ]
    },
    {
     "name": "stderr",
     "output_type": "stream",
     "text": [
      "\r",
      "Downloaded 24258 of 24258 bytes (100.0%,    0.0s remaining) ...done. (1 seconds, 0 min)\n",
      "Extracting data from /home/aalbury/nilearn_data/cobre/b54127146bebc0a1577663db77da54e7/fmri_0040056.tsv.gz..... done.\n"
     ]
    },
    {
     "name": "stdout",
     "output_type": "stream",
     "text": [
      "Downloading data from https://ndownloader.figshare.com/files/6848526 ...\n"
     ]
    },
    {
     "name": "stderr",
     "output_type": "stream",
     "text": [
      "Downloaded 4526132 of 4526132 bytes (100.0%,    0.0s remaining) ...done. (4 seconds, 0 min)\n"
     ]
    },
    {
     "name": "stdout",
     "output_type": "stream",
     "text": [
      "Downloading data from https://ndownloader.figshare.com/files/6848529 ...\n"
     ]
    },
    {
     "name": "stderr",
     "output_type": "stream",
     "text": [
      "\r",
      "Downloaded 24168 of 24168 bytes (100.0%,    0.0s remaining) ...done. (1 seconds, 0 min)\n",
      "Extracting data from /home/aalbury/nilearn_data/cobre/d266bff0ab2e5630aa19b5281c47dcc2/fmri_0040058.tsv.gz..... done.\n"
     ]
    },
    {
     "name": "stdout",
     "output_type": "stream",
     "text": [
      "Downloading data from https://ndownloader.figshare.com/files/6848688 ...\n"
     ]
    },
    {
     "name": "stderr",
     "output_type": "stream",
     "text": [
      "Downloaded 4250059 of 4250059 bytes (100.0%,    0.0s remaining) ...done. (9 seconds, 0 min)\n"
     ]
    },
    {
     "name": "stdout",
     "output_type": "stream",
     "text": [
      "Downloading data from https://ndownloader.figshare.com/files/6848691 ...\n"
     ]
    },
    {
     "name": "stderr",
     "output_type": "stream",
     "text": [
      "\r",
      "Downloaded 23910 of 23910 bytes (100.0%,    0.0s remaining) ...done. (1 seconds, 0 min)\n",
      "Extracting data from /home/aalbury/nilearn_data/cobre/dc0b143affa421c69fedc2926b7eeca9/fmri_0040087.tsv.gz..... done.\n"
     ]
    },
    {
     "name": "stdout",
     "output_type": "stream",
     "text": [
      "Downloading data from https://ndownloader.figshare.com/files/6848856 ...\n"
     ]
    },
    {
     "name": "stderr",
     "output_type": "stream",
     "text": [
      "Downloaded 4361922 of 4361922 bytes (100.0%,    0.0s remaining) ...done. (12 seconds, 0 min)\n"
     ]
    },
    {
     "name": "stdout",
     "output_type": "stream",
     "text": [
      "Downloading data from https://ndownloader.figshare.com/files/6848859 ...\n"
     ]
    },
    {
     "name": "stderr",
     "output_type": "stream",
     "text": [
      "\r",
      "Downloaded 23814 of 23814 bytes (100.0%,    0.0s remaining) ...done. (1 seconds, 0 min)\n",
      "Extracting data from /home/aalbury/nilearn_data/cobre/5a9e6ef1c95ae6b0568f859a5cf27ec9/fmri_0040115.tsv.gz..... done.\n"
     ]
    },
    {
     "name": "stdout",
     "output_type": "stream",
     "text": [
      "Downloading data from https://ndownloader.figshare.com/files/6848994 ...\n"
     ]
    },
    {
     "name": "stderr",
     "output_type": "stream",
     "text": [
      "Downloaded 4597734 of 4597734 bytes (100.0%,    0.0s remaining) ...done. (6 seconds, 0 min)\n"
     ]
    },
    {
     "name": "stdout",
     "output_type": "stream",
     "text": [
      "Downloading data from https://ndownloader.figshare.com/files/6848997 ...\n"
     ]
    },
    {
     "name": "stderr",
     "output_type": "stream",
     "text": [
      "Downloaded 24065 of 24065 bytes (100.0%,    0.0s remaining) ...done. (1 seconds, 0 min)\n",
      "Extracting data from /home/aalbury/nilearn_data/cobre/b82db541e4f9a5e408d9ad43343175de/fmri_0040138.tsv.gz..... done.\n"
     ]
    },
    {
     "name": "stdout",
     "output_type": "stream",
     "text": [
      "Downloading data from https://ndownloader.figshare.com/files/6849000 ...\n"
     ]
    },
    {
     "name": "stderr",
     "output_type": "stream",
     "text": [
      "Downloaded 4447040 of 4447040 bytes (100.0%,    0.0s remaining) ...done. (4 seconds, 0 min)\n"
     ]
    },
    {
     "name": "stdout",
     "output_type": "stream",
     "text": [
      "Downloading data from https://ndownloader.figshare.com/files/6849003 ...\n"
     ]
    },
    {
     "name": "stderr",
     "output_type": "stream",
     "text": [
      "\r",
      "Downloaded 23888 of 23888 bytes (100.0%,    0.0s remaining) ...done. (1 seconds, 0 min)\n",
      "Extracting data from /home/aalbury/nilearn_data/cobre/add86cccd2ec37880b3e555251501f43/fmri_0040139.tsv.gz..... done.\n"
     ]
    },
    {
     "name": "stdout",
     "output_type": "stream",
     "text": [
      "Downloading data from https://ndownloader.figshare.com/files/6848280 ...\n"
     ]
    },
    {
     "name": "stderr",
     "output_type": "stream",
     "text": [
      "Downloaded 4318414 of 4318414 bytes (100.0%,    0.0s remaining) ...done. (7 seconds, 0 min)\n"
     ]
    },
    {
     "name": "stdout",
     "output_type": "stream",
     "text": [
      "Downloading data from https://ndownloader.figshare.com/files/6848283 ...\n"
     ]
    },
    {
     "name": "stderr",
     "output_type": "stream",
     "text": [
      "\r",
      "Downloaded 24025 of 24025 bytes (100.0%,    0.0s remaining) ...done. (1 seconds, 0 min)\n",
      "Extracting data from /home/aalbury/nilearn_data/cobre/b70d55395685d07aa8fdffc94edc71da/fmri_0040017.tsv.gz..... done.\n"
     ]
    },
    {
     "name": "stdout",
     "output_type": "stream",
     "text": [
      "Downloading data from https://ndownloader.figshare.com/files/6848388 ...\n"
     ]
    },
    {
     "name": "stderr",
     "output_type": "stream",
     "text": [
      "Downloaded 4407131 of 4407131 bytes (100.0%,    0.0s remaining) ...done. (7 seconds, 0 min)\n"
     ]
    },
    {
     "name": "stdout",
     "output_type": "stream",
     "text": [
      "Downloading data from https://ndownloader.figshare.com/files/6848391 ...\n"
     ]
    },
    {
     "name": "stderr",
     "output_type": "stream",
     "text": [
      "\r",
      "Downloaded 24094 of 24094 bytes (100.0%,    0.0s remaining) ...done. (1 seconds, 0 min)\n",
      "Extracting data from /home/aalbury/nilearn_data/cobre/353ecb8a3fa22bfea3957c8bc90a8290/fmri_0040035.tsv.gz..... done.\n"
     ]
    },
    {
     "name": "stdout",
     "output_type": "stream",
     "text": [
      "Downloading data from https://ndownloader.figshare.com/files/6848448 ...\n"
     ]
    },
    {
     "name": "stderr",
     "output_type": "stream",
     "text": [
      "Downloaded 4126071 of 4126071 bytes (100.0%,    0.0s remaining) ...done. (4 seconds, 0 min)\n"
     ]
    },
    {
     "name": "stdout",
     "output_type": "stream",
     "text": [
      "Downloading data from https://ndownloader.figshare.com/files/6848451 ...\n"
     ]
    },
    {
     "name": "stderr",
     "output_type": "stream",
     "text": [
      "\r",
      "Downloaded 24084 of 24084 bytes (100.0%,    0.0s remaining) ...done. (1 seconds, 0 min)\n",
      "Extracting data from /home/aalbury/nilearn_data/cobre/32b47fdf5040a6cf341e306058d1d040/fmri_0040045.tsv.gz..... done.\n"
     ]
    },
    {
     "name": "stdout",
     "output_type": "stream",
     "text": [
      "Downloading data from https://ndownloader.figshare.com/files/6848508 ...\n"
     ]
    },
    {
     "name": "stderr",
     "output_type": "stream",
     "text": [
      "Downloaded 4535546 of 4535546 bytes (100.0%,    0.0s remaining) ...done. (8 seconds, 0 min)\n"
     ]
    },
    {
     "name": "stdout",
     "output_type": "stream",
     "text": [
      "Downloading data from https://ndownloader.figshare.com/files/6848511 ...\n"
     ]
    },
    {
     "name": "stderr",
     "output_type": "stream",
     "text": [
      "\r",
      "Downloaded 23893 of 23893 bytes (100.0%,    0.0s remaining) ...done. (1 seconds, 0 min)\n",
      "Extracting data from /home/aalbury/nilearn_data/cobre/e5dc1faa428abfd54acfffa1c1091732/fmri_0040055.tsv.gz..... done.\n"
     ]
    },
    {
     "name": "stdout",
     "output_type": "stream",
     "text": [
      "Downloading data from https://ndownloader.figshare.com/files/6848262 ...\n"
     ]
    },
    {
     "name": "stderr",
     "output_type": "stream",
     "text": [
      "Downloaded 4240132 of 4240132 bytes (100.0%,    0.0s remaining) ...done. (5 seconds, 0 min)\n"
     ]
    },
    {
     "name": "stdout",
     "output_type": "stream",
     "text": [
      "Downloading data from https://ndownloader.figshare.com/files/6848265 ...\n"
     ]
    },
    {
     "name": "stderr",
     "output_type": "stream",
     "text": [
      "\r",
      "Downloaded 23977 of 23977 bytes (100.0%,    0.0s remaining) ...done. (1 seconds, 0 min)\n",
      "Extracting data from /home/aalbury/nilearn_data/cobre/0b613ec379333f48f6d60632e7fe449e/fmri_0040014.tsv.gz..... done.\n"
     ]
    },
    {
     "name": "stdout",
     "output_type": "stream",
     "text": [
      "Downloading data from https://ndownloader.figshare.com/files/6848376 ...\n"
     ]
    },
    {
     "name": "stderr",
     "output_type": "stream",
     "text": [
      "Downloaded 4530982 of 4530982 bytes (100.0%,    0.0s remaining) ...done. (8 seconds, 0 min)\n"
     ]
    },
    {
     "name": "stdout",
     "output_type": "stream",
     "text": [
      "Downloading data from https://ndownloader.figshare.com/files/6848379 ...\n"
     ]
    },
    {
     "name": "stderr",
     "output_type": "stream",
     "text": [
      "\r",
      "Downloaded 23919 of 23919 bytes (100.0%,    0.0s remaining) ...done. (1 seconds, 0 min)\n",
      "Extracting data from /home/aalbury/nilearn_data/cobre/f16c0a0e779562038bc1d80a48174aa6/fmri_0040033.tsv.gz..... done.\n"
     ]
    },
    {
     "name": "stdout",
     "output_type": "stream",
     "text": [
      "Downloading data from https://ndownloader.figshare.com/files/6848466 ...\n"
     ]
    },
    {
     "name": "stderr",
     "output_type": "stream",
     "text": [
      "Downloaded 4415380 of 4415380 bytes (100.0%,    0.0s remaining) ...done. (7 seconds, 0 min)\n"
     ]
    },
    {
     "name": "stdout",
     "output_type": "stream",
     "text": [
      "Downloading data from https://ndownloader.figshare.com/files/6848469 ...\n"
     ]
    },
    {
     "name": "stderr",
     "output_type": "stream",
     "text": [
      "\r",
      "Downloaded 24026 of 24026 bytes (100.0%,    0.0s remaining) ...done. (1 seconds, 0 min)\n",
      "Extracting data from /home/aalbury/nilearn_data/cobre/f1cf4fc950e390b644c4756f1d7571ed/fmri_0040048.tsv.gz..... done.\n"
     ]
    },
    {
     "name": "stdout",
     "output_type": "stream",
     "text": [
      "Downloading data from https://ndownloader.figshare.com/files/6848580 ...\n"
     ]
    },
    {
     "name": "stderr",
     "output_type": "stream",
     "text": [
      "Downloaded 4675739 of 4675739 bytes (100.0%,    0.0s remaining) ...done. (5 seconds, 0 min)\n"
     ]
    },
    {
     "name": "stdout",
     "output_type": "stream",
     "text": [
      "Downloading data from https://ndownloader.figshare.com/files/6848583 ...\n"
     ]
    },
    {
     "name": "stderr",
     "output_type": "stream",
     "text": [
      "\r",
      "Downloaded 23850 of 23850 bytes (100.0%,    0.0s remaining) ...done. (1 seconds, 0 min)\n",
      "Extracting data from /home/aalbury/nilearn_data/cobre/0a13ad695794bd882eb610537ed8834c/fmri_0040067.tsv.gz..... done.\n"
     ]
    },
    {
     "name": "stdout",
     "output_type": "stream",
     "text": [
      "Downloading data from https://ndownloader.figshare.com/files/6848808 ...\n"
     ]
    },
    {
     "name": "stderr",
     "output_type": "stream",
     "text": [
      "Downloaded 4541587 of 4541587 bytes (100.0%,    0.0s remaining) ...done. (5 seconds, 0 min)\n"
     ]
    },
    {
     "name": "stdout",
     "output_type": "stream",
     "text": [
      "Downloading data from https://ndownloader.figshare.com/files/6848811 ...\n"
     ]
    },
    {
     "name": "stderr",
     "output_type": "stream",
     "text": [
      "\r",
      "Downloaded 24149 of 24149 bytes (100.0%,    0.0s remaining) ...done. (1 seconds, 0 min)\n",
      "Extracting data from /home/aalbury/nilearn_data/cobre/51cf21fec93eda9d261ba6e60772b3b3/fmri_0040107.tsv.gz..... done.\n"
     ]
    },
    {
     "name": "stdout",
     "output_type": "stream",
     "text": [
      "Downloading data from https://ndownloader.figshare.com/files/6848256 ...\n"
     ]
    },
    {
     "name": "stderr",
     "output_type": "stream",
     "text": [
      "Downloaded 4316661 of 4316661 bytes (100.0%,    0.0s remaining) ...done. (11 seconds, 0 min)\n"
     ]
    },
    {
     "name": "stdout",
     "output_type": "stream",
     "text": [
      "Downloading data from https://ndownloader.figshare.com/files/6848259 ...\n"
     ]
    },
    {
     "name": "stderr",
     "output_type": "stream",
     "text": [
      "\r",
      "Downloaded 23994 of 23994 bytes (100.0%,    0.0s remaining) ...done. (1 seconds, 0 min)\n",
      "Extracting data from /home/aalbury/nilearn_data/cobre/1fb653a5f34e2668fc3f6b7f9a0e7fdf/fmri_0040013.tsv.gz..... done.\n"
     ]
    },
    {
     "name": "stdout",
     "output_type": "stream",
     "text": [
      "Downloading data from https://ndownloader.figshare.com/files/6848616 ...\n"
     ]
    },
    {
     "name": "stderr",
     "output_type": "stream",
     "text": [
      "Downloaded 4538631 of 4538631 bytes (100.0%,    0.0s remaining) ...done. (7 seconds, 0 min)\n"
     ]
    },
    {
     "name": "stdout",
     "output_type": "stream",
     "text": [
      "Downloading data from https://ndownloader.figshare.com/files/6848619 ...\n"
     ]
    },
    {
     "name": "stderr",
     "output_type": "stream",
     "text": [
      "\r",
      "Downloaded 24265 of 24265 bytes (100.0%,    0.0s remaining) ...done. (2 seconds, 0 min)\n",
      "Extracting data from /home/aalbury/nilearn_data/cobre/3458e174c96ff3708392fa25271e0a42/fmri_0040074.tsv.gz..... done.\n"
     ]
    },
    {
     "name": "stdout",
     "output_type": "stream",
     "text": [
      "Downloading data from https://ndownloader.figshare.com/files/6848874 ...\n"
     ]
    },
    {
     "name": "stderr",
     "output_type": "stream",
     "text": [
      "Downloaded 4654182 of 4654182 bytes (100.0%,    0.0s remaining) ...done. (4 seconds, 0 min)\n"
     ]
    },
    {
     "name": "stdout",
     "output_type": "stream",
     "text": [
      "Downloading data from https://ndownloader.figshare.com/files/6848877 ...\n"
     ]
    },
    {
     "name": "stderr",
     "output_type": "stream",
     "text": [
      "\r",
      "Downloaded 23985 of 23985 bytes (100.0%,    0.0s remaining) ...done. (1 seconds, 0 min)\n",
      "Extracting data from /home/aalbury/nilearn_data/cobre/fd51da8a572a93da7d704e4e6d8380de/fmri_0040118.tsv.gz..... done.\n"
     ]
    },
    {
     "name": "stdout",
     "output_type": "stream",
     "text": [
      "Downloading data from https://ndownloader.figshare.com/files/6849048 ...\n"
     ]
    },
    {
     "name": "stderr",
     "output_type": "stream",
     "text": [
      "Downloaded 4732662 of 4732662 bytes (100.0%,    0.0s remaining) ...done. (4 seconds, 0 min)\n"
     ]
    },
    {
     "name": "stdout",
     "output_type": "stream",
     "text": [
      "Downloading data from https://ndownloader.figshare.com/files/6849051 ...\n"
     ]
    },
    {
     "name": "stderr",
     "output_type": "stream",
     "text": [
      "\r",
      "Downloaded 24071 of 24071 bytes (100.0%,    0.0s remaining) ...done. (1 seconds, 0 min)\n",
      "Extracting data from /home/aalbury/nilearn_data/cobre/fc6b1216887a29eac3e7628292ff1923/fmri_0040147.tsv.gz..... done.\n"
     ]
    },
    {
     "name": "stdout",
     "output_type": "stream",
     "text": [
      "Downloading data from https://ndownloader.figshare.com/files/6848910 ...\n"
     ]
    },
    {
     "name": "stderr",
     "output_type": "stream",
     "text": [
      "Downloaded 4511976 of 4511976 bytes (100.0%,    0.0s remaining) ...done. (8 seconds, 0 min)\n"
     ]
    },
    {
     "name": "stdout",
     "output_type": "stream",
     "text": [
      "Downloading data from https://ndownloader.figshare.com/files/6848913 ...\n"
     ]
    },
    {
     "name": "stderr",
     "output_type": "stream",
     "text": [
      "\r",
      "Downloaded 24024 of 24024 bytes (100.0%,    0.0s remaining) ...done. (1 seconds, 0 min)\n",
      "Extracting data from /home/aalbury/nilearn_data/cobre/2219daeb72e9bcf0927820da7526c1d5/fmri_0040124.tsv.gz..... done.\n"
     ]
    },
    {
     "name": "stdout",
     "output_type": "stream",
     "text": [
      "Downloading data from https://ndownloader.figshare.com/files/6849012 ...\n"
     ]
    },
    {
     "name": "stderr",
     "output_type": "stream",
     "text": [
      "Downloaded 4507888 of 4507888 bytes (100.0%,    0.0s remaining) ...done. (8 seconds, 0 min)\n"
     ]
    },
    {
     "name": "stdout",
     "output_type": "stream",
     "text": [
      "Downloading data from https://ndownloader.figshare.com/files/6849015 ...\n"
     ]
    },
    {
     "name": "stderr",
     "output_type": "stream",
     "text": [
      "\r",
      "Downloaded 24179 of 24179 bytes (100.0%,    0.0s remaining) ...done. (1 seconds, 0 min)\n",
      "Extracting data from /home/aalbury/nilearn_data/cobre/3051fbde06e5148f55676302829cf31d/fmri_0040141.tsv.gz..... done.\n"
     ]
    },
    {
     "name": "stdout",
     "output_type": "stream",
     "text": [
      "Downloading data from https://ndownloader.figshare.com/files/6848478 ...\n"
     ]
    },
    {
     "name": "stderr",
     "output_type": "stream",
     "text": [
      "Downloaded 4430995 of 4430995 bytes (100.0%,    0.0s remaining) ...done. (5 seconds, 0 min)\n"
     ]
    },
    {
     "name": "stdout",
     "output_type": "stream",
     "text": [
      "Downloading data from https://ndownloader.figshare.com/files/6848481 ...\n"
     ]
    },
    {
     "name": "stderr",
     "output_type": "stream",
     "text": [
      "\r",
      "Downloaded 24039 of 24039 bytes (100.0%,    0.0s remaining) ...done. (1 seconds, 0 min)\n",
      "Extracting data from /home/aalbury/nilearn_data/cobre/7bdf63b853c93eaf64b8f09aa60f673d/fmri_0040050.tsv.gz..... done.\n"
     ]
    },
    {
     "name": "stdout",
     "output_type": "stream",
     "text": [
      "Downloading data from https://ndownloader.figshare.com/files/6848520 ...\n"
     ]
    },
    {
     "name": "stderr",
     "output_type": "stream",
     "text": [
      "Downloaded 4363787 of 4363787 bytes (100.0%,    0.0s remaining) ...done. (6 seconds, 0 min)\n"
     ]
    },
    {
     "name": "stdout",
     "output_type": "stream",
     "text": [
      "Downloading data from https://ndownloader.figshare.com/files/6848523 ...\n"
     ]
    },
    {
     "name": "stderr",
     "output_type": "stream",
     "text": [
      "\r",
      "Downloaded 24010 of 24010 bytes (100.0%,    0.0s remaining) ...done. (1 seconds, 0 min)\n",
      "Extracting data from /home/aalbury/nilearn_data/cobre/3e28795f5120be4512aa09e6a7cb98f3/fmri_0040057.tsv.gz..... done.\n"
     ]
    },
    {
     "name": "stdout",
     "output_type": "stream",
     "text": [
      "Downloading data from https://ndownloader.figshare.com/files/6848556 ...\n"
     ]
    },
    {
     "name": "stderr",
     "output_type": "stream",
     "text": [
      "Downloaded 4656081 of 4656081 bytes (100.0%,    0.0s remaining) ...done. (5 seconds, 0 min)\n"
     ]
    },
    {
     "name": "stdout",
     "output_type": "stream",
     "text": [
      "Downloading data from https://ndownloader.figshare.com/files/6848559 ...\n"
     ]
    },
    {
     "name": "stderr",
     "output_type": "stream",
     "text": [
      "\r",
      "Downloaded 23845 of 23845 bytes (100.0%,    0.0s remaining) ...done. (1 seconds, 0 min)\n",
      "Extracting data from /home/aalbury/nilearn_data/cobre/05458d776a3c6f8fbcfd8bae19ce6ce8/fmri_0040063.tsv.gz..... done.\n"
     ]
    },
    {
     "name": "stdout",
     "output_type": "stream",
     "text": [
      "Downloading data from https://ndownloader.figshare.com/files/6848436 ...\n"
     ]
    },
    {
     "name": "stderr",
     "output_type": "stream",
     "text": [
      "Downloaded 4780012 of 4780012 bytes (100.0%,    0.0s remaining) ...done. (7 seconds, 0 min)\n"
     ]
    },
    {
     "name": "stdout",
     "output_type": "stream",
     "text": [
      "Downloading data from https://ndownloader.figshare.com/files/6848439 ...\n"
     ]
    },
    {
     "name": "stderr",
     "output_type": "stream",
     "text": [
      "\r",
      "Downloaded 23823 of 23823 bytes (100.0%,    0.0s remaining) ...done. (1 seconds, 0 min)\n",
      "Extracting data from /home/aalbury/nilearn_data/cobre/96489eca6fef4a2ed308a6e7b16c04bb/fmri_0040043.tsv.gz..... done.\n"
     ]
    },
    {
     "name": "stdout",
     "output_type": "stream",
     "text": [
      "Downloading data from https://ndownloader.figshare.com/files/6848982 ...\n"
     ]
    },
    {
     "name": "stderr",
     "output_type": "stream",
     "text": [
      "Downloaded 4263927 of 4263927 bytes (100.0%,    0.0s remaining) ...done. (5 seconds, 0 min)\n"
     ]
    },
    {
     "name": "stdout",
     "output_type": "stream",
     "text": [
      "Downloading data from https://ndownloader.figshare.com/files/6848985 ...\n"
     ]
    },
    {
     "name": "stderr",
     "output_type": "stream",
     "text": [
      "\r",
      "Downloaded 24050 of 24050 bytes (100.0%,    0.0s remaining) ...done. (1 seconds, 0 min)\n",
      "Extracting data from /home/aalbury/nilearn_data/cobre/d7267ae2d66935a22adc343a26562d59/fmri_0040136.tsv.gz..... done.\n"
     ]
    },
    {
     "name": "stdout",
     "output_type": "stream",
     "text": [
      "Downloading data from https://ndownloader.figshare.com/files/6849042 ...\n"
     ]
    },
    {
     "name": "stderr",
     "output_type": "stream",
     "text": [
      "Downloaded 4634643 of 4634643 bytes (100.0%,    0.0s remaining) ...done. (5 seconds, 0 min)\n"
     ]
    },
    {
     "name": "stdout",
     "output_type": "stream",
     "text": [
      "Downloading data from https://ndownloader.figshare.com/files/6849045 ...\n"
     ]
    },
    {
     "name": "stderr",
     "output_type": "stream",
     "text": [
      "\r",
      "Downloaded 23897 of 23897 bytes (100.0%,    0.0s remaining) ...done. (1 seconds, 0 min)\n",
      "Extracting data from /home/aalbury/nilearn_data/cobre/3281888247af6caa04615124e14c654e/fmri_0040146.tsv.gz..... done.\n"
     ]
    },
    {
     "name": "stdout",
     "output_type": "stream",
     "text": [
      "Downloading data from https://ndownloader.figshare.com/files/6848736 ...\n"
     ]
    },
    {
     "name": "stderr",
     "output_type": "stream",
     "text": [
      "Downloaded 4573061 of 4573061 bytes (100.0%,    0.0s remaining) ...done. (3 seconds, 0 min)\n"
     ]
    },
    {
     "name": "stdout",
     "output_type": "stream",
     "text": [
      "Downloading data from https://ndownloader.figshare.com/files/6848739 ...\n"
     ]
    },
    {
     "name": "stderr",
     "output_type": "stream",
     "text": [
      "\r",
      "Downloaded 24132 of 24132 bytes (100.0%,    0.0s remaining) ...done. (1 seconds, 0 min)\n",
      "Extracting data from /home/aalbury/nilearn_data/cobre/a4080a2306a6a90fceda43ba1e3e9a53/fmri_0040095.tsv.gz..... done.\n"
     ]
    },
    {
     "name": "stdout",
     "output_type": "stream",
     "text": [
      "Downloading data from https://ndownloader.figshare.com/files/6848778 ...\n"
     ]
    },
    {
     "name": "stderr",
     "output_type": "stream",
     "text": [
      "Downloaded 4499658 of 4499658 bytes (100.0%,    0.0s remaining) ...done. (5 seconds, 0 min)\n"
     ]
    },
    {
     "name": "stdout",
     "output_type": "stream",
     "text": [
      "Downloading data from https://ndownloader.figshare.com/files/6848781 ...\n"
     ]
    },
    {
     "name": "stderr",
     "output_type": "stream",
     "text": [
      "\r",
      "Downloaded 23947 of 23947 bytes (100.0%,    0.0s remaining) ...done. (1 seconds, 0 min)\n",
      "Extracting data from /home/aalbury/nilearn_data/cobre/1a9608467cb5e039612d04d3a262a8da/fmri_0040102.tsv.gz..... done.\n"
     ]
    },
    {
     "name": "stdout",
     "output_type": "stream",
     "text": [
      "Downloading data from https://ndownloader.figshare.com/files/6848322 ...\n"
     ]
    },
    {
     "name": "stderr",
     "output_type": "stream",
     "text": [
      "Downloaded 4524258 of 4524258 bytes (100.0%,    0.0s remaining) ...done. (9 seconds, 0 min)\n"
     ]
    },
    {
     "name": "stdout",
     "output_type": "stream",
     "text": [
      "Downloading data from https://ndownloader.figshare.com/files/6848325 ...\n"
     ]
    },
    {
     "name": "stderr",
     "output_type": "stream",
     "text": [
      "\r",
      "Downloaded 24272 of 24272 bytes (100.0%,    0.0s remaining) ...done. (1 seconds, 0 min)\n",
      "Extracting data from /home/aalbury/nilearn_data/cobre/4de055e8bb1c5c1bdc4c3354f4776db5/fmri_0040024.tsv.gz..... done.\n"
     ]
    },
    {
     "name": "stdout",
     "output_type": "stream",
     "text": [
      "Downloading data from https://ndownloader.figshare.com/files/6848970 ...\n"
     ]
    },
    {
     "name": "stderr",
     "output_type": "stream",
     "text": [
      "Downloaded 4461010 of 4461010 bytes (100.0%,    0.0s remaining) ...done. (6 seconds, 0 min)\n"
     ]
    },
    {
     "name": "stdout",
     "output_type": "stream",
     "text": [
      "Downloading data from https://ndownloader.figshare.com/files/6848973 ...\n"
     ]
    },
    {
     "name": "stderr",
     "output_type": "stream",
     "text": [
      "\r",
      "Downloaded 24115 of 24115 bytes (100.0%,    0.0s remaining) ...done. (1 seconds, 0 min)\n",
      "Extracting data from /home/aalbury/nilearn_data/cobre/ab2a9793115c71d7ce094faac266ed93/fmri_0040134.tsv.gz..... done.\n"
     ]
    },
    {
     "name": "stdout",
     "output_type": "stream",
     "text": [
      "Downloading data from https://ndownloader.figshare.com/files/6848358 ...\n"
     ]
    },
    {
     "name": "stderr",
     "output_type": "stream",
     "text": [
      "Downloaded 4448033 of 4448033 bytes (100.0%,    0.0s remaining) ...done. (20 seconds, 0 min)\n"
     ]
    },
    {
     "name": "stdout",
     "output_type": "stream",
     "text": [
      "Downloading data from https://ndownloader.figshare.com/files/6848361 ...\n"
     ]
    },
    {
     "name": "stderr",
     "output_type": "stream",
     "text": [
      "\r",
      "Downloaded 24126 of 24126 bytes (100.0%,    0.0s remaining) ...done. (1 seconds, 0 min)\n",
      "Extracting data from /home/aalbury/nilearn_data/cobre/76454a9c807ed8aaa0ea18e4e0d58e0d/fmri_0040030.tsv.gz..... done.\n"
     ]
    },
    {
     "name": "stdout",
     "output_type": "stream",
     "text": [
      "Downloading data from https://ndownloader.figshare.com/files/6848364 ...\n"
     ]
    },
    {
     "name": "stderr",
     "output_type": "stream",
     "text": [
      "Downloaded 4527341 of 4527341 bytes (100.0%,    0.0s remaining) ...done. (4 seconds, 0 min)\n"
     ]
    },
    {
     "name": "stdout",
     "output_type": "stream",
     "text": [
      "Downloading data from https://ndownloader.figshare.com/files/6848367 ...\n"
     ]
    },
    {
     "name": "stderr",
     "output_type": "stream",
     "text": [
      "\r",
      "Downloaded 24212 of 24212 bytes (100.0%,    0.0s remaining) ...done. (1 seconds, 0 min)\n",
      "Extracting data from /home/aalbury/nilearn_data/cobre/7802b7540d4af1f2c38f670d851ac6bf/fmri_0040031.tsv.gz..... done.\n"
     ]
    },
    {
     "name": "stdout",
     "output_type": "stream",
     "text": [
      "Downloading data from https://ndownloader.figshare.com/files/6848292 ...\n"
     ]
    },
    {
     "name": "stderr",
     "output_type": "stream",
     "text": [
      "Downloaded 4715263 of 4715263 bytes (100.0%,    0.0s remaining) ...done. (4 seconds, 0 min)\n"
     ]
    },
    {
     "name": "stdout",
     "output_type": "stream",
     "text": [
      "Downloading data from https://ndownloader.figshare.com/files/6848295 ...\n"
     ]
    },
    {
     "name": "stderr",
     "output_type": "stream",
     "text": [
      "\r",
      "Downloaded 23978 of 23978 bytes (100.0%,    0.0s remaining) ...done. (1 seconds, 0 min)\n",
      "Extracting data from /home/aalbury/nilearn_data/cobre/b8086ca73891f2a3c7860a151bf7fc6d/fmri_0040019.tsv.gz..... done.\n"
     ]
    },
    {
     "name": "stdout",
     "output_type": "stream",
     "text": [
      "Downloading data from https://ndownloader.figshare.com/files/6848334 ...\n"
     ]
    },
    {
     "name": "stderr",
     "output_type": "stream",
     "text": [
      "Downloaded 4503502 of 4503502 bytes (100.0%,    0.0s remaining) ...done. (5 seconds, 0 min)\n"
     ]
    },
    {
     "name": "stdout",
     "output_type": "stream",
     "text": [
      "Downloading data from https://ndownloader.figshare.com/files/6848337 ...\n"
     ]
    },
    {
     "name": "stderr",
     "output_type": "stream",
     "text": [
      "\r",
      "Downloaded 24338 of 24338 bytes (100.0%,    0.0s remaining) ...done. (1 seconds, 0 min)\n",
      "Extracting data from /home/aalbury/nilearn_data/cobre/5595cf821720fd513e28f773a0326b81/fmri_0040026.tsv.gz..... done.\n"
     ]
    },
    {
     "name": "stdout",
     "output_type": "stream",
     "text": [
      "Downloading data from https://ndownloader.figshare.com/files/6848880 ...\n"
     ]
    },
    {
     "name": "stderr",
     "output_type": "stream",
     "text": [
      "Downloaded 4373892 of 4373892 bytes (100.0%,    0.0s remaining) ...done. (4 seconds, 0 min)\n"
     ]
    },
    {
     "name": "stdout",
     "output_type": "stream",
     "text": [
      "Downloading data from https://ndownloader.figshare.com/files/6848883 ...\n"
     ]
    },
    {
     "name": "stderr",
     "output_type": "stream",
     "text": [
      "\r",
      "Downloaded 24067 of 24067 bytes (100.0%,    0.0s remaining) ...done. (1 seconds, 0 min)\n",
      "Extracting data from /home/aalbury/nilearn_data/cobre/65680433eec49f74a40b9c90b635a886/fmri_0040119.tsv.gz..... done.\n"
     ]
    },
    {
     "name": "stdout",
     "output_type": "stream",
     "text": [
      "Downloading data from https://ndownloader.figshare.com/files/6848286 ...\n"
     ]
    },
    {
     "name": "stderr",
     "output_type": "stream",
     "text": [
      "Downloaded 4562442 of 4562442 bytes (100.0%,    0.0s remaining) ...done. (4 seconds, 0 min)\n"
     ]
    },
    {
     "name": "stdout",
     "output_type": "stream",
     "text": [
      "Downloading data from https://ndownloader.figshare.com/files/6848289 ...\n"
     ]
    },
    {
     "name": "stderr",
     "output_type": "stream",
     "text": [
      "\r",
      "Downloaded 24135 of 24135 bytes (100.0%,    0.0s remaining) ...done. (1 seconds, 0 min)\n",
      "Extracting data from /home/aalbury/nilearn_data/cobre/15fa0b569d31f9615f4d6cae22c52117/fmri_0040018.tsv.gz..... done.\n"
     ]
    },
    {
     "name": "stdout",
     "output_type": "stream",
     "text": [
      "Downloading data from https://ndownloader.figshare.com/files/6848862 ...\n"
     ]
    },
    {
     "name": "stderr",
     "output_type": "stream",
     "text": [
      "Downloaded 4586293 of 4586293 bytes (100.0%,    0.0s remaining) ...done. (10 seconds, 0 min)\n"
     ]
    },
    {
     "name": "stdout",
     "output_type": "stream",
     "text": [
      "Downloading data from https://ndownloader.figshare.com/files/6848865 ...\n"
     ]
    },
    {
     "name": "stderr",
     "output_type": "stream",
     "text": [
      "\r",
      "Downloaded 24046 of 24046 bytes (100.0%,    0.0s remaining) ...done. (2 seconds, 0 min)\n",
      "Extracting data from /home/aalbury/nilearn_data/cobre/3f32a4ac9d612349bbbb73c3ee75c107/fmri_0040116.tsv.gz..... done.\n"
     ]
    },
    {
     "name": "stdout",
     "output_type": "stream",
     "text": [
      "Downloading data from https://ndownloader.figshare.com/files/6848946 ...\n"
     ]
    },
    {
     "name": "stderr",
     "output_type": "stream",
     "text": [
      "Downloaded 4515203 of 4515203 bytes (100.0%,    0.0s remaining) ...done. (11 seconds, 0 min)\n"
     ]
    },
    {
     "name": "stdout",
     "output_type": "stream",
     "text": [
      "Downloading data from https://ndownloader.figshare.com/files/6848949 ...\n"
     ]
    },
    {
     "name": "stderr",
     "output_type": "stream",
     "text": [
      "\r",
      "Downloaded 23973 of 23973 bytes (100.0%,    0.0s remaining) ...done. (1 seconds, 0 min)\n",
      "Extracting data from /home/aalbury/nilearn_data/cobre/c9bee9f65ea2449097832fcf5a19bb97/fmri_0040130.tsv.gz..... done.\n"
     ]
    },
    {
     "name": "stdout",
     "output_type": "stream",
     "text": [
      "Downloading data from https://ndownloader.figshare.com/files/6848952 ...\n"
     ]
    },
    {
     "name": "stderr",
     "output_type": "stream",
     "text": [
      "Downloaded 4460774 of 4460774 bytes (100.0%,    0.0s remaining) ...done. (10 seconds, 0 min)\n"
     ]
    },
    {
     "name": "stdout",
     "output_type": "stream",
     "text": [
      "Downloading data from https://ndownloader.figshare.com/files/6848955 ...\n"
     ]
    },
    {
     "name": "stderr",
     "output_type": "stream",
     "text": [
      "\r",
      "Downloaded 24038 of 24038 bytes (100.0%,    0.0s remaining) ...done. (1 seconds, 0 min)\n",
      "Extracting data from /home/aalbury/nilearn_data/cobre/684382e28c0fbbe89d31718317e2734b/fmri_0040131.tsv.gz..... done.\n"
     ]
    },
    {
     "name": "stdout",
     "output_type": "stream",
     "text": [
      "Downloading data from https://ndownloader.figshare.com/files/6848316 ...\n"
     ]
    },
    {
     "name": "stderr",
     "output_type": "stream",
     "text": [
      "Downloaded 4528051 of 4528051 bytes (100.0%,    0.0s remaining) ...done. (12 seconds, 0 min)\n"
     ]
    },
    {
     "name": "stdout",
     "output_type": "stream",
     "text": [
      "Downloading data from https://ndownloader.figshare.com/files/6848319 ...\n"
     ]
    },
    {
     "name": "stderr",
     "output_type": "stream",
     "text": [
      "\r",
      "Downloaded 24004 of 24004 bytes (100.0%,    0.0s remaining) ...done. (1 seconds, 0 min)\n",
      "Extracting data from /home/aalbury/nilearn_data/cobre/ac1cdf7fb3b9387d25a908df52ad1d66/fmri_0040023.tsv.gz..... done.\n"
     ]
    },
    {
     "name": "stdout",
     "output_type": "stream",
     "text": [
      "Downloading data from https://ndownloader.figshare.com/files/6848340 ...\n"
     ]
    },
    {
     "name": "stderr",
     "output_type": "stream",
     "text": [
      "Downloaded 4388669 of 4388669 bytes (100.0%,    0.0s remaining) ...done. (9 seconds, 0 min)\n"
     ]
    },
    {
     "name": "stdout",
     "output_type": "stream",
     "text": [
      "Downloading data from https://ndownloader.figshare.com/files/6848343 ...\n"
     ]
    },
    {
     "name": "stderr",
     "output_type": "stream",
     "text": [
      "\r",
      "Downloaded 23976 of 23976 bytes (100.0%,    0.0s remaining) ...done. (1 seconds, 0 min)\n",
      "Extracting data from /home/aalbury/nilearn_data/cobre/5ef41fda8564bf964332d3bb5c6f178f/fmri_0040027.tsv.gz..... done.\n"
     ]
    },
    {
     "name": "stdout",
     "output_type": "stream",
     "text": [
      "Downloading data from https://ndownloader.figshare.com/files/6848904 ...\n"
     ]
    },
    {
     "name": "stderr",
     "output_type": "stream",
     "text": [
      "Downloaded 4517561 of 4517561 bytes (100.0%,    0.0s remaining) ...done. (7 seconds, 0 min)\n"
     ]
    },
    {
     "name": "stdout",
     "output_type": "stream",
     "text": [
      "Downloading data from https://ndownloader.figshare.com/files/6848907 ...\n"
     ]
    },
    {
     "name": "stderr",
     "output_type": "stream",
     "text": [
      "\r",
      "Downloaded 24148 of 24148 bytes (100.0%,    0.0s remaining) ...done. (1 seconds, 0 min)\n",
      "Extracting data from /home/aalbury/nilearn_data/cobre/b7fc4019d9eabc78bb1a92a55f55d262/fmri_0040123.tsv.gz..... done.\n"
     ]
    },
    {
     "name": "stdout",
     "output_type": "stream",
     "text": [
      "Downloading data from https://ndownloader.figshare.com/files/6848916 ...\n"
     ]
    },
    {
     "name": "stderr",
     "output_type": "stream",
     "text": [
      "Downloaded 4432653 of 4432653 bytes (100.0%,    0.0s remaining) ...done. (6 seconds, 0 min)\n"
     ]
    },
    {
     "name": "stdout",
     "output_type": "stream",
     "text": [
      "Downloading data from https://ndownloader.figshare.com/files/6848919 ...\n"
     ]
    },
    {
     "name": "stderr",
     "output_type": "stream",
     "text": [
      "\r",
      "Downloaded 24103 of 24103 bytes (100.0%,    0.0s remaining) ...done. (1 seconds, 0 min)\n",
      "Extracting data from /home/aalbury/nilearn_data/cobre/a3b4301367112991b3d6ef706de2a9ef/fmri_0040125.tsv.gz..... done.\n"
     ]
    },
    {
     "name": "stdout",
     "output_type": "stream",
     "text": [
      "Downloading data from https://ndownloader.figshare.com/files/6848550 ...\n"
     ]
    },
    {
     "name": "stderr",
     "output_type": "stream",
     "text": [
      "Downloaded 4270467 of 4270467 bytes (100.0%,    0.0s remaining) ...done. (4 seconds, 0 min)\n"
     ]
    },
    {
     "name": "stdout",
     "output_type": "stream",
     "text": [
      "Downloading data from https://ndownloader.figshare.com/files/6848553 ...\n"
     ]
    },
    {
     "name": "stderr",
     "output_type": "stream",
     "text": [
      "\r",
      "Downloaded 23898 of 23898 bytes (100.0%,    0.0s remaining) ...done. (1 seconds, 0 min)\n",
      "Extracting data from /home/aalbury/nilearn_data/cobre/48cef84d830ccc4b708e606c20c56761/fmri_0040062.tsv.gz..... done.\n"
     ]
    },
    {
     "name": "stdout",
     "output_type": "stream",
     "text": [
      "Downloading data from https://ndownloader.figshare.com/files/6848502 ...\n"
     ]
    },
    {
     "name": "stderr",
     "output_type": "stream",
     "text": [
      "Downloaded 4488285 of 4488285 bytes (100.0%,    0.0s remaining) ...done. (4 seconds, 0 min)\n"
     ]
    },
    {
     "name": "stdout",
     "output_type": "stream",
     "text": [
      "Downloading data from https://ndownloader.figshare.com/files/6848505 ...\n"
     ]
    },
    {
     "name": "stderr",
     "output_type": "stream",
     "text": [
      "\r",
      "Downloaded 24271 of 24271 bytes (100.0%,    0.0s remaining) ...done. (1 seconds, 0 min)\n",
      "Extracting data from /home/aalbury/nilearn_data/cobre/80fa1b55c99e04d0239326e471f79878/fmri_0040054.tsv.gz..... done.\n"
     ]
    },
    {
     "name": "stdout",
     "output_type": "stream",
     "text": [
      "Downloading data from https://ndownloader.figshare.com/files/6848628 ...\n"
     ]
    },
    {
     "name": "stderr",
     "output_type": "stream",
     "text": [
      "Downloaded 4500368 of 4500368 bytes (100.0%,    0.0s remaining) ...done. (6 seconds, 0 min)\n"
     ]
    },
    {
     "name": "stdout",
     "output_type": "stream",
     "text": [
      "Downloading data from https://ndownloader.figshare.com/files/6848631 ...\n"
     ]
    },
    {
     "name": "stderr",
     "output_type": "stream",
     "text": [
      "\r",
      "Downloaded 24162 of 24162 bytes (100.0%,    0.0s remaining) ...done. (1 seconds, 0 min)\n",
      "Extracting data from /home/aalbury/nilearn_data/cobre/55a4b038c00fd66969b6200a66bdf8bc/fmri_0040076.tsv.gz..... done.\n"
     ]
    },
    {
     "name": "stdout",
     "output_type": "stream",
     "text": [
      "Downloading data from https://ndownloader.figshare.com/files/6848406 ...\n"
     ]
    },
    {
     "name": "stderr",
     "output_type": "stream",
     "text": [
      "Downloaded 4490986 of 4490986 bytes (100.0%,    0.0s remaining) ...done. (4 seconds, 0 min)\n"
     ]
    },
    {
     "name": "stdout",
     "output_type": "stream",
     "text": [
      "Downloading data from https://ndownloader.figshare.com/files/6848409 ...\n"
     ]
    },
    {
     "name": "stderr",
     "output_type": "stream",
     "text": [
      "\r",
      "Downloaded 24070 of 24070 bytes (100.0%,    0.0s remaining) ...done. (1 seconds, 0 min)\n",
      "Extracting data from /home/aalbury/nilearn_data/cobre/872bb5f066fc85b420bd4ee19708cce2/fmri_0040038.tsv.gz..... done.\n"
     ]
    },
    {
     "name": "stdout",
     "output_type": "stream",
     "text": [
      "Downloading data from https://ndownloader.figshare.com/files/6849006 ...\n"
     ]
    },
    {
     "name": "stderr",
     "output_type": "stream",
     "text": [
      "Downloaded 4469398 of 4469398 bytes (100.0%,    0.0s remaining) ...done. (6 seconds, 0 min)\n"
     ]
    },
    {
     "name": "stdout",
     "output_type": "stream",
     "text": [
      "Downloading data from https://ndownloader.figshare.com/files/6849009 ...\n"
     ]
    },
    {
     "name": "stderr",
     "output_type": "stream",
     "text": [
      "\r",
      "Downloaded 23952 of 23952 bytes (100.0%,    0.0s remaining) ...done. (1 seconds, 0 min)\n",
      "Extracting data from /home/aalbury/nilearn_data/cobre/4f6b1d4e4494ff5a65b79a421cce5cc2/fmri_0040140.tsv.gz..... done.\n"
     ]
    },
    {
     "name": "stdout",
     "output_type": "stream",
     "text": [
      "Downloading data from https://ndownloader.figshare.com/files/6849030 ...\n"
     ]
    },
    {
     "name": "stderr",
     "output_type": "stream",
     "text": [
      "Downloaded 4570622 of 4570622 bytes (100.0%,    0.0s remaining) ...done. (18 seconds, 0 min)\n"
     ]
    },
    {
     "name": "stdout",
     "output_type": "stream",
     "text": [
      "Downloading data from https://ndownloader.figshare.com/files/6849033 ...\n"
     ]
    },
    {
     "name": "stderr",
     "output_type": "stream",
     "text": [
      "\r",
      "Downloaded 24074 of 24074 bytes (100.0%,    0.0s remaining) ...done. (1 seconds, 0 min)\n",
      "Extracting data from /home/aalbury/nilearn_data/cobre/72e1972585f10b4fbfb3fea4dd65c708/fmri_0040144.tsv.gz..... done.\n"
     ]
    },
    {
     "name": "stdout",
     "output_type": "stream",
     "text": [
      "Downloading data from https://ndownloader.figshare.com/files/6848592 ...\n"
     ]
    },
    {
     "name": "stderr",
     "output_type": "stream",
     "text": [
      "Downloaded 4616872 of 4616872 bytes (100.0%,    0.0s remaining) ...done. (7 seconds, 0 min)\n"
     ]
    },
    {
     "name": "stdout",
     "output_type": "stream",
     "text": [
      "Downloading data from https://ndownloader.figshare.com/files/6848595 ...\n"
     ]
    },
    {
     "name": "stderr",
     "output_type": "stream",
     "text": [
      "\r",
      "Downloaded 24139 of 24139 bytes (100.0%,    0.0s remaining) ...done. (1 seconds, 0 min)\n",
      "Extracting data from /home/aalbury/nilearn_data/cobre/be47f798e4acd10ae7b242401b2f7a63/fmri_0040069.tsv.gz..... done.\n"
     ]
    },
    {
     "name": "stdout",
     "output_type": "stream",
     "text": [
      "Downloading data from https://ndownloader.figshare.com/files/6848832 ...\n"
     ]
    },
    {
     "name": "stderr",
     "output_type": "stream",
     "text": [
      "Downloaded 4503940 of 4503940 bytes (100.0%,    0.0s remaining) ...done. (5 seconds, 0 min)\n"
     ]
    },
    {
     "name": "stdout",
     "output_type": "stream",
     "text": [
      "Downloading data from https://ndownloader.figshare.com/files/6848835 ...\n"
     ]
    },
    {
     "name": "stderr",
     "output_type": "stream",
     "text": [
      "\r",
      "Downloaded 24087 of 24087 bytes (100.0%,    0.0s remaining) ...done. (1 seconds, 0 min)\n",
      "Extracting data from /home/aalbury/nilearn_data/cobre/c5d2073d953d5ce3aa84b6344c27ad31/fmri_0040111.tsv.gz..... done.\n"
     ]
    },
    {
     "name": "stdout",
     "output_type": "stream",
     "text": [
      "Downloading data from https://ndownloader.figshare.com/files/6848574 ...\n"
     ]
    },
    {
     "name": "stderr",
     "output_type": "stream",
     "text": [
      "Downloaded 4630617 of 4630617 bytes (100.0%,    0.0s remaining) ...done. (4 seconds, 0 min)\n"
     ]
    },
    {
     "name": "stdout",
     "output_type": "stream",
     "text": [
      "Downloading data from https://ndownloader.figshare.com/files/6848577 ...\n"
     ]
    },
    {
     "name": "stderr",
     "output_type": "stream",
     "text": [
      "\r",
      "Downloaded 24174 of 24174 bytes (100.0%,    0.0s remaining) ...done. (1 seconds, 0 min)\n",
      "Extracting data from /home/aalbury/nilearn_data/cobre/b17b358bde184b3622f63cbda9c959a3/fmri_0040066.tsv.gz..... done.\n"
     ]
    },
    {
     "name": "stdout",
     "output_type": "stream",
     "text": [
      "Downloading data from https://ndownloader.figshare.com/files/6848682 ...\n"
     ]
    },
    {
     "name": "stderr",
     "output_type": "stream",
     "text": [
      "Downloaded 4638932 of 4638932 bytes (100.0%,    0.0s remaining) ...done. (6 seconds, 0 min)\n"
     ]
    },
    {
     "name": "stdout",
     "output_type": "stream",
     "text": [
      "Downloading data from https://ndownloader.figshare.com/files/6848685 ...\n"
     ]
    },
    {
     "name": "stderr",
     "output_type": "stream",
     "text": [
      "\r",
      "Downloaded 24044 of 24044 bytes (100.0%,    0.0s remaining) ...done. (1 seconds, 0 min)\n",
      "Extracting data from /home/aalbury/nilearn_data/cobre/46a0292e04917d03a6ce9f981944d6fa/fmri_0040086.tsv.gz..... done.\n"
     ]
    }
   ],
   "source": [
    "#import data\n",
    "from nilearn import datasets\n",
    "data = datasets.fetch_cobre(n_subjects=None)"
   ]
  },
  {
   "cell_type": "code",
   "execution_count": 30,
   "metadata": {},
   "outputs": [],
   "source": [
    "#import phenotypic data\n",
    "import pandas\n",
    "pheno = pandas.DataFrame(data.phenotypic)"
   ]
  },
  {
   "cell_type": "code",
   "execution_count": 31,
   "metadata": {},
   "outputs": [],
   "source": [
    "#extract participant id from file paths\n",
    "file_names = []\n",
    "for path in data.func:\n",
    "    \n",
    "    file_names.append(path[40:45])"
   ]
  },
  {
   "cell_type": "code",
   "execution_count": 32,
   "metadata": {},
   "outputs": [],
   "source": [
    "#create dataframe of file paths and ids\n",
    "files = pandas.DataFrame(data.func, columns = ['path'])\n",
    "files['id'] = file_names\n",
    "files['id'] = files.id.astype(int)"
   ]
  },
  {
   "cell_type": "code",
   "execution_count": 33,
   "metadata": {},
   "outputs": [],
   "source": [
    "#merge phenotypic data with file paths\n",
    "import pandas\n",
    "pheno = pandas.merge(pheno, files, on = 'id')\n",
    "#fix string decoding\n",
    "pheno['gender'] = pheno['gender'].map(lambda x: x.decode('utf-8'))\n",
    "pheno['handedness'] = pheno['handedness'].map(lambda x: x.decode('utf-8'))\n",
    "pheno['subject_type'] = pheno['subject_type'].map(lambda x: x.decode('utf-8'))\n",
    "pheno['diagnosis'] = pheno['diagnosis'].map(lambda x: x.decode('utf-8'))"
   ]
  },
  {
   "cell_type": "code",
   "execution_count": null,
   "metadata": {},
   "outputs": [],
   "source": []
  },
  {
   "cell_type": "code",
   "execution_count": 34,
   "metadata": {},
   "outputs": [
    {
     "data": {
      "text/html": [
       "<div>\n",
       "<style scoped>\n",
       "    .dataframe tbody tr th:only-of-type {\n",
       "        vertical-align: middle;\n",
       "    }\n",
       "\n",
       "    .dataframe tbody tr th {\n",
       "        vertical-align: top;\n",
       "    }\n",
       "\n",
       "    .dataframe thead th {\n",
       "        text-align: right;\n",
       "    }\n",
       "</style>\n",
       "<table border=\"1\" class=\"dataframe\">\n",
       "  <thead>\n",
       "    <tr style=\"text-align: right;\">\n",
       "      <th></th>\n",
       "      <th>id</th>\n",
       "      <th>current_age</th>\n",
       "      <th>gender</th>\n",
       "      <th>handedness</th>\n",
       "      <th>subject_type</th>\n",
       "      <th>diagnosis</th>\n",
       "      <th>frames_ok</th>\n",
       "      <th>fd</th>\n",
       "      <th>fd_scrubbed</th>\n",
       "      <th>path</th>\n",
       "    </tr>\n",
       "  </thead>\n",
       "  <tbody>\n",
       "    <tr>\n",
       "      <th>0</th>\n",
       "      <td>40061</td>\n",
       "      <td>18</td>\n",
       "      <td>Male</td>\n",
       "      <td>Right</td>\n",
       "      <td>Control</td>\n",
       "      <td>None</td>\n",
       "      <td>133</td>\n",
       "      <td>0.25512</td>\n",
       "      <td>0.22657</td>\n",
       "      <td>/home/aalbury/nilearn_data/cobre/fmri_0040061....</td>\n",
       "    </tr>\n",
       "    <tr>\n",
       "      <th>1</th>\n",
       "      <td>40090</td>\n",
       "      <td>18</td>\n",
       "      <td>Female</td>\n",
       "      <td>Right</td>\n",
       "      <td>Control</td>\n",
       "      <td>None</td>\n",
       "      <td>150</td>\n",
       "      <td>0.16963</td>\n",
       "      <td>0.16963</td>\n",
       "      <td>/home/aalbury/nilearn_data/cobre/fmri_0040090....</td>\n",
       "    </tr>\n",
       "    <tr>\n",
       "      <th>2</th>\n",
       "      <td>40046</td>\n",
       "      <td>18</td>\n",
       "      <td>Male</td>\n",
       "      <td>Left</td>\n",
       "      <td>Patient</td>\n",
       "      <td>295.70 depressed type</td>\n",
       "      <td>76</td>\n",
       "      <td>0.37504</td>\n",
       "      <td>0.30042</td>\n",
       "      <td>/home/aalbury/nilearn_data/cobre/fmri_0040046....</td>\n",
       "    </tr>\n",
       "    <tr>\n",
       "      <th>3</th>\n",
       "      <td>40002</td>\n",
       "      <td>19</td>\n",
       "      <td>Male</td>\n",
       "      <td>Right</td>\n",
       "      <td>Patient</td>\n",
       "      <td>295.3</td>\n",
       "      <td>67</td>\n",
       "      <td>0.40006</td>\n",
       "      <td>0.21575</td>\n",
       "      <td>/home/aalbury/nilearn_data/cobre/fmri_0040002....</td>\n",
       "    </tr>\n",
       "    <tr>\n",
       "      <th>4</th>\n",
       "      <td>40117</td>\n",
       "      <td>19</td>\n",
       "      <td>Male</td>\n",
       "      <td>Right</td>\n",
       "      <td>Patient</td>\n",
       "      <td>295.3</td>\n",
       "      <td>133</td>\n",
       "      <td>0.20975</td>\n",
       "      <td>0.18410</td>\n",
       "      <td>/home/aalbury/nilearn_data/cobre/fmri_0040117....</td>\n",
       "    </tr>\n",
       "    <tr>\n",
       "      <th>...</th>\n",
       "      <td>...</td>\n",
       "      <td>...</td>\n",
       "      <td>...</td>\n",
       "      <td>...</td>\n",
       "      <td>...</td>\n",
       "      <td>...</td>\n",
       "      <td>...</td>\n",
       "      <td>...</td>\n",
       "      <td>...</td>\n",
       "      <td>...</td>\n",
       "    </tr>\n",
       "    <tr>\n",
       "      <th>141</th>\n",
       "      <td>40089</td>\n",
       "      <td>62</td>\n",
       "      <td>Male</td>\n",
       "      <td>Right</td>\n",
       "      <td>Patient</td>\n",
       "      <td>295.3</td>\n",
       "      <td>40</td>\n",
       "      <td>0.70368</td>\n",
       "      <td>0.72439</td>\n",
       "      <td>/home/aalbury/nilearn_data/cobre/fmri_0040089....</td>\n",
       "    </tr>\n",
       "    <tr>\n",
       "      <th>142</th>\n",
       "      <td>40040</td>\n",
       "      <td>63</td>\n",
       "      <td>Male</td>\n",
       "      <td>Right</td>\n",
       "      <td>Patient</td>\n",
       "      <td>295.3</td>\n",
       "      <td>42</td>\n",
       "      <td>0.58301</td>\n",
       "      <td>0.40646</td>\n",
       "      <td>/home/aalbury/nilearn_data/cobre/fmri_0040040....</td>\n",
       "    </tr>\n",
       "    <tr>\n",
       "      <th>143</th>\n",
       "      <td>40028</td>\n",
       "      <td>64</td>\n",
       "      <td>Male</td>\n",
       "      <td>Right</td>\n",
       "      <td>Patient</td>\n",
       "      <td>295.3</td>\n",
       "      <td>55</td>\n",
       "      <td>0.42364</td>\n",
       "      <td>0.26393</td>\n",
       "      <td>/home/aalbury/nilearn_data/cobre/fmri_0040028....</td>\n",
       "    </tr>\n",
       "    <tr>\n",
       "      <th>144</th>\n",
       "      <td>40086</td>\n",
       "      <td>65</td>\n",
       "      <td>Male</td>\n",
       "      <td>Right</td>\n",
       "      <td>Control</td>\n",
       "      <td>None</td>\n",
       "      <td>48</td>\n",
       "      <td>0.39595</td>\n",
       "      <td>0.32296</td>\n",
       "      <td>/home/aalbury/nilearn_data/cobre/fmri_0040086....</td>\n",
       "    </tr>\n",
       "    <tr>\n",
       "      <th>145</th>\n",
       "      <td>40007</td>\n",
       "      <td>65</td>\n",
       "      <td>Female</td>\n",
       "      <td>Right</td>\n",
       "      <td>Patient</td>\n",
       "      <td>295.3</td>\n",
       "      <td>40</td>\n",
       "      <td>0.70044</td>\n",
       "      <td>0.72077</td>\n",
       "      <td>/home/aalbury/nilearn_data/cobre/fmri_0040007....</td>\n",
       "    </tr>\n",
       "  </tbody>\n",
       "</table>\n",
       "<p>146 rows × 10 columns</p>\n",
       "</div>"
      ],
      "text/plain": [
       "        id  current_age  gender handedness subject_type  \\\n",
       "0    40061           18    Male      Right      Control   \n",
       "1    40090           18  Female      Right      Control   \n",
       "2    40046           18    Male       Left      Patient   \n",
       "3    40002           19    Male      Right      Patient   \n",
       "4    40117           19    Male      Right      Patient   \n",
       "..     ...          ...     ...        ...          ...   \n",
       "141  40089           62    Male      Right      Patient   \n",
       "142  40040           63    Male      Right      Patient   \n",
       "143  40028           64    Male      Right      Patient   \n",
       "144  40086           65    Male      Right      Control   \n",
       "145  40007           65  Female      Right      Patient   \n",
       "\n",
       "                 diagnosis  frames_ok       fd  fd_scrubbed  \\\n",
       "0                     None        133  0.25512      0.22657   \n",
       "1                     None        150  0.16963      0.16963   \n",
       "2    295.70 depressed type         76  0.37504      0.30042   \n",
       "3                    295.3         67  0.40006      0.21575   \n",
       "4                    295.3        133  0.20975      0.18410   \n",
       "..                     ...        ...      ...          ...   \n",
       "141                  295.3         40  0.70368      0.72439   \n",
       "142                  295.3         42  0.58301      0.40646   \n",
       "143                  295.3         55  0.42364      0.26393   \n",
       "144                   None         48  0.39595      0.32296   \n",
       "145                  295.3         40  0.70044      0.72077   \n",
       "\n",
       "                                                  path  \n",
       "0    /home/aalbury/nilearn_data/cobre/fmri_0040061....  \n",
       "1    /home/aalbury/nilearn_data/cobre/fmri_0040090....  \n",
       "2    /home/aalbury/nilearn_data/cobre/fmri_0040046....  \n",
       "3    /home/aalbury/nilearn_data/cobre/fmri_0040002....  \n",
       "4    /home/aalbury/nilearn_data/cobre/fmri_0040117....  \n",
       "..                                                 ...  \n",
       "141  /home/aalbury/nilearn_data/cobre/fmri_0040089....  \n",
       "142  /home/aalbury/nilearn_data/cobre/fmri_0040040....  \n",
       "143  /home/aalbury/nilearn_data/cobre/fmri_0040028....  \n",
       "144  /home/aalbury/nilearn_data/cobre/fmri_0040086....  \n",
       "145  /home/aalbury/nilearn_data/cobre/fmri_0040007....  \n",
       "\n",
       "[146 rows x 10 columns]"
      ]
     },
     "execution_count": 34,
     "metadata": {},
     "output_type": "execute_result"
    }
   ],
   "source": [
    "pheno"
   ]
  },
  {
   "cell_type": "code",
   "execution_count": 35,
   "metadata": {},
   "outputs": [],
   "source": [
    "#create lists of filepaths for patients and controls\n",
    "patients = []\n",
    "controls = []\n",
    "\n",
    "for i in pheno.index:\n",
    "    if pheno.loc[i, 'subject_type']=='Patient':\n",
    "    \n",
    "        patients.append(pheno.loc[i, 'path'])\n",
    "    else:\n",
    "        controls.append(pheno.loc[i, 'path'])\n"
   ]
  },
  {
   "cell_type": "code",
   "execution_count": 9,
   "metadata": {},
   "outputs": [
    {
     "data": {
      "text/plain": [
       "['/home/aalbury/nilearn_data/cobre/fmri_0040046.nii.gz',\n",
       " '/home/aalbury/nilearn_data/cobre/fmri_0040002.nii.gz',\n",
       " '/home/aalbury/nilearn_data/cobre/fmri_0040117.nii.gz',\n",
       " '/home/aalbury/nilearn_data/cobre/fmri_0040145.nii.gz',\n",
       " '/home/aalbury/nilearn_data/cobre/fmri_0040000.nii.gz']"
      ]
     },
     "execution_count": 9,
     "metadata": {},
     "output_type": "execute_result"
    }
   ],
   "source": [
    "#patients"
   ]
  },
  {
   "cell_type": "code",
   "execution_count": 36,
   "metadata": {},
   "outputs": [
    {
     "data": {
      "text/html": [
       "<iframe srcdoc=\"&lt;!DOCTYPE html&gt;\r\n",
       "&lt;html lang=&quot;en&quot;&gt;\r\n",
       "&lt;head&gt;\r\n",
       "    &lt;title&gt;Slice viewer&lt;/title&gt;\r\n",
       "    &lt;meta charset=&quot;UTF-8&quot; /&gt;\r\n",
       "&lt;/head&gt;\r\n",
       "&lt;body&gt;\r\n",
       "  &lt;div id=&quot;div_viewer&quot;&gt;\r\n",
       "    &lt;!-- this is the canvas that will feature the brain slices --&gt;\r\n",
       "    &lt;canvas id=&quot;3Dviewer&quot;&gt;\r\n",
       "    &lt;!-- load a hidden version of the sprite image that includes all (sagital) brain slices --&gt;\r\n",
       "    &lt;img id=&quot;spriteImg&quot; class=&quot;hidden&quot; src=&quot;data:image/png;base64,iVBORw0KGgoAAAANSUhEUgAAAKAAAACcCAYAAAD4d6D7AAAABHNCSVQICAgIfAhkiAAAAAlwSFlzAAAPYQAAD2EBqD+naQAAAaNJREFUeJzt0jEBwDAAw7Cs/Dl3MHxUQuDD37Y7iJw6gLcZkJQBSRmQlAFJGZCUAUkZkJQBSRmQlAFJGZCUAUkZkJQBSRmQlAFJGZCUAUkZkJQBSRmQlAFJGZCUAUkZkJQBSRmQlAFJGZCUAUkZkJQBSRmQlAFJGZCUAUkZkJQBSRmQlAFJGZCUAUkZkJQBSRmQlAFJGZCUAUkZkJQBSRmQlAFJGZCUAUkZkJQBSRmQlAFJGZCUAUkZkJQBSRmQlAFJGZCUAUkZkJQBSRmQlAFJGZCUAUkZkJQBSRmQlAFJGZCUAUkZkJQBSRmQlAFJGZCUAUkZkJQBSRmQlAFJGZCUAUkZkJQBSRmQlAFJGZCUAUkZkJQBSRmQlAFJGZCUAUkZkJQBSRmQlAFJGZCUAUkZkJQBSRmQlAFJGZCUAUkZkJQBSRmQlAFJGZCUAUkZkJQBSRmQlAFJGZCUAUkZkJQBSRmQlAFJGZCUAUkZkJQBSRmQlAFJGZCUAUkZkJQBSRmQlAFJGZCUAUkZkJQBSRmQlAFJGZCUAUkZkJQBSRmQlAFJ/cPgAjdjfpkkAAAAAElFTkSuQmCC&quot; alt=&quot;background&quot; /&gt;\r\n",
       "    &lt;!-- the colormap --&gt;\r\n",
       "    &lt;img id=&quot;colorMap&quot; class=&quot;hidden&quot; src=&quot;data:image/png;base64,iVBORw0KGgoAAAANSUhEUgAAAQAAAAABCAYAAAAxWXB3AAAABHNCSVQICAgIfAhkiAAAAAlwSFlzAAAPYQAAD2EBqD+naQAAAFFJREFUOI1j/P////8fDAwM+PBPGsv/+8PAwPAbin8hsanBp4WZGHb8p6Nl1OXzMnxmYGVggGM2JPZg5zOy0tlyapvJwsTAwMCBB7PTWJ6DAQBRAoX+RFTJXQAAAABJRU5ErkJggg==&quot; alt=&quot;colormap&quot;&gt;\r\n",
       "    &lt;!-- another sprite image, with an overlay--&gt;\r\n",
       "    &lt;img id=&quot;overlayImg&quot; class=&quot;hidden&quot; src=&quot;data:image/png;base64,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&quot; alt=&quot;overlay&quot;&gt;\r\n",
       "    &lt;/canvas&gt;\r\n",
       "  &lt;/div&gt;\r\n",
       "\r\n",
       "  &lt;script&gt;\r\n",
       "    /*! jQuery v3.3.1 | (c) JS Foundation and other contributors | jquery.org/license */\n",
       "!function(e,t){&quot;use strict&quot;;&quot;object&quot;==typeof module&amp;&amp;&quot;object&quot;==typeof module.exports?module.exports=e.document?t(e,!0):function(e){if(!e.document)throw new Error(&quot;jQuery requires a window with a document&quot;);return t(e)}:t(e)}(&quot;undefined&quot;!=typeof window?window:this,function(e,t){&quot;use strict&quot;;var n=[],r=e.document,i=Object.getPrototypeOf,o=n.slice,a=n.concat,s=n.push,u=n.indexOf,l={},c=l.toString,f=l.hasOwnProperty,p=f.toString,d=p.call(Object),h={},g=function e(t){return&quot;function&quot;==typeof t&amp;&amp;&quot;number&quot;!=typeof t.nodeType},y=function e(t){return null!=t&amp;&amp;t===t.window},v={type:!0,src:!0,noModule:!0};function m(e,t,n){var i,o=(t=t||r).createElement(&quot;script&quot;);if(o.text=e,n)for(i in v)n[i]&amp;&amp;(o[i]=n[i]);t.head.appendChild(o).parentNode.removeChild(o)}function x(e){return null==e?e+&quot;&quot;:&quot;object&quot;==typeof e||&quot;function&quot;==typeof e?l[c.call(e)]||&quot;object&quot;:typeof e}var b=&quot;3.3.1&quot;,w=function(e,t){return new w.fn.init(e,t)},T=/^[\\s\\uFEFF\\xA0]+|[\\s\\uFEFF\\xA0]+$/g;w.fn=w.prototype={jquery:&quot;3.3.1&quot;,constructor:w,length:0,toArray:function(){return o.call(this)},get:function(e){return null==e?o.call(this):e&lt;0?this[e+this.length]:this[e]},pushStack:function(e){var t=w.merge(this.constructor(),e);return t.prevObject=this,t},each:function(e){return w.each(this,e)},map:function(e){return this.pushStack(w.map(this,function(t,n){return e.call(t,n,t)}))},slice:function(){return this.pushStack(o.apply(this,arguments))},first:function(){return this.eq(0)},last:function(){return this.eq(-1)},eq:function(e){var t=this.length,n=+e+(e&lt;0?t:0);return this.pushStack(n&gt;=0&amp;&amp;n&lt;t?[this[n]]:[])},end:function(){return this.prevObject||this.constructor()},push:s,sort:n.sort,splice:n.splice},w.extend=w.fn.extend=function(){var e,t,n,r,i,o,a=arguments[0]||{},s=1,u=arguments.length,l=!1;for(&quot;boolean&quot;==typeof a&amp;&amp;(l=a,a=arguments[s]||{},s++),&quot;object&quot;==typeof a||g(a)||(a={}),s===u&amp;&amp;(a=this,s--);s&lt;u;s++)if(null!=(e=arguments[s]))for(t in e)n=a[t],a!==(r=e[t])&amp;&amp;(l&amp;&amp;r&amp;&amp;(w.isPlainObject(r)||(i=Array.isArray(r)))?(i?(i=!1,o=n&amp;&amp;Array.isArray(n)?n:[]):o=n&amp;&amp;w.isPlainObject(n)?n:{},a[t]=w.extend(l,o,r)):void 0!==r&amp;&amp;(a[t]=r));return a},w.extend({expando:&quot;jQuery&quot;+(&quot;3.3.1&quot;+Math.random()).replace(/\\D/g,&quot;&quot;),isReady:!0,error:function(e){throw new Error(e)},noop:function(){},isPlainObject:function(e){var t,n;return!(!e||&quot;[object Object]&quot;!==c.call(e))&amp;&amp;(!(t=i(e))||&quot;function&quot;==typeof(n=f.call(t,&quot;constructor&quot;)&amp;&amp;t.constructor)&amp;&amp;p.call(n)===d)},isEmptyObject:function(e){var t;for(t in e)return!1;return!0},globalEval:function(e){m(e)},each:function(e,t){var n,r=0;if(C(e)){for(n=e.length;r&lt;n;r++)if(!1===t.call(e[r],r,e[r]))break}else for(r in e)if(!1===t.call(e[r],r,e[r]))break;return e},trim:function(e){return null==e?&quot;&quot;:(e+&quot;&quot;).replace(T,&quot;&quot;)},makeArray:function(e,t){var n=t||[];return null!=e&amp;&amp;(C(Object(e))?w.merge(n,&quot;string&quot;==typeof e?[e]:e):s.call(n,e)),n},inArray:function(e,t,n){return null==t?-1:u.call(t,e,n)},merge:function(e,t){for(var n=+t.length,r=0,i=e.length;r&lt;n;r++)e[i++]=t[r];return e.length=i,e},grep:function(e,t,n){for(var r,i=[],o=0,a=e.length,s=!n;o&lt;a;o++)(r=!t(e[o],o))!==s&amp;&amp;i.push(e[o]);return i},map:function(e,t,n){var r,i,o=0,s=[];if(C(e))for(r=e.length;o&lt;r;o++)null!=(i=t(e[o],o,n))&amp;&amp;s.push(i);else for(o in e)null!=(i=t(e[o],o,n))&amp;&amp;s.push(i);return a.apply([],s)},guid:1,support:h}),&quot;function&quot;==typeof Symbol&amp;&amp;(w.fn[Symbol.iterator]=n[Symbol.iterator]),w.each(&quot;Boolean Number String Function Array Date RegExp Object Error Symbol&quot;.split(&quot; &quot;),function(e,t){l[&quot;[object &quot;+t+&quot;]&quot;]=t.toLowerCase()});function C(e){var t=!!e&amp;&amp;&quot;length&quot;in e&amp;&amp;e.length,n=x(e);return!g(e)&amp;&amp;!y(e)&amp;&amp;(&quot;array&quot;===n||0===t||&quot;number&quot;==typeof t&amp;&amp;t&gt;0&amp;&amp;t-1 in e)}var E=function(e){var t,n,r,i,o,a,s,u,l,c,f,p,d,h,g,y,v,m,x,b=&quot;sizzle&quot;+1*new Date,w=e.document,T=0,C=0,E=ae(),k=ae(),S=ae(),D=function(e,t){return e===t&amp;&amp;(f=!0),0},N={}.hasOwnProperty,A=[],j=A.pop,q=A.push,L=A.push,H=A.slice,O=function(e,t){for(var n=0,r=e.length;n&lt;r;n++)if(e[n]===t)return n;return-1},P=&quot;checked|selected|async|autofocus|autoplay|controls|defer|disabled|hidden|ismap|loop|multiple|open|readonly|required|scoped&quot;,M=&quot;[\\\\x20\\\\t\\\\r\\\\n\\\\f]&quot;,R=&quot;(?:\\\\\\\\.|[\\\\w-]|[^\\0-\\\\xa0])+&quot;,I=&quot;\\\\[&quot;+M+&quot;*(&quot;+R+&quot;)(?:&quot;+M+&quot;*([*^$|!~]?=)&quot;+M+&quot;*(?:&#x27;((?:\\\\\\\\.|[^\\\\\\\\&#x27;])*)&#x27;|\\&quot;((?:\\\\\\\\.|[^\\\\\\\\\\&quot;])*)\\&quot;|(&quot;+R+&quot;))|)&quot;+M+&quot;*\\\\]&quot;,W=&quot;:(&quot;+R+&quot;)(?:\\\\(((&#x27;((?:\\\\\\\\.|[^\\\\\\\\&#x27;])*)&#x27;|\\&quot;((?:\\\\\\\\.|[^\\\\\\\\\\&quot;])*)\\&quot;)|((?:\\\\\\\\.|[^\\\\\\\\()[\\\\]]|&quot;+I+&quot;)*)|.*)\\\\)|)&quot;,$=new RegExp(M+&quot;+&quot;,&quot;g&quot;),B=new RegExp(&quot;^&quot;+M+&quot;+|((?:^|[^\\\\\\\\])(?:\\\\\\\\.)*)&quot;+M+&quot;+$&quot;,&quot;g&quot;),F=new RegExp(&quot;^&quot;+M+&quot;*,&quot;+M+&quot;*&quot;),_=new RegExp(&quot;^&quot;+M+&quot;*([&gt;+~]|&quot;+M+&quot;)&quot;+M+&quot;*&quot;),z=new RegExp(&quot;=&quot;+M+&quot;*([^\\\\]&#x27;\\&quot;]*?)&quot;+M+&quot;*\\\\]&quot;,&quot;g&quot;),X=new RegExp(W),U=new RegExp(&quot;^&quot;+R+&quot;$&quot;),V={ID:new RegExp(&quot;^#(&quot;+R+&quot;)&quot;),CLASS:new RegExp(&quot;^\\\\.(&quot;+R+&quot;)&quot;),TAG:new RegExp(&quot;^(&quot;+R+&quot;|[*])&quot;),ATTR:new RegExp(&quot;^&quot;+I),PSEUDO:new RegExp(&quot;^&quot;+W),CHILD:new RegExp(&quot;^:(only|first|last|nth|nth-last)-(child|of-type)(?:\\\\(&quot;+M+&quot;*(even|odd|(([+-]|)(\\\\d*)n|)&quot;+M+&quot;*(?:([+-]|)&quot;+M+&quot;*(\\\\d+)|))&quot;+M+&quot;*\\\\)|)&quot;,&quot;i&quot;),bool:new RegExp(&quot;^(?:&quot;+P+&quot;)$&quot;,&quot;i&quot;),needsContext:new RegExp(&quot;^&quot;+M+&quot;*[&gt;+~]|:(even|odd|eq|gt|lt|nth|first|last)(?:\\\\(&quot;+M+&quot;*((?:-\\\\d)?\\\\d*)&quot;+M+&quot;*\\\\)|)(?=[^-]|$)&quot;,&quot;i&quot;)},G=/^(?:input|select|textarea|button)$/i,Y=/^h\\d$/i,Q=/^[^{]+\\{\\s*\\[native \\w/,J=/^(?:#([\\w-]+)|(\\w+)|\\.([\\w-]+))$/,K=/[+~]/,Z=new RegExp(&quot;\\\\\\\\([\\\\da-f]{1,6}&quot;+M+&quot;?|(&quot;+M+&quot;)|.)&quot;,&quot;ig&quot;),ee=function(e,t,n){var r=&quot;0x&quot;+t-65536;return r!==r||n?t:r&lt;0?String.fromCharCode(r+65536):String.fromCharCode(r&gt;&gt;10|55296,1023&amp;r|56320)},te=/([\\0-\\x1f\\x7f]|^-?\\d)|^-$|[^\\0-\\x1f\\x7f-\\uFFFF\\w-]/g,ne=function(e,t){return t?&quot;\\0&quot;===e?&quot;\\ufffd&quot;:e.slice(0,-1)+&quot;\\\\&quot;+e.charCodeAt(e.length-1).toString(16)+&quot; &quot;:&quot;\\\\&quot;+e},re=function(){p()},ie=me(function(e){return!0===e.disabled&amp;&amp;(&quot;form&quot;in e||&quot;label&quot;in e)},{dir:&quot;parentNode&quot;,next:&quot;legend&quot;});try{L.apply(A=H.call(w.childNodes),w.childNodes),A[w.childNodes.length].nodeType}catch(e){L={apply:A.length?function(e,t){q.apply(e,H.call(t))}:function(e,t){var n=e.length,r=0;while(e[n++]=t[r++]);e.length=n-1}}}function oe(e,t,r,i){var o,s,l,c,f,h,v,m=t&amp;&amp;t.ownerDocument,T=t?t.nodeType:9;if(r=r||[],&quot;string&quot;!=typeof e||!e||1!==T&amp;&amp;9!==T&amp;&amp;11!==T)return r;if(!i&amp;&amp;((t?t.ownerDocument||t:w)!==d&amp;&amp;p(t),t=t||d,g)){if(11!==T&amp;&amp;(f=J.exec(e)))if(o=f[1]){if(9===T){if(!(l=t.getElementById(o)))return r;if(l.id===o)return r.push(l),r}else if(m&amp;&amp;(l=m.getElementById(o))&amp;&amp;x(t,l)&amp;&amp;l.id===o)return r.push(l),r}else{if(f[2])return L.apply(r,t.getElementsByTagName(e)),r;if((o=f[3])&amp;&amp;n.getElementsByClassName&amp;&amp;t.getElementsByClassName)return L.apply(r,t.getElementsByClassName(o)),r}if(n.qsa&amp;&amp;!S[e+&quot; &quot;]&amp;&amp;(!y||!y.test(e))){if(1!==T)m=t,v=e;else if(&quot;object&quot;!==t.nodeName.toLowerCase()){(c=t.getAttribute(&quot;id&quot;))?c=c.replace(te,ne):t.setAttribute(&quot;id&quot;,c=b),s=(h=a(e)).length;while(s--)h[s]=&quot;#&quot;+c+&quot; &quot;+ve(h[s]);v=h.join(&quot;,&quot;),m=K.test(e)&amp;&amp;ge(t.parentNode)||t}if(v)try{return L.apply(r,m.querySelectorAll(v)),r}catch(e){}finally{c===b&amp;&amp;t.removeAttribute(&quot;id&quot;)}}}return u(e.replace(B,&quot;$1&quot;),t,r,i)}function ae(){var e=[];function t(n,i){return e.push(n+&quot; &quot;)&gt;r.cacheLength&amp;&amp;delete t[e.shift()],t[n+&quot; &quot;]=i}return t}function se(e){return e[b]=!0,e}function ue(e){var t=d.createElement(&quot;fieldset&quot;);try{return!!e(t)}catch(e){return!1}finally{t.parentNode&amp;&amp;t.parentNode.removeChild(t),t=null}}function le(e,t){var n=e.split(&quot;|&quot;),i=n.length;while(i--)r.attrHandle[n[i]]=t}function ce(e,t){var n=t&amp;&amp;e,r=n&amp;&amp;1===e.nodeType&amp;&amp;1===t.nodeType&amp;&amp;e.sourceIndex-t.sourceIndex;if(r)return r;if(n)while(n=n.nextSibling)if(n===t)return-1;return e?1:-1}function fe(e){return function(t){return&quot;input&quot;===t.nodeName.toLowerCase()&amp;&amp;t.type===e}}function pe(e){return function(t){var n=t.nodeName.toLowerCase();return(&quot;input&quot;===n||&quot;button&quot;===n)&amp;&amp;t.type===e}}function de(e){return function(t){return&quot;form&quot;in t?t.parentNode&amp;&amp;!1===t.disabled?&quot;label&quot;in t?&quot;label&quot;in t.parentNode?t.parentNode.disabled===e:t.disabled===e:t.isDisabled===e||t.isDisabled!==!e&amp;&amp;ie(t)===e:t.disabled===e:&quot;label&quot;in t&amp;&amp;t.disabled===e}}function he(e){return se(function(t){return t=+t,se(function(n,r){var i,o=e([],n.length,t),a=o.length;while(a--)n[i=o[a]]&amp;&amp;(n[i]=!(r[i]=n[i]))})})}function ge(e){return e&amp;&amp;&quot;undefined&quot;!=typeof e.getElementsByTagName&amp;&amp;e}n=oe.support={},o=oe.isXML=function(e){var t=e&amp;&amp;(e.ownerDocument||e).documentElement;return!!t&amp;&amp;&quot;HTML&quot;!==t.nodeName},p=oe.setDocument=function(e){var t,i,a=e?e.ownerDocument||e:w;return a!==d&amp;&amp;9===a.nodeType&amp;&amp;a.documentElement?(d=a,h=d.documentElement,g=!o(d),w!==d&amp;&amp;(i=d.defaultView)&amp;&amp;i.top!==i&amp;&amp;(i.addEventListener?i.addEventListener(&quot;unload&quot;,re,!1):i.attachEvent&amp;&amp;i.attachEvent(&quot;onunload&quot;,re)),n.attributes=ue(function(e){return e.className=&quot;i&quot;,!e.getAttribute(&quot;className&quot;)}),n.getElementsByTagName=ue(function(e){return e.appendChild(d.createComment(&quot;&quot;)),!e.getElementsByTagName(&quot;*&quot;).length}),n.getElementsByClassName=Q.test(d.getElementsByClassName),n.getById=ue(function(e){return h.appendChild(e).id=b,!d.getElementsByName||!d.getElementsByName(b).length}),n.getById?(r.filter.ID=function(e){var t=e.replace(Z,ee);return function(e){return e.getAttribute(&quot;id&quot;)===t}},r.find.ID=function(e,t){if(&quot;undefined&quot;!=typeof t.getElementById&amp;&amp;g){var n=t.getElementById(e);return n?[n]:[]}}):(r.filter.ID=function(e){var t=e.replace(Z,ee);return function(e){var n=&quot;undefined&quot;!=typeof e.getAttributeNode&amp;&amp;e.getAttributeNode(&quot;id&quot;);return n&amp;&amp;n.value===t}},r.find.ID=function(e,t){if(&quot;undefined&quot;!=typeof t.getElementById&amp;&amp;g){var n,r,i,o=t.getElementById(e);if(o){if((n=o.getAttributeNode(&quot;id&quot;))&amp;&amp;n.value===e)return[o];i=t.getElementsByName(e),r=0;while(o=i[r++])if((n=o.getAttributeNode(&quot;id&quot;))&amp;&amp;n.value===e)return[o]}return[]}}),r.find.TAG=n.getElementsByTagName?function(e,t){return&quot;undefined&quot;!=typeof t.getElementsByTagName?t.getElementsByTagName(e):n.qsa?t.querySelectorAll(e):void 0}:function(e,t){var n,r=[],i=0,o=t.getElementsByTagName(e);if(&quot;*&quot;===e){while(n=o[i++])1===n.nodeType&amp;&amp;r.push(n);return r}return o},r.find.CLASS=n.getElementsByClassName&amp;&amp;function(e,t){if(&quot;undefined&quot;!=typeof t.getElementsByClassName&amp;&amp;g)return t.getElementsByClassName(e)},v=[],y=[],(n.qsa=Q.test(d.querySelectorAll))&amp;&amp;(ue(function(e){h.appendChild(e).innerHTML=&quot;&lt;a id=&#x27;&quot;+b+&quot;&#x27;&gt;&lt;/a&gt;&lt;select id=&#x27;&quot;+b+&quot;-\\r\\\\&#x27; msallowcapture=&#x27;&#x27;&gt;&lt;option selected=&#x27;&#x27;&gt;&lt;/option&gt;&lt;/select&gt;&quot;,e.querySelectorAll(&quot;[msallowcapture^=&#x27;&#x27;]&quot;).length&amp;&amp;y.push(&quot;[*^$]=&quot;+M+&quot;*(?:&#x27;&#x27;|\\&quot;\\&quot;)&quot;),e.querySelectorAll(&quot;[selected]&quot;).length||y.push(&quot;\\\\[&quot;+M+&quot;*(?:value|&quot;+P+&quot;)&quot;),e.querySelectorAll(&quot;[id~=&quot;+b+&quot;-]&quot;).length||y.push(&quot;~=&quot;),e.querySelectorAll(&quot;:checked&quot;).length||y.push(&quot;:checked&quot;),e.querySelectorAll(&quot;a#&quot;+b+&quot;+*&quot;).length||y.push(&quot;.#.+[+~]&quot;)}),ue(function(e){e.innerHTML=&quot;&lt;a href=&#x27;&#x27; disabled=&#x27;disabled&#x27;&gt;&lt;/a&gt;&lt;select disabled=&#x27;disabled&#x27;&gt;&lt;option/&gt;&lt;/select&gt;&quot;;var t=d.createElement(&quot;input&quot;);t.setAttribute(&quot;type&quot;,&quot;hidden&quot;),e.appendChild(t).setAttribute(&quot;name&quot;,&quot;D&quot;),e.querySelectorAll(&quot;[name=d]&quot;).length&amp;&amp;y.push(&quot;name&quot;+M+&quot;*[*^$|!~]?=&quot;),2!==e.querySelectorAll(&quot;:enabled&quot;).length&amp;&amp;y.push(&quot;:enabled&quot;,&quot;:disabled&quot;),h.appendChild(e).disabled=!0,2!==e.querySelectorAll(&quot;:disabled&quot;).length&amp;&amp;y.push(&quot;:enabled&quot;,&quot;:disabled&quot;),e.querySelectorAll(&quot;*,:x&quot;),y.push(&quot;,.*:&quot;)})),(n.matchesSelector=Q.test(m=h.matches||h.webkitMatchesSelector||h.mozMatchesSelector||h.oMatchesSelector||h.msMatchesSelector))&amp;&amp;ue(function(e){n.disconnectedMatch=m.call(e,&quot;*&quot;),m.call(e,&quot;[s!=&#x27;&#x27;]:x&quot;),v.push(&quot;!=&quot;,W)}),y=y.length&amp;&amp;new RegExp(y.join(&quot;|&quot;)),v=v.length&amp;&amp;new RegExp(v.join(&quot;|&quot;)),t=Q.test(h.compareDocumentPosition),x=t||Q.test(h.contains)?function(e,t){var n=9===e.nodeType?e.documentElement:e,r=t&amp;&amp;t.parentNode;return e===r||!(!r||1!==r.nodeType||!(n.contains?n.contains(r):e.compareDocumentPosition&amp;&amp;16&amp;e.compareDocumentPosition(r)))}:function(e,t){if(t)while(t=t.parentNode)if(t===e)return!0;return!1},D=t?function(e,t){if(e===t)return f=!0,0;var r=!e.compareDocumentPosition-!t.compareDocumentPosition;return r||(1&amp;(r=(e.ownerDocument||e)===(t.ownerDocument||t)?e.compareDocumentPosition(t):1)||!n.sortDetached&amp;&amp;t.compareDocumentPosition(e)===r?e===d||e.ownerDocument===w&amp;&amp;x(w,e)?-1:t===d||t.ownerDocument===w&amp;&amp;x(w,t)?1:c?O(c,e)-O(c,t):0:4&amp;r?-1:1)}:function(e,t){if(e===t)return f=!0,0;var n,r=0,i=e.parentNode,o=t.parentNode,a=[e],s=[t];if(!i||!o)return e===d?-1:t===d?1:i?-1:o?1:c?O(c,e)-O(c,t):0;if(i===o)return ce(e,t);n=e;while(n=n.parentNode)a.unshift(n);n=t;while(n=n.parentNode)s.unshift(n);while(a[r]===s[r])r++;return r?ce(a[r],s[r]):a[r]===w?-1:s[r]===w?1:0},d):d},oe.matches=function(e,t){return oe(e,null,null,t)},oe.matchesSelector=function(e,t){if((e.ownerDocument||e)!==d&amp;&amp;p(e),t=t.replace(z,&quot;=&#x27;$1&#x27;]&quot;),n.matchesSelector&amp;&amp;g&amp;&amp;!S[t+&quot; &quot;]&amp;&amp;(!v||!v.test(t))&amp;&amp;(!y||!y.test(t)))try{var r=m.call(e,t);if(r||n.disconnectedMatch||e.document&amp;&amp;11!==e.document.nodeType)return r}catch(e){}return oe(t,d,null,[e]).length&gt;0},oe.contains=function(e,t){return(e.ownerDocument||e)!==d&amp;&amp;p(e),x(e,t)},oe.attr=function(e,t){(e.ownerDocument||e)!==d&amp;&amp;p(e);var i=r.attrHandle[t.toLowerCase()],o=i&amp;&amp;N.call(r.attrHandle,t.toLowerCase())?i(e,t,!g):void 0;return void 0!==o?o:n.attributes||!g?e.getAttribute(t):(o=e.getAttributeNode(t))&amp;&amp;o.specified?o.value:null},oe.escape=function(e){return(e+&quot;&quot;).replace(te,ne)},oe.error=function(e){throw new Error(&quot;Syntax error, unrecognized expression: &quot;+e)},oe.uniqueSort=function(e){var t,r=[],i=0,o=0;if(f=!n.detectDuplicates,c=!n.sortStable&amp;&amp;e.slice(0),e.sort(D),f){while(t=e[o++])t===e[o]&amp;&amp;(i=r.push(o));while(i--)e.splice(r[i],1)}return c=null,e},i=oe.getText=function(e){var t,n=&quot;&quot;,r=0,o=e.nodeType;if(o){if(1===o||9===o||11===o){if(&quot;string&quot;==typeof e.textContent)return e.textContent;for(e=e.firstChild;e;e=e.nextSibling)n+=i(e)}else if(3===o||4===o)return e.nodeValue}else while(t=e[r++])n+=i(t);return n},(r=oe.selectors={cacheLength:50,createPseudo:se,match:V,attrHandle:{},find:{},relative:{&quot;&gt;&quot;:{dir:&quot;parentNode&quot;,first:!0},&quot; &quot;:{dir:&quot;parentNode&quot;},&quot;+&quot;:{dir:&quot;previousSibling&quot;,first:!0},&quot;~&quot;:{dir:&quot;previousSibling&quot;}},preFilter:{ATTR:function(e){return e[1]=e[1].replace(Z,ee),e[3]=(e[3]||e[4]||e[5]||&quot;&quot;).replace(Z,ee),&quot;~=&quot;===e[2]&amp;&amp;(e[3]=&quot; &quot;+e[3]+&quot; &quot;),e.slice(0,4)},CHILD:function(e){return e[1]=e[1].toLowerCase(),&quot;nth&quot;===e[1].slice(0,3)?(e[3]||oe.error(e[0]),e[4]=+(e[4]?e[5]+(e[6]||1):2*(&quot;even&quot;===e[3]||&quot;odd&quot;===e[3])),e[5]=+(e[7]+e[8]||&quot;odd&quot;===e[3])):e[3]&amp;&amp;oe.error(e[0]),e},PSEUDO:function(e){var t,n=!e[6]&amp;&amp;e[2];return V.CHILD.test(e[0])?null:(e[3]?e[2]=e[4]||e[5]||&quot;&quot;:n&amp;&amp;X.test(n)&amp;&amp;(t=a(n,!0))&amp;&amp;(t=n.indexOf(&quot;)&quot;,n.length-t)-n.length)&amp;&amp;(e[0]=e[0].slice(0,t),e[2]=n.slice(0,t)),e.slice(0,3))}},filter:{TAG:function(e){var t=e.replace(Z,ee).toLowerCase();return&quot;*&quot;===e?function(){return!0}:function(e){return e.nodeName&amp;&amp;e.nodeName.toLowerCase()===t}},CLASS:function(e){var t=E[e+&quot; &quot;];return t||(t=new RegExp(&quot;(^|&quot;+M+&quot;)&quot;+e+&quot;(&quot;+M+&quot;|$)&quot;))&amp;&amp;E(e,function(e){return t.test(&quot;string&quot;==typeof e.className&amp;&amp;e.className||&quot;undefined&quot;!=typeof e.getAttribute&amp;&amp;e.getAttribute(&quot;class&quot;)||&quot;&quot;)})},ATTR:function(e,t,n){return function(r){var i=oe.attr(r,e);return null==i?&quot;!=&quot;===t:!t||(i+=&quot;&quot;,&quot;=&quot;===t?i===n:&quot;!=&quot;===t?i!==n:&quot;^=&quot;===t?n&amp;&amp;0===i.indexOf(n):&quot;*=&quot;===t?n&amp;&amp;i.indexOf(n)&gt;-1:&quot;$=&quot;===t?n&amp;&amp;i.slice(-n.length)===n:&quot;~=&quot;===t?(&quot; &quot;+i.replace($,&quot; &quot;)+&quot; &quot;).indexOf(n)&gt;-1:&quot;|=&quot;===t&amp;&amp;(i===n||i.slice(0,n.length+1)===n+&quot;-&quot;))}},CHILD:function(e,t,n,r,i){var o=&quot;nth&quot;!==e.slice(0,3),a=&quot;last&quot;!==e.slice(-4),s=&quot;of-type&quot;===t;return 1===r&amp;&amp;0===i?function(e){return!!e.parentNode}:function(t,n,u){var l,c,f,p,d,h,g=o!==a?&quot;nextSibling&quot;:&quot;previousSibling&quot;,y=t.parentNode,v=s&amp;&amp;t.nodeName.toLowerCase(),m=!u&amp;&amp;!s,x=!1;if(y){if(o){while(g){p=t;while(p=p[g])if(s?p.nodeName.toLowerCase()===v:1===p.nodeType)return!1;h=g=&quot;only&quot;===e&amp;&amp;!h&amp;&amp;&quot;nextSibling&quot;}return!0}if(h=[a?y.firstChild:y.lastChild],a&amp;&amp;m){x=(d=(l=(c=(f=(p=y)[b]||(p[b]={}))[p.uniqueID]||(f[p.uniqueID]={}))[e]||[])[0]===T&amp;&amp;l[1])&amp;&amp;l[2],p=d&amp;&amp;y.childNodes[d];while(p=++d&amp;&amp;p&amp;&amp;p[g]||(x=d=0)||h.pop())if(1===p.nodeType&amp;&amp;++x&amp;&amp;p===t){c[e]=[T,d,x];break}}else if(m&amp;&amp;(x=d=(l=(c=(f=(p=t)[b]||(p[b]={}))[p.uniqueID]||(f[p.uniqueID]={}))[e]||[])[0]===T&amp;&amp;l[1]),!1===x)while(p=++d&amp;&amp;p&amp;&amp;p[g]||(x=d=0)||h.pop())if((s?p.nodeName.toLowerCase()===v:1===p.nodeType)&amp;&amp;++x&amp;&amp;(m&amp;&amp;((c=(f=p[b]||(p[b]={}))[p.uniqueID]||(f[p.uniqueID]={}))[e]=[T,x]),p===t))break;return(x-=i)===r||x%r==0&amp;&amp;x/r&gt;=0}}},PSEUDO:function(e,t){var n,i=r.pseudos[e]||r.setFilters[e.toLowerCase()]||oe.error(&quot;unsupported pseudo: &quot;+e);return i[b]?i(t):i.length&gt;1?(n=[e,e,&quot;&quot;,t],r.setFilters.hasOwnProperty(e.toLowerCase())?se(function(e,n){var r,o=i(e,t),a=o.length;while(a--)e[r=O(e,o[a])]=!(n[r]=o[a])}):function(e){return i(e,0,n)}):i}},pseudos:{not:se(function(e){var t=[],n=[],r=s(e.replace(B,&quot;$1&quot;));return r[b]?se(function(e,t,n,i){var o,a=r(e,null,i,[]),s=e.length;while(s--)(o=a[s])&amp;&amp;(e[s]=!(t[s]=o))}):function(e,i,o){return t[0]=e,r(t,null,o,n),t[0]=null,!n.pop()}}),has:se(function(e){return function(t){return oe(e,t).length&gt;0}}),contains:se(function(e){return e=e.replace(Z,ee),function(t){return(t.textContent||t.innerText||i(t)).indexOf(e)&gt;-1}}),lang:se(function(e){return U.test(e||&quot;&quot;)||oe.error(&quot;unsupported lang: &quot;+e),e=e.replace(Z,ee).toLowerCase(),function(t){var n;do{if(n=g?t.lang:t.getAttribute(&quot;xml:lang&quot;)||t.getAttribute(&quot;lang&quot;))return(n=n.toLowerCase())===e||0===n.indexOf(e+&quot;-&quot;)}while((t=t.parentNode)&amp;&amp;1===t.nodeType);return!1}}),target:function(t){var n=e.location&amp;&amp;e.location.hash;return n&amp;&amp;n.slice(1)===t.id},root:function(e){return e===h},focus:function(e){return e===d.activeElement&amp;&amp;(!d.hasFocus||d.hasFocus())&amp;&amp;!!(e.type||e.href||~e.tabIndex)},enabled:de(!1),disabled:de(!0),checked:function(e){var t=e.nodeName.toLowerCase();return&quot;input&quot;===t&amp;&amp;!!e.checked||&quot;option&quot;===t&amp;&amp;!!e.selected},selected:function(e){return e.parentNode&amp;&amp;e.parentNode.selectedIndex,!0===e.selected},empty:function(e){for(e=e.firstChild;e;e=e.nextSibling)if(e.nodeType&lt;6)return!1;return!0},parent:function(e){return!r.pseudos.empty(e)},header:function(e){return Y.test(e.nodeName)},input:function(e){return G.test(e.nodeName)},button:function(e){var t=e.nodeName.toLowerCase();return&quot;input&quot;===t&amp;&amp;&quot;button&quot;===e.type||&quot;button&quot;===t},text:function(e){var t;return&quot;input&quot;===e.nodeName.toLowerCase()&amp;&amp;&quot;text&quot;===e.type&amp;&amp;(null==(t=e.getAttribute(&quot;type&quot;))||&quot;text&quot;===t.toLowerCase())},first:he(function(){return[0]}),last:he(function(e,t){return[t-1]}),eq:he(function(e,t,n){return[n&lt;0?n+t:n]}),even:he(function(e,t){for(var n=0;n&lt;t;n+=2)e.push(n);return e}),odd:he(function(e,t){for(var n=1;n&lt;t;n+=2)e.push(n);return e}),lt:he(function(e,t,n){for(var r=n&lt;0?n+t:n;--r&gt;=0;)e.push(r);return e}),gt:he(function(e,t,n){for(var r=n&lt;0?n+t:n;++r&lt;t;)e.push(r);return e})}}).pseudos.nth=r.pseudos.eq;for(t in{radio:!0,checkbox:!0,file:!0,password:!0,image:!0})r.pseudos[t]=fe(t);for(t in{submit:!0,reset:!0})r.pseudos[t]=pe(t);function ye(){}ye.prototype=r.filters=r.pseudos,r.setFilters=new ye,a=oe.tokenize=function(e,t){var n,i,o,a,s,u,l,c=k[e+&quot; &quot;];if(c)return t?0:c.slice(0);s=e,u=[],l=r.preFilter;while(s){n&amp;&amp;!(i=F.exec(s))||(i&amp;&amp;(s=s.slice(i[0].length)||s),u.push(o=[])),n=!1,(i=_.exec(s))&amp;&amp;(n=i.shift(),o.push({value:n,type:i[0].replace(B,&quot; &quot;)}),s=s.slice(n.length));for(a in r.filter)!(i=V[a].exec(s))||l[a]&amp;&amp;!(i=l[a](i))||(n=i.shift(),o.push({value:n,type:a,matches:i}),s=s.slice(n.length));if(!n)break}return t?s.length:s?oe.error(e):k(e,u).slice(0)};function ve(e){for(var t=0,n=e.length,r=&quot;&quot;;t&lt;n;t++)r+=e[t].value;return r}function me(e,t,n){var r=t.dir,i=t.next,o=i||r,a=n&amp;&amp;&quot;parentNode&quot;===o,s=C++;return t.first?function(t,n,i){while(t=t[r])if(1===t.nodeType||a)return e(t,n,i);return!1}:function(t,n,u){var l,c,f,p=[T,s];if(u){while(t=t[r])if((1===t.nodeType||a)&amp;&amp;e(t,n,u))return!0}else while(t=t[r])if(1===t.nodeType||a)if(f=t[b]||(t[b]={}),c=f[t.uniqueID]||(f[t.uniqueID]={}),i&amp;&amp;i===t.nodeName.toLowerCase())t=t[r]||t;else{if((l=c[o])&amp;&amp;l[0]===T&amp;&amp;l[1]===s)return p[2]=l[2];if(c[o]=p,p[2]=e(t,n,u))return!0}return!1}}function xe(e){return e.length&gt;1?function(t,n,r){var i=e.length;while(i--)if(!e[i](t,n,r))return!1;return!0}:e[0]}function be(e,t,n){for(var r=0,i=t.length;r&lt;i;r++)oe(e,t[r],n);return n}function we(e,t,n,r,i){for(var o,a=[],s=0,u=e.length,l=null!=t;s&lt;u;s++)(o=e[s])&amp;&amp;(n&amp;&amp;!n(o,r,i)||(a.push(o),l&amp;&amp;t.push(s)));return a}function Te(e,t,n,r,i,o){return r&amp;&amp;!r[b]&amp;&amp;(r=Te(r)),i&amp;&amp;!i[b]&amp;&amp;(i=Te(i,o)),se(function(o,a,s,u){var l,c,f,p=[],d=[],h=a.length,g=o||be(t||&quot;*&quot;,s.nodeType?[s]:s,[]),y=!e||!o&amp;&amp;t?g:we(g,p,e,s,u),v=n?i||(o?e:h||r)?[]:a:y;if(n&amp;&amp;n(y,v,s,u),r){l=we(v,d),r(l,[],s,u),c=l.length;while(c--)(f=l[c])&amp;&amp;(v[d[c]]=!(y[d[c]]=f))}if(o){if(i||e){if(i){l=[],c=v.length;while(c--)(f=v[c])&amp;&amp;l.push(y[c]=f);i(null,v=[],l,u)}c=v.length;while(c--)(f=v[c])&amp;&amp;(l=i?O(o,f):p[c])&gt;-1&amp;&amp;(o[l]=!(a[l]=f))}}else v=we(v===a?v.splice(h,v.length):v),i?i(null,a,v,u):L.apply(a,v)})}function Ce(e){for(var t,n,i,o=e.length,a=r.relative[e[0].type],s=a||r.relative[&quot; &quot;],u=a?1:0,c=me(function(e){return e===t},s,!0),f=me(function(e){return O(t,e)&gt;-1},s,!0),p=[function(e,n,r){var i=!a&amp;&amp;(r||n!==l)||((t=n).nodeType?c(e,n,r):f(e,n,r));return t=null,i}];u&lt;o;u++)if(n=r.relative[e[u].type])p=[me(xe(p),n)];else{if((n=r.filter[e[u].type].apply(null,e[u].matches))[b]){for(i=++u;i&lt;o;i++)if(r.relative[e[i].type])break;return Te(u&gt;1&amp;&amp;xe(p),u&gt;1&amp;&amp;ve(e.slice(0,u-1).concat({value:&quot; &quot;===e[u-2].type?&quot;*&quot;:&quot;&quot;})).replace(B,&quot;$1&quot;),n,u&lt;i&amp;&amp;Ce(e.slice(u,i)),i&lt;o&amp;&amp;Ce(e=e.slice(i)),i&lt;o&amp;&amp;ve(e))}p.push(n)}return xe(p)}function Ee(e,t){var n=t.length&gt;0,i=e.length&gt;0,o=function(o,a,s,u,c){var f,h,y,v=0,m=&quot;0&quot;,x=o&amp;&amp;[],b=[],w=l,C=o||i&amp;&amp;r.find.TAG(&quot;*&quot;,c),E=T+=null==w?1:Math.random()||.1,k=C.length;for(c&amp;&amp;(l=a===d||a||c);m!==k&amp;&amp;null!=(f=C[m]);m++){if(i&amp;&amp;f){h=0,a||f.ownerDocument===d||(p(f),s=!g);while(y=e[h++])if(y(f,a||d,s)){u.push(f);break}c&amp;&amp;(T=E)}n&amp;&amp;((f=!y&amp;&amp;f)&amp;&amp;v--,o&amp;&amp;x.push(f))}if(v+=m,n&amp;&amp;m!==v){h=0;while(y=t[h++])y(x,b,a,s);if(o){if(v&gt;0)while(m--)x[m]||b[m]||(b[m]=j.call(u));b=we(b)}L.apply(u,b),c&amp;&amp;!o&amp;&amp;b.length&gt;0&amp;&amp;v+t.length&gt;1&amp;&amp;oe.uniqueSort(u)}return c&amp;&amp;(T=E,l=w),x};return n?se(o):o}return s=oe.compile=function(e,t){var n,r=[],i=[],o=S[e+&quot; &quot;];if(!o){t||(t=a(e)),n=t.length;while(n--)(o=Ce(t[n]))[b]?r.push(o):i.push(o);(o=S(e,Ee(i,r))).selector=e}return o},u=oe.select=function(e,t,n,i){var o,u,l,c,f,p=&quot;function&quot;==typeof e&amp;&amp;e,d=!i&amp;&amp;a(e=p.selector||e);if(n=n||[],1===d.length){if((u=d[0]=d[0].slice(0)).length&gt;2&amp;&amp;&quot;ID&quot;===(l=u[0]).type&amp;&amp;9===t.nodeType&amp;&amp;g&amp;&amp;r.relative[u[1].type]){if(!(t=(r.find.ID(l.matches[0].replace(Z,ee),t)||[])[0]))return n;p&amp;&amp;(t=t.parentNode),e=e.slice(u.shift().value.length)}o=V.needsContext.test(e)?0:u.length;while(o--){if(l=u[o],r.relative[c=l.type])break;if((f=r.find[c])&amp;&amp;(i=f(l.matches[0].replace(Z,ee),K.test(u[0].type)&amp;&amp;ge(t.parentNode)||t))){if(u.splice(o,1),!(e=i.length&amp;&amp;ve(u)))return L.apply(n,i),n;break}}}return(p||s(e,d))(i,t,!g,n,!t||K.test(e)&amp;&amp;ge(t.parentNode)||t),n},n.sortStable=b.split(&quot;&quot;).sort(D).join(&quot;&quot;)===b,n.detectDuplicates=!!f,p(),n.sortDetached=ue(function(e){return 1&amp;e.compareDocumentPosition(d.createElement(&quot;fieldset&quot;))}),ue(function(e){return e.innerHTML=&quot;&lt;a href=&#x27;#&#x27;&gt;&lt;/a&gt;&quot;,&quot;#&quot;===e.firstChild.getAttribute(&quot;href&quot;)})||le(&quot;type|href|height|width&quot;,function(e,t,n){if(!n)return e.getAttribute(t,&quot;type&quot;===t.toLowerCase()?1:2)}),n.attributes&amp;&amp;ue(function(e){return e.innerHTML=&quot;&lt;input/&gt;&quot;,e.firstChild.setAttribute(&quot;value&quot;,&quot;&quot;),&quot;&quot;===e.firstChild.getAttribute(&quot;value&quot;)})||le(&quot;value&quot;,function(e,t,n){if(!n&amp;&amp;&quot;input&quot;===e.nodeName.toLowerCase())return e.defaultValue}),ue(function(e){return null==e.getAttribute(&quot;disabled&quot;)})||le(P,function(e,t,n){var r;if(!n)return!0===e[t]?t.toLowerCase():(r=e.getAttributeNode(t))&amp;&amp;r.specified?r.value:null}),oe}(e);w.find=E,w.expr=E.selectors,w.expr[&quot;:&quot;]=w.expr.pseudos,w.uniqueSort=w.unique=E.uniqueSort,w.text=E.getText,w.isXMLDoc=E.isXML,w.contains=E.contains,w.escapeSelector=E.escape;var k=function(e,t,n){var r=[],i=void 0!==n;while((e=e[t])&amp;&amp;9!==e.nodeType)if(1===e.nodeType){if(i&amp;&amp;w(e).is(n))break;r.push(e)}return r},S=function(e,t){for(var n=[];e;e=e.nextSibling)1===e.nodeType&amp;&amp;e!==t&amp;&amp;n.push(e);return n},D=w.expr.match.needsContext;function N(e,t){return e.nodeName&amp;&amp;e.nodeName.toLowerCase()===t.toLowerCase()}var A=/^&lt;([a-z][^\\/\\0&gt;:\\x20\\t\\r\\n\\f]*)[\\x20\\t\\r\\n\\f]*\\/?&gt;(?:&lt;\\/\\1&gt;|)$/i;function j(e,t,n){return g(t)?w.grep(e,function(e,r){return!!t.call(e,r,e)!==n}):t.nodeType?w.grep(e,function(e){return e===t!==n}):&quot;string&quot;!=typeof t?w.grep(e,function(e){return u.call(t,e)&gt;-1!==n}):w.filter(t,e,n)}w.filter=function(e,t,n){var r=t[0];return n&amp;&amp;(e=&quot;:not(&quot;+e+&quot;)&quot;),1===t.length&amp;&amp;1===r.nodeType?w.find.matchesSelector(r,e)?[r]:[]:w.find.matches(e,w.grep(t,function(e){return 1===e.nodeType}))},w.fn.extend({find:function(e){var t,n,r=this.length,i=this;if(&quot;string&quot;!=typeof e)return this.pushStack(w(e).filter(function(){for(t=0;t&lt;r;t++)if(w.contains(i[t],this))return!0}));for(n=this.pushStack([]),t=0;t&lt;r;t++)w.find(e,i[t],n);return r&gt;1?w.uniqueSort(n):n},filter:function(e){return this.pushStack(j(this,e||[],!1))},not:function(e){return this.pushStack(j(this,e||[],!0))},is:function(e){return!!j(this,&quot;string&quot;==typeof e&amp;&amp;D.test(e)?w(e):e||[],!1).length}});var q,L=/^(?:\\s*(&lt;[\\w\\W]+&gt;)[^&gt;]*|#([\\w-]+))$/;(w.fn.init=function(e,t,n){var i,o;if(!e)return this;if(n=n||q,&quot;string&quot;==typeof e){if(!(i=&quot;&lt;&quot;===e[0]&amp;&amp;&quot;&gt;&quot;===e[e.length-1]&amp;&amp;e.length&gt;=3?[null,e,null]:L.exec(e))||!i[1]&amp;&amp;t)return!t||t.jquery?(t||n).find(e):this.constructor(t).find(e);if(i[1]){if(t=t instanceof w?t[0]:t,w.merge(this,w.parseHTML(i[1],t&amp;&amp;t.nodeType?t.ownerDocument||t:r,!0)),A.test(i[1])&amp;&amp;w.isPlainObject(t))for(i in t)g(this[i])?this[i](t[i]):this.attr(i,t[i]);return this}return(o=r.getElementById(i[2]))&amp;&amp;(this[0]=o,this.length=1),this}return e.nodeType?(this[0]=e,this.length=1,this):g(e)?void 0!==n.ready?n.ready(e):e(w):w.makeArray(e,this)}).prototype=w.fn,q=w(r);var H=/^(?:parents|prev(?:Until|All))/,O={children:!0,contents:!0,next:!0,prev:!0};w.fn.extend({has:function(e){var t=w(e,this),n=t.length;return this.filter(function(){for(var e=0;e&lt;n;e++)if(w.contains(this,t[e]))return!0})},closest:function(e,t){var n,r=0,i=this.length,o=[],a=&quot;string&quot;!=typeof e&amp;&amp;w(e);if(!D.test(e))for(;r&lt;i;r++)for(n=this[r];n&amp;&amp;n!==t;n=n.parentNode)if(n.nodeType&lt;11&amp;&amp;(a?a.index(n)&gt;-1:1===n.nodeType&amp;&amp;w.find.matchesSelector(n,e))){o.push(n);break}return this.pushStack(o.length&gt;1?w.uniqueSort(o):o)},index:function(e){return e?&quot;string&quot;==typeof e?u.call(w(e),this[0]):u.call(this,e.jquery?e[0]:e):this[0]&amp;&amp;this[0].parentNode?this.first().prevAll().length:-1},add:function(e,t){return this.pushStack(w.uniqueSort(w.merge(this.get(),w(e,t))))},addBack:function(e){return this.add(null==e?this.prevObject:this.prevObject.filter(e))}});function P(e,t){while((e=e[t])&amp;&amp;1!==e.nodeType);return e}w.each({parent:function(e){var t=e.parentNode;return t&amp;&amp;11!==t.nodeType?t:null},parents:function(e){return k(e,&quot;parentNode&quot;)},parentsUntil:function(e,t,n){return k(e,&quot;parentNode&quot;,n)},next:function(e){return P(e,&quot;nextSibling&quot;)},prev:function(e){return P(e,&quot;previousSibling&quot;)},nextAll:function(e){return k(e,&quot;nextSibling&quot;)},prevAll:function(e){return k(e,&quot;previousSibling&quot;)},nextUntil:function(e,t,n){return k(e,&quot;nextSibling&quot;,n)},prevUntil:function(e,t,n){return k(e,&quot;previousSibling&quot;,n)},siblings:function(e){return S((e.parentNode||{}).firstChild,e)},children:function(e){return S(e.firstChild)},contents:function(e){return N(e,&quot;iframe&quot;)?e.contentDocument:(N(e,&quot;template&quot;)&amp;&amp;(e=e.content||e),w.merge([],e.childNodes))}},function(e,t){w.fn[e]=function(n,r){var i=w.map(this,t,n);return&quot;Until&quot;!==e.slice(-5)&amp;&amp;(r=n),r&amp;&amp;&quot;string&quot;==typeof r&amp;&amp;(i=w.filter(r,i)),this.length&gt;1&amp;&amp;(O[e]||w.uniqueSort(i),H.test(e)&amp;&amp;i.reverse()),this.pushStack(i)}});var M=/[^\\x20\\t\\r\\n\\f]+/g;function R(e){var t={};return w.each(e.match(M)||[],function(e,n){t[n]=!0}),t}w.Callbacks=function(e){e=&quot;string&quot;==typeof e?R(e):w.extend({},e);var t,n,r,i,o=[],a=[],s=-1,u=function(){for(i=i||e.once,r=t=!0;a.length;s=-1){n=a.shift();while(++s&lt;o.length)!1===o[s].apply(n[0],n[1])&amp;&amp;e.stopOnFalse&amp;&amp;(s=o.length,n=!1)}e.memory||(n=!1),t=!1,i&amp;&amp;(o=n?[]:&quot;&quot;)},l={add:function(){return o&amp;&amp;(n&amp;&amp;!t&amp;&amp;(s=o.length-1,a.push(n)),function t(n){w.each(n,function(n,r){g(r)?e.unique&amp;&amp;l.has(r)||o.push(r):r&amp;&amp;r.length&amp;&amp;&quot;string&quot;!==x(r)&amp;&amp;t(r)})}(arguments),n&amp;&amp;!t&amp;&amp;u()),this},remove:function(){return w.each(arguments,function(e,t){var n;while((n=w.inArray(t,o,n))&gt;-1)o.splice(n,1),n&lt;=s&amp;&amp;s--}),this},has:function(e){return e?w.inArray(e,o)&gt;-1:o.length&gt;0},empty:function(){return o&amp;&amp;(o=[]),this},disable:function(){return i=a=[],o=n=&quot;&quot;,this},disabled:function(){return!o},lock:function(){return i=a=[],n||t||(o=n=&quot;&quot;),this},locked:function(){return!!i},fireWith:function(e,n){return i||(n=[e,(n=n||[]).slice?n.slice():n],a.push(n),t||u()),this},fire:function(){return l.fireWith(this,arguments),this},fired:function(){return!!r}};return l};function I(e){return e}function W(e){throw e}function $(e,t,n,r){var i;try{e&amp;&amp;g(i=e.promise)?i.call(e).done(t).fail(n):e&amp;&amp;g(i=e.then)?i.call(e,t,n):t.apply(void 0,[e].slice(r))}catch(e){n.apply(void 0,[e])}}w.extend({Deferred:function(t){var n=[[&quot;notify&quot;,&quot;progress&quot;,w.Callbacks(&quot;memory&quot;),w.Callbacks(&quot;memory&quot;),2],[&quot;resolve&quot;,&quot;done&quot;,w.Callbacks(&quot;once memory&quot;),w.Callbacks(&quot;once memory&quot;),0,&quot;resolved&quot;],[&quot;reject&quot;,&quot;fail&quot;,w.Callbacks(&quot;once memory&quot;),w.Callbacks(&quot;once memory&quot;),1,&quot;rejected&quot;]],r=&quot;pending&quot;,i={state:function(){return r},always:function(){return o.done(arguments).fail(arguments),this},&quot;catch&quot;:function(e){return i.then(null,e)},pipe:function(){var e=arguments;return w.Deferred(function(t){w.each(n,function(n,r){var i=g(e[r[4]])&amp;&amp;e[r[4]];o[r[1]](function(){var e=i&amp;&amp;i.apply(this,arguments);e&amp;&amp;g(e.promise)?e.promise().progress(t.notify).done(t.resolve).fail(t.reject):t[r[0]+&quot;With&quot;](this,i?[e]:arguments)})}),e=null}).promise()},then:function(t,r,i){var o=0;function a(t,n,r,i){return function(){var s=this,u=arguments,l=function(){var e,l;if(!(t&lt;o)){if((e=r.apply(s,u))===n.promise())throw new TypeError(&quot;Thenable self-resolution&quot;);l=e&amp;&amp;(&quot;object&quot;==typeof e||&quot;function&quot;==typeof e)&amp;&amp;e.then,g(l)?i?l.call(e,a(o,n,I,i),a(o,n,W,i)):(o++,l.call(e,a(o,n,I,i),a(o,n,W,i),a(o,n,I,n.notifyWith))):(r!==I&amp;&amp;(s=void 0,u=[e]),(i||n.resolveWith)(s,u))}},c=i?l:function(){try{l()}catch(e){w.Deferred.exceptionHook&amp;&amp;w.Deferred.exceptionHook(e,c.stackTrace),t+1&gt;=o&amp;&amp;(r!==W&amp;&amp;(s=void 0,u=[e]),n.rejectWith(s,u))}};t?c():(w.Deferred.getStackHook&amp;&amp;(c.stackTrace=w.Deferred.getStackHook()),e.setTimeout(c))}}return w.Deferred(function(e){n[0][3].add(a(0,e,g(i)?i:I,e.notifyWith)),n[1][3].add(a(0,e,g(t)?t:I)),n[2][3].add(a(0,e,g(r)?r:W))}).promise()},promise:function(e){return null!=e?w.extend(e,i):i}},o={};return w.each(n,function(e,t){var a=t[2],s=t[5];i[t[1]]=a.add,s&amp;&amp;a.add(function(){r=s},n[3-e][2].disable,n[3-e][3].disable,n[0][2].lock,n[0][3].lock),a.add(t[3].fire),o[t[0]]=function(){return o[t[0]+&quot;With&quot;](this===o?void 0:this,arguments),this},o[t[0]+&quot;With&quot;]=a.fireWith}),i.promise(o),t&amp;&amp;t.call(o,o),o},when:function(e){var t=arguments.length,n=t,r=Array(n),i=o.call(arguments),a=w.Deferred(),s=function(e){return function(n){r[e]=this,i[e]=arguments.length&gt;1?o.call(arguments):n,--t||a.resolveWith(r,i)}};if(t&lt;=1&amp;&amp;($(e,a.done(s(n)).resolve,a.reject,!t),&quot;pending&quot;===a.state()||g(i[n]&amp;&amp;i[n].then)))return a.then();while(n--)$(i[n],s(n),a.reject);return a.promise()}});var B=/^(Eval|Internal|Range|Reference|Syntax|Type|URI)Error$/;w.Deferred.exceptionHook=function(t,n){e.console&amp;&amp;e.console.warn&amp;&amp;t&amp;&amp;B.test(t.name)&amp;&amp;e.console.warn(&quot;jQuery.Deferred exception: &quot;+t.message,t.stack,n)},w.readyException=function(t){e.setTimeout(function(){throw t})};var F=w.Deferred();w.fn.ready=function(e){return F.then(e)[&quot;catch&quot;](function(e){w.readyException(e)}),this},w.extend({isReady:!1,readyWait:1,ready:function(e){(!0===e?--w.readyWait:w.isReady)||(w.isReady=!0,!0!==e&amp;&amp;--w.readyWait&gt;0||F.resolveWith(r,[w]))}}),w.ready.then=F.then;function _(){r.removeEventListener(&quot;DOMContentLoaded&quot;,_),e.removeEventListener(&quot;load&quot;,_),w.ready()}&quot;complete&quot;===r.readyState||&quot;loading&quot;!==r.readyState&amp;&amp;!r.documentElement.doScroll?e.setTimeout(w.ready):(r.addEventListener(&quot;DOMContentLoaded&quot;,_),e.addEventListener(&quot;load&quot;,_));var z=function(e,t,n,r,i,o,a){var s=0,u=e.length,l=null==n;if(&quot;object&quot;===x(n)){i=!0;for(s in n)z(e,t,s,n[s],!0,o,a)}else if(void 0!==r&amp;&amp;(i=!0,g(r)||(a=!0),l&amp;&amp;(a?(t.call(e,r),t=null):(l=t,t=function(e,t,n){return l.call(w(e),n)})),t))for(;s&lt;u;s++)t(e[s],n,a?r:r.call(e[s],s,t(e[s],n)));return i?e:l?t.call(e):u?t(e[0],n):o},X=/^-ms-/,U=/-([a-z])/g;function V(e,t){return t.toUpperCase()}function G(e){return e.replace(X,&quot;ms-&quot;).replace(U,V)}var Y=function(e){return 1===e.nodeType||9===e.nodeType||!+e.nodeType};function Q(){this.expando=w.expando+Q.uid++}Q.uid=1,Q.prototype={cache:function(e){var t=e[this.expando];return t||(t={},Y(e)&amp;&amp;(e.nodeType?e[this.expando]=t:Object.defineProperty(e,this.expando,{value:t,configurable:!0}))),t},set:function(e,t,n){var r,i=this.cache(e);if(&quot;string&quot;==typeof t)i[G(t)]=n;else for(r in t)i[G(r)]=t[r];return i},get:function(e,t){return void 0===t?this.cache(e):e[this.expando]&amp;&amp;e[this.expando][G(t)]},access:function(e,t,n){return void 0===t||t&amp;&amp;&quot;string&quot;==typeof t&amp;&amp;void 0===n?this.get(e,t):(this.set(e,t,n),void 0!==n?n:t)},remove:function(e,t){var n,r=e[this.expando];if(void 0!==r){if(void 0!==t){n=(t=Array.isArray(t)?t.map(G):(t=G(t))in r?[t]:t.match(M)||[]).length;while(n--)delete r[t[n]]}(void 0===t||w.isEmptyObject(r))&amp;&amp;(e.nodeType?e[this.expando]=void 0:delete e[this.expando])}},hasData:function(e){var t=e[this.expando];return void 0!==t&amp;&amp;!w.isEmptyObject(t)}};var J=new Q,K=new Q,Z=/^(?:\\{[\\w\\W]*\\}|\\[[\\w\\W]*\\])$/,ee=/[A-Z]/g;function te(e){return&quot;true&quot;===e||&quot;false&quot;!==e&amp;&amp;(&quot;null&quot;===e?null:e===+e+&quot;&quot;?+e:Z.test(e)?JSON.parse(e):e)}function ne(e,t,n){var r;if(void 0===n&amp;&amp;1===e.nodeType)if(r=&quot;data-&quot;+t.replace(ee,&quot;-$&amp;&quot;).toLowerCase(),&quot;string&quot;==typeof(n=e.getAttribute(r))){try{n=te(n)}catch(e){}K.set(e,t,n)}else n=void 0;return n}w.extend({hasData:function(e){return K.hasData(e)||J.hasData(e)},data:function(e,t,n){return K.access(e,t,n)},removeData:function(e,t){K.remove(e,t)},_data:function(e,t,n){return J.access(e,t,n)},_removeData:function(e,t){J.remove(e,t)}}),w.fn.extend({data:function(e,t){var n,r,i,o=this[0],a=o&amp;&amp;o.attributes;if(void 0===e){if(this.length&amp;&amp;(i=K.get(o),1===o.nodeType&amp;&amp;!J.get(o,&quot;hasDataAttrs&quot;))){n=a.length;while(n--)a[n]&amp;&amp;0===(r=a[n].name).indexOf(&quot;data-&quot;)&amp;&amp;(r=G(r.slice(5)),ne(o,r,i[r]));J.set(o,&quot;hasDataAttrs&quot;,!0)}return i}return&quot;object&quot;==typeof e?this.each(function(){K.set(this,e)}):z(this,function(t){var n;if(o&amp;&amp;void 0===t){if(void 0!==(n=K.get(o,e)))return n;if(void 0!==(n=ne(o,e)))return n}else this.each(function(){K.set(this,e,t)})},null,t,arguments.length&gt;1,null,!0)},removeData:function(e){return this.each(function(){K.remove(this,e)})}}),w.extend({queue:function(e,t,n){var r;if(e)return t=(t||&quot;fx&quot;)+&quot;queue&quot;,r=J.get(e,t),n&amp;&amp;(!r||Array.isArray(n)?r=J.access(e,t,w.makeArray(n)):r.push(n)),r||[]},dequeue:function(e,t){t=t||&quot;fx&quot;;var n=w.queue(e,t),r=n.length,i=n.shift(),o=w._queueHooks(e,t),a=function(){w.dequeue(e,t)};&quot;inprogress&quot;===i&amp;&amp;(i=n.shift(),r--),i&amp;&amp;(&quot;fx&quot;===t&amp;&amp;n.unshift(&quot;inprogress&quot;),delete o.stop,i.call(e,a,o)),!r&amp;&amp;o&amp;&amp;o.empty.fire()},_queueHooks:function(e,t){var n=t+&quot;queueHooks&quot;;return J.get(e,n)||J.access(e,n,{empty:w.Callbacks(&quot;once memory&quot;).add(function(){J.remove(e,[t+&quot;queue&quot;,n])})})}}),w.fn.extend({queue:function(e,t){var n=2;return&quot;string&quot;!=typeof e&amp;&amp;(t=e,e=&quot;fx&quot;,n--),arguments.length&lt;n?w.queue(this[0],e):void 0===t?this:this.each(function(){var n=w.queue(this,e,t);w._queueHooks(this,e),&quot;fx&quot;===e&amp;&amp;&quot;inprogress&quot;!==n[0]&amp;&amp;w.dequeue(this,e)})},dequeue:function(e){return this.each(function(){w.dequeue(this,e)})},clearQueue:function(e){return this.queue(e||&quot;fx&quot;,[])},promise:function(e,t){var n,r=1,i=w.Deferred(),o=this,a=this.length,s=function(){--r||i.resolveWith(o,[o])};&quot;string&quot;!=typeof e&amp;&amp;(t=e,e=void 0),e=e||&quot;fx&quot;;while(a--)(n=J.get(o[a],e+&quot;queueHooks&quot;))&amp;&amp;n.empty&amp;&amp;(r++,n.empty.add(s));return s(),i.promise(t)}});var re=/[+-]?(?:\\d*\\.|)\\d+(?:[eE][+-]?\\d+|)/.source,ie=new RegExp(&quot;^(?:([+-])=|)(&quot;+re+&quot;)([a-z%]*)$&quot;,&quot;i&quot;),oe=[&quot;Top&quot;,&quot;Right&quot;,&quot;Bottom&quot;,&quot;Left&quot;],ae=function(e,t){return&quot;none&quot;===(e=t||e).style.display||&quot;&quot;===e.style.display&amp;&amp;w.contains(e.ownerDocument,e)&amp;&amp;&quot;none&quot;===w.css(e,&quot;display&quot;)},se=function(e,t,n,r){var i,o,a={};for(o in t)a[o]=e.style[o],e.style[o]=t[o];i=n.apply(e,r||[]);for(o in t)e.style[o]=a[o];return i};function ue(e,t,n,r){var i,o,a=20,s=r?function(){return r.cur()}:function(){return w.css(e,t,&quot;&quot;)},u=s(),l=n&amp;&amp;n[3]||(w.cssNumber[t]?&quot;&quot;:&quot;px&quot;),c=(w.cssNumber[t]||&quot;px&quot;!==l&amp;&amp;+u)&amp;&amp;ie.exec(w.css(e,t));if(c&amp;&amp;c[3]!==l){u/=2,l=l||c[3],c=+u||1;while(a--)w.style(e,t,c+l),(1-o)*(1-(o=s()/u||.5))&lt;=0&amp;&amp;(a=0),c/=o;c*=2,w.style(e,t,c+l),n=n||[]}return n&amp;&amp;(c=+c||+u||0,i=n[1]?c+(n[1]+1)*n[2]:+n[2],r&amp;&amp;(r.unit=l,r.start=c,r.end=i)),i}var le={};function ce(e){var t,n=e.ownerDocument,r=e.nodeName,i=le[r];return i||(t=n.body.appendChild(n.createElement(r)),i=w.css(t,&quot;display&quot;),t.parentNode.removeChild(t),&quot;none&quot;===i&amp;&amp;(i=&quot;block&quot;),le[r]=i,i)}function fe(e,t){for(var n,r,i=[],o=0,a=e.length;o&lt;a;o++)(r=e[o]).style&amp;&amp;(n=r.style.display,t?(&quot;none&quot;===n&amp;&amp;(i[o]=J.get(r,&quot;display&quot;)||null,i[o]||(r.style.display=&quot;&quot;)),&quot;&quot;===r.style.display&amp;&amp;ae(r)&amp;&amp;(i[o]=ce(r))):&quot;none&quot;!==n&amp;&amp;(i[o]=&quot;none&quot;,J.set(r,&quot;display&quot;,n)));for(o=0;o&lt;a;o++)null!=i[o]&amp;&amp;(e[o].style.display=i[o]);return e}w.fn.extend({show:function(){return fe(this,!0)},hide:function(){return fe(this)},toggle:function(e){return&quot;boolean&quot;==typeof e?e?this.show():this.hide():this.each(function(){ae(this)?w(this).show():w(this).hide()})}});var pe=/^(?:checkbox|radio)$/i,de=/&lt;([a-z][^\\/\\0&gt;\\x20\\t\\r\\n\\f]+)/i,he=/^$|^module$|\\/(?:java|ecma)script/i,ge={option:[1,&quot;&lt;select multiple=&#x27;multiple&#x27;&gt;&quot;,&quot;&lt;/select&gt;&quot;],thead:[1,&quot;&lt;table&gt;&quot;,&quot;&lt;/table&gt;&quot;],col:[2,&quot;&lt;table&gt;&lt;colgroup&gt;&quot;,&quot;&lt;/colgroup&gt;&lt;/table&gt;&quot;],tr:[2,&quot;&lt;table&gt;&lt;tbody&gt;&quot;,&quot;&lt;/tbody&gt;&lt;/table&gt;&quot;],td:[3,&quot;&lt;table&gt;&lt;tbody&gt;&lt;tr&gt;&quot;,&quot;&lt;/tr&gt;&lt;/tbody&gt;&lt;/table&gt;&quot;],_default:[0,&quot;&quot;,&quot;&quot;]};ge.optgroup=ge.option,ge.tbody=ge.tfoot=ge.colgroup=ge.caption=ge.thead,ge.th=ge.td;function ye(e,t){var n;return n=&quot;undefined&quot;!=typeof e.getElementsByTagName?e.getElementsByTagName(t||&quot;*&quot;):&quot;undefined&quot;!=typeof e.querySelectorAll?e.querySelectorAll(t||&quot;*&quot;):[],void 0===t||t&amp;&amp;N(e,t)?w.merge([e],n):n}function ve(e,t){for(var n=0,r=e.length;n&lt;r;n++)J.set(e[n],&quot;globalEval&quot;,!t||J.get(t[n],&quot;globalEval&quot;))}var me=/&lt;|&amp;#?\\w+;/;function xe(e,t,n,r,i){for(var o,a,s,u,l,c,f=t.createDocumentFragment(),p=[],d=0,h=e.length;d&lt;h;d++)if((o=e[d])||0===o)if(&quot;object&quot;===x(o))w.merge(p,o.nodeType?[o]:o);else if(me.test(o)){a=a||f.appendChild(t.createElement(&quot;div&quot;)),s=(de.exec(o)||[&quot;&quot;,&quot;&quot;])[1].toLowerCase(),u=ge[s]||ge._default,a.innerHTML=u[1]+w.htmlPrefilter(o)+u[2],c=u[0];while(c--)a=a.lastChild;w.merge(p,a.childNodes),(a=f.firstChild).textContent=&quot;&quot;}else p.push(t.createTextNode(o));f.textContent=&quot;&quot;,d=0;while(o=p[d++])if(r&amp;&amp;w.inArray(o,r)&gt;-1)i&amp;&amp;i.push(o);else if(l=w.contains(o.ownerDocument,o),a=ye(f.appendChild(o),&quot;script&quot;),l&amp;&amp;ve(a),n){c=0;while(o=a[c++])he.test(o.type||&quot;&quot;)&amp;&amp;n.push(o)}return f}!function(){var e=r.createDocumentFragment().appendChild(r.createElement(&quot;div&quot;)),t=r.createElement(&quot;input&quot;);t.setAttribute(&quot;type&quot;,&quot;radio&quot;),t.setAttribute(&quot;checked&quot;,&quot;checked&quot;),t.setAttribute(&quot;name&quot;,&quot;t&quot;),e.appendChild(t),h.checkClone=e.cloneNode(!0).cloneNode(!0).lastChild.checked,e.innerHTML=&quot;&lt;textarea&gt;x&lt;/textarea&gt;&quot;,h.noCloneChecked=!!e.cloneNode(!0).lastChild.defaultValue}();var be=r.documentElement,we=/^key/,Te=/^(?:mouse|pointer|contextmenu|drag|drop)|click/,Ce=/^([^.]*)(?:\\.(.+)|)/;function Ee(){return!0}function ke(){return!1}function Se(){try{return r.activeElement}catch(e){}}function De(e,t,n,r,i,o){var a,s;if(&quot;object&quot;==typeof t){&quot;string&quot;!=typeof n&amp;&amp;(r=r||n,n=void 0);for(s in t)De(e,s,n,r,t[s],o);return e}if(null==r&amp;&amp;null==i?(i=n,r=n=void 0):null==i&amp;&amp;(&quot;string&quot;==typeof n?(i=r,r=void 0):(i=r,r=n,n=void 0)),!1===i)i=ke;else if(!i)return e;return 1===o&amp;&amp;(a=i,(i=function(e){return w().off(e),a.apply(this,arguments)}).guid=a.guid||(a.guid=w.guid++)),e.each(function(){w.event.add(this,t,i,r,n)})}w.event={global:{},add:function(e,t,n,r,i){var o,a,s,u,l,c,f,p,d,h,g,y=J.get(e);if(y){n.handler&amp;&amp;(n=(o=n).handler,i=o.selector),i&amp;&amp;w.find.matchesSelector(be,i),n.guid||(n.guid=w.guid++),(u=y.events)||(u=y.events={}),(a=y.handle)||(a=y.handle=function(t){return&quot;undefined&quot;!=typeof w&amp;&amp;w.event.triggered!==t.type?w.event.dispatch.apply(e,arguments):void 0}),l=(t=(t||&quot;&quot;).match(M)||[&quot;&quot;]).length;while(l--)d=g=(s=Ce.exec(t[l])||[])[1],h=(s[2]||&quot;&quot;).split(&quot;.&quot;).sort(),d&amp;&amp;(f=w.event.special[d]||{},d=(i?f.delegateType:f.bindType)||d,f=w.event.special[d]||{},c=w.extend({type:d,origType:g,data:r,handler:n,guid:n.guid,selector:i,needsContext:i&amp;&amp;w.expr.match.needsContext.test(i),namespace:h.join(&quot;.&quot;)},o),(p=u[d])||((p=u[d]=[]).delegateCount=0,f.setup&amp;&amp;!1!==f.setup.call(e,r,h,a)||e.addEventListener&amp;&amp;e.addEventListener(d,a)),f.add&amp;&amp;(f.add.call(e,c),c.handler.guid||(c.handler.guid=n.guid)),i?p.splice(p.delegateCount++,0,c):p.push(c),w.event.global[d]=!0)}},remove:function(e,t,n,r,i){var o,a,s,u,l,c,f,p,d,h,g,y=J.hasData(e)&amp;&amp;J.get(e);if(y&amp;&amp;(u=y.events)){l=(t=(t||&quot;&quot;).match(M)||[&quot;&quot;]).length;while(l--)if(s=Ce.exec(t[l])||[],d=g=s[1],h=(s[2]||&quot;&quot;).split(&quot;.&quot;).sort(),d){f=w.event.special[d]||{},p=u[d=(r?f.delegateType:f.bindType)||d]||[],s=s[2]&amp;&amp;new RegExp(&quot;(^|\\\\.)&quot;+h.join(&quot;\\\\.(?:.*\\\\.|)&quot;)+&quot;(\\\\.|$)&quot;),a=o=p.length;while(o--)c=p[o],!i&amp;&amp;g!==c.origType||n&amp;&amp;n.guid!==c.guid||s&amp;&amp;!s.test(c.namespace)||r&amp;&amp;r!==c.selector&amp;&amp;(&quot;**&quot;!==r||!c.selector)||(p.splice(o,1),c.selector&amp;&amp;p.delegateCount--,f.remove&amp;&amp;f.remove.call(e,c));a&amp;&amp;!p.length&amp;&amp;(f.teardown&amp;&amp;!1!==f.teardown.call(e,h,y.handle)||w.removeEvent(e,d,y.handle),delete u[d])}else for(d in u)w.event.remove(e,d+t[l],n,r,!0);w.isEmptyObject(u)&amp;&amp;J.remove(e,&quot;handle events&quot;)}},dispatch:function(e){var t=w.event.fix(e),n,r,i,o,a,s,u=new Array(arguments.length),l=(J.get(this,&quot;events&quot;)||{})[t.type]||[],c=w.event.special[t.type]||{};for(u[0]=t,n=1;n&lt;arguments.length;n++)u[n]=arguments[n];if(t.delegateTarget=this,!c.preDispatch||!1!==c.preDispatch.call(this,t)){s=w.event.handlers.call(this,t,l),n=0;while((o=s[n++])&amp;&amp;!t.isPropagationStopped()){t.currentTarget=o.elem,r=0;while((a=o.handlers[r++])&amp;&amp;!t.isImmediatePropagationStopped())t.rnamespace&amp;&amp;!t.rnamespace.test(a.namespace)||(t.handleObj=a,t.data=a.data,void 0!==(i=((w.event.special[a.origType]||{}).handle||a.handler).apply(o.elem,u))&amp;&amp;!1===(t.result=i)&amp;&amp;(t.preventDefault(),t.stopPropagation()))}return c.postDispatch&amp;&amp;c.postDispatch.call(this,t),t.result}},handlers:function(e,t){var n,r,i,o,a,s=[],u=t.delegateCount,l=e.target;if(u&amp;&amp;l.nodeType&amp;&amp;!(&quot;click&quot;===e.type&amp;&amp;e.button&gt;=1))for(;l!==this;l=l.parentNode||this)if(1===l.nodeType&amp;&amp;(&quot;click&quot;!==e.type||!0!==l.disabled)){for(o=[],a={},n=0;n&lt;u;n++)void 0===a[i=(r=t[n]).selector+&quot; &quot;]&amp;&amp;(a[i]=r.needsContext?w(i,this).index(l)&gt;-1:w.find(i,this,null,[l]).length),a[i]&amp;&amp;o.push(r);o.length&amp;&amp;s.push({elem:l,handlers:o})}return l=this,u&lt;t.length&amp;&amp;s.push({elem:l,handlers:t.slice(u)}),s},addProp:function(e,t){Object.defineProperty(w.Event.prototype,e,{enumerable:!0,configurable:!0,get:g(t)?function(){if(this.originalEvent)return t(this.originalEvent)}:function(){if(this.originalEvent)return this.originalEvent[e]},set:function(t){Object.defineProperty(this,e,{enumerable:!0,configurable:!0,writable:!0,value:t})}})},fix:function(e){return e[w.expando]?e:new w.Event(e)},special:{load:{noBubble:!0},focus:{trigger:function(){if(this!==Se()&amp;&amp;this.focus)return this.focus(),!1},delegateType:&quot;focusin&quot;},blur:{trigger:function(){if(this===Se()&amp;&amp;this.blur)return this.blur(),!1},delegateType:&quot;focusout&quot;},click:{trigger:function(){if(&quot;checkbox&quot;===this.type&amp;&amp;this.click&amp;&amp;N(this,&quot;input&quot;))return this.click(),!1},_default:function(e){return N(e.target,&quot;a&quot;)}},beforeunload:{postDispatch:function(e){void 0!==e.result&amp;&amp;e.originalEvent&amp;&amp;(e.originalEvent.returnValue=e.result)}}}},w.removeEvent=function(e,t,n){e.removeEventListener&amp;&amp;e.removeEventListener(t,n)},w.Event=function(e,t){if(!(this instanceof w.Event))return new w.Event(e,t);e&amp;&amp;e.type?(this.originalEvent=e,this.type=e.type,this.isDefaultPrevented=e.defaultPrevented||void 0===e.defaultPrevented&amp;&amp;!1===e.returnValue?Ee:ke,this.target=e.target&amp;&amp;3===e.target.nodeType?e.target.parentNode:e.target,this.currentTarget=e.currentTarget,this.relatedTarget=e.relatedTarget):this.type=e,t&amp;&amp;w.extend(this,t),this.timeStamp=e&amp;&amp;e.timeStamp||Date.now(),this[w.expando]=!0},w.Event.prototype={constructor:w.Event,isDefaultPrevented:ke,isPropagationStopped:ke,isImmediatePropagationStopped:ke,isSimulated:!1,preventDefault:function(){var e=this.originalEvent;this.isDefaultPrevented=Ee,e&amp;&amp;!this.isSimulated&amp;&amp;e.preventDefault()},stopPropagation:function(){var e=this.originalEvent;this.isPropagationStopped=Ee,e&amp;&amp;!this.isSimulated&amp;&amp;e.stopPropagation()},stopImmediatePropagation:function(){var e=this.originalEvent;this.isImmediatePropagationStopped=Ee,e&amp;&amp;!this.isSimulated&amp;&amp;e.stopImmediatePropagation(),this.stopPropagation()}},w.each({altKey:!0,bubbles:!0,cancelable:!0,changedTouches:!0,ctrlKey:!0,detail:!0,eventPhase:!0,metaKey:!0,pageX:!0,pageY:!0,shiftKey:!0,view:!0,&quot;char&quot;:!0,charCode:!0,key:!0,keyCode:!0,button:!0,buttons:!0,clientX:!0,clientY:!0,offsetX:!0,offsetY:!0,pointerId:!0,pointerType:!0,screenX:!0,screenY:!0,targetTouches:!0,toElement:!0,touches:!0,which:function(e){var t=e.button;return null==e.which&amp;&amp;we.test(e.type)?null!=e.charCode?e.charCode:e.keyCode:!e.which&amp;&amp;void 0!==t&amp;&amp;Te.test(e.type)?1&amp;t?1:2&amp;t?3:4&amp;t?2:0:e.which}},w.event.addProp),w.each({mouseenter:&quot;mouseover&quot;,mouseleave:&quot;mouseout&quot;,pointerenter:&quot;pointerover&quot;,pointerleave:&quot;pointerout&quot;},function(e,t){w.event.special[e]={delegateType:t,bindType:t,handle:function(e){var n,r=this,i=e.relatedTarget,o=e.handleObj;return i&amp;&amp;(i===r||w.contains(r,i))||(e.type=o.origType,n=o.handler.apply(this,arguments),e.type=t),n}}}),w.fn.extend({on:function(e,t,n,r){return De(this,e,t,n,r)},one:function(e,t,n,r){return De(this,e,t,n,r,1)},off:function(e,t,n){var r,i;if(e&amp;&amp;e.preventDefault&amp;&amp;e.handleObj)return r=e.handleObj,w(e.delegateTarget).off(r.namespace?r.origType+&quot;.&quot;+r.namespace:r.origType,r.selector,r.handler),this;if(&quot;object&quot;==typeof e){for(i in e)this.off(i,t,e[i]);return this}return!1!==t&amp;&amp;&quot;function&quot;!=typeof t||(n=t,t=void 0),!1===n&amp;&amp;(n=ke),this.each(function(){w.event.remove(this,e,n,t)})}});var Ne=/&lt;(?!area|br|col|embed|hr|img|input|link|meta|param)(([a-z][^\\/\\0&gt;\\x20\\t\\r\\n\\f]*)[^&gt;]*)\\/&gt;/gi,Ae=/&lt;script|&lt;style|&lt;link/i,je=/checked\\s*(?:[^=]|=\\s*.checked.)/i,qe=/^\\s*&lt;!(?:\\[CDATA\\[|--)|(?:\\]\\]|--)&gt;\\s*$/g;function Le(e,t){return N(e,&quot;table&quot;)&amp;&amp;N(11!==t.nodeType?t:t.firstChild,&quot;tr&quot;)?w(e).children(&quot;tbody&quot;)[0]||e:e}function He(e){return e.type=(null!==e.getAttribute(&quot;type&quot;))+&quot;/&quot;+e.type,e}function Oe(e){return&quot;true/&quot;===(e.type||&quot;&quot;).slice(0,5)?e.type=e.type.slice(5):e.removeAttribute(&quot;type&quot;),e}function Pe(e,t){var n,r,i,o,a,s,u,l;if(1===t.nodeType){if(J.hasData(e)&amp;&amp;(o=J.access(e),a=J.set(t,o),l=o.events)){delete a.handle,a.events={};for(i in l)for(n=0,r=l[i].length;n&lt;r;n++)w.event.add(t,i,l[i][n])}K.hasData(e)&amp;&amp;(s=K.access(e),u=w.extend({},s),K.set(t,u))}}function Me(e,t){var n=t.nodeName.toLowerCase();&quot;input&quot;===n&amp;&amp;pe.test(e.type)?t.checked=e.checked:&quot;input&quot;!==n&amp;&amp;&quot;textarea&quot;!==n||(t.defaultValue=e.defaultValue)}function Re(e,t,n,r){t=a.apply([],t);var i,o,s,u,l,c,f=0,p=e.length,d=p-1,y=t[0],v=g(y);if(v||p&gt;1&amp;&amp;&quot;string&quot;==typeof y&amp;&amp;!h.checkClone&amp;&amp;je.test(y))return e.each(function(i){var o=e.eq(i);v&amp;&amp;(t[0]=y.call(this,i,o.html())),Re(o,t,n,r)});if(p&amp;&amp;(i=xe(t,e[0].ownerDocument,!1,e,r),o=i.firstChild,1===i.childNodes.length&amp;&amp;(i=o),o||r)){for(u=(s=w.map(ye(i,&quot;script&quot;),He)).length;f&lt;p;f++)l=i,f!==d&amp;&amp;(l=w.clone(l,!0,!0),u&amp;&amp;w.merge(s,ye(l,&quot;script&quot;))),n.call(e[f],l,f);if(u)for(c=s[s.length-1].ownerDocument,w.map(s,Oe),f=0;f&lt;u;f++)l=s[f],he.test(l.type||&quot;&quot;)&amp;&amp;!J.access(l,&quot;globalEval&quot;)&amp;&amp;w.contains(c,l)&amp;&amp;(l.src&amp;&amp;&quot;module&quot;!==(l.type||&quot;&quot;).toLowerCase()?w._evalUrl&amp;&amp;w._evalUrl(l.src):m(l.textContent.replace(qe,&quot;&quot;),c,l))}return e}function Ie(e,t,n){for(var r,i=t?w.filter(t,e):e,o=0;null!=(r=i[o]);o++)n||1!==r.nodeType||w.cleanData(ye(r)),r.parentNode&amp;&amp;(n&amp;&amp;w.contains(r.ownerDocument,r)&amp;&amp;ve(ye(r,&quot;script&quot;)),r.parentNode.removeChild(r));return e}w.extend({htmlPrefilter:function(e){return e.replace(Ne,&quot;&lt;$1&gt;&lt;/$2&gt;&quot;)},clone:function(e,t,n){var r,i,o,a,s=e.cloneNode(!0),u=w.contains(e.ownerDocument,e);if(!(h.noCloneChecked||1!==e.nodeType&amp;&amp;11!==e.nodeType||w.isXMLDoc(e)))for(a=ye(s),r=0,i=(o=ye(e)).length;r&lt;i;r++)Me(o[r],a[r]);if(t)if(n)for(o=o||ye(e),a=a||ye(s),r=0,i=o.length;r&lt;i;r++)Pe(o[r],a[r]);else Pe(e,s);return(a=ye(s,&quot;script&quot;)).length&gt;0&amp;&amp;ve(a,!u&amp;&amp;ye(e,&quot;script&quot;)),s},cleanData:function(e){for(var t,n,r,i=w.event.special,o=0;void 0!==(n=e[o]);o++)if(Y(n)){if(t=n[J.expando]){if(t.events)for(r in t.events)i[r]?w.event.remove(n,r):w.removeEvent(n,r,t.handle);n[J.expando]=void 0}n[K.expando]&amp;&amp;(n[K.expando]=void 0)}}}),w.fn.extend({detach:function(e){return Ie(this,e,!0)},remove:function(e){return Ie(this,e)},text:function(e){return z(this,function(e){return void 0===e?w.text(this):this.empty().each(function(){1!==this.nodeType&amp;&amp;11!==this.nodeType&amp;&amp;9!==this.nodeType||(this.textContent=e)})},null,e,arguments.length)},append:function(){return Re(this,arguments,function(e){1!==this.nodeType&amp;&amp;11!==this.nodeType&amp;&amp;9!==this.nodeType||Le(this,e).appendChild(e)})},prepend:function(){return Re(this,arguments,function(e){if(1===this.nodeType||11===this.nodeType||9===this.nodeType){var t=Le(this,e);t.insertBefore(e,t.firstChild)}})},before:function(){return Re(this,arguments,function(e){this.parentNode&amp;&amp;this.parentNode.insertBefore(e,this)})},after:function(){return Re(this,arguments,function(e){this.parentNode&amp;&amp;this.parentNode.insertBefore(e,this.nextSibling)})},empty:function(){for(var e,t=0;null!=(e=this[t]);t++)1===e.nodeType&amp;&amp;(w.cleanData(ye(e,!1)),e.textContent=&quot;&quot;);return this},clone:function(e,t){return e=null!=e&amp;&amp;e,t=null==t?e:t,this.map(function(){return w.clone(this,e,t)})},html:function(e){return z(this,function(e){var t=this[0]||{},n=0,r=this.length;if(void 0===e&amp;&amp;1===t.nodeType)return t.innerHTML;if(&quot;string&quot;==typeof e&amp;&amp;!Ae.test(e)&amp;&amp;!ge[(de.exec(e)||[&quot;&quot;,&quot;&quot;])[1].toLowerCase()]){e=w.htmlPrefilter(e);try{for(;n&lt;r;n++)1===(t=this[n]||{}).nodeType&amp;&amp;(w.cleanData(ye(t,!1)),t.innerHTML=e);t=0}catch(e){}}t&amp;&amp;this.empty().append(e)},null,e,arguments.length)},replaceWith:function(){var e=[];return Re(this,arguments,function(t){var n=this.parentNode;w.inArray(this,e)&lt;0&amp;&amp;(w.cleanData(ye(this)),n&amp;&amp;n.replaceChild(t,this))},e)}}),w.each({appendTo:&quot;append&quot;,prependTo:&quot;prepend&quot;,insertBefore:&quot;before&quot;,insertAfter:&quot;after&quot;,replaceAll:&quot;replaceWith&quot;},function(e,t){w.fn[e]=function(e){for(var n,r=[],i=w(e),o=i.length-1,a=0;a&lt;=o;a++)n=a===o?this:this.clone(!0),w(i[a])[t](n),s.apply(r,n.get());return this.pushStack(r)}});var We=new RegExp(&quot;^(&quot;+re+&quot;)(?!px)[a-z%]+$&quot;,&quot;i&quot;),$e=function(t){var n=t.ownerDocument.defaultView;return n&amp;&amp;n.opener||(n=e),n.getComputedStyle(t)},Be=new RegExp(oe.join(&quot;|&quot;),&quot;i&quot;);!function(){function t(){if(c){l.style.cssText=&quot;position:absolute;left:-11111px;width:60px;margin-top:1px;padding:0;border:0&quot;,c.style.cssText=&quot;position:relative;display:block;box-sizing:border-box;overflow:scroll;margin:auto;border:1px;padding:1px;width:60%;top:1%&quot;,be.appendChild(l).appendChild(c);var t=e.getComputedStyle(c);i=&quot;1%&quot;!==t.top,u=12===n(t.marginLeft),c.style.right=&quot;60%&quot;,s=36===n(t.right),o=36===n(t.width),c.style.position=&quot;absolute&quot;,a=36===c.offsetWidth||&quot;absolute&quot;,be.removeChild(l),c=null}}function n(e){return Math.round(parseFloat(e))}var i,o,a,s,u,l=r.createElement(&quot;div&quot;),c=r.createElement(&quot;div&quot;);c.style&amp;&amp;(c.style.backgroundClip=&quot;content-box&quot;,c.cloneNode(!0).style.backgroundClip=&quot;&quot;,h.clearCloneStyle=&quot;content-box&quot;===c.style.backgroundClip,w.extend(h,{boxSizingReliable:function(){return t(),o},pixelBoxStyles:function(){return t(),s},pixelPosition:function(){return t(),i},reliableMarginLeft:function(){return t(),u},scrollboxSize:function(){return t(),a}}))}();function Fe(e,t,n){var r,i,o,a,s=e.style;return(n=n||$e(e))&amp;&amp;(&quot;&quot;!==(a=n.getPropertyValue(t)||n[t])||w.contains(e.ownerDocument,e)||(a=w.style(e,t)),!h.pixelBoxStyles()&amp;&amp;We.test(a)&amp;&amp;Be.test(t)&amp;&amp;(r=s.width,i=s.minWidth,o=s.maxWidth,s.minWidth=s.maxWidth=s.width=a,a=n.width,s.width=r,s.minWidth=i,s.maxWidth=o)),void 0!==a?a+&quot;&quot;:a}function _e(e,t){return{get:function(){if(!e())return(this.get=t).apply(this,arguments);delete this.get}}}var ze=/^(none|table(?!-c[ea]).+)/,Xe=/^--/,Ue={position:&quot;absolute&quot;,visibility:&quot;hidden&quot;,display:&quot;block&quot;},Ve={letterSpacing:&quot;0&quot;,fontWeight:&quot;400&quot;},Ge=[&quot;Webkit&quot;,&quot;Moz&quot;,&quot;ms&quot;],Ye=r.createElement(&quot;div&quot;).style;function Qe(e){if(e in Ye)return e;var t=e[0].toUpperCase()+e.slice(1),n=Ge.length;while(n--)if((e=Ge[n]+t)in Ye)return e}function Je(e){var t=w.cssProps[e];return t||(t=w.cssProps[e]=Qe(e)||e),t}function Ke(e,t,n){var r=ie.exec(t);return r?Math.max(0,r[2]-(n||0))+(r[3]||&quot;px&quot;):t}function Ze(e,t,n,r,i,o){var a=&quot;width&quot;===t?1:0,s=0,u=0;if(n===(r?&quot;border&quot;:&quot;content&quot;))return 0;for(;a&lt;4;a+=2)&quot;margin&quot;===n&amp;&amp;(u+=w.css(e,n+oe[a],!0,i)),r?(&quot;content&quot;===n&amp;&amp;(u-=w.css(e,&quot;padding&quot;+oe[a],!0,i)),&quot;margin&quot;!==n&amp;&amp;(u-=w.css(e,&quot;border&quot;+oe[a]+&quot;Width&quot;,!0,i))):(u+=w.css(e,&quot;padding&quot;+oe[a],!0,i),&quot;padding&quot;!==n?u+=w.css(e,&quot;border&quot;+oe[a]+&quot;Width&quot;,!0,i):s+=w.css(e,&quot;border&quot;+oe[a]+&quot;Width&quot;,!0,i));return!r&amp;&amp;o&gt;=0&amp;&amp;(u+=Math.max(0,Math.ceil(e[&quot;offset&quot;+t[0].toUpperCase()+t.slice(1)]-o-u-s-.5))),u}function et(e,t,n){var r=$e(e),i=Fe(e,t,r),o=&quot;border-box&quot;===w.css(e,&quot;boxSizing&quot;,!1,r),a=o;if(We.test(i)){if(!n)return i;i=&quot;auto&quot;}return a=a&amp;&amp;(h.boxSizingReliable()||i===e.style[t]),(&quot;auto&quot;===i||!parseFloat(i)&amp;&amp;&quot;inline&quot;===w.css(e,&quot;display&quot;,!1,r))&amp;&amp;(i=e[&quot;offset&quot;+t[0].toUpperCase()+t.slice(1)],a=!0),(i=parseFloat(i)||0)+Ze(e,t,n||(o?&quot;border&quot;:&quot;content&quot;),a,r,i)+&quot;px&quot;}w.extend({cssHooks:{opacity:{get:function(e,t){if(t){var n=Fe(e,&quot;opacity&quot;);return&quot;&quot;===n?&quot;1&quot;:n}}}},cssNumber:{animationIterationCount:!0,columnCount:!0,fillOpacity:!0,flexGrow:!0,flexShrink:!0,fontWeight:!0,lineHeight:!0,opacity:!0,order:!0,orphans:!0,widows:!0,zIndex:!0,zoom:!0},cssProps:{},style:function(e,t,n,r){if(e&amp;&amp;3!==e.nodeType&amp;&amp;8!==e.nodeType&amp;&amp;e.style){var i,o,a,s=G(t),u=Xe.test(t),l=e.style;if(u||(t=Je(s)),a=w.cssHooks[t]||w.cssHooks[s],void 0===n)return a&amp;&amp;&quot;get&quot;in a&amp;&amp;void 0!==(i=a.get(e,!1,r))?i:l[t];&quot;string&quot;==(o=typeof n)&amp;&amp;(i=ie.exec(n))&amp;&amp;i[1]&amp;&amp;(n=ue(e,t,i),o=&quot;number&quot;),null!=n&amp;&amp;n===n&amp;&amp;(&quot;number&quot;===o&amp;&amp;(n+=i&amp;&amp;i[3]||(w.cssNumber[s]?&quot;&quot;:&quot;px&quot;)),h.clearCloneStyle||&quot;&quot;!==n||0!==t.indexOf(&quot;background&quot;)||(l[t]=&quot;inherit&quot;),a&amp;&amp;&quot;set&quot;in a&amp;&amp;void 0===(n=a.set(e,n,r))||(u?l.setProperty(t,n):l[t]=n))}},css:function(e,t,n,r){var i,o,a,s=G(t);return Xe.test(t)||(t=Je(s)),(a=w.cssHooks[t]||w.cssHooks[s])&amp;&amp;&quot;get&quot;in a&amp;&amp;(i=a.get(e,!0,n)),void 0===i&amp;&amp;(i=Fe(e,t,r)),&quot;normal&quot;===i&amp;&amp;t in Ve&amp;&amp;(i=Ve[t]),&quot;&quot;===n||n?(o=parseFloat(i),!0===n||isFinite(o)?o||0:i):i}}),w.each([&quot;height&quot;,&quot;width&quot;],function(e,t){w.cssHooks[t]={get:function(e,n,r){if(n)return!ze.test(w.css(e,&quot;display&quot;))||e.getClientRects().length&amp;&amp;e.getBoundingClientRect().width?et(e,t,r):se(e,Ue,function(){return et(e,t,r)})},set:function(e,n,r){var i,o=$e(e),a=&quot;border-box&quot;===w.css(e,&quot;boxSizing&quot;,!1,o),s=r&amp;&amp;Ze(e,t,r,a,o);return a&amp;&amp;h.scrollboxSize()===o.position&amp;&amp;(s-=Math.ceil(e[&quot;offset&quot;+t[0].toUpperCase()+t.slice(1)]-parseFloat(o[t])-Ze(e,t,&quot;border&quot;,!1,o)-.5)),s&amp;&amp;(i=ie.exec(n))&amp;&amp;&quot;px&quot;!==(i[3]||&quot;px&quot;)&amp;&amp;(e.style[t]=n,n=w.css(e,t)),Ke(e,n,s)}}}),w.cssHooks.marginLeft=_e(h.reliableMarginLeft,function(e,t){if(t)return(parseFloat(Fe(e,&quot;marginLeft&quot;))||e.getBoundingClientRect().left-se(e,{marginLeft:0},function(){return e.getBoundingClientRect().left}))+&quot;px&quot;}),w.each({margin:&quot;&quot;,padding:&quot;&quot;,border:&quot;Width&quot;},function(e,t){w.cssHooks[e+t]={expand:function(n){for(var r=0,i={},o=&quot;string&quot;==typeof n?n.split(&quot; &quot;):[n];r&lt;4;r++)i[e+oe[r]+t]=o[r]||o[r-2]||o[0];return i}},&quot;margin&quot;!==e&amp;&amp;(w.cssHooks[e+t].set=Ke)}),w.fn.extend({css:function(e,t){return z(this,function(e,t,n){var r,i,o={},a=0;if(Array.isArray(t)){for(r=$e(e),i=t.length;a&lt;i;a++)o[t[a]]=w.css(e,t[a],!1,r);return o}return void 0!==n?w.style(e,t,n):w.css(e,t)},e,t,arguments.length&gt;1)}});function tt(e,t,n,r,i){return new tt.prototype.init(e,t,n,r,i)}w.Tween=tt,tt.prototype={constructor:tt,init:function(e,t,n,r,i,o){this.elem=e,this.prop=n,this.easing=i||w.easing._default,this.options=t,this.start=this.now=this.cur(),this.end=r,this.unit=o||(w.cssNumber[n]?&quot;&quot;:&quot;px&quot;)},cur:function(){var e=tt.propHooks[this.prop];return e&amp;&amp;e.get?e.get(this):tt.propHooks._default.get(this)},run:function(e){var t,n=tt.propHooks[this.prop];return this.options.duration?this.pos=t=w.easing[this.easing](e,this.options.duration*e,0,1,this.options.duration):this.pos=t=e,this.now=(this.end-this.start)*t+this.start,this.options.step&amp;&amp;this.options.step.call(this.elem,this.now,this),n&amp;&amp;n.set?n.set(this):tt.propHooks._default.set(this),this}},tt.prototype.init.prototype=tt.prototype,tt.propHooks={_default:{get:function(e){var t;return 1!==e.elem.nodeType||null!=e.elem[e.prop]&amp;&amp;null==e.elem.style[e.prop]?e.elem[e.prop]:(t=w.css(e.elem,e.prop,&quot;&quot;))&amp;&amp;&quot;auto&quot;!==t?t:0},set:function(e){w.fx.step[e.prop]?w.fx.step[e.prop](e):1!==e.elem.nodeType||null==e.elem.style[w.cssProps[e.prop]]&amp;&amp;!w.cssHooks[e.prop]?e.elem[e.prop]=e.now:w.style(e.elem,e.prop,e.now+e.unit)}}},tt.propHooks.scrollTop=tt.propHooks.scrollLeft={set:function(e){e.elem.nodeType&amp;&amp;e.elem.parentNode&amp;&amp;(e.elem[e.prop]=e.now)}},w.easing={linear:function(e){return e},swing:function(e){return.5-Math.cos(e*Math.PI)/2},_default:&quot;swing&quot;},w.fx=tt.prototype.init,w.fx.step={};var nt,rt,it=/^(?:toggle|show|hide)$/,ot=/queueHooks$/;function at(){rt&amp;&amp;(!1===r.hidden&amp;&amp;e.requestAnimationFrame?e.requestAnimationFrame(at):e.setTimeout(at,w.fx.interval),w.fx.tick())}function st(){return e.setTimeout(function(){nt=void 0}),nt=Date.now()}function ut(e,t){var n,r=0,i={height:e};for(t=t?1:0;r&lt;4;r+=2-t)i[&quot;margin&quot;+(n=oe[r])]=i[&quot;padding&quot;+n]=e;return t&amp;&amp;(i.opacity=i.width=e),i}function lt(e,t,n){for(var r,i=(pt.tweeners[t]||[]).concat(pt.tweeners[&quot;*&quot;]),o=0,a=i.length;o&lt;a;o++)if(r=i[o].call(n,t,e))return r}function ct(e,t,n){var r,i,o,a,s,u,l,c,f=&quot;width&quot;in t||&quot;height&quot;in t,p=this,d={},h=e.style,g=e.nodeType&amp;&amp;ae(e),y=J.get(e,&quot;fxshow&quot;);n.queue||(null==(a=w._queueHooks(e,&quot;fx&quot;)).unqueued&amp;&amp;(a.unqueued=0,s=a.empty.fire,a.empty.fire=function(){a.unqueued||s()}),a.unqueued++,p.always(function(){p.always(function(){a.unqueued--,w.queue(e,&quot;fx&quot;).length||a.empty.fire()})}));for(r in t)if(i=t[r],it.test(i)){if(delete t[r],o=o||&quot;toggle&quot;===i,i===(g?&quot;hide&quot;:&quot;show&quot;)){if(&quot;show&quot;!==i||!y||void 0===y[r])continue;g=!0}d[r]=y&amp;&amp;y[r]||w.style(e,r)}if((u=!w.isEmptyObject(t))||!w.isEmptyObject(d)){f&amp;&amp;1===e.nodeType&amp;&amp;(n.overflow=[h.overflow,h.overflowX,h.overflowY],null==(l=y&amp;&amp;y.display)&amp;&amp;(l=J.get(e,&quot;display&quot;)),&quot;none&quot;===(c=w.css(e,&quot;display&quot;))&amp;&amp;(l?c=l:(fe([e],!0),l=e.style.display||l,c=w.css(e,&quot;display&quot;),fe([e]))),(&quot;inline&quot;===c||&quot;inline-block&quot;===c&amp;&amp;null!=l)&amp;&amp;&quot;none&quot;===w.css(e,&quot;float&quot;)&amp;&amp;(u||(p.done(function(){h.display=l}),null==l&amp;&amp;(c=h.display,l=&quot;none&quot;===c?&quot;&quot;:c)),h.display=&quot;inline-block&quot;)),n.overflow&amp;&amp;(h.overflow=&quot;hidden&quot;,p.always(function(){h.overflow=n.overflow[0],h.overflowX=n.overflow[1],h.overflowY=n.overflow[2]})),u=!1;for(r in d)u||(y?&quot;hidden&quot;in y&amp;&amp;(g=y.hidden):y=J.access(e,&quot;fxshow&quot;,{display:l}),o&amp;&amp;(y.hidden=!g),g&amp;&amp;fe([e],!0),p.done(function(){g||fe([e]),J.remove(e,&quot;fxshow&quot;);for(r in d)w.style(e,r,d[r])})),u=lt(g?y[r]:0,r,p),r in y||(y[r]=u.start,g&amp;&amp;(u.end=u.start,u.start=0))}}function ft(e,t){var n,r,i,o,a;for(n in e)if(r=G(n),i=t[r],o=e[n],Array.isArray(o)&amp;&amp;(i=o[1],o=e[n]=o[0]),n!==r&amp;&amp;(e[r]=o,delete e[n]),(a=w.cssHooks[r])&amp;&amp;&quot;expand&quot;in a){o=a.expand(o),delete e[r];for(n in o)n in e||(e[n]=o[n],t[n]=i)}else t[r]=i}function pt(e,t,n){var r,i,o=0,a=pt.prefilters.length,s=w.Deferred().always(function(){delete u.elem}),u=function(){if(i)return!1;for(var t=nt||st(),n=Math.max(0,l.startTime+l.duration-t),r=1-(n/l.duration||0),o=0,a=l.tweens.length;o&lt;a;o++)l.tweens[o].run(r);return s.notifyWith(e,[l,r,n]),r&lt;1&amp;&amp;a?n:(a||s.notifyWith(e,[l,1,0]),s.resolveWith(e,[l]),!1)},l=s.promise({elem:e,props:w.extend({},t),opts:w.extend(!0,{specialEasing:{},easing:w.easing._default},n),originalProperties:t,originalOptions:n,startTime:nt||st(),duration:n.duration,tweens:[],createTween:function(t,n){var r=w.Tween(e,l.opts,t,n,l.opts.specialEasing[t]||l.opts.easing);return l.tweens.push(r),r},stop:function(t){var n=0,r=t?l.tweens.length:0;if(i)return this;for(i=!0;n&lt;r;n++)l.tweens[n].run(1);return t?(s.notifyWith(e,[l,1,0]),s.resolveWith(e,[l,t])):s.rejectWith(e,[l,t]),this}}),c=l.props;for(ft(c,l.opts.specialEasing);o&lt;a;o++)if(r=pt.prefilters[o].call(l,e,c,l.opts))return g(r.stop)&amp;&amp;(w._queueHooks(l.elem,l.opts.queue).stop=r.stop.bind(r)),r;return w.map(c,lt,l),g(l.opts.start)&amp;&amp;l.opts.start.call(e,l),l.progress(l.opts.progress).done(l.opts.done,l.opts.complete).fail(l.opts.fail).always(l.opts.always),w.fx.timer(w.extend(u,{elem:e,anim:l,queue:l.opts.queue})),l}w.Animation=w.extend(pt,{tweeners:{&quot;*&quot;:[function(e,t){var n=this.createTween(e,t);return ue(n.elem,e,ie.exec(t),n),n}]},tweener:function(e,t){g(e)?(t=e,e=[&quot;*&quot;]):e=e.match(M);for(var n,r=0,i=e.length;r&lt;i;r++)n=e[r],pt.tweeners[n]=pt.tweeners[n]||[],pt.tweeners[n].unshift(t)},prefilters:[ct],prefilter:function(e,t){t?pt.prefilters.unshift(e):pt.prefilters.push(e)}}),w.speed=function(e,t,n){var r=e&amp;&amp;&quot;object&quot;==typeof e?w.extend({},e):{complete:n||!n&amp;&amp;t||g(e)&amp;&amp;e,duration:e,easing:n&amp;&amp;t||t&amp;&amp;!g(t)&amp;&amp;t};return w.fx.off?r.duration=0:&quot;number&quot;!=typeof r.duration&amp;&amp;(r.duration in w.fx.speeds?r.duration=w.fx.speeds[r.duration]:r.duration=w.fx.speeds._default),null!=r.queue&amp;&amp;!0!==r.queue||(r.queue=&quot;fx&quot;),r.old=r.complete,r.complete=function(){g(r.old)&amp;&amp;r.old.call(this),r.queue&amp;&amp;w.dequeue(this,r.queue)},r},w.fn.extend({fadeTo:function(e,t,n,r){return this.filter(ae).css(&quot;opacity&quot;,0).show().end().animate({opacity:t},e,n,r)},animate:function(e,t,n,r){var i=w.isEmptyObject(e),o=w.speed(t,n,r),a=function(){var t=pt(this,w.extend({},e),o);(i||J.get(this,&quot;finish&quot;))&amp;&amp;t.stop(!0)};return a.finish=a,i||!1===o.queue?this.each(a):this.queue(o.queue,a)},stop:function(e,t,n){var r=function(e){var t=e.stop;delete e.stop,t(n)};return&quot;string&quot;!=typeof e&amp;&amp;(n=t,t=e,e=void 0),t&amp;&amp;!1!==e&amp;&amp;this.queue(e||&quot;fx&quot;,[]),this.each(function(){var t=!0,i=null!=e&amp;&amp;e+&quot;queueHooks&quot;,o=w.timers,a=J.get(this);if(i)a[i]&amp;&amp;a[i].stop&amp;&amp;r(a[i]);else for(i in a)a[i]&amp;&amp;a[i].stop&amp;&amp;ot.test(i)&amp;&amp;r(a[i]);for(i=o.length;i--;)o[i].elem!==this||null!=e&amp;&amp;o[i].queue!==e||(o[i].anim.stop(n),t=!1,o.splice(i,1));!t&amp;&amp;n||w.dequeue(this,e)})},finish:function(e){return!1!==e&amp;&amp;(e=e||&quot;fx&quot;),this.each(function(){var t,n=J.get(this),r=n[e+&quot;queue&quot;],i=n[e+&quot;queueHooks&quot;],o=w.timers,a=r?r.length:0;for(n.finish=!0,w.queue(this,e,[]),i&amp;&amp;i.stop&amp;&amp;i.stop.call(this,!0),t=o.length;t--;)o[t].elem===this&amp;&amp;o[t].queue===e&amp;&amp;(o[t].anim.stop(!0),o.splice(t,1));for(t=0;t&lt;a;t++)r[t]&amp;&amp;r[t].finish&amp;&amp;r[t].finish.call(this);delete n.finish})}}),w.each([&quot;toggle&quot;,&quot;show&quot;,&quot;hide&quot;],function(e,t){var n=w.fn[t];w.fn[t]=function(e,r,i){return null==e||&quot;boolean&quot;==typeof e?n.apply(this,arguments):this.animate(ut(t,!0),e,r,i)}}),w.each({slideDown:ut(&quot;show&quot;),slideUp:ut(&quot;hide&quot;),slideToggle:ut(&quot;toggle&quot;),fadeIn:{opacity:&quot;show&quot;},fadeOut:{opacity:&quot;hide&quot;},fadeToggle:{opacity:&quot;toggle&quot;}},function(e,t){w.fn[e]=function(e,n,r){return this.animate(t,e,n,r)}}),w.timers=[],w.fx.tick=function(){var e,t=0,n=w.timers;for(nt=Date.now();t&lt;n.length;t++)(e=n[t])()||n[t]!==e||n.splice(t--,1);n.length||w.fx.stop(),nt=void 0},w.fx.timer=function(e){w.timers.push(e),w.fx.start()},w.fx.interval=13,w.fx.start=function(){rt||(rt=!0,at())},w.fx.stop=function(){rt=null},w.fx.speeds={slow:600,fast:200,_default:400},w.fn.delay=function(t,n){return t=w.fx?w.fx.speeds[t]||t:t,n=n||&quot;fx&quot;,this.queue(n,function(n,r){var i=e.setTimeout(n,t);r.stop=function(){e.clearTimeout(i)}})},function(){var e=r.createElement(&quot;input&quot;),t=r.createElement(&quot;select&quot;).appendChild(r.createElement(&quot;option&quot;));e.type=&quot;checkbox&quot;,h.checkOn=&quot;&quot;!==e.value,h.optSelected=t.selected,(e=r.createElement(&quot;input&quot;)).value=&quot;t&quot;,e.type=&quot;radio&quot;,h.radioValue=&quot;t&quot;===e.value}();var dt,ht=w.expr.attrHandle;w.fn.extend({attr:function(e,t){return z(this,w.attr,e,t,arguments.length&gt;1)},removeAttr:function(e){return this.each(function(){w.removeAttr(this,e)})}}),w.extend({attr:function(e,t,n){var r,i,o=e.nodeType;if(3!==o&amp;&amp;8!==o&amp;&amp;2!==o)return&quot;undefined&quot;==typeof e.getAttribute?w.prop(e,t,n):(1===o&amp;&amp;w.isXMLDoc(e)||(i=w.attrHooks[t.toLowerCase()]||(w.expr.match.bool.test(t)?dt:void 0)),void 0!==n?null===n?void w.removeAttr(e,t):i&amp;&amp;&quot;set&quot;in i&amp;&amp;void 0!==(r=i.set(e,n,t))?r:(e.setAttribute(t,n+&quot;&quot;),n):i&amp;&amp;&quot;get&quot;in i&amp;&amp;null!==(r=i.get(e,t))?r:null==(r=w.find.attr(e,t))?void 0:r)},attrHooks:{type:{set:function(e,t){if(!h.radioValue&amp;&amp;&quot;radio&quot;===t&amp;&amp;N(e,&quot;input&quot;)){var n=e.value;return e.setAttribute(&quot;type&quot;,t),n&amp;&amp;(e.value=n),t}}}},removeAttr:function(e,t){var n,r=0,i=t&amp;&amp;t.match(M);if(i&amp;&amp;1===e.nodeType)while(n=i[r++])e.removeAttribute(n)}}),dt={set:function(e,t,n){return!1===t?w.removeAttr(e,n):e.setAttribute(n,n),n}},w.each(w.expr.match.bool.source.match(/\\w+/g),function(e,t){var n=ht[t]||w.find.attr;ht[t]=function(e,t,r){var i,o,a=t.toLowerCase();return r||(o=ht[a],ht[a]=i,i=null!=n(e,t,r)?a:null,ht[a]=o),i}});var gt=/^(?:input|select|textarea|button)$/i,yt=/^(?:a|area)$/i;w.fn.extend({prop:function(e,t){return z(this,w.prop,e,t,arguments.length&gt;1)},removeProp:function(e){return this.each(function(){delete this[w.propFix[e]||e]})}}),w.extend({prop:function(e,t,n){var r,i,o=e.nodeType;if(3!==o&amp;&amp;8!==o&amp;&amp;2!==o)return 1===o&amp;&amp;w.isXMLDoc(e)||(t=w.propFix[t]||t,i=w.propHooks[t]),void 0!==n?i&amp;&amp;&quot;set&quot;in i&amp;&amp;void 0!==(r=i.set(e,n,t))?r:e[t]=n:i&amp;&amp;&quot;get&quot;in i&amp;&amp;null!==(r=i.get(e,t))?r:e[t]},propHooks:{tabIndex:{get:function(e){var t=w.find.attr(e,&quot;tabindex&quot;);return t?parseInt(t,10):gt.test(e.nodeName)||yt.test(e.nodeName)&amp;&amp;e.href?0:-1}}},propFix:{&quot;for&quot;:&quot;htmlFor&quot;,&quot;class&quot;:&quot;className&quot;}}),h.optSelected||(w.propHooks.selected={get:function(e){var t=e.parentNode;return t&amp;&amp;t.parentNode&amp;&amp;t.parentNode.selectedIndex,null},set:function(e){var t=e.parentNode;t&amp;&amp;(t.selectedIndex,t.parentNode&amp;&amp;t.parentNode.selectedIndex)}}),w.each([&quot;tabIndex&quot;,&quot;readOnly&quot;,&quot;maxLength&quot;,&quot;cellSpacing&quot;,&quot;cellPadding&quot;,&quot;rowSpan&quot;,&quot;colSpan&quot;,&quot;useMap&quot;,&quot;frameBorder&quot;,&quot;contentEditable&quot;],function(){w.propFix[this.toLowerCase()]=this});function vt(e){return(e.match(M)||[]).join(&quot; &quot;)}function mt(e){return e.getAttribute&amp;&amp;e.getAttribute(&quot;class&quot;)||&quot;&quot;}function xt(e){return Array.isArray(e)?e:&quot;string&quot;==typeof e?e.match(M)||[]:[]}w.fn.extend({addClass:function(e){var t,n,r,i,o,a,s,u=0;if(g(e))return this.each(function(t){w(this).addClass(e.call(this,t,mt(this)))});if((t=xt(e)).length)while(n=this[u++])if(i=mt(n),r=1===n.nodeType&amp;&amp;&quot; &quot;+vt(i)+&quot; &quot;){a=0;while(o=t[a++])r.indexOf(&quot; &quot;+o+&quot; &quot;)&lt;0&amp;&amp;(r+=o+&quot; &quot;);i!==(s=vt(r))&amp;&amp;n.setAttribute(&quot;class&quot;,s)}return this},removeClass:function(e){var t,n,r,i,o,a,s,u=0;if(g(e))return this.each(function(t){w(this).removeClass(e.call(this,t,mt(this)))});if(!arguments.length)return this.attr(&quot;class&quot;,&quot;&quot;);if((t=xt(e)).length)while(n=this[u++])if(i=mt(n),r=1===n.nodeType&amp;&amp;&quot; &quot;+vt(i)+&quot; &quot;){a=0;while(o=t[a++])while(r.indexOf(&quot; &quot;+o+&quot; &quot;)&gt;-1)r=r.replace(&quot; &quot;+o+&quot; &quot;,&quot; &quot;);i!==(s=vt(r))&amp;&amp;n.setAttribute(&quot;class&quot;,s)}return this},toggleClass:function(e,t){var n=typeof e,r=&quot;string&quot;===n||Array.isArray(e);return&quot;boolean&quot;==typeof t&amp;&amp;r?t?this.addClass(e):this.removeClass(e):g(e)?this.each(function(n){w(this).toggleClass(e.call(this,n,mt(this),t),t)}):this.each(function(){var t,i,o,a;if(r){i=0,o=w(this),a=xt(e);while(t=a[i++])o.hasClass(t)?o.removeClass(t):o.addClass(t)}else void 0!==e&amp;&amp;&quot;boolean&quot;!==n||((t=mt(this))&amp;&amp;J.set(this,&quot;__className__&quot;,t),this.setAttribute&amp;&amp;this.setAttribute(&quot;class&quot;,t||!1===e?&quot;&quot;:J.get(this,&quot;__className__&quot;)||&quot;&quot;))})},hasClass:function(e){var t,n,r=0;t=&quot; &quot;+e+&quot; &quot;;while(n=this[r++])if(1===n.nodeType&amp;&amp;(&quot; &quot;+vt(mt(n))+&quot; &quot;).indexOf(t)&gt;-1)return!0;return!1}});var bt=/\\r/g;w.fn.extend({val:function(e){var t,n,r,i=this[0];{if(arguments.length)return r=g(e),this.each(function(n){var i;1===this.nodeType&amp;&amp;(null==(i=r?e.call(this,n,w(this).val()):e)?i=&quot;&quot;:&quot;number&quot;==typeof i?i+=&quot;&quot;:Array.isArray(i)&amp;&amp;(i=w.map(i,function(e){return null==e?&quot;&quot;:e+&quot;&quot;})),(t=w.valHooks[this.type]||w.valHooks[this.nodeName.toLowerCase()])&amp;&amp;&quot;set&quot;in t&amp;&amp;void 0!==t.set(this,i,&quot;value&quot;)||(this.value=i))});if(i)return(t=w.valHooks[i.type]||w.valHooks[i.nodeName.toLowerCase()])&amp;&amp;&quot;get&quot;in t&amp;&amp;void 0!==(n=t.get(i,&quot;value&quot;))?n:&quot;string&quot;==typeof(n=i.value)?n.replace(bt,&quot;&quot;):null==n?&quot;&quot;:n}}}),w.extend({valHooks:{option:{get:function(e){var t=w.find.attr(e,&quot;value&quot;);return null!=t?t:vt(w.text(e))}},select:{get:function(e){var t,n,r,i=e.options,o=e.selectedIndex,a=&quot;select-one&quot;===e.type,s=a?null:[],u=a?o+1:i.length;for(r=o&lt;0?u:a?o:0;r&lt;u;r++)if(((n=i[r]).selected||r===o)&amp;&amp;!n.disabled&amp;&amp;(!n.parentNode.disabled||!N(n.parentNode,&quot;optgroup&quot;))){if(t=w(n).val(),a)return t;s.push(t)}return s},set:function(e,t){var n,r,i=e.options,o=w.makeArray(t),a=i.length;while(a--)((r=i[a]).selected=w.inArray(w.valHooks.option.get(r),o)&gt;-1)&amp;&amp;(n=!0);return n||(e.selectedIndex=-1),o}}}}),w.each([&quot;radio&quot;,&quot;checkbox&quot;],function(){w.valHooks[this]={set:function(e,t){if(Array.isArray(t))return e.checked=w.inArray(w(e).val(),t)&gt;-1}},h.checkOn||(w.valHooks[this].get=function(e){return null===e.getAttribute(&quot;value&quot;)?&quot;on&quot;:e.value})}),h.focusin=&quot;onfocusin&quot;in e;var wt=/^(?:focusinfocus|focusoutblur)$/,Tt=function(e){e.stopPropagation()};w.extend(w.event,{trigger:function(t,n,i,o){var a,s,u,l,c,p,d,h,v=[i||r],m=f.call(t,&quot;type&quot;)?t.type:t,x=f.call(t,&quot;namespace&quot;)?t.namespace.split(&quot;.&quot;):[];if(s=h=u=i=i||r,3!==i.nodeType&amp;&amp;8!==i.nodeType&amp;&amp;!wt.test(m+w.event.triggered)&amp;&amp;(m.indexOf(&quot;.&quot;)&gt;-1&amp;&amp;(m=(x=m.split(&quot;.&quot;)).shift(),x.sort()),c=m.indexOf(&quot;:&quot;)&lt;0&amp;&amp;&quot;on&quot;+m,t=t[w.expando]?t:new w.Event(m,&quot;object&quot;==typeof t&amp;&amp;t),t.isTrigger=o?2:3,t.namespace=x.join(&quot;.&quot;),t.rnamespace=t.namespace?new RegExp(&quot;(^|\\\\.)&quot;+x.join(&quot;\\\\.(?:.*\\\\.|)&quot;)+&quot;(\\\\.|$)&quot;):null,t.result=void 0,t.target||(t.target=i),n=null==n?[t]:w.makeArray(n,[t]),d=w.event.special[m]||{},o||!d.trigger||!1!==d.trigger.apply(i,n))){if(!o&amp;&amp;!d.noBubble&amp;&amp;!y(i)){for(l=d.delegateType||m,wt.test(l+m)||(s=s.parentNode);s;s=s.parentNode)v.push(s),u=s;u===(i.ownerDocument||r)&amp;&amp;v.push(u.defaultView||u.parentWindow||e)}a=0;while((s=v[a++])&amp;&amp;!t.isPropagationStopped())h=s,t.type=a&gt;1?l:d.bindType||m,(p=(J.get(s,&quot;events&quot;)||{})[t.type]&amp;&amp;J.get(s,&quot;handle&quot;))&amp;&amp;p.apply(s,n),(p=c&amp;&amp;s[c])&amp;&amp;p.apply&amp;&amp;Y(s)&amp;&amp;(t.result=p.apply(s,n),!1===t.result&amp;&amp;t.preventDefault());return t.type=m,o||t.isDefaultPrevented()||d._default&amp;&amp;!1!==d._default.apply(v.pop(),n)||!Y(i)||c&amp;&amp;g(i[m])&amp;&amp;!y(i)&amp;&amp;((u=i[c])&amp;&amp;(i[c]=null),w.event.triggered=m,t.isPropagationStopped()&amp;&amp;h.addEventListener(m,Tt),i[m](),t.isPropagationStopped()&amp;&amp;h.removeEventListener(m,Tt),w.event.triggered=void 0,u&amp;&amp;(i[c]=u)),t.result}},simulate:function(e,t,n){var r=w.extend(new w.Event,n,{type:e,isSimulated:!0});w.event.trigger(r,null,t)}}),w.fn.extend({trigger:function(e,t){return this.each(function(){w.event.trigger(e,t,this)})},triggerHandler:function(e,t){var n=this[0];if(n)return w.event.trigger(e,t,n,!0)}}),h.focusin||w.each({focus:&quot;focusin&quot;,blur:&quot;focusout&quot;},function(e,t){var n=function(e){w.event.simulate(t,e.target,w.event.fix(e))};w.event.special[t]={setup:function(){var r=this.ownerDocument||this,i=J.access(r,t);i||r.addEventListener(e,n,!0),J.access(r,t,(i||0)+1)},teardown:function(){var r=this.ownerDocument||this,i=J.access(r,t)-1;i?J.access(r,t,i):(r.removeEventListener(e,n,!0),J.remove(r,t))}}});var Ct=e.location,Et=Date.now(),kt=/\\?/;w.parseXML=function(t){var n;if(!t||&quot;string&quot;!=typeof t)return null;try{n=(new e.DOMParser).parseFromString(t,&quot;text/xml&quot;)}catch(e){n=void 0}return n&amp;&amp;!n.getElementsByTagName(&quot;parsererror&quot;).length||w.error(&quot;Invalid XML: &quot;+t),n};var St=/\\[\\]$/,Dt=/\\r?\\n/g,Nt=/^(?:submit|button|image|reset|file)$/i,At=/^(?:input|select|textarea|keygen)/i;function jt(e,t,n,r){var i;if(Array.isArray(t))w.each(t,function(t,i){n||St.test(e)?r(e,i):jt(e+&quot;[&quot;+(&quot;object&quot;==typeof i&amp;&amp;null!=i?t:&quot;&quot;)+&quot;]&quot;,i,n,r)});else if(n||&quot;object&quot;!==x(t))r(e,t);else for(i in t)jt(e+&quot;[&quot;+i+&quot;]&quot;,t[i],n,r)}w.param=function(e,t){var n,r=[],i=function(e,t){var n=g(t)?t():t;r[r.length]=encodeURIComponent(e)+&quot;=&quot;+encodeURIComponent(null==n?&quot;&quot;:n)};if(Array.isArray(e)||e.jquery&amp;&amp;!w.isPlainObject(e))w.each(e,function(){i(this.name,this.value)});else for(n in e)jt(n,e[n],t,i);return r.join(&quot;&amp;&quot;)},w.fn.extend({serialize:function(){return w.param(this.serializeArray())},serializeArray:function(){return this.map(function(){var e=w.prop(this,&quot;elements&quot;);return e?w.makeArray(e):this}).filter(function(){var e=this.type;return this.name&amp;&amp;!w(this).is(&quot;:disabled&quot;)&amp;&amp;At.test(this.nodeName)&amp;&amp;!Nt.test(e)&amp;&amp;(this.checked||!pe.test(e))}).map(function(e,t){var n=w(this).val();return null==n?null:Array.isArray(n)?w.map(n,function(e){return{name:t.name,value:e.replace(Dt,&quot;\\r\\n&quot;)}}):{name:t.name,value:n.replace(Dt,&quot;\\r\\n&quot;)}}).get()}});var qt=/%20/g,Lt=/#.*$/,Ht=/([?&amp;])_=[^&amp;]*/,Ot=/^(.*?):[ \\t]*([^\\r\\n]*)$/gm,Pt=/^(?:about|app|app-storage|.+-extension|file|res|widget):$/,Mt=/^(?:GET|HEAD)$/,Rt=/^\\/\\//,It={},Wt={},$t=&quot;*/&quot;.concat(&quot;*&quot;),Bt=r.createElement(&quot;a&quot;);Bt.href=Ct.href;function Ft(e){return function(t,n){&quot;string&quot;!=typeof t&amp;&amp;(n=t,t=&quot;*&quot;);var r,i=0,o=t.toLowerCase().match(M)||[];if(g(n))while(r=o[i++])&quot;+&quot;===r[0]?(r=r.slice(1)||&quot;*&quot;,(e[r]=e[r]||[]).unshift(n)):(e[r]=e[r]||[]).push(n)}}function _t(e,t,n,r){var i={},o=e===Wt;function a(s){var u;return i[s]=!0,w.each(e[s]||[],function(e,s){var l=s(t,n,r);return&quot;string&quot;!=typeof l||o||i[l]?o?!(u=l):void 0:(t.dataTypes.unshift(l),a(l),!1)}),u}return a(t.dataTypes[0])||!i[&quot;*&quot;]&amp;&amp;a(&quot;*&quot;)}function zt(e,t){var n,r,i=w.ajaxSettings.flatOptions||{};for(n in t)void 0!==t[n]&amp;&amp;((i[n]?e:r||(r={}))[n]=t[n]);return r&amp;&amp;w.extend(!0,e,r),e}function Xt(e,t,n){var r,i,o,a,s=e.contents,u=e.dataTypes;while(&quot;*&quot;===u[0])u.shift(),void 0===r&amp;&amp;(r=e.mimeType||t.getResponseHeader(&quot;Content-Type&quot;));if(r)for(i in s)if(s[i]&amp;&amp;s[i].test(r)){u.unshift(i);break}if(u[0]in n)o=u[0];else{for(i in n){if(!u[0]||e.converters[i+&quot; &quot;+u[0]]){o=i;break}a||(a=i)}o=o||a}if(o)return o!==u[0]&amp;&amp;u.unshift(o),n[o]}function Ut(e,t,n,r){var i,o,a,s,u,l={},c=e.dataTypes.slice();if(c[1])for(a in e.converters)l[a.toLowerCase()]=e.converters[a];o=c.shift();while(o)if(e.responseFields[o]&amp;&amp;(n[e.responseFields[o]]=t),!u&amp;&amp;r&amp;&amp;e.dataFilter&amp;&amp;(t=e.dataFilter(t,e.dataType)),u=o,o=c.shift())if(&quot;*&quot;===o)o=u;else if(&quot;*&quot;!==u&amp;&amp;u!==o){if(!(a=l[u+&quot; &quot;+o]||l[&quot;* &quot;+o]))for(i in l)if((s=i.split(&quot; &quot;))[1]===o&amp;&amp;(a=l[u+&quot; &quot;+s[0]]||l[&quot;* &quot;+s[0]])){!0===a?a=l[i]:!0!==l[i]&amp;&amp;(o=s[0],c.unshift(s[1]));break}if(!0!==a)if(a&amp;&amp;e[&quot;throws&quot;])t=a(t);else try{t=a(t)}catch(e){return{state:&quot;parsererror&quot;,error:a?e:&quot;No conversion from &quot;+u+&quot; to &quot;+o}}}return{state:&quot;success&quot;,data:t}}w.extend({active:0,lastModified:{},etag:{},ajaxSettings:{url:Ct.href,type:&quot;GET&quot;,isLocal:Pt.test(Ct.protocol),global:!0,processData:!0,async:!0,contentType:&quot;application/x-www-form-urlencoded; charset=UTF-8&quot;,accepts:{&quot;*&quot;:$t,text:&quot;text/plain&quot;,html:&quot;text/html&quot;,xml:&quot;application/xml, text/xml&quot;,json:&quot;application/json, text/javascript&quot;},contents:{xml:/\\bxml\\b/,html:/\\bhtml/,json:/\\bjson\\b/},responseFields:{xml:&quot;responseXML&quot;,text:&quot;responseText&quot;,json:&quot;responseJSON&quot;},converters:{&quot;* text&quot;:String,&quot;text html&quot;:!0,&quot;text json&quot;:JSON.parse,&quot;text xml&quot;:w.parseXML},flatOptions:{url:!0,context:!0}},ajaxSetup:function(e,t){return t?zt(zt(e,w.ajaxSettings),t):zt(w.ajaxSettings,e)},ajaxPrefilter:Ft(It),ajaxTransport:Ft(Wt),ajax:function(t,n){&quot;object&quot;==typeof t&amp;&amp;(n=t,t=void 0),n=n||{};var i,o,a,s,u,l,c,f,p,d,h=w.ajaxSetup({},n),g=h.context||h,y=h.context&amp;&amp;(g.nodeType||g.jquery)?w(g):w.event,v=w.Deferred(),m=w.Callbacks(&quot;once memory&quot;),x=h.statusCode||{},b={},T={},C=&quot;canceled&quot;,E={readyState:0,getResponseHeader:function(e){var t;if(c){if(!s){s={};while(t=Ot.exec(a))s[t[1].toLowerCase()]=t[2]}t=s[e.toLowerCase()]}return null==t?null:t},getAllResponseHeaders:function(){return c?a:null},setRequestHeader:function(e,t){return null==c&amp;&amp;(e=T[e.toLowerCase()]=T[e.toLowerCase()]||e,b[e]=t),this},overrideMimeType:function(e){return null==c&amp;&amp;(h.mimeType=e),this},statusCode:function(e){var t;if(e)if(c)E.always(e[E.status]);else for(t in e)x[t]=[x[t],e[t]];return this},abort:function(e){var t=e||C;return i&amp;&amp;i.abort(t),k(0,t),this}};if(v.promise(E),h.url=((t||h.url||Ct.href)+&quot;&quot;).replace(Rt,Ct.protocol+&quot;//&quot;),h.type=n.method||n.type||h.method||h.type,h.dataTypes=(h.dataType||&quot;*&quot;).toLowerCase().match(M)||[&quot;&quot;],null==h.crossDomain){l=r.createElement(&quot;a&quot;);try{l.href=h.url,l.href=l.href,h.crossDomain=Bt.protocol+&quot;//&quot;+Bt.host!=l.protocol+&quot;//&quot;+l.host}catch(e){h.crossDomain=!0}}if(h.data&amp;&amp;h.processData&amp;&amp;&quot;string&quot;!=typeof h.data&amp;&amp;(h.data=w.param(h.data,h.traditional)),_t(It,h,n,E),c)return E;(f=w.event&amp;&amp;h.global)&amp;&amp;0==w.active++&amp;&amp;w.event.trigger(&quot;ajaxStart&quot;),h.type=h.type.toUpperCase(),h.hasContent=!Mt.test(h.type),o=h.url.replace(Lt,&quot;&quot;),h.hasContent?h.data&amp;&amp;h.processData&amp;&amp;0===(h.contentType||&quot;&quot;).indexOf(&quot;application/x-www-form-urlencoded&quot;)&amp;&amp;(h.data=h.data.replace(qt,&quot;+&quot;)):(d=h.url.slice(o.length),h.data&amp;&amp;(h.processData||&quot;string&quot;==typeof h.data)&amp;&amp;(o+=(kt.test(o)?&quot;&amp;&quot;:&quot;?&quot;)+h.data,delete h.data),!1===h.cache&amp;&amp;(o=o.replace(Ht,&quot;$1&quot;),d=(kt.test(o)?&quot;&amp;&quot;:&quot;?&quot;)+&quot;_=&quot;+Et+++d),h.url=o+d),h.ifModified&amp;&amp;(w.lastModified[o]&amp;&amp;E.setRequestHeader(&quot;If-Modified-Since&quot;,w.lastModified[o]),w.etag[o]&amp;&amp;E.setRequestHeader(&quot;If-None-Match&quot;,w.etag[o])),(h.data&amp;&amp;h.hasContent&amp;&amp;!1!==h.contentType||n.contentType)&amp;&amp;E.setRequestHeader(&quot;Content-Type&quot;,h.contentType),E.setRequestHeader(&quot;Accept&quot;,h.dataTypes[0]&amp;&amp;h.accepts[h.dataTypes[0]]?h.accepts[h.dataTypes[0]]+(&quot;*&quot;!==h.dataTypes[0]?&quot;, &quot;+$t+&quot;; q=0.01&quot;:&quot;&quot;):h.accepts[&quot;*&quot;]);for(p in h.headers)E.setRequestHeader(p,h.headers[p]);if(h.beforeSend&amp;&amp;(!1===h.beforeSend.call(g,E,h)||c))return E.abort();if(C=&quot;abort&quot;,m.add(h.complete),E.done(h.success),E.fail(h.error),i=_t(Wt,h,n,E)){if(E.readyState=1,f&amp;&amp;y.trigger(&quot;ajaxSend&quot;,[E,h]),c)return E;h.async&amp;&amp;h.timeout&gt;0&amp;&amp;(u=e.setTimeout(function(){E.abort(&quot;timeout&quot;)},h.timeout));try{c=!1,i.send(b,k)}catch(e){if(c)throw e;k(-1,e)}}else k(-1,&quot;No Transport&quot;);function k(t,n,r,s){var l,p,d,b,T,C=n;c||(c=!0,u&amp;&amp;e.clearTimeout(u),i=void 0,a=s||&quot;&quot;,E.readyState=t&gt;0?4:0,l=t&gt;=200&amp;&amp;t&lt;300||304===t,r&amp;&amp;(b=Xt(h,E,r)),b=Ut(h,b,E,l),l?(h.ifModified&amp;&amp;((T=E.getResponseHeader(&quot;Last-Modified&quot;))&amp;&amp;(w.lastModified[o]=T),(T=E.getResponseHeader(&quot;etag&quot;))&amp;&amp;(w.etag[o]=T)),204===t||&quot;HEAD&quot;===h.type?C=&quot;nocontent&quot;:304===t?C=&quot;notmodified&quot;:(C=b.state,p=b.data,l=!(d=b.error))):(d=C,!t&amp;&amp;C||(C=&quot;error&quot;,t&lt;0&amp;&amp;(t=0))),E.status=t,E.statusText=(n||C)+&quot;&quot;,l?v.resolveWith(g,[p,C,E]):v.rejectWith(g,[E,C,d]),E.statusCode(x),x=void 0,f&amp;&amp;y.trigger(l?&quot;ajaxSuccess&quot;:&quot;ajaxError&quot;,[E,h,l?p:d]),m.fireWith(g,[E,C]),f&amp;&amp;(y.trigger(&quot;ajaxComplete&quot;,[E,h]),--w.active||w.event.trigger(&quot;ajaxStop&quot;)))}return E},getJSON:function(e,t,n){return w.get(e,t,n,&quot;json&quot;)},getScript:function(e,t){return w.get(e,void 0,t,&quot;script&quot;)}}),w.each([&quot;get&quot;,&quot;post&quot;],function(e,t){w[t]=function(e,n,r,i){return g(n)&amp;&amp;(i=i||r,r=n,n=void 0),w.ajax(w.extend({url:e,type:t,dataType:i,data:n,success:r},w.isPlainObject(e)&amp;&amp;e))}}),w._evalUrl=function(e){return w.ajax({url:e,type:&quot;GET&quot;,dataType:&quot;script&quot;,cache:!0,async:!1,global:!1,&quot;throws&quot;:!0})},w.fn.extend({wrapAll:function(e){var t;return this[0]&amp;&amp;(g(e)&amp;&amp;(e=e.call(this[0])),t=w(e,this[0].ownerDocument).eq(0).clone(!0),this[0].parentNode&amp;&amp;t.insertBefore(this[0]),t.map(function(){var e=this;while(e.firstElementChild)e=e.firstElementChild;return e}).append(this)),this},wrapInner:function(e){return g(e)?this.each(function(t){w(this).wrapInner(e.call(this,t))}):this.each(function(){var t=w(this),n=t.contents();n.length?n.wrapAll(e):t.append(e)})},wrap:function(e){var t=g(e);return this.each(function(n){w(this).wrapAll(t?e.call(this,n):e)})},unwrap:function(e){return this.parent(e).not(&quot;body&quot;).each(function(){w(this).replaceWith(this.childNodes)}),this}}),w.expr.pseudos.hidden=function(e){return!w.expr.pseudos.visible(e)},w.expr.pseudos.visible=function(e){return!!(e.offsetWidth||e.offsetHeight||e.getClientRects().length)},w.ajaxSettings.xhr=function(){try{return new e.XMLHttpRequest}catch(e){}};var Vt={0:200,1223:204},Gt=w.ajaxSettings.xhr();h.cors=!!Gt&amp;&amp;&quot;withCredentials&quot;in Gt,h.ajax=Gt=!!Gt,w.ajaxTransport(function(t){var n,r;if(h.cors||Gt&amp;&amp;!t.crossDomain)return{send:function(i,o){var a,s=t.xhr();if(s.open(t.type,t.url,t.async,t.username,t.password),t.xhrFields)for(a in t.xhrFields)s[a]=t.xhrFields[a];t.mimeType&amp;&amp;s.overrideMimeType&amp;&amp;s.overrideMimeType(t.mimeType),t.crossDomain||i[&quot;X-Requested-With&quot;]||(i[&quot;X-Requested-With&quot;]=&quot;XMLHttpRequest&quot;);for(a in i)s.setRequestHeader(a,i[a]);n=function(e){return function(){n&amp;&amp;(n=r=s.onload=s.onerror=s.onabort=s.ontimeout=s.onreadystatechange=null,&quot;abort&quot;===e?s.abort():&quot;error&quot;===e?&quot;number&quot;!=typeof s.status?o(0,&quot;error&quot;):o(s.status,s.statusText):o(Vt[s.status]||s.status,s.statusText,&quot;text&quot;!==(s.responseType||&quot;text&quot;)||&quot;string&quot;!=typeof s.responseText?{binary:s.response}:{text:s.responseText},s.getAllResponseHeaders()))}},s.onload=n(),r=s.onerror=s.ontimeout=n(&quot;error&quot;),void 0!==s.onabort?s.onabort=r:s.onreadystatechange=function(){4===s.readyState&amp;&amp;e.setTimeout(function(){n&amp;&amp;r()})},n=n(&quot;abort&quot;);try{s.send(t.hasContent&amp;&amp;t.data||null)}catch(e){if(n)throw e}},abort:function(){n&amp;&amp;n()}}}),w.ajaxPrefilter(function(e){e.crossDomain&amp;&amp;(e.contents.script=!1)}),w.ajaxSetup({accepts:{script:&quot;text/javascript, application/javascript, application/ecmascript, application/x-ecmascript&quot;},contents:{script:/\\b(?:java|ecma)script\\b/},converters:{&quot;text script&quot;:function(e){return w.globalEval(e),e}}}),w.ajaxPrefilter(&quot;script&quot;,function(e){void 0===e.cache&amp;&amp;(e.cache=!1),e.crossDomain&amp;&amp;(e.type=&quot;GET&quot;)}),w.ajaxTransport(&quot;script&quot;,function(e){if(e.crossDomain){var t,n;return{send:function(i,o){t=w(&quot;&lt;script&gt;&quot;).prop({charset:e.scriptCharset,src:e.url}).on(&quot;load error&quot;,n=function(e){t.remove(),n=null,e&amp;&amp;o(&quot;error&quot;===e.type?404:200,e.type)}),r.head.appendChild(t[0])},abort:function(){n&amp;&amp;n()}}}});var Yt=[],Qt=/(=)\\?(?=&amp;|$)|\\?\\?/;w.ajaxSetup({jsonp:&quot;callback&quot;,jsonpCallback:function(){var e=Yt.pop()||w.expando+&quot;_&quot;+Et++;return this[e]=!0,e}}),w.ajaxPrefilter(&quot;json jsonp&quot;,function(t,n,r){var i,o,a,s=!1!==t.jsonp&amp;&amp;(Qt.test(t.url)?&quot;url&quot;:&quot;string&quot;==typeof t.data&amp;&amp;0===(t.contentType||&quot;&quot;).indexOf(&quot;application/x-www-form-urlencoded&quot;)&amp;&amp;Qt.test(t.data)&amp;&amp;&quot;data&quot;);if(s||&quot;jsonp&quot;===t.dataTypes[0])return i=t.jsonpCallback=g(t.jsonpCallback)?t.jsonpCallback():t.jsonpCallback,s?t[s]=t[s].replace(Qt,&quot;$1&quot;+i):!1!==t.jsonp&amp;&amp;(t.url+=(kt.test(t.url)?&quot;&amp;&quot;:&quot;?&quot;)+t.jsonp+&quot;=&quot;+i),t.converters[&quot;script json&quot;]=function(){return a||w.error(i+&quot; was not called&quot;),a[0]},t.dataTypes[0]=&quot;json&quot;,o=e[i],e[i]=function(){a=arguments},r.always(function(){void 0===o?w(e).removeProp(i):e[i]=o,t[i]&amp;&amp;(t.jsonpCallback=n.jsonpCallback,Yt.push(i)),a&amp;&amp;g(o)&amp;&amp;o(a[0]),a=o=void 0}),&quot;script&quot;}),h.createHTMLDocument=function(){var e=r.implementation.createHTMLDocument(&quot;&quot;).body;return e.innerHTML=&quot;&lt;form&gt;&lt;/form&gt;&lt;form&gt;&lt;/form&gt;&quot;,2===e.childNodes.length}(),w.parseHTML=function(e,t,n){if(&quot;string&quot;!=typeof e)return[];&quot;boolean&quot;==typeof t&amp;&amp;(n=t,t=!1);var i,o,a;return t||(h.createHTMLDocument?((i=(t=r.implementation.createHTMLDocument(&quot;&quot;)).createElement(&quot;base&quot;)).href=r.location.href,t.head.appendChild(i)):t=r),o=A.exec(e),a=!n&amp;&amp;[],o?[t.createElement(o[1])]:(o=xe([e],t,a),a&amp;&amp;a.length&amp;&amp;w(a).remove(),w.merge([],o.childNodes))},w.fn.load=function(e,t,n){var r,i,o,a=this,s=e.indexOf(&quot; &quot;);return s&gt;-1&amp;&amp;(r=vt(e.slice(s)),e=e.slice(0,s)),g(t)?(n=t,t=void 0):t&amp;&amp;&quot;object&quot;==typeof t&amp;&amp;(i=&quot;POST&quot;),a.length&gt;0&amp;&amp;w.ajax({url:e,type:i||&quot;GET&quot;,dataType:&quot;html&quot;,data:t}).done(function(e){o=arguments,a.html(r?w(&quot;&lt;div&gt;&quot;).append(w.parseHTML(e)).find(r):e)}).always(n&amp;&amp;function(e,t){a.each(function(){n.apply(this,o||[e.responseText,t,e])})}),this},w.each([&quot;ajaxStart&quot;,&quot;ajaxStop&quot;,&quot;ajaxComplete&quot;,&quot;ajaxError&quot;,&quot;ajaxSuccess&quot;,&quot;ajaxSend&quot;],function(e,t){w.fn[t]=function(e){return this.on(t,e)}}),w.expr.pseudos.animated=function(e){return w.grep(w.timers,function(t){return e===t.elem}).length},w.offset={setOffset:function(e,t,n){var r,i,o,a,s,u,l,c=w.css(e,&quot;position&quot;),f=w(e),p={};&quot;static&quot;===c&amp;&amp;(e.style.position=&quot;relative&quot;),s=f.offset(),o=w.css(e,&quot;top&quot;),u=w.css(e,&quot;left&quot;),(l=(&quot;absolute&quot;===c||&quot;fixed&quot;===c)&amp;&amp;(o+u).indexOf(&quot;auto&quot;)&gt;-1)?(a=(r=f.position()).top,i=r.left):(a=parseFloat(o)||0,i=parseFloat(u)||0),g(t)&amp;&amp;(t=t.call(e,n,w.extend({},s))),null!=t.top&amp;&amp;(p.top=t.top-s.top+a),null!=t.left&amp;&amp;(p.left=t.left-s.left+i),&quot;using&quot;in t?t.using.call(e,p):f.css(p)}},w.fn.extend({offset:function(e){if(arguments.length)return void 0===e?this:this.each(function(t){w.offset.setOffset(this,e,t)});var t,n,r=this[0];if(r)return r.getClientRects().length?(t=r.getBoundingClientRect(),n=r.ownerDocument.defaultView,{top:t.top+n.pageYOffset,left:t.left+n.pageXOffset}):{top:0,left:0}},position:function(){if(this[0]){var e,t,n,r=this[0],i={top:0,left:0};if(&quot;fixed&quot;===w.css(r,&quot;position&quot;))t=r.getBoundingClientRect();else{t=this.offset(),n=r.ownerDocument,e=r.offsetParent||n.documentElement;while(e&amp;&amp;(e===n.body||e===n.documentElement)&amp;&amp;&quot;static&quot;===w.css(e,&quot;position&quot;))e=e.parentNode;e&amp;&amp;e!==r&amp;&amp;1===e.nodeType&amp;&amp;((i=w(e).offset()).top+=w.css(e,&quot;borderTopWidth&quot;,!0),i.left+=w.css(e,&quot;borderLeftWidth&quot;,!0))}return{top:t.top-i.top-w.css(r,&quot;marginTop&quot;,!0),left:t.left-i.left-w.css(r,&quot;marginLeft&quot;,!0)}}},offsetParent:function(){return this.map(function(){var e=this.offsetParent;while(e&amp;&amp;&quot;static&quot;===w.css(e,&quot;position&quot;))e=e.offsetParent;return e||be})}}),w.each({scrollLeft:&quot;pageXOffset&quot;,scrollTop:&quot;pageYOffset&quot;},function(e,t){var n=&quot;pageYOffset&quot;===t;w.fn[e]=function(r){return z(this,function(e,r,i){var o;if(y(e)?o=e:9===e.nodeType&amp;&amp;(o=e.defaultView),void 0===i)return o?o[t]:e[r];o?o.scrollTo(n?o.pageXOffset:i,n?i:o.pageYOffset):e[r]=i},e,r,arguments.length)}}),w.each([&quot;top&quot;,&quot;left&quot;],function(e,t){w.cssHooks[t]=_e(h.pixelPosition,function(e,n){if(n)return n=Fe(e,t),We.test(n)?w(e).position()[t]+&quot;px&quot;:n})}),w.each({Height:&quot;height&quot;,Width:&quot;width&quot;},function(e,t){w.each({padding:&quot;inner&quot;+e,content:t,&quot;&quot;:&quot;outer&quot;+e},function(n,r){w.fn[r]=function(i,o){var a=arguments.length&amp;&amp;(n||&quot;boolean&quot;!=typeof i),s=n||(!0===i||!0===o?&quot;margin&quot;:&quot;border&quot;);return z(this,function(t,n,i){var o;return y(t)?0===r.indexOf(&quot;outer&quot;)?t[&quot;inner&quot;+e]:t.document.documentElement[&quot;client&quot;+e]:9===t.nodeType?(o=t.documentElement,Math.max(t.body[&quot;scroll&quot;+e],o[&quot;scroll&quot;+e],t.body[&quot;offset&quot;+e],o[&quot;offset&quot;+e],o[&quot;client&quot;+e])):void 0===i?w.css(t,n,s):w.style(t,n,i,s)},t,a?i:void 0,a)}})}),w.each(&quot;blur focus focusin focusout resize scroll click dblclick mousedown mouseup mousemove mouseover mouseout mouseenter mouseleave change select submit keydown keypress keyup contextmenu&quot;.split(&quot; &quot;),function(e,t){w.fn[t]=function(e,n){return arguments.length&gt;0?this.on(t,null,e,n):this.trigger(t)}}),w.fn.extend({hover:function(e,t){return this.mouseenter(e).mouseleave(t||e)}}),w.fn.extend({bind:function(e,t,n){return this.on(e,null,t,n)},unbind:function(e,t){return this.off(e,null,t)},delegate:function(e,t,n,r){return this.on(t,e,n,r)},undelegate:function(e,t,n){return 1===arguments.length?this.off(e,&quot;**&quot;):this.off(t,e||&quot;**&quot;,n)}}),w.proxy=function(e,t){var n,r,i;if(&quot;string&quot;==typeof t&amp;&amp;(n=e[t],t=e,e=n),g(e))return r=o.call(arguments,2),i=function(){return e.apply(t||this,r.concat(o.call(arguments)))},i.guid=e.guid=e.guid||w.guid++,i},w.holdReady=function(e){e?w.readyWait++:w.ready(!0)},w.isArray=Array.isArray,w.parseJSON=JSON.parse,w.nodeName=N,w.isFunction=g,w.isWindow=y,w.camelCase=G,w.type=x,w.now=Date.now,w.isNumeric=function(e){var t=w.type(e);return(&quot;number&quot;===t||&quot;string&quot;===t)&amp;&amp;!isNaN(e-parseFloat(e))},&quot;function&quot;==typeof define&amp;&amp;define.amd&amp;&amp;define(&quot;jquery&quot;,[],function(){return w});var Jt=e.jQuery,Kt=e.$;return w.noConflict=function(t){return e.$===w&amp;&amp;(e.$=Kt),t&amp;&amp;e.jQuery===w&amp;&amp;(e.jQuery=Jt),w},t||(e.jQuery=e.$=w),w});\n",
       "\r\n",
       "  &lt;/script&gt;\r\n",
       "  &lt;script&gt;\r\n",
       "    function brainsprite(d){function a(f,e){f.imageSmoothingEnabled=e;return f}var b={};var c={nanValue:false,smooth:false,flagValue:false,colorBackground:&quot;#000000&quot;,flagCoordinates:false,origin:{X:0,Y:0,Z:0},voxelSize:1,affine:false,heightColorBar:0.04,sizeFont:0.075,colorFont:&quot;#FFFFFF&quot;,nbDecimals:3,crosshair:false,colorCrosshair:&quot;#0000FF&quot;,sizeCrosshair:0.9,title:false,numSlice:false,};var b=Object.assign({},c,d);if(typeof b.affine===&quot;boolean&quot;&amp;&amp;b.affine===false){b.affine=[[b.voxelSize,0,0,-b.origin.X],[0,b.voxelSize,0,-b.origin.Y],[0,0,b.voxelSize,-b.origin.Z],[0,0,0,1]]}b.canvas=document.getElementById(d.canvas);b.context=b.canvas.getContext(&quot;2d&quot;);b.context=a(b.context,b.smooth);b.canvasY=document.createElement(&quot;canvas&quot;);b.contextY=b.canvasY.getContext(&quot;2d&quot;);b.canvasZ=document.createElement(&quot;canvas&quot;);b.contextZ=b.canvasZ.getContext(&quot;2d&quot;);b.canvasRead=document.createElement(&quot;canvas&quot;);b.contextRead=b.canvasRead.getContext(&quot;2d&quot;);b.canvasRead.width=1;b.canvasRead.height=1;b.onclick=typeof d.onclick!==&quot;undefined&quot;?d.onclick:&quot;&quot;;if(b.flagCoordinates){b.spaceFont=0.1}else{b.spaceFont=0}b.sprite=document.getElementById(d.sprite);b.nbCol=b.sprite.width/d.nbSlice.Y;b.nbRow=b.sprite.height/d.nbSlice.Z;b.nbSlice={X:typeof d.nbSlice.X!==&quot;undefined&quot;?d.nbSlice.X:b.nbCol*b.nbRow,Y:d.nbSlice.Y,Z:d.nbSlice.Z};b.widthCanvas={X:0,Y:0,Z:0};b.heightCanvas={X:0,Y:0,Z:0,max:0};if(b.numSlice==false){b.numSlice={X:Math.floor(b.nbSlice.X/2),Y:Math.floor(b.nbSlice.Y/2),Z:Math.floor(b.nbSlice.Z/2)}}b.coordinatesSlice={X:0,Y:0,Z:0};b.planes={};b.planes.canvasMaster=document.createElement(&quot;canvas&quot;);b.planes.contextMaster=b.planes.canvasMaster.getContext(&quot;2d&quot;);d.overlay=typeof d.overlay!==&quot;undefined&quot;?d.overlay:false;if(d.overlay){b.overlay={};b.overlay.sprite=document.getElementById(d.overlay.sprite);b.overlay.nbCol=b.overlay.sprite.width/d.overlay.nbSlice.Y;b.overlay.nbRow=b.overlay.sprite.height/d.overlay.nbSlice.Z;b.overlay.nbSlice={X:typeof d.overlay.nbSlice.X!==&quot;undefined&quot;?d.overlay.nbSlice.X:b.overlay.nbCol*b.overlay.nbRow,Y:d.overlay.nbSlice.Y,Z:d.overlay.nbSlice.Z};b.overlay.opacity=typeof d.overlay.opacity!==&quot;undefined&quot;?d.overlay.opacity:1}d.colorMap=typeof d.colorMap!==&quot;undefined&quot;?d.colorMap:false;if(d.colorMap){b.colorMap={};b.colorMap.img=document.getElementById(d.colorMap.img);b.colorMap.min=d.colorMap.min;b.colorMap.max=d.colorMap.max;d.colorMap.hide=typeof d.colorMap.hide!==&quot;undefined&quot;?d.colorMap.hide:false;b.colorMap.canvas=document.createElement(&quot;canvas&quot;);b.colorMap.context=b.colorMap.canvas.getContext(&quot;2d&quot;);b.colorMap.canvas.width=b.colorMap.img.width;b.colorMap.canvas.height=b.colorMap.img.height;b.colorMap.context.drawImage(b.colorMap.img,0,0,b.colorMap.img.width,b.colorMap.img.height,0,0,b.colorMap.img.width,b.colorMap.img.height)}b.getValue=function(i,h){if(!h){return NaN}var f,l,e,j,k,g;e=h.canvas.width;j=NaN;k=Infinity;for(xx=0;xx&lt;e;xx++){f=h.context.getImageData(xx,0,1,1).data;l=Math.pow(f[0]-i[0],2)+Math.pow(f[1]-i[1],2)+Math.pow(f[2]-i[2],2);if(l&lt;k){j=xx;k=l}}g=(j*(h.max-h.min)/(e-1))+h.min;return g};b.updateValue=function(){var h={};var f=[];var e=[];if(b.overlay&amp;&amp;!b.nanValue){try{h.XW=Math.round((b.numSlice.X)%b.nbCol);h.XH=Math.round((b.numSlice.X-h.XW)/b.nbCol);b.contextRead.fillStyle=&quot;#FFFFFF&quot;;b.contextRead.fillRect(0,0,1,1);b.contextRead.drawImage(b.overlay.sprite,h.XW*b.nbSlice.Y+b.numSlice.Y,h.XH*b.nbSlice.Z+b.nbSlice.Z-b.numSlice.Z-1,1,1,0,0,1,1);rgb=b.contextRead.getImageData(0,0,1,1).data;f=((rgb[0]==255)&amp;&amp;(rgb[1]==255)&amp;&amp;(rgb[2]==255));b.contextRead.fillStyle=&quot;#000000&quot;;b.contextRead.fillRect(0,0,1,1);b.contextRead.drawImage(b.overlay.sprite,h.XW*b.nbSlice.Y+b.numSlice.Y,h.XH*b.nbSlice.Z+b.nbSlice.Z-b.numSlice.Z-1,1,1,0,0,1,1);rgb=b.contextRead.getImageData(0,0,1,1).data;e=((rgb[0]==0)&amp;&amp;(rgb[1]==0)&amp;&amp;(rgb[2]==0));if(f&amp;&amp;e){b.voxelValue=NaN}else{b.voxelValue=b.getValue(rgb,b.colorMap)}}catch(g){console.warn(g.message);rgb=0;b.nanValue=true;b.voxelValue=NaN}}else{b.voxelValue=NaN}};b.multiply=function(p,o){var l=p.length,h=p[0].length,k=o.length,f=o[0].length,g=new Array(l);for(var e=0;e&lt;l;++e){g[e]=new Array(f);for(var n=0;n&lt;f;++n){g[e][n]=0;for(var j=0;j&lt;h;++j){g[e][n]+=p[e][j]*o[j][n]}}}return g};b.updateCoordinates=function(){coordVoxel=b.multiply(b.affine,[[b.numSlice.X+1],[b.numSlice.Y+1],[b.numSlice.Z+1],[1]]);b.coordinatesSlice.X=coordVoxel[0];b.coordinatesSlice.Y=coordVoxel[1];b.coordinatesSlice.Z=coordVoxel[2]};b.init=function(){b.widthCanvas.X=Math.floor(b.canvas.parentElement.clientWidth*(b.nbSlice.Y/(2*b.nbSlice.X+b.nbSlice.Y)));b.widthCanvas.Y=Math.floor(b.canvas.parentElement.clientWidth*(b.nbSlice.X/(2*b.nbSlice.X+b.nbSlice.Y)));b.widthCanvas.Z=Math.floor(b.canvas.parentElement.clientWidth*(b.nbSlice.X/(2*b.nbSlice.X+b.nbSlice.Y)));b.widthCanvas.max=Math.max(b.widthCanvas.X,b.widthCanvas.Y,b.widthCanvas.Z);b.heightCanvas.X=Math.floor(b.widthCanvas.X*b.nbSlice.Z/b.nbSlice.Y);b.heightCanvas.Y=Math.floor(b.widthCanvas.Y*b.nbSlice.Z/b.nbSlice.X);b.heightCanvas.Z=Math.floor(b.widthCanvas.Z*b.nbSlice.Y/b.nbSlice.X);b.heightCanvas.max=Math.max(b.heightCanvas.X,b.heightCanvas.Y,b.heightCanvas.Z);if(b.canvas.width!=(b.widthCanvas.X+b.widthCanvas.Y+b.widthCanvas.Z)){b.canvas.width=b.widthCanvas.X+b.widthCanvas.Y+b.widthCanvas.Z;b.canvas.height=Math.round((1+b.spaceFont)*(b.heightCanvas.max));b.context=a(b.context,b.smooth)}b.sizeFontPixels=Math.round(b.sizeFont*(b.heightCanvas.max));b.context.font=b.sizeFontPixels+&quot;px Arial&quot;;b.planes.canvasMaster.width=b.sprite.width;b.planes.canvasMaster.height=b.sprite.height;b.planes.contextMaster.globalAlpha=1;b.planes.contextMaster.drawImage(b.sprite,0,0,b.sprite.width,b.sprite.height,0,0,b.sprite.width,b.sprite.height);if(b.overlay){b.planes.contextMaster.globalAlpha=b.overlay.opacity;b.planes.contextMaster.drawImage(b.overlay.sprite,0,0,b.overlay.sprite.width,b.overlay.sprite.height,0,0,b.sprite.width,b.sprite.height)}b.planes.canvasX=document.createElement(&quot;canvas&quot;);b.planes.contextX=b.planes.canvasX.getContext(&quot;2d&quot;);b.planes.canvasX.width=b.nbSlice.Y;b.planes.canvasX.height=b.nbSlice.Z;b.planes.canvasY=document.createElement(&quot;canvas&quot;);b.planes.contextY=b.planes.canvasY.getContext(&quot;2d&quot;);b.planes.canvasY.width=b.nbSlice.X;b.planes.canvasY.height=b.nbSlice.Z;b.planes.canvasZ=document.createElement(&quot;canvas&quot;);b.planes.contextZ=b.planes.canvasZ.getContext(&quot;2d&quot;);b.planes.canvasZ.width=b.nbSlice.X;b.planes.canvasZ.height=b.nbSlice.Y;b.planes.contextZ.rotate(-Math.PI/2);b.planes.contextZ.translate(-b.nbSlice.Y,0);b.updateValue();b.updateCoordinates();b.numSlice.X=Math.round(b.numSlice.X);b.numSlice.Y=Math.round(b.numSlice.Y);b.numSlice.Z=Math.round(b.numSlice.Z)};b.draw=function(h,f){var j={},i,e,g={X:&quot;&quot;,Y:&quot;&quot;,Z:&quot;&quot;};g.X=Math.ceil((1-b.sizeCrosshair)*b.nbSlice.X/2);g.Y=Math.ceil((1-b.sizeCrosshair)*b.nbSlice.Y/2);g.Z=Math.ceil((1-b.sizeCrosshair)*b.nbSlice.Z/2);switch(f){case&quot;X&quot;:j.XW=((b.numSlice.X)%b.nbCol);j.XH=(b.numSlice.X-j.XW)/b.nbCol;b.planes.contextX.drawImage(b.planes.canvasMaster,j.XW*b.nbSlice.Y,j.XH*b.nbSlice.Z,b.nbSlice.Y,b.nbSlice.Z,0,0,b.nbSlice.Y,b.nbSlice.Z);if(b.crosshair){b.planes.contextX.fillStyle=b.colorCrosshair;b.planes.contextX.fillRect(b.numSlice.Y,g.Z,1,b.nbSlice.Z-2*g.Z);b.planes.contextX.fillRect(g.Y,b.nbSlice.Z-b.numSlice.Z-1,b.nbSlice.Y-2*g.Y,1)}b.context.fillStyle=b.colorBackground;b.context.fillRect(0,0,b.widthCanvas.X,b.canvas.height);b.context.drawImage(b.planes.canvasX,0,0,b.nbSlice.Y,b.nbSlice.Z,0,(b.heightCanvas.max-b.heightCanvas.X)/2,b.widthCanvas.X,b.heightCanvas.X);if(b.title){b.context.fillStyle=b.colorFont;b.context.fillText(b.title,Math.round(b.widthCanvas.X/10),Math.round((b.heightCanvas.max*b.heightColorBar)+(1/4)*(b.sizeFontPixels)))}if(b.flagValue){value=&quot;value = &quot;+Number.parseFloat(b.voxelValue).toPrecision(b.nbDecimals).replace(/0+$/,&quot;&quot;);valueWidth=b.context.measureText(value).width;b.context.fillStyle=b.colorFont;b.context.fillText(value,Math.round(b.widthCanvas.X/10),Math.round((b.heightCanvas.max*b.heightColorBar*2)+(3/4)*(b.sizeFontPixels)))}if(b.flagCoordinates){i=&quot;x = &quot;+Math.round(b.coordinatesSlice.X);e=b.context.measureText(i).width;b.context.fillStyle=b.colorFont;b.context.fillText(i,b.widthCanvas.X/2-e/2,Math.round(b.canvas.height-(b.sizeFontPixels/2)))}break;case&quot;Y&quot;:b.context.fillStyle=b.colorBackground;b.context.fillRect(b.widthCanvas.X,0,b.widthCanvas.Y,b.canvas.height);for(xx=0;xx&lt;b.nbSlice.X;xx++){posW=(xx%b.nbCol);posH=(xx-posW)/b.nbCol;b.planes.contextY.drawImage(b.planes.canvasMaster,posW*b.nbSlice.Y+b.numSlice.Y,posH*b.nbSlice.Z,1,b.nbSlice.Z,xx,0,1,b.nbSlice.Z)}if(b.crosshair){b.planes.contextY.fillStyle=b.colorCrosshair;b.planes.contextY.fillRect(b.numSlice.X,g.Z,1,b.nbSlice.Z-2*g.Z);b.planes.contextY.fillRect(g.X,b.nbSlice.Z-b.numSlice.Z-1,b.nbSlice.X-2*g.X,1)}b.context.drawImage(b.planes.canvasY,0,0,b.nbSlice.X,b.nbSlice.Z,b.widthCanvas.X,(b.heightCanvas.max-b.heightCanvas.Y)/2,b.widthCanvas.Y,b.heightCanvas.Y);if((b.colorMap)&amp;&amp;(!b.colorMap.hide)){b.context.drawImage(b.colorMap.img,0,0,b.colorMap.img.width,1,Math.round(b.widthCanvas.X+b.widthCanvas.Y*0.2),Math.round(b.heightCanvas.max*b.heightColorBar/2),Math.round(b.widthCanvas.Y*0.6),Math.round(b.heightCanvas.max*b.heightColorBar));b.context.fillStyle=b.colorFont;label_min=Number.parseFloat(b.colorMap.min).toPrecision(b.nbDecimals).replace(/0+$/,&quot;&quot;);label_max=Number.parseFloat(b.colorMap.max).toPrecision(b.nbDecimals).replace(/0+$/,&quot;&quot;);b.context.fillText(label_min,b.widthCanvas.X+(b.widthCanvas.Y*0.2)-b.context.measureText(label_min).width/2,Math.round((b.heightCanvas.max*b.heightColorBar*2)+(3/4)*(b.sizeFontPixels)));b.context.fillText(label_max,b.widthCanvas.X+(b.widthCanvas.Y*0.8)-b.context.measureText(label_max).width/2,Math.round((b.heightCanvas.max*b.heightColorBar*2)+(3/4)*(b.sizeFontPixels)))}if(b.flagCoordinates){b.context.font=b.sizeFontPixels+&quot;px Arial&quot;;b.context.fillStyle=b.colorFont;i=&quot;y = &quot;+Math.round(b.coordinatesSlice.Y);e=b.context.measureText(i).width;b.context.fillText(i,b.widthCanvas.X+(b.widthCanvas.Y/2)-e/2,Math.round(b.canvas.height-(b.sizeFontPixels/2)))}case&quot;Z&quot;:b.context.fillStyle=b.colorBackground;b.context.fillRect(b.widthCanvas.X+b.widthCanvas.Y,0,b.widthCanvas.Z,b.canvas.height);for(xx=0;xx&lt;b.nbSlice.X;xx++){posW=(xx%b.nbCol);posH=(xx-posW)/b.nbCol;b.planes.contextZ.drawImage(b.planes.canvasMaster,posW*b.nbSlice.Y,posH*b.nbSlice.Z+b.nbSlice.Z-b.numSlice.Z-1,b.nbSlice.Y,1,0,xx,b.nbSlice.Y,1)}if(b.crosshair){b.planes.contextZ.fillStyle=b.colorCrosshair;b.planes.contextZ.fillRect(g.Y,b.numSlice.X,b.nbSlice.Y-2*g.Y,1);b.planes.contextZ.fillRect(b.numSlice.Y,g.X,1,b.nbSlice.X-2*g.X)}b.context.drawImage(b.planes.canvasZ,0,0,b.nbSlice.X,b.nbSlice.Y,b.widthCanvas.X+b.widthCanvas.Y,(b.heightCanvas.max-b.heightCanvas.Z)/2,b.widthCanvas.Z,b.heightCanvas.Z);if(b.flagCoordinates){i=&quot;z = &quot;+Math.round(b.coordinatesSlice.Z);e=b.context.measureText(i).width;b.context.fillStyle=b.colorFont;b.context.fillText(i,b.widthCanvas.X+b.widthCanvas.Y+(b.widthCanvas.Z/2)-e/2,Math.round(b.canvas.height-(b.sizeFontPixels/2)))}}};b.clickBrain=function(h){var f=b.canvas.getBoundingClientRect();var j=h.clientX-f.left;var k=h.clientY-f.top;var i,g;if(j&lt;b.widthCanvas.X){i=Math.round((b.nbSlice.Y-1)*(j/b.widthCanvas.X));g=Math.round((b.nbSlice.Z-1)*(((b.heightCanvas.max+b.heightCanvas.X)/2)-k)/b.heightCanvas.X);b.numSlice.Y=Math.max(Math.min(i,b.nbSlice.Y-1),0);b.numSlice.Z=Math.max(Math.min(g,b.nbSlice.Z-1),0)}else{if(j&lt;(b.widthCanvas.X+b.widthCanvas.Y)){j=j-b.widthCanvas.X;sx=Math.round((b.nbSlice.X-1)*(j/b.widthCanvas.Y));g=Math.round((b.nbSlice.Z-1)*(((b.heightCanvas.max+b.heightCanvas.X)/2)-k)/b.heightCanvas.X);b.numSlice.X=Math.max(Math.min(sx,b.nbSlice.X-1),0);b.numSlice.Z=Math.max(Math.min(g,b.nbSlice.Z-1),0)}else{j=j-b.widthCanvas.X-b.widthCanvas.Y;sx=Math.round((b.nbSlice.X-1)*(j/b.widthCanvas.Z));i=Math.round((b.nbSlice.Y-1)*(((b.heightCanvas.max+b.heightCanvas.Z)/2)-k)/b.heightCanvas.Z);b.numSlice.X=Math.max(Math.min(sx,b.nbSlice.X-1),0);b.numSlice.Y=Math.max(Math.min(i,b.nbSlice.Y-1),0)}}b.updateValue();b.updateCoordinates();b.drawAll();if(b.onclick){b.onclick(h)}};b.drawAll=function(){b.draw(b.numSlice.X,&quot;X&quot;);b.draw(b.numSlice.Y,&quot;Y&quot;);b.draw(b.numSlice.Z,&quot;Z&quot;)};b.canvas.addEventListener(&quot;click&quot;,b.clickBrain,false);b.canvas.addEventListener(&quot;mousedown&quot;,function(f){b.canvas.addEventListener(&quot;mousemove&quot;,b.clickBrain,false)},false);b.canvas.addEventListener(&quot;mouseup&quot;,function(f){b.canvas.removeEventListener(&quot;mousemove&quot;,b.clickBrain,false)},false);b.sprite.addEventListener(&quot;load&quot;,function(){b.init();b.drawAll()});if(b.overlay){b.overlay.sprite.addEventListener(&quot;load&quot;,function(){b.init();b.drawAll()})}b.init();b.drawAll();return b};\r\n",
       "  &lt;/script&gt;\r\n",
       "\r\n",
       "  &lt;script&gt;\r\n",
       "  // On load: build all figures\r\n",
       "  $( window ).on(&#x27;load&#x27;,function() {\r\n",
       "    // Create brain slices\r\n",
       "    var brain = brainsprite(\r\n",
       "    {&quot;canvas&quot;: &quot;3Dviewer&quot;, &quot;sprite&quot;: &quot;spriteImg&quot;, &quot;nbSlice&quot;: {&quot;X&quot;: 27, &quot;Y&quot;: 32, &quot;Z&quot;: 26}, &quot;overlay&quot;: {&quot;sprite&quot;: &quot;overlayImg&quot;, &quot;nbSlice&quot;: {&quot;X&quot;: 27, &quot;Y&quot;: 32, &quot;Z&quot;: 26}, &quot;opacity&quot;: 1}, &quot;colorBackground&quot;: &quot;#FFFFFF&quot;, &quot;colorFont&quot;: &quot;#000000&quot;, &quot;crosshair&quot;: true, &quot;affine&quot;: [[6.0, 0.0, 0.0, -78.0], [0.0, 6.0, 0.0, -112.0], [0.0, 0.0, 6.0, -68.0], [0.0, 0.0, 0.0, 1.0]], &quot;flagCoordinates&quot;: true, &quot;title&quot;: null, &quot;flagValue&quot;: false, &quot;numSlice&quot;: {&quot;X&quot;: 12.885340799970185, &quot;Y&quot;: 12.720334625623162, &quot;Z&quot;: 16.366822380385578}, &quot;colorMap&quot;: {&quot;img&quot;: &quot;colorMap&quot;, &quot;min&quot;: -1319.53125, &quot;max&quot;: 1319.53125}}\r\n",
       "    );\r\n",
       "  });\r\n",
       "  &lt;/script&gt;\r\n",
       "&lt;/body&gt;\r\n",
       "&lt;/html&gt;\r\n",
       "\" width=\"600\" height=\"268.0\" frameBorder=\"0\"></iframe>"
      ],
      "text/plain": [
       "<nilearn.plotting.html_stat_map.StatMapView at 0x7f6ec31f91d0>"
      ]
     },
     "execution_count": 36,
     "metadata": {},
     "output_type": "execute_result"
    }
   ],
   "source": [
    "from nilearn import plotting\n",
    "from nilearn.image import mean_img, smooth_img\n",
    "\n",
    "plotting.view_img(mean_img(patients), threshold=None, bg_img=False)\n"
   ]
  },
  {
   "cell_type": "code",
   "execution_count": 37,
   "metadata": {},
   "outputs": [
    {
     "data": {
      "text/html": [
       "<iframe srcdoc=\"&lt;!DOCTYPE html&gt;\r\n",
       "&lt;html lang=&quot;en&quot;&gt;\r\n",
       "&lt;head&gt;\r\n",
       "    &lt;title&gt;Slice viewer&lt;/title&gt;\r\n",
       "    &lt;meta charset=&quot;UTF-8&quot; /&gt;\r\n",
       "&lt;/head&gt;\r\n",
       "&lt;body&gt;\r\n",
       "  &lt;div id=&quot;div_viewer&quot;&gt;\r\n",
       "    &lt;!-- this is the canvas that will feature the brain slices --&gt;\r\n",
       "    &lt;canvas id=&quot;3Dviewer&quot;&gt;\r\n",
       "    &lt;!-- load a hidden version of the sprite image that includes all (sagital) brain slices --&gt;\r\n",
       "    &lt;img id=&quot;spriteImg&quot; class=&quot;hidden&quot; src=&quot;data:image/png;base64,iVBORw0KGgoAAAANSUhEUgAAAKAAAACcCAYAAAD4d6D7AAAABHNCSVQICAgIfAhkiAAAAAlwSFlzAAAPYQAAD2EBqD+naQAAAaNJREFUeJzt0jEBwDAAw7Cs/Dl3MHxUQuDD37Y7iJw6gLcZkJQBSRmQlAFJGZCUAUkZkJQBSRmQlAFJGZCUAUkZkJQBSRmQlAFJGZCUAUkZkJQBSRmQlAFJGZCUAUkZkJQBSRmQlAFJGZCUAUkZkJQBSRmQlAFJGZCUAUkZkJQBSRmQlAFJGZCUAUkZkJQBSRmQlAFJGZCUAUkZkJQBSRmQlAFJGZCUAUkZkJQBSRmQlAFJGZCUAUkZkJQBSRmQlAFJGZCUAUkZkJQBSRmQlAFJGZCUAUkZkJQBSRmQlAFJGZCUAUkZkJQBSRmQlAFJGZCUAUkZkJQBSRmQlAFJGZCUAUkZkJQBSRmQlAFJGZCUAUkZkJQBSRmQlAFJGZCUAUkZkJQBSRmQlAFJGZCUAUkZkJQBSRmQlAFJGZCUAUkZkJQBSRmQlAFJGZCUAUkZkJQBSRmQlAFJGZCUAUkZkJQBSRmQlAFJGZCUAUkZkJQBSRmQlAFJGZCUAUkZkJQBSRmQlAFJGZCUAUkZkJQBSRmQlAFJGZCUAUkZkJQBSRmQlAFJ/cPgAjdjfpkkAAAAAElFTkSuQmCC&quot; alt=&quot;background&quot; /&gt;\r\n",
       "    &lt;!-- the colormap --&gt;\r\n",
       "    &lt;img id=&quot;colorMap&quot; class=&quot;hidden&quot; src=&quot;data:image/png;base64,iVBORw0KGgoAAAANSUhEUgAAAQAAAAABCAYAAAAxWXB3AAAABHNCSVQICAgIfAhkiAAAAAlwSFlzAAAPYQAAD2EBqD+naQAAAFFJREFUOI1j/P////8fDAwM+PBPGsv/+8PAwPAbin8hsanBp4WZGHb8p6Nl1OXzMnxmYGVggGM2JPZg5zOy0tlyapvJwsTAwMCBB7PTWJ6DAQBRAoX+RFTJXQAAAABJRU5ErkJggg==&quot; alt=&quot;colormap&quot;&gt;\r\n",
       "    &lt;!-- another sprite image, with an overlay--&gt;\r\n",
       "    &lt;img id=&quot;overlayImg&quot; class=&quot;hidden&quot; src=&quot;data:image/png;base64,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&quot; alt=&quot;overlay&quot;&gt;\r\n",
       "    &lt;/canvas&gt;\r\n",
       "  &lt;/div&gt;\r\n",
       "\r\n",
       "  &lt;script&gt;\r\n",
       "    /*! jQuery v3.3.1 | (c) JS Foundation and other contributors | jquery.org/license */\n",
       "!function(e,t){&quot;use strict&quot;;&quot;object&quot;==typeof module&amp;&amp;&quot;object&quot;==typeof module.exports?module.exports=e.document?t(e,!0):function(e){if(!e.document)throw new Error(&quot;jQuery requires a window with a document&quot;);return t(e)}:t(e)}(&quot;undefined&quot;!=typeof window?window:this,function(e,t){&quot;use strict&quot;;var n=[],r=e.document,i=Object.getPrototypeOf,o=n.slice,a=n.concat,s=n.push,u=n.indexOf,l={},c=l.toString,f=l.hasOwnProperty,p=f.toString,d=p.call(Object),h={},g=function e(t){return&quot;function&quot;==typeof t&amp;&amp;&quot;number&quot;!=typeof t.nodeType},y=function e(t){return null!=t&amp;&amp;t===t.window},v={type:!0,src:!0,noModule:!0};function m(e,t,n){var i,o=(t=t||r).createElement(&quot;script&quot;);if(o.text=e,n)for(i in v)n[i]&amp;&amp;(o[i]=n[i]);t.head.appendChild(o).parentNode.removeChild(o)}function x(e){return null==e?e+&quot;&quot;:&quot;object&quot;==typeof e||&quot;function&quot;==typeof e?l[c.call(e)]||&quot;object&quot;:typeof e}var b=&quot;3.3.1&quot;,w=function(e,t){return new w.fn.init(e,t)},T=/^[\\s\\uFEFF\\xA0]+|[\\s\\uFEFF\\xA0]+$/g;w.fn=w.prototype={jquery:&quot;3.3.1&quot;,constructor:w,length:0,toArray:function(){return o.call(this)},get:function(e){return null==e?o.call(this):e&lt;0?this[e+this.length]:this[e]},pushStack:function(e){var t=w.merge(this.constructor(),e);return t.prevObject=this,t},each:function(e){return w.each(this,e)},map:function(e){return this.pushStack(w.map(this,function(t,n){return e.call(t,n,t)}))},slice:function(){return this.pushStack(o.apply(this,arguments))},first:function(){return this.eq(0)},last:function(){return this.eq(-1)},eq:function(e){var t=this.length,n=+e+(e&lt;0?t:0);return this.pushStack(n&gt;=0&amp;&amp;n&lt;t?[this[n]]:[])},end:function(){return this.prevObject||this.constructor()},push:s,sort:n.sort,splice:n.splice},w.extend=w.fn.extend=function(){var e,t,n,r,i,o,a=arguments[0]||{},s=1,u=arguments.length,l=!1;for(&quot;boolean&quot;==typeof a&amp;&amp;(l=a,a=arguments[s]||{},s++),&quot;object&quot;==typeof a||g(a)||(a={}),s===u&amp;&amp;(a=this,s--);s&lt;u;s++)if(null!=(e=arguments[s]))for(t in e)n=a[t],a!==(r=e[t])&amp;&amp;(l&amp;&amp;r&amp;&amp;(w.isPlainObject(r)||(i=Array.isArray(r)))?(i?(i=!1,o=n&amp;&amp;Array.isArray(n)?n:[]):o=n&amp;&amp;w.isPlainObject(n)?n:{},a[t]=w.extend(l,o,r)):void 0!==r&amp;&amp;(a[t]=r));return a},w.extend({expando:&quot;jQuery&quot;+(&quot;3.3.1&quot;+Math.random()).replace(/\\D/g,&quot;&quot;),isReady:!0,error:function(e){throw new Error(e)},noop:function(){},isPlainObject:function(e){var t,n;return!(!e||&quot;[object Object]&quot;!==c.call(e))&amp;&amp;(!(t=i(e))||&quot;function&quot;==typeof(n=f.call(t,&quot;constructor&quot;)&amp;&amp;t.constructor)&amp;&amp;p.call(n)===d)},isEmptyObject:function(e){var t;for(t in e)return!1;return!0},globalEval:function(e){m(e)},each:function(e,t){var n,r=0;if(C(e)){for(n=e.length;r&lt;n;r++)if(!1===t.call(e[r],r,e[r]))break}else for(r in e)if(!1===t.call(e[r],r,e[r]))break;return e},trim:function(e){return null==e?&quot;&quot;:(e+&quot;&quot;).replace(T,&quot;&quot;)},makeArray:function(e,t){var n=t||[];return null!=e&amp;&amp;(C(Object(e))?w.merge(n,&quot;string&quot;==typeof e?[e]:e):s.call(n,e)),n},inArray:function(e,t,n){return null==t?-1:u.call(t,e,n)},merge:function(e,t){for(var n=+t.length,r=0,i=e.length;r&lt;n;r++)e[i++]=t[r];return e.length=i,e},grep:function(e,t,n){for(var r,i=[],o=0,a=e.length,s=!n;o&lt;a;o++)(r=!t(e[o],o))!==s&amp;&amp;i.push(e[o]);return i},map:function(e,t,n){var r,i,o=0,s=[];if(C(e))for(r=e.length;o&lt;r;o++)null!=(i=t(e[o],o,n))&amp;&amp;s.push(i);else for(o in e)null!=(i=t(e[o],o,n))&amp;&amp;s.push(i);return a.apply([],s)},guid:1,support:h}),&quot;function&quot;==typeof Symbol&amp;&amp;(w.fn[Symbol.iterator]=n[Symbol.iterator]),w.each(&quot;Boolean Number String Function Array Date RegExp Object Error Symbol&quot;.split(&quot; &quot;),function(e,t){l[&quot;[object &quot;+t+&quot;]&quot;]=t.toLowerCase()});function C(e){var t=!!e&amp;&amp;&quot;length&quot;in e&amp;&amp;e.length,n=x(e);return!g(e)&amp;&amp;!y(e)&amp;&amp;(&quot;array&quot;===n||0===t||&quot;number&quot;==typeof t&amp;&amp;t&gt;0&amp;&amp;t-1 in e)}var E=function(e){var t,n,r,i,o,a,s,u,l,c,f,p,d,h,g,y,v,m,x,b=&quot;sizzle&quot;+1*new Date,w=e.document,T=0,C=0,E=ae(),k=ae(),S=ae(),D=function(e,t){return e===t&amp;&amp;(f=!0),0},N={}.hasOwnProperty,A=[],j=A.pop,q=A.push,L=A.push,H=A.slice,O=function(e,t){for(var n=0,r=e.length;n&lt;r;n++)if(e[n]===t)return n;return-1},P=&quot;checked|selected|async|autofocus|autoplay|controls|defer|disabled|hidden|ismap|loop|multiple|open|readonly|required|scoped&quot;,M=&quot;[\\\\x20\\\\t\\\\r\\\\n\\\\f]&quot;,R=&quot;(?:\\\\\\\\.|[\\\\w-]|[^\\0-\\\\xa0])+&quot;,I=&quot;\\\\[&quot;+M+&quot;*(&quot;+R+&quot;)(?:&quot;+M+&quot;*([*^$|!~]?=)&quot;+M+&quot;*(?:&#x27;((?:\\\\\\\\.|[^\\\\\\\\&#x27;])*)&#x27;|\\&quot;((?:\\\\\\\\.|[^\\\\\\\\\\&quot;])*)\\&quot;|(&quot;+R+&quot;))|)&quot;+M+&quot;*\\\\]&quot;,W=&quot;:(&quot;+R+&quot;)(?:\\\\(((&#x27;((?:\\\\\\\\.|[^\\\\\\\\&#x27;])*)&#x27;|\\&quot;((?:\\\\\\\\.|[^\\\\\\\\\\&quot;])*)\\&quot;)|((?:\\\\\\\\.|[^\\\\\\\\()[\\\\]]|&quot;+I+&quot;)*)|.*)\\\\)|)&quot;,$=new RegExp(M+&quot;+&quot;,&quot;g&quot;),B=new RegExp(&quot;^&quot;+M+&quot;+|((?:^|[^\\\\\\\\])(?:\\\\\\\\.)*)&quot;+M+&quot;+$&quot;,&quot;g&quot;),F=new RegExp(&quot;^&quot;+M+&quot;*,&quot;+M+&quot;*&quot;),_=new RegExp(&quot;^&quot;+M+&quot;*([&gt;+~]|&quot;+M+&quot;)&quot;+M+&quot;*&quot;),z=new RegExp(&quot;=&quot;+M+&quot;*([^\\\\]&#x27;\\&quot;]*?)&quot;+M+&quot;*\\\\]&quot;,&quot;g&quot;),X=new RegExp(W),U=new RegExp(&quot;^&quot;+R+&quot;$&quot;),V={ID:new RegExp(&quot;^#(&quot;+R+&quot;)&quot;),CLASS:new RegExp(&quot;^\\\\.(&quot;+R+&quot;)&quot;),TAG:new RegExp(&quot;^(&quot;+R+&quot;|[*])&quot;),ATTR:new RegExp(&quot;^&quot;+I),PSEUDO:new RegExp(&quot;^&quot;+W),CHILD:new RegExp(&quot;^:(only|first|last|nth|nth-last)-(child|of-type)(?:\\\\(&quot;+M+&quot;*(even|odd|(([+-]|)(\\\\d*)n|)&quot;+M+&quot;*(?:([+-]|)&quot;+M+&quot;*(\\\\d+)|))&quot;+M+&quot;*\\\\)|)&quot;,&quot;i&quot;),bool:new RegExp(&quot;^(?:&quot;+P+&quot;)$&quot;,&quot;i&quot;),needsContext:new RegExp(&quot;^&quot;+M+&quot;*[&gt;+~]|:(even|odd|eq|gt|lt|nth|first|last)(?:\\\\(&quot;+M+&quot;*((?:-\\\\d)?\\\\d*)&quot;+M+&quot;*\\\\)|)(?=[^-]|$)&quot;,&quot;i&quot;)},G=/^(?:input|select|textarea|button)$/i,Y=/^h\\d$/i,Q=/^[^{]+\\{\\s*\\[native \\w/,J=/^(?:#([\\w-]+)|(\\w+)|\\.([\\w-]+))$/,K=/[+~]/,Z=new RegExp(&quot;\\\\\\\\([\\\\da-f]{1,6}&quot;+M+&quot;?|(&quot;+M+&quot;)|.)&quot;,&quot;ig&quot;),ee=function(e,t,n){var r=&quot;0x&quot;+t-65536;return r!==r||n?t:r&lt;0?String.fromCharCode(r+65536):String.fromCharCode(r&gt;&gt;10|55296,1023&amp;r|56320)},te=/([\\0-\\x1f\\x7f]|^-?\\d)|^-$|[^\\0-\\x1f\\x7f-\\uFFFF\\w-]/g,ne=function(e,t){return t?&quot;\\0&quot;===e?&quot;\\ufffd&quot;:e.slice(0,-1)+&quot;\\\\&quot;+e.charCodeAt(e.length-1).toString(16)+&quot; &quot;:&quot;\\\\&quot;+e},re=function(){p()},ie=me(function(e){return!0===e.disabled&amp;&amp;(&quot;form&quot;in e||&quot;label&quot;in e)},{dir:&quot;parentNode&quot;,next:&quot;legend&quot;});try{L.apply(A=H.call(w.childNodes),w.childNodes),A[w.childNodes.length].nodeType}catch(e){L={apply:A.length?function(e,t){q.apply(e,H.call(t))}:function(e,t){var n=e.length,r=0;while(e[n++]=t[r++]);e.length=n-1}}}function oe(e,t,r,i){var o,s,l,c,f,h,v,m=t&amp;&amp;t.ownerDocument,T=t?t.nodeType:9;if(r=r||[],&quot;string&quot;!=typeof e||!e||1!==T&amp;&amp;9!==T&amp;&amp;11!==T)return r;if(!i&amp;&amp;((t?t.ownerDocument||t:w)!==d&amp;&amp;p(t),t=t||d,g)){if(11!==T&amp;&amp;(f=J.exec(e)))if(o=f[1]){if(9===T){if(!(l=t.getElementById(o)))return r;if(l.id===o)return r.push(l),r}else if(m&amp;&amp;(l=m.getElementById(o))&amp;&amp;x(t,l)&amp;&amp;l.id===o)return r.push(l),r}else{if(f[2])return L.apply(r,t.getElementsByTagName(e)),r;if((o=f[3])&amp;&amp;n.getElementsByClassName&amp;&amp;t.getElementsByClassName)return L.apply(r,t.getElementsByClassName(o)),r}if(n.qsa&amp;&amp;!S[e+&quot; &quot;]&amp;&amp;(!y||!y.test(e))){if(1!==T)m=t,v=e;else if(&quot;object&quot;!==t.nodeName.toLowerCase()){(c=t.getAttribute(&quot;id&quot;))?c=c.replace(te,ne):t.setAttribute(&quot;id&quot;,c=b),s=(h=a(e)).length;while(s--)h[s]=&quot;#&quot;+c+&quot; &quot;+ve(h[s]);v=h.join(&quot;,&quot;),m=K.test(e)&amp;&amp;ge(t.parentNode)||t}if(v)try{return L.apply(r,m.querySelectorAll(v)),r}catch(e){}finally{c===b&amp;&amp;t.removeAttribute(&quot;id&quot;)}}}return u(e.replace(B,&quot;$1&quot;),t,r,i)}function ae(){var e=[];function t(n,i){return e.push(n+&quot; &quot;)&gt;r.cacheLength&amp;&amp;delete t[e.shift()],t[n+&quot; &quot;]=i}return t}function se(e){return e[b]=!0,e}function ue(e){var t=d.createElement(&quot;fieldset&quot;);try{return!!e(t)}catch(e){return!1}finally{t.parentNode&amp;&amp;t.parentNode.removeChild(t),t=null}}function le(e,t){var n=e.split(&quot;|&quot;),i=n.length;while(i--)r.attrHandle[n[i]]=t}function ce(e,t){var n=t&amp;&amp;e,r=n&amp;&amp;1===e.nodeType&amp;&amp;1===t.nodeType&amp;&amp;e.sourceIndex-t.sourceIndex;if(r)return r;if(n)while(n=n.nextSibling)if(n===t)return-1;return e?1:-1}function fe(e){return function(t){return&quot;input&quot;===t.nodeName.toLowerCase()&amp;&amp;t.type===e}}function pe(e){return function(t){var n=t.nodeName.toLowerCase();return(&quot;input&quot;===n||&quot;button&quot;===n)&amp;&amp;t.type===e}}function de(e){return function(t){return&quot;form&quot;in t?t.parentNode&amp;&amp;!1===t.disabled?&quot;label&quot;in t?&quot;label&quot;in t.parentNode?t.parentNode.disabled===e:t.disabled===e:t.isDisabled===e||t.isDisabled!==!e&amp;&amp;ie(t)===e:t.disabled===e:&quot;label&quot;in t&amp;&amp;t.disabled===e}}function he(e){return se(function(t){return t=+t,se(function(n,r){var i,o=e([],n.length,t),a=o.length;while(a--)n[i=o[a]]&amp;&amp;(n[i]=!(r[i]=n[i]))})})}function ge(e){return e&amp;&amp;&quot;undefined&quot;!=typeof e.getElementsByTagName&amp;&amp;e}n=oe.support={},o=oe.isXML=function(e){var t=e&amp;&amp;(e.ownerDocument||e).documentElement;return!!t&amp;&amp;&quot;HTML&quot;!==t.nodeName},p=oe.setDocument=function(e){var t,i,a=e?e.ownerDocument||e:w;return a!==d&amp;&amp;9===a.nodeType&amp;&amp;a.documentElement?(d=a,h=d.documentElement,g=!o(d),w!==d&amp;&amp;(i=d.defaultView)&amp;&amp;i.top!==i&amp;&amp;(i.addEventListener?i.addEventListener(&quot;unload&quot;,re,!1):i.attachEvent&amp;&amp;i.attachEvent(&quot;onunload&quot;,re)),n.attributes=ue(function(e){return e.className=&quot;i&quot;,!e.getAttribute(&quot;className&quot;)}),n.getElementsByTagName=ue(function(e){return e.appendChild(d.createComment(&quot;&quot;)),!e.getElementsByTagName(&quot;*&quot;).length}),n.getElementsByClassName=Q.test(d.getElementsByClassName),n.getById=ue(function(e){return h.appendChild(e).id=b,!d.getElementsByName||!d.getElementsByName(b).length}),n.getById?(r.filter.ID=function(e){var t=e.replace(Z,ee);return function(e){return e.getAttribute(&quot;id&quot;)===t}},r.find.ID=function(e,t){if(&quot;undefined&quot;!=typeof t.getElementById&amp;&amp;g){var n=t.getElementById(e);return n?[n]:[]}}):(r.filter.ID=function(e){var t=e.replace(Z,ee);return function(e){var n=&quot;undefined&quot;!=typeof e.getAttributeNode&amp;&amp;e.getAttributeNode(&quot;id&quot;);return n&amp;&amp;n.value===t}},r.find.ID=function(e,t){if(&quot;undefined&quot;!=typeof t.getElementById&amp;&amp;g){var n,r,i,o=t.getElementById(e);if(o){if((n=o.getAttributeNode(&quot;id&quot;))&amp;&amp;n.value===e)return[o];i=t.getElementsByName(e),r=0;while(o=i[r++])if((n=o.getAttributeNode(&quot;id&quot;))&amp;&amp;n.value===e)return[o]}return[]}}),r.find.TAG=n.getElementsByTagName?function(e,t){return&quot;undefined&quot;!=typeof t.getElementsByTagName?t.getElementsByTagName(e):n.qsa?t.querySelectorAll(e):void 0}:function(e,t){var n,r=[],i=0,o=t.getElementsByTagName(e);if(&quot;*&quot;===e){while(n=o[i++])1===n.nodeType&amp;&amp;r.push(n);return r}return o},r.find.CLASS=n.getElementsByClassName&amp;&amp;function(e,t){if(&quot;undefined&quot;!=typeof t.getElementsByClassName&amp;&amp;g)return t.getElementsByClassName(e)},v=[],y=[],(n.qsa=Q.test(d.querySelectorAll))&amp;&amp;(ue(function(e){h.appendChild(e).innerHTML=&quot;&lt;a id=&#x27;&quot;+b+&quot;&#x27;&gt;&lt;/a&gt;&lt;select id=&#x27;&quot;+b+&quot;-\\r\\\\&#x27; msallowcapture=&#x27;&#x27;&gt;&lt;option selected=&#x27;&#x27;&gt;&lt;/option&gt;&lt;/select&gt;&quot;,e.querySelectorAll(&quot;[msallowcapture^=&#x27;&#x27;]&quot;).length&amp;&amp;y.push(&quot;[*^$]=&quot;+M+&quot;*(?:&#x27;&#x27;|\\&quot;\\&quot;)&quot;),e.querySelectorAll(&quot;[selected]&quot;).length||y.push(&quot;\\\\[&quot;+M+&quot;*(?:value|&quot;+P+&quot;)&quot;),e.querySelectorAll(&quot;[id~=&quot;+b+&quot;-]&quot;).length||y.push(&quot;~=&quot;),e.querySelectorAll(&quot;:checked&quot;).length||y.push(&quot;:checked&quot;),e.querySelectorAll(&quot;a#&quot;+b+&quot;+*&quot;).length||y.push(&quot;.#.+[+~]&quot;)}),ue(function(e){e.innerHTML=&quot;&lt;a href=&#x27;&#x27; disabled=&#x27;disabled&#x27;&gt;&lt;/a&gt;&lt;select disabled=&#x27;disabled&#x27;&gt;&lt;option/&gt;&lt;/select&gt;&quot;;var t=d.createElement(&quot;input&quot;);t.setAttribute(&quot;type&quot;,&quot;hidden&quot;),e.appendChild(t).setAttribute(&quot;name&quot;,&quot;D&quot;),e.querySelectorAll(&quot;[name=d]&quot;).length&amp;&amp;y.push(&quot;name&quot;+M+&quot;*[*^$|!~]?=&quot;),2!==e.querySelectorAll(&quot;:enabled&quot;).length&amp;&amp;y.push(&quot;:enabled&quot;,&quot;:disabled&quot;),h.appendChild(e).disabled=!0,2!==e.querySelectorAll(&quot;:disabled&quot;).length&amp;&amp;y.push(&quot;:enabled&quot;,&quot;:disabled&quot;),e.querySelectorAll(&quot;*,:x&quot;),y.push(&quot;,.*:&quot;)})),(n.matchesSelector=Q.test(m=h.matches||h.webkitMatchesSelector||h.mozMatchesSelector||h.oMatchesSelector||h.msMatchesSelector))&amp;&amp;ue(function(e){n.disconnectedMatch=m.call(e,&quot;*&quot;),m.call(e,&quot;[s!=&#x27;&#x27;]:x&quot;),v.push(&quot;!=&quot;,W)}),y=y.length&amp;&amp;new RegExp(y.join(&quot;|&quot;)),v=v.length&amp;&amp;new RegExp(v.join(&quot;|&quot;)),t=Q.test(h.compareDocumentPosition),x=t||Q.test(h.contains)?function(e,t){var n=9===e.nodeType?e.documentElement:e,r=t&amp;&amp;t.parentNode;return e===r||!(!r||1!==r.nodeType||!(n.contains?n.contains(r):e.compareDocumentPosition&amp;&amp;16&amp;e.compareDocumentPosition(r)))}:function(e,t){if(t)while(t=t.parentNode)if(t===e)return!0;return!1},D=t?function(e,t){if(e===t)return f=!0,0;var r=!e.compareDocumentPosition-!t.compareDocumentPosition;return r||(1&amp;(r=(e.ownerDocument||e)===(t.ownerDocument||t)?e.compareDocumentPosition(t):1)||!n.sortDetached&amp;&amp;t.compareDocumentPosition(e)===r?e===d||e.ownerDocument===w&amp;&amp;x(w,e)?-1:t===d||t.ownerDocument===w&amp;&amp;x(w,t)?1:c?O(c,e)-O(c,t):0:4&amp;r?-1:1)}:function(e,t){if(e===t)return f=!0,0;var n,r=0,i=e.parentNode,o=t.parentNode,a=[e],s=[t];if(!i||!o)return e===d?-1:t===d?1:i?-1:o?1:c?O(c,e)-O(c,t):0;if(i===o)return ce(e,t);n=e;while(n=n.parentNode)a.unshift(n);n=t;while(n=n.parentNode)s.unshift(n);while(a[r]===s[r])r++;return r?ce(a[r],s[r]):a[r]===w?-1:s[r]===w?1:0},d):d},oe.matches=function(e,t){return oe(e,null,null,t)},oe.matchesSelector=function(e,t){if((e.ownerDocument||e)!==d&amp;&amp;p(e),t=t.replace(z,&quot;=&#x27;$1&#x27;]&quot;),n.matchesSelector&amp;&amp;g&amp;&amp;!S[t+&quot; &quot;]&amp;&amp;(!v||!v.test(t))&amp;&amp;(!y||!y.test(t)))try{var r=m.call(e,t);if(r||n.disconnectedMatch||e.document&amp;&amp;11!==e.document.nodeType)return r}catch(e){}return oe(t,d,null,[e]).length&gt;0},oe.contains=function(e,t){return(e.ownerDocument||e)!==d&amp;&amp;p(e),x(e,t)},oe.attr=function(e,t){(e.ownerDocument||e)!==d&amp;&amp;p(e);var i=r.attrHandle[t.toLowerCase()],o=i&amp;&amp;N.call(r.attrHandle,t.toLowerCase())?i(e,t,!g):void 0;return void 0!==o?o:n.attributes||!g?e.getAttribute(t):(o=e.getAttributeNode(t))&amp;&amp;o.specified?o.value:null},oe.escape=function(e){return(e+&quot;&quot;).replace(te,ne)},oe.error=function(e){throw new Error(&quot;Syntax error, unrecognized expression: &quot;+e)},oe.uniqueSort=function(e){var t,r=[],i=0,o=0;if(f=!n.detectDuplicates,c=!n.sortStable&amp;&amp;e.slice(0),e.sort(D),f){while(t=e[o++])t===e[o]&amp;&amp;(i=r.push(o));while(i--)e.splice(r[i],1)}return c=null,e},i=oe.getText=function(e){var t,n=&quot;&quot;,r=0,o=e.nodeType;if(o){if(1===o||9===o||11===o){if(&quot;string&quot;==typeof e.textContent)return e.textContent;for(e=e.firstChild;e;e=e.nextSibling)n+=i(e)}else if(3===o||4===o)return e.nodeValue}else while(t=e[r++])n+=i(t);return n},(r=oe.selectors={cacheLength:50,createPseudo:se,match:V,attrHandle:{},find:{},relative:{&quot;&gt;&quot;:{dir:&quot;parentNode&quot;,first:!0},&quot; &quot;:{dir:&quot;parentNode&quot;},&quot;+&quot;:{dir:&quot;previousSibling&quot;,first:!0},&quot;~&quot;:{dir:&quot;previousSibling&quot;}},preFilter:{ATTR:function(e){return e[1]=e[1].replace(Z,ee),e[3]=(e[3]||e[4]||e[5]||&quot;&quot;).replace(Z,ee),&quot;~=&quot;===e[2]&amp;&amp;(e[3]=&quot; &quot;+e[3]+&quot; &quot;),e.slice(0,4)},CHILD:function(e){return e[1]=e[1].toLowerCase(),&quot;nth&quot;===e[1].slice(0,3)?(e[3]||oe.error(e[0]),e[4]=+(e[4]?e[5]+(e[6]||1):2*(&quot;even&quot;===e[3]||&quot;odd&quot;===e[3])),e[5]=+(e[7]+e[8]||&quot;odd&quot;===e[3])):e[3]&amp;&amp;oe.error(e[0]),e},PSEUDO:function(e){var t,n=!e[6]&amp;&amp;e[2];return V.CHILD.test(e[0])?null:(e[3]?e[2]=e[4]||e[5]||&quot;&quot;:n&amp;&amp;X.test(n)&amp;&amp;(t=a(n,!0))&amp;&amp;(t=n.indexOf(&quot;)&quot;,n.length-t)-n.length)&amp;&amp;(e[0]=e[0].slice(0,t),e[2]=n.slice(0,t)),e.slice(0,3))}},filter:{TAG:function(e){var t=e.replace(Z,ee).toLowerCase();return&quot;*&quot;===e?function(){return!0}:function(e){return e.nodeName&amp;&amp;e.nodeName.toLowerCase()===t}},CLASS:function(e){var t=E[e+&quot; &quot;];return t||(t=new RegExp(&quot;(^|&quot;+M+&quot;)&quot;+e+&quot;(&quot;+M+&quot;|$)&quot;))&amp;&amp;E(e,function(e){return t.test(&quot;string&quot;==typeof e.className&amp;&amp;e.className||&quot;undefined&quot;!=typeof e.getAttribute&amp;&amp;e.getAttribute(&quot;class&quot;)||&quot;&quot;)})},ATTR:function(e,t,n){return function(r){var i=oe.attr(r,e);return null==i?&quot;!=&quot;===t:!t||(i+=&quot;&quot;,&quot;=&quot;===t?i===n:&quot;!=&quot;===t?i!==n:&quot;^=&quot;===t?n&amp;&amp;0===i.indexOf(n):&quot;*=&quot;===t?n&amp;&amp;i.indexOf(n)&gt;-1:&quot;$=&quot;===t?n&amp;&amp;i.slice(-n.length)===n:&quot;~=&quot;===t?(&quot; &quot;+i.replace($,&quot; &quot;)+&quot; &quot;).indexOf(n)&gt;-1:&quot;|=&quot;===t&amp;&amp;(i===n||i.slice(0,n.length+1)===n+&quot;-&quot;))}},CHILD:function(e,t,n,r,i){var o=&quot;nth&quot;!==e.slice(0,3),a=&quot;last&quot;!==e.slice(-4),s=&quot;of-type&quot;===t;return 1===r&amp;&amp;0===i?function(e){return!!e.parentNode}:function(t,n,u){var l,c,f,p,d,h,g=o!==a?&quot;nextSibling&quot;:&quot;previousSibling&quot;,y=t.parentNode,v=s&amp;&amp;t.nodeName.toLowerCase(),m=!u&amp;&amp;!s,x=!1;if(y){if(o){while(g){p=t;while(p=p[g])if(s?p.nodeName.toLowerCase()===v:1===p.nodeType)return!1;h=g=&quot;only&quot;===e&amp;&amp;!h&amp;&amp;&quot;nextSibling&quot;}return!0}if(h=[a?y.firstChild:y.lastChild],a&amp;&amp;m){x=(d=(l=(c=(f=(p=y)[b]||(p[b]={}))[p.uniqueID]||(f[p.uniqueID]={}))[e]||[])[0]===T&amp;&amp;l[1])&amp;&amp;l[2],p=d&amp;&amp;y.childNodes[d];while(p=++d&amp;&amp;p&amp;&amp;p[g]||(x=d=0)||h.pop())if(1===p.nodeType&amp;&amp;++x&amp;&amp;p===t){c[e]=[T,d,x];break}}else if(m&amp;&amp;(x=d=(l=(c=(f=(p=t)[b]||(p[b]={}))[p.uniqueID]||(f[p.uniqueID]={}))[e]||[])[0]===T&amp;&amp;l[1]),!1===x)while(p=++d&amp;&amp;p&amp;&amp;p[g]||(x=d=0)||h.pop())if((s?p.nodeName.toLowerCase()===v:1===p.nodeType)&amp;&amp;++x&amp;&amp;(m&amp;&amp;((c=(f=p[b]||(p[b]={}))[p.uniqueID]||(f[p.uniqueID]={}))[e]=[T,x]),p===t))break;return(x-=i)===r||x%r==0&amp;&amp;x/r&gt;=0}}},PSEUDO:function(e,t){var n,i=r.pseudos[e]||r.setFilters[e.toLowerCase()]||oe.error(&quot;unsupported pseudo: &quot;+e);return i[b]?i(t):i.length&gt;1?(n=[e,e,&quot;&quot;,t],r.setFilters.hasOwnProperty(e.toLowerCase())?se(function(e,n){var r,o=i(e,t),a=o.length;while(a--)e[r=O(e,o[a])]=!(n[r]=o[a])}):function(e){return i(e,0,n)}):i}},pseudos:{not:se(function(e){var t=[],n=[],r=s(e.replace(B,&quot;$1&quot;));return r[b]?se(function(e,t,n,i){var o,a=r(e,null,i,[]),s=e.length;while(s--)(o=a[s])&amp;&amp;(e[s]=!(t[s]=o))}):function(e,i,o){return t[0]=e,r(t,null,o,n),t[0]=null,!n.pop()}}),has:se(function(e){return function(t){return oe(e,t).length&gt;0}}),contains:se(function(e){return e=e.replace(Z,ee),function(t){return(t.textContent||t.innerText||i(t)).indexOf(e)&gt;-1}}),lang:se(function(e){return U.test(e||&quot;&quot;)||oe.error(&quot;unsupported lang: &quot;+e),e=e.replace(Z,ee).toLowerCase(),function(t){var n;do{if(n=g?t.lang:t.getAttribute(&quot;xml:lang&quot;)||t.getAttribute(&quot;lang&quot;))return(n=n.toLowerCase())===e||0===n.indexOf(e+&quot;-&quot;)}while((t=t.parentNode)&amp;&amp;1===t.nodeType);return!1}}),target:function(t){var n=e.location&amp;&amp;e.location.hash;return n&amp;&amp;n.slice(1)===t.id},root:function(e){return e===h},focus:function(e){return e===d.activeElement&amp;&amp;(!d.hasFocus||d.hasFocus())&amp;&amp;!!(e.type||e.href||~e.tabIndex)},enabled:de(!1),disabled:de(!0),checked:function(e){var t=e.nodeName.toLowerCase();return&quot;input&quot;===t&amp;&amp;!!e.checked||&quot;option&quot;===t&amp;&amp;!!e.selected},selected:function(e){return e.parentNode&amp;&amp;e.parentNode.selectedIndex,!0===e.selected},empty:function(e){for(e=e.firstChild;e;e=e.nextSibling)if(e.nodeType&lt;6)return!1;return!0},parent:function(e){return!r.pseudos.empty(e)},header:function(e){return Y.test(e.nodeName)},input:function(e){return G.test(e.nodeName)},button:function(e){var t=e.nodeName.toLowerCase();return&quot;input&quot;===t&amp;&amp;&quot;button&quot;===e.type||&quot;button&quot;===t},text:function(e){var t;return&quot;input&quot;===e.nodeName.toLowerCase()&amp;&amp;&quot;text&quot;===e.type&amp;&amp;(null==(t=e.getAttribute(&quot;type&quot;))||&quot;text&quot;===t.toLowerCase())},first:he(function(){return[0]}),last:he(function(e,t){return[t-1]}),eq:he(function(e,t,n){return[n&lt;0?n+t:n]}),even:he(function(e,t){for(var n=0;n&lt;t;n+=2)e.push(n);return e}),odd:he(function(e,t){for(var n=1;n&lt;t;n+=2)e.push(n);return e}),lt:he(function(e,t,n){for(var r=n&lt;0?n+t:n;--r&gt;=0;)e.push(r);return e}),gt:he(function(e,t,n){for(var r=n&lt;0?n+t:n;++r&lt;t;)e.push(r);return e})}}).pseudos.nth=r.pseudos.eq;for(t in{radio:!0,checkbox:!0,file:!0,password:!0,image:!0})r.pseudos[t]=fe(t);for(t in{submit:!0,reset:!0})r.pseudos[t]=pe(t);function ye(){}ye.prototype=r.filters=r.pseudos,r.setFilters=new ye,a=oe.tokenize=function(e,t){var n,i,o,a,s,u,l,c=k[e+&quot; &quot;];if(c)return t?0:c.slice(0);s=e,u=[],l=r.preFilter;while(s){n&amp;&amp;!(i=F.exec(s))||(i&amp;&amp;(s=s.slice(i[0].length)||s),u.push(o=[])),n=!1,(i=_.exec(s))&amp;&amp;(n=i.shift(),o.push({value:n,type:i[0].replace(B,&quot; &quot;)}),s=s.slice(n.length));for(a in r.filter)!(i=V[a].exec(s))||l[a]&amp;&amp;!(i=l[a](i))||(n=i.shift(),o.push({value:n,type:a,matches:i}),s=s.slice(n.length));if(!n)break}return t?s.length:s?oe.error(e):k(e,u).slice(0)};function ve(e){for(var t=0,n=e.length,r=&quot;&quot;;t&lt;n;t++)r+=e[t].value;return r}function me(e,t,n){var r=t.dir,i=t.next,o=i||r,a=n&amp;&amp;&quot;parentNode&quot;===o,s=C++;return t.first?function(t,n,i){while(t=t[r])if(1===t.nodeType||a)return e(t,n,i);return!1}:function(t,n,u){var l,c,f,p=[T,s];if(u){while(t=t[r])if((1===t.nodeType||a)&amp;&amp;e(t,n,u))return!0}else while(t=t[r])if(1===t.nodeType||a)if(f=t[b]||(t[b]={}),c=f[t.uniqueID]||(f[t.uniqueID]={}),i&amp;&amp;i===t.nodeName.toLowerCase())t=t[r]||t;else{if((l=c[o])&amp;&amp;l[0]===T&amp;&amp;l[1]===s)return p[2]=l[2];if(c[o]=p,p[2]=e(t,n,u))return!0}return!1}}function xe(e){return e.length&gt;1?function(t,n,r){var i=e.length;while(i--)if(!e[i](t,n,r))return!1;return!0}:e[0]}function be(e,t,n){for(var r=0,i=t.length;r&lt;i;r++)oe(e,t[r],n);return n}function we(e,t,n,r,i){for(var o,a=[],s=0,u=e.length,l=null!=t;s&lt;u;s++)(o=e[s])&amp;&amp;(n&amp;&amp;!n(o,r,i)||(a.push(o),l&amp;&amp;t.push(s)));return a}function Te(e,t,n,r,i,o){return r&amp;&amp;!r[b]&amp;&amp;(r=Te(r)),i&amp;&amp;!i[b]&amp;&amp;(i=Te(i,o)),se(function(o,a,s,u){var l,c,f,p=[],d=[],h=a.length,g=o||be(t||&quot;*&quot;,s.nodeType?[s]:s,[]),y=!e||!o&amp;&amp;t?g:we(g,p,e,s,u),v=n?i||(o?e:h||r)?[]:a:y;if(n&amp;&amp;n(y,v,s,u),r){l=we(v,d),r(l,[],s,u),c=l.length;while(c--)(f=l[c])&amp;&amp;(v[d[c]]=!(y[d[c]]=f))}if(o){if(i||e){if(i){l=[],c=v.length;while(c--)(f=v[c])&amp;&amp;l.push(y[c]=f);i(null,v=[],l,u)}c=v.length;while(c--)(f=v[c])&amp;&amp;(l=i?O(o,f):p[c])&gt;-1&amp;&amp;(o[l]=!(a[l]=f))}}else v=we(v===a?v.splice(h,v.length):v),i?i(null,a,v,u):L.apply(a,v)})}function Ce(e){for(var t,n,i,o=e.length,a=r.relative[e[0].type],s=a||r.relative[&quot; &quot;],u=a?1:0,c=me(function(e){return e===t},s,!0),f=me(function(e){return O(t,e)&gt;-1},s,!0),p=[function(e,n,r){var i=!a&amp;&amp;(r||n!==l)||((t=n).nodeType?c(e,n,r):f(e,n,r));return t=null,i}];u&lt;o;u++)if(n=r.relative[e[u].type])p=[me(xe(p),n)];else{if((n=r.filter[e[u].type].apply(null,e[u].matches))[b]){for(i=++u;i&lt;o;i++)if(r.relative[e[i].type])break;return Te(u&gt;1&amp;&amp;xe(p),u&gt;1&amp;&amp;ve(e.slice(0,u-1).concat({value:&quot; &quot;===e[u-2].type?&quot;*&quot;:&quot;&quot;})).replace(B,&quot;$1&quot;),n,u&lt;i&amp;&amp;Ce(e.slice(u,i)),i&lt;o&amp;&amp;Ce(e=e.slice(i)),i&lt;o&amp;&amp;ve(e))}p.push(n)}return xe(p)}function Ee(e,t){var n=t.length&gt;0,i=e.length&gt;0,o=function(o,a,s,u,c){var f,h,y,v=0,m=&quot;0&quot;,x=o&amp;&amp;[],b=[],w=l,C=o||i&amp;&amp;r.find.TAG(&quot;*&quot;,c),E=T+=null==w?1:Math.random()||.1,k=C.length;for(c&amp;&amp;(l=a===d||a||c);m!==k&amp;&amp;null!=(f=C[m]);m++){if(i&amp;&amp;f){h=0,a||f.ownerDocument===d||(p(f),s=!g);while(y=e[h++])if(y(f,a||d,s)){u.push(f);break}c&amp;&amp;(T=E)}n&amp;&amp;((f=!y&amp;&amp;f)&amp;&amp;v--,o&amp;&amp;x.push(f))}if(v+=m,n&amp;&amp;m!==v){h=0;while(y=t[h++])y(x,b,a,s);if(o){if(v&gt;0)while(m--)x[m]||b[m]||(b[m]=j.call(u));b=we(b)}L.apply(u,b),c&amp;&amp;!o&amp;&amp;b.length&gt;0&amp;&amp;v+t.length&gt;1&amp;&amp;oe.uniqueSort(u)}return c&amp;&amp;(T=E,l=w),x};return n?se(o):o}return s=oe.compile=function(e,t){var n,r=[],i=[],o=S[e+&quot; &quot;];if(!o){t||(t=a(e)),n=t.length;while(n--)(o=Ce(t[n]))[b]?r.push(o):i.push(o);(o=S(e,Ee(i,r))).selector=e}return o},u=oe.select=function(e,t,n,i){var o,u,l,c,f,p=&quot;function&quot;==typeof e&amp;&amp;e,d=!i&amp;&amp;a(e=p.selector||e);if(n=n||[],1===d.length){if((u=d[0]=d[0].slice(0)).length&gt;2&amp;&amp;&quot;ID&quot;===(l=u[0]).type&amp;&amp;9===t.nodeType&amp;&amp;g&amp;&amp;r.relative[u[1].type]){if(!(t=(r.find.ID(l.matches[0].replace(Z,ee),t)||[])[0]))return n;p&amp;&amp;(t=t.parentNode),e=e.slice(u.shift().value.length)}o=V.needsContext.test(e)?0:u.length;while(o--){if(l=u[o],r.relative[c=l.type])break;if((f=r.find[c])&amp;&amp;(i=f(l.matches[0].replace(Z,ee),K.test(u[0].type)&amp;&amp;ge(t.parentNode)||t))){if(u.splice(o,1),!(e=i.length&amp;&amp;ve(u)))return L.apply(n,i),n;break}}}return(p||s(e,d))(i,t,!g,n,!t||K.test(e)&amp;&amp;ge(t.parentNode)||t),n},n.sortStable=b.split(&quot;&quot;).sort(D).join(&quot;&quot;)===b,n.detectDuplicates=!!f,p(),n.sortDetached=ue(function(e){return 1&amp;e.compareDocumentPosition(d.createElement(&quot;fieldset&quot;))}),ue(function(e){return e.innerHTML=&quot;&lt;a href=&#x27;#&#x27;&gt;&lt;/a&gt;&quot;,&quot;#&quot;===e.firstChild.getAttribute(&quot;href&quot;)})||le(&quot;type|href|height|width&quot;,function(e,t,n){if(!n)return e.getAttribute(t,&quot;type&quot;===t.toLowerCase()?1:2)}),n.attributes&amp;&amp;ue(function(e){return e.innerHTML=&quot;&lt;input/&gt;&quot;,e.firstChild.setAttribute(&quot;value&quot;,&quot;&quot;),&quot;&quot;===e.firstChild.getAttribute(&quot;value&quot;)})||le(&quot;value&quot;,function(e,t,n){if(!n&amp;&amp;&quot;input&quot;===e.nodeName.toLowerCase())return e.defaultValue}),ue(function(e){return null==e.getAttribute(&quot;disabled&quot;)})||le(P,function(e,t,n){var r;if(!n)return!0===e[t]?t.toLowerCase():(r=e.getAttributeNode(t))&amp;&amp;r.specified?r.value:null}),oe}(e);w.find=E,w.expr=E.selectors,w.expr[&quot;:&quot;]=w.expr.pseudos,w.uniqueSort=w.unique=E.uniqueSort,w.text=E.getText,w.isXMLDoc=E.isXML,w.contains=E.contains,w.escapeSelector=E.escape;var k=function(e,t,n){var r=[],i=void 0!==n;while((e=e[t])&amp;&amp;9!==e.nodeType)if(1===e.nodeType){if(i&amp;&amp;w(e).is(n))break;r.push(e)}return r},S=function(e,t){for(var n=[];e;e=e.nextSibling)1===e.nodeType&amp;&amp;e!==t&amp;&amp;n.push(e);return n},D=w.expr.match.needsContext;function N(e,t){return e.nodeName&amp;&amp;e.nodeName.toLowerCase()===t.toLowerCase()}var A=/^&lt;([a-z][^\\/\\0&gt;:\\x20\\t\\r\\n\\f]*)[\\x20\\t\\r\\n\\f]*\\/?&gt;(?:&lt;\\/\\1&gt;|)$/i;function j(e,t,n){return g(t)?w.grep(e,function(e,r){return!!t.call(e,r,e)!==n}):t.nodeType?w.grep(e,function(e){return e===t!==n}):&quot;string&quot;!=typeof t?w.grep(e,function(e){return u.call(t,e)&gt;-1!==n}):w.filter(t,e,n)}w.filter=function(e,t,n){var r=t[0];return n&amp;&amp;(e=&quot;:not(&quot;+e+&quot;)&quot;),1===t.length&amp;&amp;1===r.nodeType?w.find.matchesSelector(r,e)?[r]:[]:w.find.matches(e,w.grep(t,function(e){return 1===e.nodeType}))},w.fn.extend({find:function(e){var t,n,r=this.length,i=this;if(&quot;string&quot;!=typeof e)return this.pushStack(w(e).filter(function(){for(t=0;t&lt;r;t++)if(w.contains(i[t],this))return!0}));for(n=this.pushStack([]),t=0;t&lt;r;t++)w.find(e,i[t],n);return r&gt;1?w.uniqueSort(n):n},filter:function(e){return this.pushStack(j(this,e||[],!1))},not:function(e){return this.pushStack(j(this,e||[],!0))},is:function(e){return!!j(this,&quot;string&quot;==typeof e&amp;&amp;D.test(e)?w(e):e||[],!1).length}});var q,L=/^(?:\\s*(&lt;[\\w\\W]+&gt;)[^&gt;]*|#([\\w-]+))$/;(w.fn.init=function(e,t,n){var i,o;if(!e)return this;if(n=n||q,&quot;string&quot;==typeof e){if(!(i=&quot;&lt;&quot;===e[0]&amp;&amp;&quot;&gt;&quot;===e[e.length-1]&amp;&amp;e.length&gt;=3?[null,e,null]:L.exec(e))||!i[1]&amp;&amp;t)return!t||t.jquery?(t||n).find(e):this.constructor(t).find(e);if(i[1]){if(t=t instanceof w?t[0]:t,w.merge(this,w.parseHTML(i[1],t&amp;&amp;t.nodeType?t.ownerDocument||t:r,!0)),A.test(i[1])&amp;&amp;w.isPlainObject(t))for(i in t)g(this[i])?this[i](t[i]):this.attr(i,t[i]);return this}return(o=r.getElementById(i[2]))&amp;&amp;(this[0]=o,this.length=1),this}return e.nodeType?(this[0]=e,this.length=1,this):g(e)?void 0!==n.ready?n.ready(e):e(w):w.makeArray(e,this)}).prototype=w.fn,q=w(r);var H=/^(?:parents|prev(?:Until|All))/,O={children:!0,contents:!0,next:!0,prev:!0};w.fn.extend({has:function(e){var t=w(e,this),n=t.length;return this.filter(function(){for(var e=0;e&lt;n;e++)if(w.contains(this,t[e]))return!0})},closest:function(e,t){var n,r=0,i=this.length,o=[],a=&quot;string&quot;!=typeof e&amp;&amp;w(e);if(!D.test(e))for(;r&lt;i;r++)for(n=this[r];n&amp;&amp;n!==t;n=n.parentNode)if(n.nodeType&lt;11&amp;&amp;(a?a.index(n)&gt;-1:1===n.nodeType&amp;&amp;w.find.matchesSelector(n,e))){o.push(n);break}return this.pushStack(o.length&gt;1?w.uniqueSort(o):o)},index:function(e){return e?&quot;string&quot;==typeof e?u.call(w(e),this[0]):u.call(this,e.jquery?e[0]:e):this[0]&amp;&amp;this[0].parentNode?this.first().prevAll().length:-1},add:function(e,t){return this.pushStack(w.uniqueSort(w.merge(this.get(),w(e,t))))},addBack:function(e){return this.add(null==e?this.prevObject:this.prevObject.filter(e))}});function P(e,t){while((e=e[t])&amp;&amp;1!==e.nodeType);return e}w.each({parent:function(e){var t=e.parentNode;return t&amp;&amp;11!==t.nodeType?t:null},parents:function(e){return k(e,&quot;parentNode&quot;)},parentsUntil:function(e,t,n){return k(e,&quot;parentNode&quot;,n)},next:function(e){return P(e,&quot;nextSibling&quot;)},prev:function(e){return P(e,&quot;previousSibling&quot;)},nextAll:function(e){return k(e,&quot;nextSibling&quot;)},prevAll:function(e){return k(e,&quot;previousSibling&quot;)},nextUntil:function(e,t,n){return k(e,&quot;nextSibling&quot;,n)},prevUntil:function(e,t,n){return k(e,&quot;previousSibling&quot;,n)},siblings:function(e){return S((e.parentNode||{}).firstChild,e)},children:function(e){return S(e.firstChild)},contents:function(e){return N(e,&quot;iframe&quot;)?e.contentDocument:(N(e,&quot;template&quot;)&amp;&amp;(e=e.content||e),w.merge([],e.childNodes))}},function(e,t){w.fn[e]=function(n,r){var i=w.map(this,t,n);return&quot;Until&quot;!==e.slice(-5)&amp;&amp;(r=n),r&amp;&amp;&quot;string&quot;==typeof r&amp;&amp;(i=w.filter(r,i)),this.length&gt;1&amp;&amp;(O[e]||w.uniqueSort(i),H.test(e)&amp;&amp;i.reverse()),this.pushStack(i)}});var M=/[^\\x20\\t\\r\\n\\f]+/g;function R(e){var t={};return w.each(e.match(M)||[],function(e,n){t[n]=!0}),t}w.Callbacks=function(e){e=&quot;string&quot;==typeof e?R(e):w.extend({},e);var t,n,r,i,o=[],a=[],s=-1,u=function(){for(i=i||e.once,r=t=!0;a.length;s=-1){n=a.shift();while(++s&lt;o.length)!1===o[s].apply(n[0],n[1])&amp;&amp;e.stopOnFalse&amp;&amp;(s=o.length,n=!1)}e.memory||(n=!1),t=!1,i&amp;&amp;(o=n?[]:&quot;&quot;)},l={add:function(){return o&amp;&amp;(n&amp;&amp;!t&amp;&amp;(s=o.length-1,a.push(n)),function t(n){w.each(n,function(n,r){g(r)?e.unique&amp;&amp;l.has(r)||o.push(r):r&amp;&amp;r.length&amp;&amp;&quot;string&quot;!==x(r)&amp;&amp;t(r)})}(arguments),n&amp;&amp;!t&amp;&amp;u()),this},remove:function(){return w.each(arguments,function(e,t){var n;while((n=w.inArray(t,o,n))&gt;-1)o.splice(n,1),n&lt;=s&amp;&amp;s--}),this},has:function(e){return e?w.inArray(e,o)&gt;-1:o.length&gt;0},empty:function(){return o&amp;&amp;(o=[]),this},disable:function(){return i=a=[],o=n=&quot;&quot;,this},disabled:function(){return!o},lock:function(){return i=a=[],n||t||(o=n=&quot;&quot;),this},locked:function(){return!!i},fireWith:function(e,n){return i||(n=[e,(n=n||[]).slice?n.slice():n],a.push(n),t||u()),this},fire:function(){return l.fireWith(this,arguments),this},fired:function(){return!!r}};return l};function I(e){return e}function W(e){throw e}function $(e,t,n,r){var i;try{e&amp;&amp;g(i=e.promise)?i.call(e).done(t).fail(n):e&amp;&amp;g(i=e.then)?i.call(e,t,n):t.apply(void 0,[e].slice(r))}catch(e){n.apply(void 0,[e])}}w.extend({Deferred:function(t){var n=[[&quot;notify&quot;,&quot;progress&quot;,w.Callbacks(&quot;memory&quot;),w.Callbacks(&quot;memory&quot;),2],[&quot;resolve&quot;,&quot;done&quot;,w.Callbacks(&quot;once memory&quot;),w.Callbacks(&quot;once memory&quot;),0,&quot;resolved&quot;],[&quot;reject&quot;,&quot;fail&quot;,w.Callbacks(&quot;once memory&quot;),w.Callbacks(&quot;once memory&quot;),1,&quot;rejected&quot;]],r=&quot;pending&quot;,i={state:function(){return r},always:function(){return o.done(arguments).fail(arguments),this},&quot;catch&quot;:function(e){return i.then(null,e)},pipe:function(){var e=arguments;return w.Deferred(function(t){w.each(n,function(n,r){var i=g(e[r[4]])&amp;&amp;e[r[4]];o[r[1]](function(){var e=i&amp;&amp;i.apply(this,arguments);e&amp;&amp;g(e.promise)?e.promise().progress(t.notify).done(t.resolve).fail(t.reject):t[r[0]+&quot;With&quot;](this,i?[e]:arguments)})}),e=null}).promise()},then:function(t,r,i){var o=0;function a(t,n,r,i){return function(){var s=this,u=arguments,l=function(){var e,l;if(!(t&lt;o)){if((e=r.apply(s,u))===n.promise())throw new TypeError(&quot;Thenable self-resolution&quot;);l=e&amp;&amp;(&quot;object&quot;==typeof e||&quot;function&quot;==typeof e)&amp;&amp;e.then,g(l)?i?l.call(e,a(o,n,I,i),a(o,n,W,i)):(o++,l.call(e,a(o,n,I,i),a(o,n,W,i),a(o,n,I,n.notifyWith))):(r!==I&amp;&amp;(s=void 0,u=[e]),(i||n.resolveWith)(s,u))}},c=i?l:function(){try{l()}catch(e){w.Deferred.exceptionHook&amp;&amp;w.Deferred.exceptionHook(e,c.stackTrace),t+1&gt;=o&amp;&amp;(r!==W&amp;&amp;(s=void 0,u=[e]),n.rejectWith(s,u))}};t?c():(w.Deferred.getStackHook&amp;&amp;(c.stackTrace=w.Deferred.getStackHook()),e.setTimeout(c))}}return w.Deferred(function(e){n[0][3].add(a(0,e,g(i)?i:I,e.notifyWith)),n[1][3].add(a(0,e,g(t)?t:I)),n[2][3].add(a(0,e,g(r)?r:W))}).promise()},promise:function(e){return null!=e?w.extend(e,i):i}},o={};return w.each(n,function(e,t){var a=t[2],s=t[5];i[t[1]]=a.add,s&amp;&amp;a.add(function(){r=s},n[3-e][2].disable,n[3-e][3].disable,n[0][2].lock,n[0][3].lock),a.add(t[3].fire),o[t[0]]=function(){return o[t[0]+&quot;With&quot;](this===o?void 0:this,arguments),this},o[t[0]+&quot;With&quot;]=a.fireWith}),i.promise(o),t&amp;&amp;t.call(o,o),o},when:function(e){var t=arguments.length,n=t,r=Array(n),i=o.call(arguments),a=w.Deferred(),s=function(e){return function(n){r[e]=this,i[e]=arguments.length&gt;1?o.call(arguments):n,--t||a.resolveWith(r,i)}};if(t&lt;=1&amp;&amp;($(e,a.done(s(n)).resolve,a.reject,!t),&quot;pending&quot;===a.state()||g(i[n]&amp;&amp;i[n].then)))return a.then();while(n--)$(i[n],s(n),a.reject);return a.promise()}});var B=/^(Eval|Internal|Range|Reference|Syntax|Type|URI)Error$/;w.Deferred.exceptionHook=function(t,n){e.console&amp;&amp;e.console.warn&amp;&amp;t&amp;&amp;B.test(t.name)&amp;&amp;e.console.warn(&quot;jQuery.Deferred exception: &quot;+t.message,t.stack,n)},w.readyException=function(t){e.setTimeout(function(){throw t})};var F=w.Deferred();w.fn.ready=function(e){return F.then(e)[&quot;catch&quot;](function(e){w.readyException(e)}),this},w.extend({isReady:!1,readyWait:1,ready:function(e){(!0===e?--w.readyWait:w.isReady)||(w.isReady=!0,!0!==e&amp;&amp;--w.readyWait&gt;0||F.resolveWith(r,[w]))}}),w.ready.then=F.then;function _(){r.removeEventListener(&quot;DOMContentLoaded&quot;,_),e.removeEventListener(&quot;load&quot;,_),w.ready()}&quot;complete&quot;===r.readyState||&quot;loading&quot;!==r.readyState&amp;&amp;!r.documentElement.doScroll?e.setTimeout(w.ready):(r.addEventListener(&quot;DOMContentLoaded&quot;,_),e.addEventListener(&quot;load&quot;,_));var z=function(e,t,n,r,i,o,a){var s=0,u=e.length,l=null==n;if(&quot;object&quot;===x(n)){i=!0;for(s in n)z(e,t,s,n[s],!0,o,a)}else if(void 0!==r&amp;&amp;(i=!0,g(r)||(a=!0),l&amp;&amp;(a?(t.call(e,r),t=null):(l=t,t=function(e,t,n){return l.call(w(e),n)})),t))for(;s&lt;u;s++)t(e[s],n,a?r:r.call(e[s],s,t(e[s],n)));return i?e:l?t.call(e):u?t(e[0],n):o},X=/^-ms-/,U=/-([a-z])/g;function V(e,t){return t.toUpperCase()}function G(e){return e.replace(X,&quot;ms-&quot;).replace(U,V)}var Y=function(e){return 1===e.nodeType||9===e.nodeType||!+e.nodeType};function Q(){this.expando=w.expando+Q.uid++}Q.uid=1,Q.prototype={cache:function(e){var t=e[this.expando];return t||(t={},Y(e)&amp;&amp;(e.nodeType?e[this.expando]=t:Object.defineProperty(e,this.expando,{value:t,configurable:!0}))),t},set:function(e,t,n){var r,i=this.cache(e);if(&quot;string&quot;==typeof t)i[G(t)]=n;else for(r in t)i[G(r)]=t[r];return i},get:function(e,t){return void 0===t?this.cache(e):e[this.expando]&amp;&amp;e[this.expando][G(t)]},access:function(e,t,n){return void 0===t||t&amp;&amp;&quot;string&quot;==typeof t&amp;&amp;void 0===n?this.get(e,t):(this.set(e,t,n),void 0!==n?n:t)},remove:function(e,t){var n,r=e[this.expando];if(void 0!==r){if(void 0!==t){n=(t=Array.isArray(t)?t.map(G):(t=G(t))in r?[t]:t.match(M)||[]).length;while(n--)delete r[t[n]]}(void 0===t||w.isEmptyObject(r))&amp;&amp;(e.nodeType?e[this.expando]=void 0:delete e[this.expando])}},hasData:function(e){var t=e[this.expando];return void 0!==t&amp;&amp;!w.isEmptyObject(t)}};var J=new Q,K=new Q,Z=/^(?:\\{[\\w\\W]*\\}|\\[[\\w\\W]*\\])$/,ee=/[A-Z]/g;function te(e){return&quot;true&quot;===e||&quot;false&quot;!==e&amp;&amp;(&quot;null&quot;===e?null:e===+e+&quot;&quot;?+e:Z.test(e)?JSON.parse(e):e)}function ne(e,t,n){var r;if(void 0===n&amp;&amp;1===e.nodeType)if(r=&quot;data-&quot;+t.replace(ee,&quot;-$&amp;&quot;).toLowerCase(),&quot;string&quot;==typeof(n=e.getAttribute(r))){try{n=te(n)}catch(e){}K.set(e,t,n)}else n=void 0;return n}w.extend({hasData:function(e){return K.hasData(e)||J.hasData(e)},data:function(e,t,n){return K.access(e,t,n)},removeData:function(e,t){K.remove(e,t)},_data:function(e,t,n){return J.access(e,t,n)},_removeData:function(e,t){J.remove(e,t)}}),w.fn.extend({data:function(e,t){var n,r,i,o=this[0],a=o&amp;&amp;o.attributes;if(void 0===e){if(this.length&amp;&amp;(i=K.get(o),1===o.nodeType&amp;&amp;!J.get(o,&quot;hasDataAttrs&quot;))){n=a.length;while(n--)a[n]&amp;&amp;0===(r=a[n].name).indexOf(&quot;data-&quot;)&amp;&amp;(r=G(r.slice(5)),ne(o,r,i[r]));J.set(o,&quot;hasDataAttrs&quot;,!0)}return i}return&quot;object&quot;==typeof e?this.each(function(){K.set(this,e)}):z(this,function(t){var n;if(o&amp;&amp;void 0===t){if(void 0!==(n=K.get(o,e)))return n;if(void 0!==(n=ne(o,e)))return n}else this.each(function(){K.set(this,e,t)})},null,t,arguments.length&gt;1,null,!0)},removeData:function(e){return this.each(function(){K.remove(this,e)})}}),w.extend({queue:function(e,t,n){var r;if(e)return t=(t||&quot;fx&quot;)+&quot;queue&quot;,r=J.get(e,t),n&amp;&amp;(!r||Array.isArray(n)?r=J.access(e,t,w.makeArray(n)):r.push(n)),r||[]},dequeue:function(e,t){t=t||&quot;fx&quot;;var n=w.queue(e,t),r=n.length,i=n.shift(),o=w._queueHooks(e,t),a=function(){w.dequeue(e,t)};&quot;inprogress&quot;===i&amp;&amp;(i=n.shift(),r--),i&amp;&amp;(&quot;fx&quot;===t&amp;&amp;n.unshift(&quot;inprogress&quot;),delete o.stop,i.call(e,a,o)),!r&amp;&amp;o&amp;&amp;o.empty.fire()},_queueHooks:function(e,t){var n=t+&quot;queueHooks&quot;;return J.get(e,n)||J.access(e,n,{empty:w.Callbacks(&quot;once memory&quot;).add(function(){J.remove(e,[t+&quot;queue&quot;,n])})})}}),w.fn.extend({queue:function(e,t){var n=2;return&quot;string&quot;!=typeof e&amp;&amp;(t=e,e=&quot;fx&quot;,n--),arguments.length&lt;n?w.queue(this[0],e):void 0===t?this:this.each(function(){var n=w.queue(this,e,t);w._queueHooks(this,e),&quot;fx&quot;===e&amp;&amp;&quot;inprogress&quot;!==n[0]&amp;&amp;w.dequeue(this,e)})},dequeue:function(e){return this.each(function(){w.dequeue(this,e)})},clearQueue:function(e){return this.queue(e||&quot;fx&quot;,[])},promise:function(e,t){var n,r=1,i=w.Deferred(),o=this,a=this.length,s=function(){--r||i.resolveWith(o,[o])};&quot;string&quot;!=typeof e&amp;&amp;(t=e,e=void 0),e=e||&quot;fx&quot;;while(a--)(n=J.get(o[a],e+&quot;queueHooks&quot;))&amp;&amp;n.empty&amp;&amp;(r++,n.empty.add(s));return s(),i.promise(t)}});var re=/[+-]?(?:\\d*\\.|)\\d+(?:[eE][+-]?\\d+|)/.source,ie=new RegExp(&quot;^(?:([+-])=|)(&quot;+re+&quot;)([a-z%]*)$&quot;,&quot;i&quot;),oe=[&quot;Top&quot;,&quot;Right&quot;,&quot;Bottom&quot;,&quot;Left&quot;],ae=function(e,t){return&quot;none&quot;===(e=t||e).style.display||&quot;&quot;===e.style.display&amp;&amp;w.contains(e.ownerDocument,e)&amp;&amp;&quot;none&quot;===w.css(e,&quot;display&quot;)},se=function(e,t,n,r){var i,o,a={};for(o in t)a[o]=e.style[o],e.style[o]=t[o];i=n.apply(e,r||[]);for(o in t)e.style[o]=a[o];return i};function ue(e,t,n,r){var i,o,a=20,s=r?function(){return r.cur()}:function(){return w.css(e,t,&quot;&quot;)},u=s(),l=n&amp;&amp;n[3]||(w.cssNumber[t]?&quot;&quot;:&quot;px&quot;),c=(w.cssNumber[t]||&quot;px&quot;!==l&amp;&amp;+u)&amp;&amp;ie.exec(w.css(e,t));if(c&amp;&amp;c[3]!==l){u/=2,l=l||c[3],c=+u||1;while(a--)w.style(e,t,c+l),(1-o)*(1-(o=s()/u||.5))&lt;=0&amp;&amp;(a=0),c/=o;c*=2,w.style(e,t,c+l),n=n||[]}return n&amp;&amp;(c=+c||+u||0,i=n[1]?c+(n[1]+1)*n[2]:+n[2],r&amp;&amp;(r.unit=l,r.start=c,r.end=i)),i}var le={};function ce(e){var t,n=e.ownerDocument,r=e.nodeName,i=le[r];return i||(t=n.body.appendChild(n.createElement(r)),i=w.css(t,&quot;display&quot;),t.parentNode.removeChild(t),&quot;none&quot;===i&amp;&amp;(i=&quot;block&quot;),le[r]=i,i)}function fe(e,t){for(var n,r,i=[],o=0,a=e.length;o&lt;a;o++)(r=e[o]).style&amp;&amp;(n=r.style.display,t?(&quot;none&quot;===n&amp;&amp;(i[o]=J.get(r,&quot;display&quot;)||null,i[o]||(r.style.display=&quot;&quot;)),&quot;&quot;===r.style.display&amp;&amp;ae(r)&amp;&amp;(i[o]=ce(r))):&quot;none&quot;!==n&amp;&amp;(i[o]=&quot;none&quot;,J.set(r,&quot;display&quot;,n)));for(o=0;o&lt;a;o++)null!=i[o]&amp;&amp;(e[o].style.display=i[o]);return e}w.fn.extend({show:function(){return fe(this,!0)},hide:function(){return fe(this)},toggle:function(e){return&quot;boolean&quot;==typeof e?e?this.show():this.hide():this.each(function(){ae(this)?w(this).show():w(this).hide()})}});var pe=/^(?:checkbox|radio)$/i,de=/&lt;([a-z][^\\/\\0&gt;\\x20\\t\\r\\n\\f]+)/i,he=/^$|^module$|\\/(?:java|ecma)script/i,ge={option:[1,&quot;&lt;select multiple=&#x27;multiple&#x27;&gt;&quot;,&quot;&lt;/select&gt;&quot;],thead:[1,&quot;&lt;table&gt;&quot;,&quot;&lt;/table&gt;&quot;],col:[2,&quot;&lt;table&gt;&lt;colgroup&gt;&quot;,&quot;&lt;/colgroup&gt;&lt;/table&gt;&quot;],tr:[2,&quot;&lt;table&gt;&lt;tbody&gt;&quot;,&quot;&lt;/tbody&gt;&lt;/table&gt;&quot;],td:[3,&quot;&lt;table&gt;&lt;tbody&gt;&lt;tr&gt;&quot;,&quot;&lt;/tr&gt;&lt;/tbody&gt;&lt;/table&gt;&quot;],_default:[0,&quot;&quot;,&quot;&quot;]};ge.optgroup=ge.option,ge.tbody=ge.tfoot=ge.colgroup=ge.caption=ge.thead,ge.th=ge.td;function ye(e,t){var n;return n=&quot;undefined&quot;!=typeof e.getElementsByTagName?e.getElementsByTagName(t||&quot;*&quot;):&quot;undefined&quot;!=typeof e.querySelectorAll?e.querySelectorAll(t||&quot;*&quot;):[],void 0===t||t&amp;&amp;N(e,t)?w.merge([e],n):n}function ve(e,t){for(var n=0,r=e.length;n&lt;r;n++)J.set(e[n],&quot;globalEval&quot;,!t||J.get(t[n],&quot;globalEval&quot;))}var me=/&lt;|&amp;#?\\w+;/;function xe(e,t,n,r,i){for(var o,a,s,u,l,c,f=t.createDocumentFragment(),p=[],d=0,h=e.length;d&lt;h;d++)if((o=e[d])||0===o)if(&quot;object&quot;===x(o))w.merge(p,o.nodeType?[o]:o);else if(me.test(o)){a=a||f.appendChild(t.createElement(&quot;div&quot;)),s=(de.exec(o)||[&quot;&quot;,&quot;&quot;])[1].toLowerCase(),u=ge[s]||ge._default,a.innerHTML=u[1]+w.htmlPrefilter(o)+u[2],c=u[0];while(c--)a=a.lastChild;w.merge(p,a.childNodes),(a=f.firstChild).textContent=&quot;&quot;}else p.push(t.createTextNode(o));f.textContent=&quot;&quot;,d=0;while(o=p[d++])if(r&amp;&amp;w.inArray(o,r)&gt;-1)i&amp;&amp;i.push(o);else if(l=w.contains(o.ownerDocument,o),a=ye(f.appendChild(o),&quot;script&quot;),l&amp;&amp;ve(a),n){c=0;while(o=a[c++])he.test(o.type||&quot;&quot;)&amp;&amp;n.push(o)}return f}!function(){var e=r.createDocumentFragment().appendChild(r.createElement(&quot;div&quot;)),t=r.createElement(&quot;input&quot;);t.setAttribute(&quot;type&quot;,&quot;radio&quot;),t.setAttribute(&quot;checked&quot;,&quot;checked&quot;),t.setAttribute(&quot;name&quot;,&quot;t&quot;),e.appendChild(t),h.checkClone=e.cloneNode(!0).cloneNode(!0).lastChild.checked,e.innerHTML=&quot;&lt;textarea&gt;x&lt;/textarea&gt;&quot;,h.noCloneChecked=!!e.cloneNode(!0).lastChild.defaultValue}();var be=r.documentElement,we=/^key/,Te=/^(?:mouse|pointer|contextmenu|drag|drop)|click/,Ce=/^([^.]*)(?:\\.(.+)|)/;function Ee(){return!0}function ke(){return!1}function Se(){try{return r.activeElement}catch(e){}}function De(e,t,n,r,i,o){var a,s;if(&quot;object&quot;==typeof t){&quot;string&quot;!=typeof n&amp;&amp;(r=r||n,n=void 0);for(s in t)De(e,s,n,r,t[s],o);return e}if(null==r&amp;&amp;null==i?(i=n,r=n=void 0):null==i&amp;&amp;(&quot;string&quot;==typeof n?(i=r,r=void 0):(i=r,r=n,n=void 0)),!1===i)i=ke;else if(!i)return e;return 1===o&amp;&amp;(a=i,(i=function(e){return w().off(e),a.apply(this,arguments)}).guid=a.guid||(a.guid=w.guid++)),e.each(function(){w.event.add(this,t,i,r,n)})}w.event={global:{},add:function(e,t,n,r,i){var o,a,s,u,l,c,f,p,d,h,g,y=J.get(e);if(y){n.handler&amp;&amp;(n=(o=n).handler,i=o.selector),i&amp;&amp;w.find.matchesSelector(be,i),n.guid||(n.guid=w.guid++),(u=y.events)||(u=y.events={}),(a=y.handle)||(a=y.handle=function(t){return&quot;undefined&quot;!=typeof w&amp;&amp;w.event.triggered!==t.type?w.event.dispatch.apply(e,arguments):void 0}),l=(t=(t||&quot;&quot;).match(M)||[&quot;&quot;]).length;while(l--)d=g=(s=Ce.exec(t[l])||[])[1],h=(s[2]||&quot;&quot;).split(&quot;.&quot;).sort(),d&amp;&amp;(f=w.event.special[d]||{},d=(i?f.delegateType:f.bindType)||d,f=w.event.special[d]||{},c=w.extend({type:d,origType:g,data:r,handler:n,guid:n.guid,selector:i,needsContext:i&amp;&amp;w.expr.match.needsContext.test(i),namespace:h.join(&quot;.&quot;)},o),(p=u[d])||((p=u[d]=[]).delegateCount=0,f.setup&amp;&amp;!1!==f.setup.call(e,r,h,a)||e.addEventListener&amp;&amp;e.addEventListener(d,a)),f.add&amp;&amp;(f.add.call(e,c),c.handler.guid||(c.handler.guid=n.guid)),i?p.splice(p.delegateCount++,0,c):p.push(c),w.event.global[d]=!0)}},remove:function(e,t,n,r,i){var o,a,s,u,l,c,f,p,d,h,g,y=J.hasData(e)&amp;&amp;J.get(e);if(y&amp;&amp;(u=y.events)){l=(t=(t||&quot;&quot;).match(M)||[&quot;&quot;]).length;while(l--)if(s=Ce.exec(t[l])||[],d=g=s[1],h=(s[2]||&quot;&quot;).split(&quot;.&quot;).sort(),d){f=w.event.special[d]||{},p=u[d=(r?f.delegateType:f.bindType)||d]||[],s=s[2]&amp;&amp;new RegExp(&quot;(^|\\\\.)&quot;+h.join(&quot;\\\\.(?:.*\\\\.|)&quot;)+&quot;(\\\\.|$)&quot;),a=o=p.length;while(o--)c=p[o],!i&amp;&amp;g!==c.origType||n&amp;&amp;n.guid!==c.guid||s&amp;&amp;!s.test(c.namespace)||r&amp;&amp;r!==c.selector&amp;&amp;(&quot;**&quot;!==r||!c.selector)||(p.splice(o,1),c.selector&amp;&amp;p.delegateCount--,f.remove&amp;&amp;f.remove.call(e,c));a&amp;&amp;!p.length&amp;&amp;(f.teardown&amp;&amp;!1!==f.teardown.call(e,h,y.handle)||w.removeEvent(e,d,y.handle),delete u[d])}else for(d in u)w.event.remove(e,d+t[l],n,r,!0);w.isEmptyObject(u)&amp;&amp;J.remove(e,&quot;handle events&quot;)}},dispatch:function(e){var t=w.event.fix(e),n,r,i,o,a,s,u=new Array(arguments.length),l=(J.get(this,&quot;events&quot;)||{})[t.type]||[],c=w.event.special[t.type]||{};for(u[0]=t,n=1;n&lt;arguments.length;n++)u[n]=arguments[n];if(t.delegateTarget=this,!c.preDispatch||!1!==c.preDispatch.call(this,t)){s=w.event.handlers.call(this,t,l),n=0;while((o=s[n++])&amp;&amp;!t.isPropagationStopped()){t.currentTarget=o.elem,r=0;while((a=o.handlers[r++])&amp;&amp;!t.isImmediatePropagationStopped())t.rnamespace&amp;&amp;!t.rnamespace.test(a.namespace)||(t.handleObj=a,t.data=a.data,void 0!==(i=((w.event.special[a.origType]||{}).handle||a.handler).apply(o.elem,u))&amp;&amp;!1===(t.result=i)&amp;&amp;(t.preventDefault(),t.stopPropagation()))}return c.postDispatch&amp;&amp;c.postDispatch.call(this,t),t.result}},handlers:function(e,t){var n,r,i,o,a,s=[],u=t.delegateCount,l=e.target;if(u&amp;&amp;l.nodeType&amp;&amp;!(&quot;click&quot;===e.type&amp;&amp;e.button&gt;=1))for(;l!==this;l=l.parentNode||this)if(1===l.nodeType&amp;&amp;(&quot;click&quot;!==e.type||!0!==l.disabled)){for(o=[],a={},n=0;n&lt;u;n++)void 0===a[i=(r=t[n]).selector+&quot; &quot;]&amp;&amp;(a[i]=r.needsContext?w(i,this).index(l)&gt;-1:w.find(i,this,null,[l]).length),a[i]&amp;&amp;o.push(r);o.length&amp;&amp;s.push({elem:l,handlers:o})}return l=this,u&lt;t.length&amp;&amp;s.push({elem:l,handlers:t.slice(u)}),s},addProp:function(e,t){Object.defineProperty(w.Event.prototype,e,{enumerable:!0,configurable:!0,get:g(t)?function(){if(this.originalEvent)return t(this.originalEvent)}:function(){if(this.originalEvent)return this.originalEvent[e]},set:function(t){Object.defineProperty(this,e,{enumerable:!0,configurable:!0,writable:!0,value:t})}})},fix:function(e){return e[w.expando]?e:new w.Event(e)},special:{load:{noBubble:!0},focus:{trigger:function(){if(this!==Se()&amp;&amp;this.focus)return this.focus(),!1},delegateType:&quot;focusin&quot;},blur:{trigger:function(){if(this===Se()&amp;&amp;this.blur)return this.blur(),!1},delegateType:&quot;focusout&quot;},click:{trigger:function(){if(&quot;checkbox&quot;===this.type&amp;&amp;this.click&amp;&amp;N(this,&quot;input&quot;))return this.click(),!1},_default:function(e){return N(e.target,&quot;a&quot;)}},beforeunload:{postDispatch:function(e){void 0!==e.result&amp;&amp;e.originalEvent&amp;&amp;(e.originalEvent.returnValue=e.result)}}}},w.removeEvent=function(e,t,n){e.removeEventListener&amp;&amp;e.removeEventListener(t,n)},w.Event=function(e,t){if(!(this instanceof w.Event))return new w.Event(e,t);e&amp;&amp;e.type?(this.originalEvent=e,this.type=e.type,this.isDefaultPrevented=e.defaultPrevented||void 0===e.defaultPrevented&amp;&amp;!1===e.returnValue?Ee:ke,this.target=e.target&amp;&amp;3===e.target.nodeType?e.target.parentNode:e.target,this.currentTarget=e.currentTarget,this.relatedTarget=e.relatedTarget):this.type=e,t&amp;&amp;w.extend(this,t),this.timeStamp=e&amp;&amp;e.timeStamp||Date.now(),this[w.expando]=!0},w.Event.prototype={constructor:w.Event,isDefaultPrevented:ke,isPropagationStopped:ke,isImmediatePropagationStopped:ke,isSimulated:!1,preventDefault:function(){var e=this.originalEvent;this.isDefaultPrevented=Ee,e&amp;&amp;!this.isSimulated&amp;&amp;e.preventDefault()},stopPropagation:function(){var e=this.originalEvent;this.isPropagationStopped=Ee,e&amp;&amp;!this.isSimulated&amp;&amp;e.stopPropagation()},stopImmediatePropagation:function(){var e=this.originalEvent;this.isImmediatePropagationStopped=Ee,e&amp;&amp;!this.isSimulated&amp;&amp;e.stopImmediatePropagation(),this.stopPropagation()}},w.each({altKey:!0,bubbles:!0,cancelable:!0,changedTouches:!0,ctrlKey:!0,detail:!0,eventPhase:!0,metaKey:!0,pageX:!0,pageY:!0,shiftKey:!0,view:!0,&quot;char&quot;:!0,charCode:!0,key:!0,keyCode:!0,button:!0,buttons:!0,clientX:!0,clientY:!0,offsetX:!0,offsetY:!0,pointerId:!0,pointerType:!0,screenX:!0,screenY:!0,targetTouches:!0,toElement:!0,touches:!0,which:function(e){var t=e.button;return null==e.which&amp;&amp;we.test(e.type)?null!=e.charCode?e.charCode:e.keyCode:!e.which&amp;&amp;void 0!==t&amp;&amp;Te.test(e.type)?1&amp;t?1:2&amp;t?3:4&amp;t?2:0:e.which}},w.event.addProp),w.each({mouseenter:&quot;mouseover&quot;,mouseleave:&quot;mouseout&quot;,pointerenter:&quot;pointerover&quot;,pointerleave:&quot;pointerout&quot;},function(e,t){w.event.special[e]={delegateType:t,bindType:t,handle:function(e){var n,r=this,i=e.relatedTarget,o=e.handleObj;return i&amp;&amp;(i===r||w.contains(r,i))||(e.type=o.origType,n=o.handler.apply(this,arguments),e.type=t),n}}}),w.fn.extend({on:function(e,t,n,r){return De(this,e,t,n,r)},one:function(e,t,n,r){return De(this,e,t,n,r,1)},off:function(e,t,n){var r,i;if(e&amp;&amp;e.preventDefault&amp;&amp;e.handleObj)return r=e.handleObj,w(e.delegateTarget).off(r.namespace?r.origType+&quot;.&quot;+r.namespace:r.origType,r.selector,r.handler),this;if(&quot;object&quot;==typeof e){for(i in e)this.off(i,t,e[i]);return this}return!1!==t&amp;&amp;&quot;function&quot;!=typeof t||(n=t,t=void 0),!1===n&amp;&amp;(n=ke),this.each(function(){w.event.remove(this,e,n,t)})}});var Ne=/&lt;(?!area|br|col|embed|hr|img|input|link|meta|param)(([a-z][^\\/\\0&gt;\\x20\\t\\r\\n\\f]*)[^&gt;]*)\\/&gt;/gi,Ae=/&lt;script|&lt;style|&lt;link/i,je=/checked\\s*(?:[^=]|=\\s*.checked.)/i,qe=/^\\s*&lt;!(?:\\[CDATA\\[|--)|(?:\\]\\]|--)&gt;\\s*$/g;function Le(e,t){return N(e,&quot;table&quot;)&amp;&amp;N(11!==t.nodeType?t:t.firstChild,&quot;tr&quot;)?w(e).children(&quot;tbody&quot;)[0]||e:e}function He(e){return e.type=(null!==e.getAttribute(&quot;type&quot;))+&quot;/&quot;+e.type,e}function Oe(e){return&quot;true/&quot;===(e.type||&quot;&quot;).slice(0,5)?e.type=e.type.slice(5):e.removeAttribute(&quot;type&quot;),e}function Pe(e,t){var n,r,i,o,a,s,u,l;if(1===t.nodeType){if(J.hasData(e)&amp;&amp;(o=J.access(e),a=J.set(t,o),l=o.events)){delete a.handle,a.events={};for(i in l)for(n=0,r=l[i].length;n&lt;r;n++)w.event.add(t,i,l[i][n])}K.hasData(e)&amp;&amp;(s=K.access(e),u=w.extend({},s),K.set(t,u))}}function Me(e,t){var n=t.nodeName.toLowerCase();&quot;input&quot;===n&amp;&amp;pe.test(e.type)?t.checked=e.checked:&quot;input&quot;!==n&amp;&amp;&quot;textarea&quot;!==n||(t.defaultValue=e.defaultValue)}function Re(e,t,n,r){t=a.apply([],t);var i,o,s,u,l,c,f=0,p=e.length,d=p-1,y=t[0],v=g(y);if(v||p&gt;1&amp;&amp;&quot;string&quot;==typeof y&amp;&amp;!h.checkClone&amp;&amp;je.test(y))return e.each(function(i){var o=e.eq(i);v&amp;&amp;(t[0]=y.call(this,i,o.html())),Re(o,t,n,r)});if(p&amp;&amp;(i=xe(t,e[0].ownerDocument,!1,e,r),o=i.firstChild,1===i.childNodes.length&amp;&amp;(i=o),o||r)){for(u=(s=w.map(ye(i,&quot;script&quot;),He)).length;f&lt;p;f++)l=i,f!==d&amp;&amp;(l=w.clone(l,!0,!0),u&amp;&amp;w.merge(s,ye(l,&quot;script&quot;))),n.call(e[f],l,f);if(u)for(c=s[s.length-1].ownerDocument,w.map(s,Oe),f=0;f&lt;u;f++)l=s[f],he.test(l.type||&quot;&quot;)&amp;&amp;!J.access(l,&quot;globalEval&quot;)&amp;&amp;w.contains(c,l)&amp;&amp;(l.src&amp;&amp;&quot;module&quot;!==(l.type||&quot;&quot;).toLowerCase()?w._evalUrl&amp;&amp;w._evalUrl(l.src):m(l.textContent.replace(qe,&quot;&quot;),c,l))}return e}function Ie(e,t,n){for(var r,i=t?w.filter(t,e):e,o=0;null!=(r=i[o]);o++)n||1!==r.nodeType||w.cleanData(ye(r)),r.parentNode&amp;&amp;(n&amp;&amp;w.contains(r.ownerDocument,r)&amp;&amp;ve(ye(r,&quot;script&quot;)),r.parentNode.removeChild(r));return e}w.extend({htmlPrefilter:function(e){return e.replace(Ne,&quot;&lt;$1&gt;&lt;/$2&gt;&quot;)},clone:function(e,t,n){var r,i,o,a,s=e.cloneNode(!0),u=w.contains(e.ownerDocument,e);if(!(h.noCloneChecked||1!==e.nodeType&amp;&amp;11!==e.nodeType||w.isXMLDoc(e)))for(a=ye(s),r=0,i=(o=ye(e)).length;r&lt;i;r++)Me(o[r],a[r]);if(t)if(n)for(o=o||ye(e),a=a||ye(s),r=0,i=o.length;r&lt;i;r++)Pe(o[r],a[r]);else Pe(e,s);return(a=ye(s,&quot;script&quot;)).length&gt;0&amp;&amp;ve(a,!u&amp;&amp;ye(e,&quot;script&quot;)),s},cleanData:function(e){for(var t,n,r,i=w.event.special,o=0;void 0!==(n=e[o]);o++)if(Y(n)){if(t=n[J.expando]){if(t.events)for(r in t.events)i[r]?w.event.remove(n,r):w.removeEvent(n,r,t.handle);n[J.expando]=void 0}n[K.expando]&amp;&amp;(n[K.expando]=void 0)}}}),w.fn.extend({detach:function(e){return Ie(this,e,!0)},remove:function(e){return Ie(this,e)},text:function(e){return z(this,function(e){return void 0===e?w.text(this):this.empty().each(function(){1!==this.nodeType&amp;&amp;11!==this.nodeType&amp;&amp;9!==this.nodeType||(this.textContent=e)})},null,e,arguments.length)},append:function(){return Re(this,arguments,function(e){1!==this.nodeType&amp;&amp;11!==this.nodeType&amp;&amp;9!==this.nodeType||Le(this,e).appendChild(e)})},prepend:function(){return Re(this,arguments,function(e){if(1===this.nodeType||11===this.nodeType||9===this.nodeType){var t=Le(this,e);t.insertBefore(e,t.firstChild)}})},before:function(){return Re(this,arguments,function(e){this.parentNode&amp;&amp;this.parentNode.insertBefore(e,this)})},after:function(){return Re(this,arguments,function(e){this.parentNode&amp;&amp;this.parentNode.insertBefore(e,this.nextSibling)})},empty:function(){for(var e,t=0;null!=(e=this[t]);t++)1===e.nodeType&amp;&amp;(w.cleanData(ye(e,!1)),e.textContent=&quot;&quot;);return this},clone:function(e,t){return e=null!=e&amp;&amp;e,t=null==t?e:t,this.map(function(){return w.clone(this,e,t)})},html:function(e){return z(this,function(e){var t=this[0]||{},n=0,r=this.length;if(void 0===e&amp;&amp;1===t.nodeType)return t.innerHTML;if(&quot;string&quot;==typeof e&amp;&amp;!Ae.test(e)&amp;&amp;!ge[(de.exec(e)||[&quot;&quot;,&quot;&quot;])[1].toLowerCase()]){e=w.htmlPrefilter(e);try{for(;n&lt;r;n++)1===(t=this[n]||{}).nodeType&amp;&amp;(w.cleanData(ye(t,!1)),t.innerHTML=e);t=0}catch(e){}}t&amp;&amp;this.empty().append(e)},null,e,arguments.length)},replaceWith:function(){var e=[];return Re(this,arguments,function(t){var n=this.parentNode;w.inArray(this,e)&lt;0&amp;&amp;(w.cleanData(ye(this)),n&amp;&amp;n.replaceChild(t,this))},e)}}),w.each({appendTo:&quot;append&quot;,prependTo:&quot;prepend&quot;,insertBefore:&quot;before&quot;,insertAfter:&quot;after&quot;,replaceAll:&quot;replaceWith&quot;},function(e,t){w.fn[e]=function(e){for(var n,r=[],i=w(e),o=i.length-1,a=0;a&lt;=o;a++)n=a===o?this:this.clone(!0),w(i[a])[t](n),s.apply(r,n.get());return this.pushStack(r)}});var We=new RegExp(&quot;^(&quot;+re+&quot;)(?!px)[a-z%]+$&quot;,&quot;i&quot;),$e=function(t){var n=t.ownerDocument.defaultView;return n&amp;&amp;n.opener||(n=e),n.getComputedStyle(t)},Be=new RegExp(oe.join(&quot;|&quot;),&quot;i&quot;);!function(){function t(){if(c){l.style.cssText=&quot;position:absolute;left:-11111px;width:60px;margin-top:1px;padding:0;border:0&quot;,c.style.cssText=&quot;position:relative;display:block;box-sizing:border-box;overflow:scroll;margin:auto;border:1px;padding:1px;width:60%;top:1%&quot;,be.appendChild(l).appendChild(c);var t=e.getComputedStyle(c);i=&quot;1%&quot;!==t.top,u=12===n(t.marginLeft),c.style.right=&quot;60%&quot;,s=36===n(t.right),o=36===n(t.width),c.style.position=&quot;absolute&quot;,a=36===c.offsetWidth||&quot;absolute&quot;,be.removeChild(l),c=null}}function n(e){return Math.round(parseFloat(e))}var i,o,a,s,u,l=r.createElement(&quot;div&quot;),c=r.createElement(&quot;div&quot;);c.style&amp;&amp;(c.style.backgroundClip=&quot;content-box&quot;,c.cloneNode(!0).style.backgroundClip=&quot;&quot;,h.clearCloneStyle=&quot;content-box&quot;===c.style.backgroundClip,w.extend(h,{boxSizingReliable:function(){return t(),o},pixelBoxStyles:function(){return t(),s},pixelPosition:function(){return t(),i},reliableMarginLeft:function(){return t(),u},scrollboxSize:function(){return t(),a}}))}();function Fe(e,t,n){var r,i,o,a,s=e.style;return(n=n||$e(e))&amp;&amp;(&quot;&quot;!==(a=n.getPropertyValue(t)||n[t])||w.contains(e.ownerDocument,e)||(a=w.style(e,t)),!h.pixelBoxStyles()&amp;&amp;We.test(a)&amp;&amp;Be.test(t)&amp;&amp;(r=s.width,i=s.minWidth,o=s.maxWidth,s.minWidth=s.maxWidth=s.width=a,a=n.width,s.width=r,s.minWidth=i,s.maxWidth=o)),void 0!==a?a+&quot;&quot;:a}function _e(e,t){return{get:function(){if(!e())return(this.get=t).apply(this,arguments);delete this.get}}}var ze=/^(none|table(?!-c[ea]).+)/,Xe=/^--/,Ue={position:&quot;absolute&quot;,visibility:&quot;hidden&quot;,display:&quot;block&quot;},Ve={letterSpacing:&quot;0&quot;,fontWeight:&quot;400&quot;},Ge=[&quot;Webkit&quot;,&quot;Moz&quot;,&quot;ms&quot;],Ye=r.createElement(&quot;div&quot;).style;function Qe(e){if(e in Ye)return e;var t=e[0].toUpperCase()+e.slice(1),n=Ge.length;while(n--)if((e=Ge[n]+t)in Ye)return e}function Je(e){var t=w.cssProps[e];return t||(t=w.cssProps[e]=Qe(e)||e),t}function Ke(e,t,n){var r=ie.exec(t);return r?Math.max(0,r[2]-(n||0))+(r[3]||&quot;px&quot;):t}function Ze(e,t,n,r,i,o){var a=&quot;width&quot;===t?1:0,s=0,u=0;if(n===(r?&quot;border&quot;:&quot;content&quot;))return 0;for(;a&lt;4;a+=2)&quot;margin&quot;===n&amp;&amp;(u+=w.css(e,n+oe[a],!0,i)),r?(&quot;content&quot;===n&amp;&amp;(u-=w.css(e,&quot;padding&quot;+oe[a],!0,i)),&quot;margin&quot;!==n&amp;&amp;(u-=w.css(e,&quot;border&quot;+oe[a]+&quot;Width&quot;,!0,i))):(u+=w.css(e,&quot;padding&quot;+oe[a],!0,i),&quot;padding&quot;!==n?u+=w.css(e,&quot;border&quot;+oe[a]+&quot;Width&quot;,!0,i):s+=w.css(e,&quot;border&quot;+oe[a]+&quot;Width&quot;,!0,i));return!r&amp;&amp;o&gt;=0&amp;&amp;(u+=Math.max(0,Math.ceil(e[&quot;offset&quot;+t[0].toUpperCase()+t.slice(1)]-o-u-s-.5))),u}function et(e,t,n){var r=$e(e),i=Fe(e,t,r),o=&quot;border-box&quot;===w.css(e,&quot;boxSizing&quot;,!1,r),a=o;if(We.test(i)){if(!n)return i;i=&quot;auto&quot;}return a=a&amp;&amp;(h.boxSizingReliable()||i===e.style[t]),(&quot;auto&quot;===i||!parseFloat(i)&amp;&amp;&quot;inline&quot;===w.css(e,&quot;display&quot;,!1,r))&amp;&amp;(i=e[&quot;offset&quot;+t[0].toUpperCase()+t.slice(1)],a=!0),(i=parseFloat(i)||0)+Ze(e,t,n||(o?&quot;border&quot;:&quot;content&quot;),a,r,i)+&quot;px&quot;}w.extend({cssHooks:{opacity:{get:function(e,t){if(t){var n=Fe(e,&quot;opacity&quot;);return&quot;&quot;===n?&quot;1&quot;:n}}}},cssNumber:{animationIterationCount:!0,columnCount:!0,fillOpacity:!0,flexGrow:!0,flexShrink:!0,fontWeight:!0,lineHeight:!0,opacity:!0,order:!0,orphans:!0,widows:!0,zIndex:!0,zoom:!0},cssProps:{},style:function(e,t,n,r){if(e&amp;&amp;3!==e.nodeType&amp;&amp;8!==e.nodeType&amp;&amp;e.style){var i,o,a,s=G(t),u=Xe.test(t),l=e.style;if(u||(t=Je(s)),a=w.cssHooks[t]||w.cssHooks[s],void 0===n)return a&amp;&amp;&quot;get&quot;in a&amp;&amp;void 0!==(i=a.get(e,!1,r))?i:l[t];&quot;string&quot;==(o=typeof n)&amp;&amp;(i=ie.exec(n))&amp;&amp;i[1]&amp;&amp;(n=ue(e,t,i),o=&quot;number&quot;),null!=n&amp;&amp;n===n&amp;&amp;(&quot;number&quot;===o&amp;&amp;(n+=i&amp;&amp;i[3]||(w.cssNumber[s]?&quot;&quot;:&quot;px&quot;)),h.clearCloneStyle||&quot;&quot;!==n||0!==t.indexOf(&quot;background&quot;)||(l[t]=&quot;inherit&quot;),a&amp;&amp;&quot;set&quot;in a&amp;&amp;void 0===(n=a.set(e,n,r))||(u?l.setProperty(t,n):l[t]=n))}},css:function(e,t,n,r){var i,o,a,s=G(t);return Xe.test(t)||(t=Je(s)),(a=w.cssHooks[t]||w.cssHooks[s])&amp;&amp;&quot;get&quot;in a&amp;&amp;(i=a.get(e,!0,n)),void 0===i&amp;&amp;(i=Fe(e,t,r)),&quot;normal&quot;===i&amp;&amp;t in Ve&amp;&amp;(i=Ve[t]),&quot;&quot;===n||n?(o=parseFloat(i),!0===n||isFinite(o)?o||0:i):i}}),w.each([&quot;height&quot;,&quot;width&quot;],function(e,t){w.cssHooks[t]={get:function(e,n,r){if(n)return!ze.test(w.css(e,&quot;display&quot;))||e.getClientRects().length&amp;&amp;e.getBoundingClientRect().width?et(e,t,r):se(e,Ue,function(){return et(e,t,r)})},set:function(e,n,r){var i,o=$e(e),a=&quot;border-box&quot;===w.css(e,&quot;boxSizing&quot;,!1,o),s=r&amp;&amp;Ze(e,t,r,a,o);return a&amp;&amp;h.scrollboxSize()===o.position&amp;&amp;(s-=Math.ceil(e[&quot;offset&quot;+t[0].toUpperCase()+t.slice(1)]-parseFloat(o[t])-Ze(e,t,&quot;border&quot;,!1,o)-.5)),s&amp;&amp;(i=ie.exec(n))&amp;&amp;&quot;px&quot;!==(i[3]||&quot;px&quot;)&amp;&amp;(e.style[t]=n,n=w.css(e,t)),Ke(e,n,s)}}}),w.cssHooks.marginLeft=_e(h.reliableMarginLeft,function(e,t){if(t)return(parseFloat(Fe(e,&quot;marginLeft&quot;))||e.getBoundingClientRect().left-se(e,{marginLeft:0},function(){return e.getBoundingClientRect().left}))+&quot;px&quot;}),w.each({margin:&quot;&quot;,padding:&quot;&quot;,border:&quot;Width&quot;},function(e,t){w.cssHooks[e+t]={expand:function(n){for(var r=0,i={},o=&quot;string&quot;==typeof n?n.split(&quot; &quot;):[n];r&lt;4;r++)i[e+oe[r]+t]=o[r]||o[r-2]||o[0];return i}},&quot;margin&quot;!==e&amp;&amp;(w.cssHooks[e+t].set=Ke)}),w.fn.extend({css:function(e,t){return z(this,function(e,t,n){var r,i,o={},a=0;if(Array.isArray(t)){for(r=$e(e),i=t.length;a&lt;i;a++)o[t[a]]=w.css(e,t[a],!1,r);return o}return void 0!==n?w.style(e,t,n):w.css(e,t)},e,t,arguments.length&gt;1)}});function tt(e,t,n,r,i){return new tt.prototype.init(e,t,n,r,i)}w.Tween=tt,tt.prototype={constructor:tt,init:function(e,t,n,r,i,o){this.elem=e,this.prop=n,this.easing=i||w.easing._default,this.options=t,this.start=this.now=this.cur(),this.end=r,this.unit=o||(w.cssNumber[n]?&quot;&quot;:&quot;px&quot;)},cur:function(){var e=tt.propHooks[this.prop];return e&amp;&amp;e.get?e.get(this):tt.propHooks._default.get(this)},run:function(e){var t,n=tt.propHooks[this.prop];return this.options.duration?this.pos=t=w.easing[this.easing](e,this.options.duration*e,0,1,this.options.duration):this.pos=t=e,this.now=(this.end-this.start)*t+this.start,this.options.step&amp;&amp;this.options.step.call(this.elem,this.now,this),n&amp;&amp;n.set?n.set(this):tt.propHooks._default.set(this),this}},tt.prototype.init.prototype=tt.prototype,tt.propHooks={_default:{get:function(e){var t;return 1!==e.elem.nodeType||null!=e.elem[e.prop]&amp;&amp;null==e.elem.style[e.prop]?e.elem[e.prop]:(t=w.css(e.elem,e.prop,&quot;&quot;))&amp;&amp;&quot;auto&quot;!==t?t:0},set:function(e){w.fx.step[e.prop]?w.fx.step[e.prop](e):1!==e.elem.nodeType||null==e.elem.style[w.cssProps[e.prop]]&amp;&amp;!w.cssHooks[e.prop]?e.elem[e.prop]=e.now:w.style(e.elem,e.prop,e.now+e.unit)}}},tt.propHooks.scrollTop=tt.propHooks.scrollLeft={set:function(e){e.elem.nodeType&amp;&amp;e.elem.parentNode&amp;&amp;(e.elem[e.prop]=e.now)}},w.easing={linear:function(e){return e},swing:function(e){return.5-Math.cos(e*Math.PI)/2},_default:&quot;swing&quot;},w.fx=tt.prototype.init,w.fx.step={};var nt,rt,it=/^(?:toggle|show|hide)$/,ot=/queueHooks$/;function at(){rt&amp;&amp;(!1===r.hidden&amp;&amp;e.requestAnimationFrame?e.requestAnimationFrame(at):e.setTimeout(at,w.fx.interval),w.fx.tick())}function st(){return e.setTimeout(function(){nt=void 0}),nt=Date.now()}function ut(e,t){var n,r=0,i={height:e};for(t=t?1:0;r&lt;4;r+=2-t)i[&quot;margin&quot;+(n=oe[r])]=i[&quot;padding&quot;+n]=e;return t&amp;&amp;(i.opacity=i.width=e),i}function lt(e,t,n){for(var r,i=(pt.tweeners[t]||[]).concat(pt.tweeners[&quot;*&quot;]),o=0,a=i.length;o&lt;a;o++)if(r=i[o].call(n,t,e))return r}function ct(e,t,n){var r,i,o,a,s,u,l,c,f=&quot;width&quot;in t||&quot;height&quot;in t,p=this,d={},h=e.style,g=e.nodeType&amp;&amp;ae(e),y=J.get(e,&quot;fxshow&quot;);n.queue||(null==(a=w._queueHooks(e,&quot;fx&quot;)).unqueued&amp;&amp;(a.unqueued=0,s=a.empty.fire,a.empty.fire=function(){a.unqueued||s()}),a.unqueued++,p.always(function(){p.always(function(){a.unqueued--,w.queue(e,&quot;fx&quot;).length||a.empty.fire()})}));for(r in t)if(i=t[r],it.test(i)){if(delete t[r],o=o||&quot;toggle&quot;===i,i===(g?&quot;hide&quot;:&quot;show&quot;)){if(&quot;show&quot;!==i||!y||void 0===y[r])continue;g=!0}d[r]=y&amp;&amp;y[r]||w.style(e,r)}if((u=!w.isEmptyObject(t))||!w.isEmptyObject(d)){f&amp;&amp;1===e.nodeType&amp;&amp;(n.overflow=[h.overflow,h.overflowX,h.overflowY],null==(l=y&amp;&amp;y.display)&amp;&amp;(l=J.get(e,&quot;display&quot;)),&quot;none&quot;===(c=w.css(e,&quot;display&quot;))&amp;&amp;(l?c=l:(fe([e],!0),l=e.style.display||l,c=w.css(e,&quot;display&quot;),fe([e]))),(&quot;inline&quot;===c||&quot;inline-block&quot;===c&amp;&amp;null!=l)&amp;&amp;&quot;none&quot;===w.css(e,&quot;float&quot;)&amp;&amp;(u||(p.done(function(){h.display=l}),null==l&amp;&amp;(c=h.display,l=&quot;none&quot;===c?&quot;&quot;:c)),h.display=&quot;inline-block&quot;)),n.overflow&amp;&amp;(h.overflow=&quot;hidden&quot;,p.always(function(){h.overflow=n.overflow[0],h.overflowX=n.overflow[1],h.overflowY=n.overflow[2]})),u=!1;for(r in d)u||(y?&quot;hidden&quot;in y&amp;&amp;(g=y.hidden):y=J.access(e,&quot;fxshow&quot;,{display:l}),o&amp;&amp;(y.hidden=!g),g&amp;&amp;fe([e],!0),p.done(function(){g||fe([e]),J.remove(e,&quot;fxshow&quot;);for(r in d)w.style(e,r,d[r])})),u=lt(g?y[r]:0,r,p),r in y||(y[r]=u.start,g&amp;&amp;(u.end=u.start,u.start=0))}}function ft(e,t){var n,r,i,o,a;for(n in e)if(r=G(n),i=t[r],o=e[n],Array.isArray(o)&amp;&amp;(i=o[1],o=e[n]=o[0]),n!==r&amp;&amp;(e[r]=o,delete e[n]),(a=w.cssHooks[r])&amp;&amp;&quot;expand&quot;in a){o=a.expand(o),delete e[r];for(n in o)n in e||(e[n]=o[n],t[n]=i)}else t[r]=i}function pt(e,t,n){var r,i,o=0,a=pt.prefilters.length,s=w.Deferred().always(function(){delete u.elem}),u=function(){if(i)return!1;for(var t=nt||st(),n=Math.max(0,l.startTime+l.duration-t),r=1-(n/l.duration||0),o=0,a=l.tweens.length;o&lt;a;o++)l.tweens[o].run(r);return s.notifyWith(e,[l,r,n]),r&lt;1&amp;&amp;a?n:(a||s.notifyWith(e,[l,1,0]),s.resolveWith(e,[l]),!1)},l=s.promise({elem:e,props:w.extend({},t),opts:w.extend(!0,{specialEasing:{},easing:w.easing._default},n),originalProperties:t,originalOptions:n,startTime:nt||st(),duration:n.duration,tweens:[],createTween:function(t,n){var r=w.Tween(e,l.opts,t,n,l.opts.specialEasing[t]||l.opts.easing);return l.tweens.push(r),r},stop:function(t){var n=0,r=t?l.tweens.length:0;if(i)return this;for(i=!0;n&lt;r;n++)l.tweens[n].run(1);return t?(s.notifyWith(e,[l,1,0]),s.resolveWith(e,[l,t])):s.rejectWith(e,[l,t]),this}}),c=l.props;for(ft(c,l.opts.specialEasing);o&lt;a;o++)if(r=pt.prefilters[o].call(l,e,c,l.opts))return g(r.stop)&amp;&amp;(w._queueHooks(l.elem,l.opts.queue).stop=r.stop.bind(r)),r;return w.map(c,lt,l),g(l.opts.start)&amp;&amp;l.opts.start.call(e,l),l.progress(l.opts.progress).done(l.opts.done,l.opts.complete).fail(l.opts.fail).always(l.opts.always),w.fx.timer(w.extend(u,{elem:e,anim:l,queue:l.opts.queue})),l}w.Animation=w.extend(pt,{tweeners:{&quot;*&quot;:[function(e,t){var n=this.createTween(e,t);return ue(n.elem,e,ie.exec(t),n),n}]},tweener:function(e,t){g(e)?(t=e,e=[&quot;*&quot;]):e=e.match(M);for(var n,r=0,i=e.length;r&lt;i;r++)n=e[r],pt.tweeners[n]=pt.tweeners[n]||[],pt.tweeners[n].unshift(t)},prefilters:[ct],prefilter:function(e,t){t?pt.prefilters.unshift(e):pt.prefilters.push(e)}}),w.speed=function(e,t,n){var r=e&amp;&amp;&quot;object&quot;==typeof e?w.extend({},e):{complete:n||!n&amp;&amp;t||g(e)&amp;&amp;e,duration:e,easing:n&amp;&amp;t||t&amp;&amp;!g(t)&amp;&amp;t};return w.fx.off?r.duration=0:&quot;number&quot;!=typeof r.duration&amp;&amp;(r.duration in w.fx.speeds?r.duration=w.fx.speeds[r.duration]:r.duration=w.fx.speeds._default),null!=r.queue&amp;&amp;!0!==r.queue||(r.queue=&quot;fx&quot;),r.old=r.complete,r.complete=function(){g(r.old)&amp;&amp;r.old.call(this),r.queue&amp;&amp;w.dequeue(this,r.queue)},r},w.fn.extend({fadeTo:function(e,t,n,r){return this.filter(ae).css(&quot;opacity&quot;,0).show().end().animate({opacity:t},e,n,r)},animate:function(e,t,n,r){var i=w.isEmptyObject(e),o=w.speed(t,n,r),a=function(){var t=pt(this,w.extend({},e),o);(i||J.get(this,&quot;finish&quot;))&amp;&amp;t.stop(!0)};return a.finish=a,i||!1===o.queue?this.each(a):this.queue(o.queue,a)},stop:function(e,t,n){var r=function(e){var t=e.stop;delete e.stop,t(n)};return&quot;string&quot;!=typeof e&amp;&amp;(n=t,t=e,e=void 0),t&amp;&amp;!1!==e&amp;&amp;this.queue(e||&quot;fx&quot;,[]),this.each(function(){var t=!0,i=null!=e&amp;&amp;e+&quot;queueHooks&quot;,o=w.timers,a=J.get(this);if(i)a[i]&amp;&amp;a[i].stop&amp;&amp;r(a[i]);else for(i in a)a[i]&amp;&amp;a[i].stop&amp;&amp;ot.test(i)&amp;&amp;r(a[i]);for(i=o.length;i--;)o[i].elem!==this||null!=e&amp;&amp;o[i].queue!==e||(o[i].anim.stop(n),t=!1,o.splice(i,1));!t&amp;&amp;n||w.dequeue(this,e)})},finish:function(e){return!1!==e&amp;&amp;(e=e||&quot;fx&quot;),this.each(function(){var t,n=J.get(this),r=n[e+&quot;queue&quot;],i=n[e+&quot;queueHooks&quot;],o=w.timers,a=r?r.length:0;for(n.finish=!0,w.queue(this,e,[]),i&amp;&amp;i.stop&amp;&amp;i.stop.call(this,!0),t=o.length;t--;)o[t].elem===this&amp;&amp;o[t].queue===e&amp;&amp;(o[t].anim.stop(!0),o.splice(t,1));for(t=0;t&lt;a;t++)r[t]&amp;&amp;r[t].finish&amp;&amp;r[t].finish.call(this);delete n.finish})}}),w.each([&quot;toggle&quot;,&quot;show&quot;,&quot;hide&quot;],function(e,t){var n=w.fn[t];w.fn[t]=function(e,r,i){return null==e||&quot;boolean&quot;==typeof e?n.apply(this,arguments):this.animate(ut(t,!0),e,r,i)}}),w.each({slideDown:ut(&quot;show&quot;),slideUp:ut(&quot;hide&quot;),slideToggle:ut(&quot;toggle&quot;),fadeIn:{opacity:&quot;show&quot;},fadeOut:{opacity:&quot;hide&quot;},fadeToggle:{opacity:&quot;toggle&quot;}},function(e,t){w.fn[e]=function(e,n,r){return this.animate(t,e,n,r)}}),w.timers=[],w.fx.tick=function(){var e,t=0,n=w.timers;for(nt=Date.now();t&lt;n.length;t++)(e=n[t])()||n[t]!==e||n.splice(t--,1);n.length||w.fx.stop(),nt=void 0},w.fx.timer=function(e){w.timers.push(e),w.fx.start()},w.fx.interval=13,w.fx.start=function(){rt||(rt=!0,at())},w.fx.stop=function(){rt=null},w.fx.speeds={slow:600,fast:200,_default:400},w.fn.delay=function(t,n){return t=w.fx?w.fx.speeds[t]||t:t,n=n||&quot;fx&quot;,this.queue(n,function(n,r){var i=e.setTimeout(n,t);r.stop=function(){e.clearTimeout(i)}})},function(){var e=r.createElement(&quot;input&quot;),t=r.createElement(&quot;select&quot;).appendChild(r.createElement(&quot;option&quot;));e.type=&quot;checkbox&quot;,h.checkOn=&quot;&quot;!==e.value,h.optSelected=t.selected,(e=r.createElement(&quot;input&quot;)).value=&quot;t&quot;,e.type=&quot;radio&quot;,h.radioValue=&quot;t&quot;===e.value}();var dt,ht=w.expr.attrHandle;w.fn.extend({attr:function(e,t){return z(this,w.attr,e,t,arguments.length&gt;1)},removeAttr:function(e){return this.each(function(){w.removeAttr(this,e)})}}),w.extend({attr:function(e,t,n){var r,i,o=e.nodeType;if(3!==o&amp;&amp;8!==o&amp;&amp;2!==o)return&quot;undefined&quot;==typeof e.getAttribute?w.prop(e,t,n):(1===o&amp;&amp;w.isXMLDoc(e)||(i=w.attrHooks[t.toLowerCase()]||(w.expr.match.bool.test(t)?dt:void 0)),void 0!==n?null===n?void w.removeAttr(e,t):i&amp;&amp;&quot;set&quot;in i&amp;&amp;void 0!==(r=i.set(e,n,t))?r:(e.setAttribute(t,n+&quot;&quot;),n):i&amp;&amp;&quot;get&quot;in i&amp;&amp;null!==(r=i.get(e,t))?r:null==(r=w.find.attr(e,t))?void 0:r)},attrHooks:{type:{set:function(e,t){if(!h.radioValue&amp;&amp;&quot;radio&quot;===t&amp;&amp;N(e,&quot;input&quot;)){var n=e.value;return e.setAttribute(&quot;type&quot;,t),n&amp;&amp;(e.value=n),t}}}},removeAttr:function(e,t){var n,r=0,i=t&amp;&amp;t.match(M);if(i&amp;&amp;1===e.nodeType)while(n=i[r++])e.removeAttribute(n)}}),dt={set:function(e,t,n){return!1===t?w.removeAttr(e,n):e.setAttribute(n,n),n}},w.each(w.expr.match.bool.source.match(/\\w+/g),function(e,t){var n=ht[t]||w.find.attr;ht[t]=function(e,t,r){var i,o,a=t.toLowerCase();return r||(o=ht[a],ht[a]=i,i=null!=n(e,t,r)?a:null,ht[a]=o),i}});var gt=/^(?:input|select|textarea|button)$/i,yt=/^(?:a|area)$/i;w.fn.extend({prop:function(e,t){return z(this,w.prop,e,t,arguments.length&gt;1)},removeProp:function(e){return this.each(function(){delete this[w.propFix[e]||e]})}}),w.extend({prop:function(e,t,n){var r,i,o=e.nodeType;if(3!==o&amp;&amp;8!==o&amp;&amp;2!==o)return 1===o&amp;&amp;w.isXMLDoc(e)||(t=w.propFix[t]||t,i=w.propHooks[t]),void 0!==n?i&amp;&amp;&quot;set&quot;in i&amp;&amp;void 0!==(r=i.set(e,n,t))?r:e[t]=n:i&amp;&amp;&quot;get&quot;in i&amp;&amp;null!==(r=i.get(e,t))?r:e[t]},propHooks:{tabIndex:{get:function(e){var t=w.find.attr(e,&quot;tabindex&quot;);return t?parseInt(t,10):gt.test(e.nodeName)||yt.test(e.nodeName)&amp;&amp;e.href?0:-1}}},propFix:{&quot;for&quot;:&quot;htmlFor&quot;,&quot;class&quot;:&quot;className&quot;}}),h.optSelected||(w.propHooks.selected={get:function(e){var t=e.parentNode;return t&amp;&amp;t.parentNode&amp;&amp;t.parentNode.selectedIndex,null},set:function(e){var t=e.parentNode;t&amp;&amp;(t.selectedIndex,t.parentNode&amp;&amp;t.parentNode.selectedIndex)}}),w.each([&quot;tabIndex&quot;,&quot;readOnly&quot;,&quot;maxLength&quot;,&quot;cellSpacing&quot;,&quot;cellPadding&quot;,&quot;rowSpan&quot;,&quot;colSpan&quot;,&quot;useMap&quot;,&quot;frameBorder&quot;,&quot;contentEditable&quot;],function(){w.propFix[this.toLowerCase()]=this});function vt(e){return(e.match(M)||[]).join(&quot; &quot;)}function mt(e){return e.getAttribute&amp;&amp;e.getAttribute(&quot;class&quot;)||&quot;&quot;}function xt(e){return Array.isArray(e)?e:&quot;string&quot;==typeof e?e.match(M)||[]:[]}w.fn.extend({addClass:function(e){var t,n,r,i,o,a,s,u=0;if(g(e))return this.each(function(t){w(this).addClass(e.call(this,t,mt(this)))});if((t=xt(e)).length)while(n=this[u++])if(i=mt(n),r=1===n.nodeType&amp;&amp;&quot; &quot;+vt(i)+&quot; &quot;){a=0;while(o=t[a++])r.indexOf(&quot; &quot;+o+&quot; &quot;)&lt;0&amp;&amp;(r+=o+&quot; &quot;);i!==(s=vt(r))&amp;&amp;n.setAttribute(&quot;class&quot;,s)}return this},removeClass:function(e){var t,n,r,i,o,a,s,u=0;if(g(e))return this.each(function(t){w(this).removeClass(e.call(this,t,mt(this)))});if(!arguments.length)return this.attr(&quot;class&quot;,&quot;&quot;);if((t=xt(e)).length)while(n=this[u++])if(i=mt(n),r=1===n.nodeType&amp;&amp;&quot; &quot;+vt(i)+&quot; &quot;){a=0;while(o=t[a++])while(r.indexOf(&quot; &quot;+o+&quot; &quot;)&gt;-1)r=r.replace(&quot; &quot;+o+&quot; &quot;,&quot; &quot;);i!==(s=vt(r))&amp;&amp;n.setAttribute(&quot;class&quot;,s)}return this},toggleClass:function(e,t){var n=typeof e,r=&quot;string&quot;===n||Array.isArray(e);return&quot;boolean&quot;==typeof t&amp;&amp;r?t?this.addClass(e):this.removeClass(e):g(e)?this.each(function(n){w(this).toggleClass(e.call(this,n,mt(this),t),t)}):this.each(function(){var t,i,o,a;if(r){i=0,o=w(this),a=xt(e);while(t=a[i++])o.hasClass(t)?o.removeClass(t):o.addClass(t)}else void 0!==e&amp;&amp;&quot;boolean&quot;!==n||((t=mt(this))&amp;&amp;J.set(this,&quot;__className__&quot;,t),this.setAttribute&amp;&amp;this.setAttribute(&quot;class&quot;,t||!1===e?&quot;&quot;:J.get(this,&quot;__className__&quot;)||&quot;&quot;))})},hasClass:function(e){var t,n,r=0;t=&quot; &quot;+e+&quot; &quot;;while(n=this[r++])if(1===n.nodeType&amp;&amp;(&quot; &quot;+vt(mt(n))+&quot; &quot;).indexOf(t)&gt;-1)return!0;return!1}});var bt=/\\r/g;w.fn.extend({val:function(e){var t,n,r,i=this[0];{if(arguments.length)return r=g(e),this.each(function(n){var i;1===this.nodeType&amp;&amp;(null==(i=r?e.call(this,n,w(this).val()):e)?i=&quot;&quot;:&quot;number&quot;==typeof i?i+=&quot;&quot;:Array.isArray(i)&amp;&amp;(i=w.map(i,function(e){return null==e?&quot;&quot;:e+&quot;&quot;})),(t=w.valHooks[this.type]||w.valHooks[this.nodeName.toLowerCase()])&amp;&amp;&quot;set&quot;in t&amp;&amp;void 0!==t.set(this,i,&quot;value&quot;)||(this.value=i))});if(i)return(t=w.valHooks[i.type]||w.valHooks[i.nodeName.toLowerCase()])&amp;&amp;&quot;get&quot;in t&amp;&amp;void 0!==(n=t.get(i,&quot;value&quot;))?n:&quot;string&quot;==typeof(n=i.value)?n.replace(bt,&quot;&quot;):null==n?&quot;&quot;:n}}}),w.extend({valHooks:{option:{get:function(e){var t=w.find.attr(e,&quot;value&quot;);return null!=t?t:vt(w.text(e))}},select:{get:function(e){var t,n,r,i=e.options,o=e.selectedIndex,a=&quot;select-one&quot;===e.type,s=a?null:[],u=a?o+1:i.length;for(r=o&lt;0?u:a?o:0;r&lt;u;r++)if(((n=i[r]).selected||r===o)&amp;&amp;!n.disabled&amp;&amp;(!n.parentNode.disabled||!N(n.parentNode,&quot;optgroup&quot;))){if(t=w(n).val(),a)return t;s.push(t)}return s},set:function(e,t){var n,r,i=e.options,o=w.makeArray(t),a=i.length;while(a--)((r=i[a]).selected=w.inArray(w.valHooks.option.get(r),o)&gt;-1)&amp;&amp;(n=!0);return n||(e.selectedIndex=-1),o}}}}),w.each([&quot;radio&quot;,&quot;checkbox&quot;],function(){w.valHooks[this]={set:function(e,t){if(Array.isArray(t))return e.checked=w.inArray(w(e).val(),t)&gt;-1}},h.checkOn||(w.valHooks[this].get=function(e){return null===e.getAttribute(&quot;value&quot;)?&quot;on&quot;:e.value})}),h.focusin=&quot;onfocusin&quot;in e;var wt=/^(?:focusinfocus|focusoutblur)$/,Tt=function(e){e.stopPropagation()};w.extend(w.event,{trigger:function(t,n,i,o){var a,s,u,l,c,p,d,h,v=[i||r],m=f.call(t,&quot;type&quot;)?t.type:t,x=f.call(t,&quot;namespace&quot;)?t.namespace.split(&quot;.&quot;):[];if(s=h=u=i=i||r,3!==i.nodeType&amp;&amp;8!==i.nodeType&amp;&amp;!wt.test(m+w.event.triggered)&amp;&amp;(m.indexOf(&quot;.&quot;)&gt;-1&amp;&amp;(m=(x=m.split(&quot;.&quot;)).shift(),x.sort()),c=m.indexOf(&quot;:&quot;)&lt;0&amp;&amp;&quot;on&quot;+m,t=t[w.expando]?t:new w.Event(m,&quot;object&quot;==typeof t&amp;&amp;t),t.isTrigger=o?2:3,t.namespace=x.join(&quot;.&quot;),t.rnamespace=t.namespace?new RegExp(&quot;(^|\\\\.)&quot;+x.join(&quot;\\\\.(?:.*\\\\.|)&quot;)+&quot;(\\\\.|$)&quot;):null,t.result=void 0,t.target||(t.target=i),n=null==n?[t]:w.makeArray(n,[t]),d=w.event.special[m]||{},o||!d.trigger||!1!==d.trigger.apply(i,n))){if(!o&amp;&amp;!d.noBubble&amp;&amp;!y(i)){for(l=d.delegateType||m,wt.test(l+m)||(s=s.parentNode);s;s=s.parentNode)v.push(s),u=s;u===(i.ownerDocument||r)&amp;&amp;v.push(u.defaultView||u.parentWindow||e)}a=0;while((s=v[a++])&amp;&amp;!t.isPropagationStopped())h=s,t.type=a&gt;1?l:d.bindType||m,(p=(J.get(s,&quot;events&quot;)||{})[t.type]&amp;&amp;J.get(s,&quot;handle&quot;))&amp;&amp;p.apply(s,n),(p=c&amp;&amp;s[c])&amp;&amp;p.apply&amp;&amp;Y(s)&amp;&amp;(t.result=p.apply(s,n),!1===t.result&amp;&amp;t.preventDefault());return t.type=m,o||t.isDefaultPrevented()||d._default&amp;&amp;!1!==d._default.apply(v.pop(),n)||!Y(i)||c&amp;&amp;g(i[m])&amp;&amp;!y(i)&amp;&amp;((u=i[c])&amp;&amp;(i[c]=null),w.event.triggered=m,t.isPropagationStopped()&amp;&amp;h.addEventListener(m,Tt),i[m](),t.isPropagationStopped()&amp;&amp;h.removeEventListener(m,Tt),w.event.triggered=void 0,u&amp;&amp;(i[c]=u)),t.result}},simulate:function(e,t,n){var r=w.extend(new w.Event,n,{type:e,isSimulated:!0});w.event.trigger(r,null,t)}}),w.fn.extend({trigger:function(e,t){return this.each(function(){w.event.trigger(e,t,this)})},triggerHandler:function(e,t){var n=this[0];if(n)return w.event.trigger(e,t,n,!0)}}),h.focusin||w.each({focus:&quot;focusin&quot;,blur:&quot;focusout&quot;},function(e,t){var n=function(e){w.event.simulate(t,e.target,w.event.fix(e))};w.event.special[t]={setup:function(){var r=this.ownerDocument||this,i=J.access(r,t);i||r.addEventListener(e,n,!0),J.access(r,t,(i||0)+1)},teardown:function(){var r=this.ownerDocument||this,i=J.access(r,t)-1;i?J.access(r,t,i):(r.removeEventListener(e,n,!0),J.remove(r,t))}}});var Ct=e.location,Et=Date.now(),kt=/\\?/;w.parseXML=function(t){var n;if(!t||&quot;string&quot;!=typeof t)return null;try{n=(new e.DOMParser).parseFromString(t,&quot;text/xml&quot;)}catch(e){n=void 0}return n&amp;&amp;!n.getElementsByTagName(&quot;parsererror&quot;).length||w.error(&quot;Invalid XML: &quot;+t),n};var St=/\\[\\]$/,Dt=/\\r?\\n/g,Nt=/^(?:submit|button|image|reset|file)$/i,At=/^(?:input|select|textarea|keygen)/i;function jt(e,t,n,r){var i;if(Array.isArray(t))w.each(t,function(t,i){n||St.test(e)?r(e,i):jt(e+&quot;[&quot;+(&quot;object&quot;==typeof i&amp;&amp;null!=i?t:&quot;&quot;)+&quot;]&quot;,i,n,r)});else if(n||&quot;object&quot;!==x(t))r(e,t);else for(i in t)jt(e+&quot;[&quot;+i+&quot;]&quot;,t[i],n,r)}w.param=function(e,t){var n,r=[],i=function(e,t){var n=g(t)?t():t;r[r.length]=encodeURIComponent(e)+&quot;=&quot;+encodeURIComponent(null==n?&quot;&quot;:n)};if(Array.isArray(e)||e.jquery&amp;&amp;!w.isPlainObject(e))w.each(e,function(){i(this.name,this.value)});else for(n in e)jt(n,e[n],t,i);return r.join(&quot;&amp;&quot;)},w.fn.extend({serialize:function(){return w.param(this.serializeArray())},serializeArray:function(){return this.map(function(){var e=w.prop(this,&quot;elements&quot;);return e?w.makeArray(e):this}).filter(function(){var e=this.type;return this.name&amp;&amp;!w(this).is(&quot;:disabled&quot;)&amp;&amp;At.test(this.nodeName)&amp;&amp;!Nt.test(e)&amp;&amp;(this.checked||!pe.test(e))}).map(function(e,t){var n=w(this).val();return null==n?null:Array.isArray(n)?w.map(n,function(e){return{name:t.name,value:e.replace(Dt,&quot;\\r\\n&quot;)}}):{name:t.name,value:n.replace(Dt,&quot;\\r\\n&quot;)}}).get()}});var qt=/%20/g,Lt=/#.*$/,Ht=/([?&amp;])_=[^&amp;]*/,Ot=/^(.*?):[ \\t]*([^\\r\\n]*)$/gm,Pt=/^(?:about|app|app-storage|.+-extension|file|res|widget):$/,Mt=/^(?:GET|HEAD)$/,Rt=/^\\/\\//,It={},Wt={},$t=&quot;*/&quot;.concat(&quot;*&quot;),Bt=r.createElement(&quot;a&quot;);Bt.href=Ct.href;function Ft(e){return function(t,n){&quot;string&quot;!=typeof t&amp;&amp;(n=t,t=&quot;*&quot;);var r,i=0,o=t.toLowerCase().match(M)||[];if(g(n))while(r=o[i++])&quot;+&quot;===r[0]?(r=r.slice(1)||&quot;*&quot;,(e[r]=e[r]||[]).unshift(n)):(e[r]=e[r]||[]).push(n)}}function _t(e,t,n,r){var i={},o=e===Wt;function a(s){var u;return i[s]=!0,w.each(e[s]||[],function(e,s){var l=s(t,n,r);return&quot;string&quot;!=typeof l||o||i[l]?o?!(u=l):void 0:(t.dataTypes.unshift(l),a(l),!1)}),u}return a(t.dataTypes[0])||!i[&quot;*&quot;]&amp;&amp;a(&quot;*&quot;)}function zt(e,t){var n,r,i=w.ajaxSettings.flatOptions||{};for(n in t)void 0!==t[n]&amp;&amp;((i[n]?e:r||(r={}))[n]=t[n]);return r&amp;&amp;w.extend(!0,e,r),e}function Xt(e,t,n){var r,i,o,a,s=e.contents,u=e.dataTypes;while(&quot;*&quot;===u[0])u.shift(),void 0===r&amp;&amp;(r=e.mimeType||t.getResponseHeader(&quot;Content-Type&quot;));if(r)for(i in s)if(s[i]&amp;&amp;s[i].test(r)){u.unshift(i);break}if(u[0]in n)o=u[0];else{for(i in n){if(!u[0]||e.converters[i+&quot; &quot;+u[0]]){o=i;break}a||(a=i)}o=o||a}if(o)return o!==u[0]&amp;&amp;u.unshift(o),n[o]}function Ut(e,t,n,r){var i,o,a,s,u,l={},c=e.dataTypes.slice();if(c[1])for(a in e.converters)l[a.toLowerCase()]=e.converters[a];o=c.shift();while(o)if(e.responseFields[o]&amp;&amp;(n[e.responseFields[o]]=t),!u&amp;&amp;r&amp;&amp;e.dataFilter&amp;&amp;(t=e.dataFilter(t,e.dataType)),u=o,o=c.shift())if(&quot;*&quot;===o)o=u;else if(&quot;*&quot;!==u&amp;&amp;u!==o){if(!(a=l[u+&quot; &quot;+o]||l[&quot;* &quot;+o]))for(i in l)if((s=i.split(&quot; &quot;))[1]===o&amp;&amp;(a=l[u+&quot; &quot;+s[0]]||l[&quot;* &quot;+s[0]])){!0===a?a=l[i]:!0!==l[i]&amp;&amp;(o=s[0],c.unshift(s[1]));break}if(!0!==a)if(a&amp;&amp;e[&quot;throws&quot;])t=a(t);else try{t=a(t)}catch(e){return{state:&quot;parsererror&quot;,error:a?e:&quot;No conversion from &quot;+u+&quot; to &quot;+o}}}return{state:&quot;success&quot;,data:t}}w.extend({active:0,lastModified:{},etag:{},ajaxSettings:{url:Ct.href,type:&quot;GET&quot;,isLocal:Pt.test(Ct.protocol),global:!0,processData:!0,async:!0,contentType:&quot;application/x-www-form-urlencoded; charset=UTF-8&quot;,accepts:{&quot;*&quot;:$t,text:&quot;text/plain&quot;,html:&quot;text/html&quot;,xml:&quot;application/xml, text/xml&quot;,json:&quot;application/json, text/javascript&quot;},contents:{xml:/\\bxml\\b/,html:/\\bhtml/,json:/\\bjson\\b/},responseFields:{xml:&quot;responseXML&quot;,text:&quot;responseText&quot;,json:&quot;responseJSON&quot;},converters:{&quot;* text&quot;:String,&quot;text html&quot;:!0,&quot;text json&quot;:JSON.parse,&quot;text xml&quot;:w.parseXML},flatOptions:{url:!0,context:!0}},ajaxSetup:function(e,t){return t?zt(zt(e,w.ajaxSettings),t):zt(w.ajaxSettings,e)},ajaxPrefilter:Ft(It),ajaxTransport:Ft(Wt),ajax:function(t,n){&quot;object&quot;==typeof t&amp;&amp;(n=t,t=void 0),n=n||{};var i,o,a,s,u,l,c,f,p,d,h=w.ajaxSetup({},n),g=h.context||h,y=h.context&amp;&amp;(g.nodeType||g.jquery)?w(g):w.event,v=w.Deferred(),m=w.Callbacks(&quot;once memory&quot;),x=h.statusCode||{},b={},T={},C=&quot;canceled&quot;,E={readyState:0,getResponseHeader:function(e){var t;if(c){if(!s){s={};while(t=Ot.exec(a))s[t[1].toLowerCase()]=t[2]}t=s[e.toLowerCase()]}return null==t?null:t},getAllResponseHeaders:function(){return c?a:null},setRequestHeader:function(e,t){return null==c&amp;&amp;(e=T[e.toLowerCase()]=T[e.toLowerCase()]||e,b[e]=t),this},overrideMimeType:function(e){return null==c&amp;&amp;(h.mimeType=e),this},statusCode:function(e){var t;if(e)if(c)E.always(e[E.status]);else for(t in e)x[t]=[x[t],e[t]];return this},abort:function(e){var t=e||C;return i&amp;&amp;i.abort(t),k(0,t),this}};if(v.promise(E),h.url=((t||h.url||Ct.href)+&quot;&quot;).replace(Rt,Ct.protocol+&quot;//&quot;),h.type=n.method||n.type||h.method||h.type,h.dataTypes=(h.dataType||&quot;*&quot;).toLowerCase().match(M)||[&quot;&quot;],null==h.crossDomain){l=r.createElement(&quot;a&quot;);try{l.href=h.url,l.href=l.href,h.crossDomain=Bt.protocol+&quot;//&quot;+Bt.host!=l.protocol+&quot;//&quot;+l.host}catch(e){h.crossDomain=!0}}if(h.data&amp;&amp;h.processData&amp;&amp;&quot;string&quot;!=typeof h.data&amp;&amp;(h.data=w.param(h.data,h.traditional)),_t(It,h,n,E),c)return E;(f=w.event&amp;&amp;h.global)&amp;&amp;0==w.active++&amp;&amp;w.event.trigger(&quot;ajaxStart&quot;),h.type=h.type.toUpperCase(),h.hasContent=!Mt.test(h.type),o=h.url.replace(Lt,&quot;&quot;),h.hasContent?h.data&amp;&amp;h.processData&amp;&amp;0===(h.contentType||&quot;&quot;).indexOf(&quot;application/x-www-form-urlencoded&quot;)&amp;&amp;(h.data=h.data.replace(qt,&quot;+&quot;)):(d=h.url.slice(o.length),h.data&amp;&amp;(h.processData||&quot;string&quot;==typeof h.data)&amp;&amp;(o+=(kt.test(o)?&quot;&amp;&quot;:&quot;?&quot;)+h.data,delete h.data),!1===h.cache&amp;&amp;(o=o.replace(Ht,&quot;$1&quot;),d=(kt.test(o)?&quot;&amp;&quot;:&quot;?&quot;)+&quot;_=&quot;+Et+++d),h.url=o+d),h.ifModified&amp;&amp;(w.lastModified[o]&amp;&amp;E.setRequestHeader(&quot;If-Modified-Since&quot;,w.lastModified[o]),w.etag[o]&amp;&amp;E.setRequestHeader(&quot;If-None-Match&quot;,w.etag[o])),(h.data&amp;&amp;h.hasContent&amp;&amp;!1!==h.contentType||n.contentType)&amp;&amp;E.setRequestHeader(&quot;Content-Type&quot;,h.contentType),E.setRequestHeader(&quot;Accept&quot;,h.dataTypes[0]&amp;&amp;h.accepts[h.dataTypes[0]]?h.accepts[h.dataTypes[0]]+(&quot;*&quot;!==h.dataTypes[0]?&quot;, &quot;+$t+&quot;; q=0.01&quot;:&quot;&quot;):h.accepts[&quot;*&quot;]);for(p in h.headers)E.setRequestHeader(p,h.headers[p]);if(h.beforeSend&amp;&amp;(!1===h.beforeSend.call(g,E,h)||c))return E.abort();if(C=&quot;abort&quot;,m.add(h.complete),E.done(h.success),E.fail(h.error),i=_t(Wt,h,n,E)){if(E.readyState=1,f&amp;&amp;y.trigger(&quot;ajaxSend&quot;,[E,h]),c)return E;h.async&amp;&amp;h.timeout&gt;0&amp;&amp;(u=e.setTimeout(function(){E.abort(&quot;timeout&quot;)},h.timeout));try{c=!1,i.send(b,k)}catch(e){if(c)throw e;k(-1,e)}}else k(-1,&quot;No Transport&quot;);function k(t,n,r,s){var l,p,d,b,T,C=n;c||(c=!0,u&amp;&amp;e.clearTimeout(u),i=void 0,a=s||&quot;&quot;,E.readyState=t&gt;0?4:0,l=t&gt;=200&amp;&amp;t&lt;300||304===t,r&amp;&amp;(b=Xt(h,E,r)),b=Ut(h,b,E,l),l?(h.ifModified&amp;&amp;((T=E.getResponseHeader(&quot;Last-Modified&quot;))&amp;&amp;(w.lastModified[o]=T),(T=E.getResponseHeader(&quot;etag&quot;))&amp;&amp;(w.etag[o]=T)),204===t||&quot;HEAD&quot;===h.type?C=&quot;nocontent&quot;:304===t?C=&quot;notmodified&quot;:(C=b.state,p=b.data,l=!(d=b.error))):(d=C,!t&amp;&amp;C||(C=&quot;error&quot;,t&lt;0&amp;&amp;(t=0))),E.status=t,E.statusText=(n||C)+&quot;&quot;,l?v.resolveWith(g,[p,C,E]):v.rejectWith(g,[E,C,d]),E.statusCode(x),x=void 0,f&amp;&amp;y.trigger(l?&quot;ajaxSuccess&quot;:&quot;ajaxError&quot;,[E,h,l?p:d]),m.fireWith(g,[E,C]),f&amp;&amp;(y.trigger(&quot;ajaxComplete&quot;,[E,h]),--w.active||w.event.trigger(&quot;ajaxStop&quot;)))}return E},getJSON:function(e,t,n){return w.get(e,t,n,&quot;json&quot;)},getScript:function(e,t){return w.get(e,void 0,t,&quot;script&quot;)}}),w.each([&quot;get&quot;,&quot;post&quot;],function(e,t){w[t]=function(e,n,r,i){return g(n)&amp;&amp;(i=i||r,r=n,n=void 0),w.ajax(w.extend({url:e,type:t,dataType:i,data:n,success:r},w.isPlainObject(e)&amp;&amp;e))}}),w._evalUrl=function(e){return w.ajax({url:e,type:&quot;GET&quot;,dataType:&quot;script&quot;,cache:!0,async:!1,global:!1,&quot;throws&quot;:!0})},w.fn.extend({wrapAll:function(e){var t;return this[0]&amp;&amp;(g(e)&amp;&amp;(e=e.call(this[0])),t=w(e,this[0].ownerDocument).eq(0).clone(!0),this[0].parentNode&amp;&amp;t.insertBefore(this[0]),t.map(function(){var e=this;while(e.firstElementChild)e=e.firstElementChild;return e}).append(this)),this},wrapInner:function(e){return g(e)?this.each(function(t){w(this).wrapInner(e.call(this,t))}):this.each(function(){var t=w(this),n=t.contents();n.length?n.wrapAll(e):t.append(e)})},wrap:function(e){var t=g(e);return this.each(function(n){w(this).wrapAll(t?e.call(this,n):e)})},unwrap:function(e){return this.parent(e).not(&quot;body&quot;).each(function(){w(this).replaceWith(this.childNodes)}),this}}),w.expr.pseudos.hidden=function(e){return!w.expr.pseudos.visible(e)},w.expr.pseudos.visible=function(e){return!!(e.offsetWidth||e.offsetHeight||e.getClientRects().length)},w.ajaxSettings.xhr=function(){try{return new e.XMLHttpRequest}catch(e){}};var Vt={0:200,1223:204},Gt=w.ajaxSettings.xhr();h.cors=!!Gt&amp;&amp;&quot;withCredentials&quot;in Gt,h.ajax=Gt=!!Gt,w.ajaxTransport(function(t){var n,r;if(h.cors||Gt&amp;&amp;!t.crossDomain)return{send:function(i,o){var a,s=t.xhr();if(s.open(t.type,t.url,t.async,t.username,t.password),t.xhrFields)for(a in t.xhrFields)s[a]=t.xhrFields[a];t.mimeType&amp;&amp;s.overrideMimeType&amp;&amp;s.overrideMimeType(t.mimeType),t.crossDomain||i[&quot;X-Requested-With&quot;]||(i[&quot;X-Requested-With&quot;]=&quot;XMLHttpRequest&quot;);for(a in i)s.setRequestHeader(a,i[a]);n=function(e){return function(){n&amp;&amp;(n=r=s.onload=s.onerror=s.onabort=s.ontimeout=s.onreadystatechange=null,&quot;abort&quot;===e?s.abort():&quot;error&quot;===e?&quot;number&quot;!=typeof s.status?o(0,&quot;error&quot;):o(s.status,s.statusText):o(Vt[s.status]||s.status,s.statusText,&quot;text&quot;!==(s.responseType||&quot;text&quot;)||&quot;string&quot;!=typeof s.responseText?{binary:s.response}:{text:s.responseText},s.getAllResponseHeaders()))}},s.onload=n(),r=s.onerror=s.ontimeout=n(&quot;error&quot;),void 0!==s.onabort?s.onabort=r:s.onreadystatechange=function(){4===s.readyState&amp;&amp;e.setTimeout(function(){n&amp;&amp;r()})},n=n(&quot;abort&quot;);try{s.send(t.hasContent&amp;&amp;t.data||null)}catch(e){if(n)throw e}},abort:function(){n&amp;&amp;n()}}}),w.ajaxPrefilter(function(e){e.crossDomain&amp;&amp;(e.contents.script=!1)}),w.ajaxSetup({accepts:{script:&quot;text/javascript, application/javascript, application/ecmascript, application/x-ecmascript&quot;},contents:{script:/\\b(?:java|ecma)script\\b/},converters:{&quot;text script&quot;:function(e){return w.globalEval(e),e}}}),w.ajaxPrefilter(&quot;script&quot;,function(e){void 0===e.cache&amp;&amp;(e.cache=!1),e.crossDomain&amp;&amp;(e.type=&quot;GET&quot;)}),w.ajaxTransport(&quot;script&quot;,function(e){if(e.crossDomain){var t,n;return{send:function(i,o){t=w(&quot;&lt;script&gt;&quot;).prop({charset:e.scriptCharset,src:e.url}).on(&quot;load error&quot;,n=function(e){t.remove(),n=null,e&amp;&amp;o(&quot;error&quot;===e.type?404:200,e.type)}),r.head.appendChild(t[0])},abort:function(){n&amp;&amp;n()}}}});var Yt=[],Qt=/(=)\\?(?=&amp;|$)|\\?\\?/;w.ajaxSetup({jsonp:&quot;callback&quot;,jsonpCallback:function(){var e=Yt.pop()||w.expando+&quot;_&quot;+Et++;return this[e]=!0,e}}),w.ajaxPrefilter(&quot;json jsonp&quot;,function(t,n,r){var i,o,a,s=!1!==t.jsonp&amp;&amp;(Qt.test(t.url)?&quot;url&quot;:&quot;string&quot;==typeof t.data&amp;&amp;0===(t.contentType||&quot;&quot;).indexOf(&quot;application/x-www-form-urlencoded&quot;)&amp;&amp;Qt.test(t.data)&amp;&amp;&quot;data&quot;);if(s||&quot;jsonp&quot;===t.dataTypes[0])return i=t.jsonpCallback=g(t.jsonpCallback)?t.jsonpCallback():t.jsonpCallback,s?t[s]=t[s].replace(Qt,&quot;$1&quot;+i):!1!==t.jsonp&amp;&amp;(t.url+=(kt.test(t.url)?&quot;&amp;&quot;:&quot;?&quot;)+t.jsonp+&quot;=&quot;+i),t.converters[&quot;script json&quot;]=function(){return a||w.error(i+&quot; was not called&quot;),a[0]},t.dataTypes[0]=&quot;json&quot;,o=e[i],e[i]=function(){a=arguments},r.always(function(){void 0===o?w(e).removeProp(i):e[i]=o,t[i]&amp;&amp;(t.jsonpCallback=n.jsonpCallback,Yt.push(i)),a&amp;&amp;g(o)&amp;&amp;o(a[0]),a=o=void 0}),&quot;script&quot;}),h.createHTMLDocument=function(){var e=r.implementation.createHTMLDocument(&quot;&quot;).body;return e.innerHTML=&quot;&lt;form&gt;&lt;/form&gt;&lt;form&gt;&lt;/form&gt;&quot;,2===e.childNodes.length}(),w.parseHTML=function(e,t,n){if(&quot;string&quot;!=typeof e)return[];&quot;boolean&quot;==typeof t&amp;&amp;(n=t,t=!1);var i,o,a;return t||(h.createHTMLDocument?((i=(t=r.implementation.createHTMLDocument(&quot;&quot;)).createElement(&quot;base&quot;)).href=r.location.href,t.head.appendChild(i)):t=r),o=A.exec(e),a=!n&amp;&amp;[],o?[t.createElement(o[1])]:(o=xe([e],t,a),a&amp;&amp;a.length&amp;&amp;w(a).remove(),w.merge([],o.childNodes))},w.fn.load=function(e,t,n){var r,i,o,a=this,s=e.indexOf(&quot; &quot;);return s&gt;-1&amp;&amp;(r=vt(e.slice(s)),e=e.slice(0,s)),g(t)?(n=t,t=void 0):t&amp;&amp;&quot;object&quot;==typeof t&amp;&amp;(i=&quot;POST&quot;),a.length&gt;0&amp;&amp;w.ajax({url:e,type:i||&quot;GET&quot;,dataType:&quot;html&quot;,data:t}).done(function(e){o=arguments,a.html(r?w(&quot;&lt;div&gt;&quot;).append(w.parseHTML(e)).find(r):e)}).always(n&amp;&amp;function(e,t){a.each(function(){n.apply(this,o||[e.responseText,t,e])})}),this},w.each([&quot;ajaxStart&quot;,&quot;ajaxStop&quot;,&quot;ajaxComplete&quot;,&quot;ajaxError&quot;,&quot;ajaxSuccess&quot;,&quot;ajaxSend&quot;],function(e,t){w.fn[t]=function(e){return this.on(t,e)}}),w.expr.pseudos.animated=function(e){return w.grep(w.timers,function(t){return e===t.elem}).length},w.offset={setOffset:function(e,t,n){var r,i,o,a,s,u,l,c=w.css(e,&quot;position&quot;),f=w(e),p={};&quot;static&quot;===c&amp;&amp;(e.style.position=&quot;relative&quot;),s=f.offset(),o=w.css(e,&quot;top&quot;),u=w.css(e,&quot;left&quot;),(l=(&quot;absolute&quot;===c||&quot;fixed&quot;===c)&amp;&amp;(o+u).indexOf(&quot;auto&quot;)&gt;-1)?(a=(r=f.position()).top,i=r.left):(a=parseFloat(o)||0,i=parseFloat(u)||0),g(t)&amp;&amp;(t=t.call(e,n,w.extend({},s))),null!=t.top&amp;&amp;(p.top=t.top-s.top+a),null!=t.left&amp;&amp;(p.left=t.left-s.left+i),&quot;using&quot;in t?t.using.call(e,p):f.css(p)}},w.fn.extend({offset:function(e){if(arguments.length)return void 0===e?this:this.each(function(t){w.offset.setOffset(this,e,t)});var t,n,r=this[0];if(r)return r.getClientRects().length?(t=r.getBoundingClientRect(),n=r.ownerDocument.defaultView,{top:t.top+n.pageYOffset,left:t.left+n.pageXOffset}):{top:0,left:0}},position:function(){if(this[0]){var e,t,n,r=this[0],i={top:0,left:0};if(&quot;fixed&quot;===w.css(r,&quot;position&quot;))t=r.getBoundingClientRect();else{t=this.offset(),n=r.ownerDocument,e=r.offsetParent||n.documentElement;while(e&amp;&amp;(e===n.body||e===n.documentElement)&amp;&amp;&quot;static&quot;===w.css(e,&quot;position&quot;))e=e.parentNode;e&amp;&amp;e!==r&amp;&amp;1===e.nodeType&amp;&amp;((i=w(e).offset()).top+=w.css(e,&quot;borderTopWidth&quot;,!0),i.left+=w.css(e,&quot;borderLeftWidth&quot;,!0))}return{top:t.top-i.top-w.css(r,&quot;marginTop&quot;,!0),left:t.left-i.left-w.css(r,&quot;marginLeft&quot;,!0)}}},offsetParent:function(){return this.map(function(){var e=this.offsetParent;while(e&amp;&amp;&quot;static&quot;===w.css(e,&quot;position&quot;))e=e.offsetParent;return e||be})}}),w.each({scrollLeft:&quot;pageXOffset&quot;,scrollTop:&quot;pageYOffset&quot;},function(e,t){var n=&quot;pageYOffset&quot;===t;w.fn[e]=function(r){return z(this,function(e,r,i){var o;if(y(e)?o=e:9===e.nodeType&amp;&amp;(o=e.defaultView),void 0===i)return o?o[t]:e[r];o?o.scrollTo(n?o.pageXOffset:i,n?i:o.pageYOffset):e[r]=i},e,r,arguments.length)}}),w.each([&quot;top&quot;,&quot;left&quot;],function(e,t){w.cssHooks[t]=_e(h.pixelPosition,function(e,n){if(n)return n=Fe(e,t),We.test(n)?w(e).position()[t]+&quot;px&quot;:n})}),w.each({Height:&quot;height&quot;,Width:&quot;width&quot;},function(e,t){w.each({padding:&quot;inner&quot;+e,content:t,&quot;&quot;:&quot;outer&quot;+e},function(n,r){w.fn[r]=function(i,o){var a=arguments.length&amp;&amp;(n||&quot;boolean&quot;!=typeof i),s=n||(!0===i||!0===o?&quot;margin&quot;:&quot;border&quot;);return z(this,function(t,n,i){var o;return y(t)?0===r.indexOf(&quot;outer&quot;)?t[&quot;inner&quot;+e]:t.document.documentElement[&quot;client&quot;+e]:9===t.nodeType?(o=t.documentElement,Math.max(t.body[&quot;scroll&quot;+e],o[&quot;scroll&quot;+e],t.body[&quot;offset&quot;+e],o[&quot;offset&quot;+e],o[&quot;client&quot;+e])):void 0===i?w.css(t,n,s):w.style(t,n,i,s)},t,a?i:void 0,a)}})}),w.each(&quot;blur focus focusin focusout resize scroll click dblclick mousedown mouseup mousemove mouseover mouseout mouseenter mouseleave change select submit keydown keypress keyup contextmenu&quot;.split(&quot; &quot;),function(e,t){w.fn[t]=function(e,n){return arguments.length&gt;0?this.on(t,null,e,n):this.trigger(t)}}),w.fn.extend({hover:function(e,t){return this.mouseenter(e).mouseleave(t||e)}}),w.fn.extend({bind:function(e,t,n){return this.on(e,null,t,n)},unbind:function(e,t){return this.off(e,null,t)},delegate:function(e,t,n,r){return this.on(t,e,n,r)},undelegate:function(e,t,n){return 1===arguments.length?this.off(e,&quot;**&quot;):this.off(t,e||&quot;**&quot;,n)}}),w.proxy=function(e,t){var n,r,i;if(&quot;string&quot;==typeof t&amp;&amp;(n=e[t],t=e,e=n),g(e))return r=o.call(arguments,2),i=function(){return e.apply(t||this,r.concat(o.call(arguments)))},i.guid=e.guid=e.guid||w.guid++,i},w.holdReady=function(e){e?w.readyWait++:w.ready(!0)},w.isArray=Array.isArray,w.parseJSON=JSON.parse,w.nodeName=N,w.isFunction=g,w.isWindow=y,w.camelCase=G,w.type=x,w.now=Date.now,w.isNumeric=function(e){var t=w.type(e);return(&quot;number&quot;===t||&quot;string&quot;===t)&amp;&amp;!isNaN(e-parseFloat(e))},&quot;function&quot;==typeof define&amp;&amp;define.amd&amp;&amp;define(&quot;jquery&quot;,[],function(){return w});var Jt=e.jQuery,Kt=e.$;return w.noConflict=function(t){return e.$===w&amp;&amp;(e.$=Kt),t&amp;&amp;e.jQuery===w&amp;&amp;(e.jQuery=Jt),w},t||(e.jQuery=e.$=w),w});\n",
       "\r\n",
       "  &lt;/script&gt;\r\n",
       "  &lt;script&gt;\r\n",
       "    function brainsprite(d){function a(f,e){f.imageSmoothingEnabled=e;return f}var b={};var c={nanValue:false,smooth:false,flagValue:false,colorBackground:&quot;#000000&quot;,flagCoordinates:false,origin:{X:0,Y:0,Z:0},voxelSize:1,affine:false,heightColorBar:0.04,sizeFont:0.075,colorFont:&quot;#FFFFFF&quot;,nbDecimals:3,crosshair:false,colorCrosshair:&quot;#0000FF&quot;,sizeCrosshair:0.9,title:false,numSlice:false,};var b=Object.assign({},c,d);if(typeof b.affine===&quot;boolean&quot;&amp;&amp;b.affine===false){b.affine=[[b.voxelSize,0,0,-b.origin.X],[0,b.voxelSize,0,-b.origin.Y],[0,0,b.voxelSize,-b.origin.Z],[0,0,0,1]]}b.canvas=document.getElementById(d.canvas);b.context=b.canvas.getContext(&quot;2d&quot;);b.context=a(b.context,b.smooth);b.canvasY=document.createElement(&quot;canvas&quot;);b.contextY=b.canvasY.getContext(&quot;2d&quot;);b.canvasZ=document.createElement(&quot;canvas&quot;);b.contextZ=b.canvasZ.getContext(&quot;2d&quot;);b.canvasRead=document.createElement(&quot;canvas&quot;);b.contextRead=b.canvasRead.getContext(&quot;2d&quot;);b.canvasRead.width=1;b.canvasRead.height=1;b.onclick=typeof d.onclick!==&quot;undefined&quot;?d.onclick:&quot;&quot;;if(b.flagCoordinates){b.spaceFont=0.1}else{b.spaceFont=0}b.sprite=document.getElementById(d.sprite);b.nbCol=b.sprite.width/d.nbSlice.Y;b.nbRow=b.sprite.height/d.nbSlice.Z;b.nbSlice={X:typeof d.nbSlice.X!==&quot;undefined&quot;?d.nbSlice.X:b.nbCol*b.nbRow,Y:d.nbSlice.Y,Z:d.nbSlice.Z};b.widthCanvas={X:0,Y:0,Z:0};b.heightCanvas={X:0,Y:0,Z:0,max:0};if(b.numSlice==false){b.numSlice={X:Math.floor(b.nbSlice.X/2),Y:Math.floor(b.nbSlice.Y/2),Z:Math.floor(b.nbSlice.Z/2)}}b.coordinatesSlice={X:0,Y:0,Z:0};b.planes={};b.planes.canvasMaster=document.createElement(&quot;canvas&quot;);b.planes.contextMaster=b.planes.canvasMaster.getContext(&quot;2d&quot;);d.overlay=typeof d.overlay!==&quot;undefined&quot;?d.overlay:false;if(d.overlay){b.overlay={};b.overlay.sprite=document.getElementById(d.overlay.sprite);b.overlay.nbCol=b.overlay.sprite.width/d.overlay.nbSlice.Y;b.overlay.nbRow=b.overlay.sprite.height/d.overlay.nbSlice.Z;b.overlay.nbSlice={X:typeof d.overlay.nbSlice.X!==&quot;undefined&quot;?d.overlay.nbSlice.X:b.overlay.nbCol*b.overlay.nbRow,Y:d.overlay.nbSlice.Y,Z:d.overlay.nbSlice.Z};b.overlay.opacity=typeof d.overlay.opacity!==&quot;undefined&quot;?d.overlay.opacity:1}d.colorMap=typeof d.colorMap!==&quot;undefined&quot;?d.colorMap:false;if(d.colorMap){b.colorMap={};b.colorMap.img=document.getElementById(d.colorMap.img);b.colorMap.min=d.colorMap.min;b.colorMap.max=d.colorMap.max;d.colorMap.hide=typeof d.colorMap.hide!==&quot;undefined&quot;?d.colorMap.hide:false;b.colorMap.canvas=document.createElement(&quot;canvas&quot;);b.colorMap.context=b.colorMap.canvas.getContext(&quot;2d&quot;);b.colorMap.canvas.width=b.colorMap.img.width;b.colorMap.canvas.height=b.colorMap.img.height;b.colorMap.context.drawImage(b.colorMap.img,0,0,b.colorMap.img.width,b.colorMap.img.height,0,0,b.colorMap.img.width,b.colorMap.img.height)}b.getValue=function(i,h){if(!h){return NaN}var f,l,e,j,k,g;e=h.canvas.width;j=NaN;k=Infinity;for(xx=0;xx&lt;e;xx++){f=h.context.getImageData(xx,0,1,1).data;l=Math.pow(f[0]-i[0],2)+Math.pow(f[1]-i[1],2)+Math.pow(f[2]-i[2],2);if(l&lt;k){j=xx;k=l}}g=(j*(h.max-h.min)/(e-1))+h.min;return g};b.updateValue=function(){var h={};var f=[];var e=[];if(b.overlay&amp;&amp;!b.nanValue){try{h.XW=Math.round((b.numSlice.X)%b.nbCol);h.XH=Math.round((b.numSlice.X-h.XW)/b.nbCol);b.contextRead.fillStyle=&quot;#FFFFFF&quot;;b.contextRead.fillRect(0,0,1,1);b.contextRead.drawImage(b.overlay.sprite,h.XW*b.nbSlice.Y+b.numSlice.Y,h.XH*b.nbSlice.Z+b.nbSlice.Z-b.numSlice.Z-1,1,1,0,0,1,1);rgb=b.contextRead.getImageData(0,0,1,1).data;f=((rgb[0]==255)&amp;&amp;(rgb[1]==255)&amp;&amp;(rgb[2]==255));b.contextRead.fillStyle=&quot;#000000&quot;;b.contextRead.fillRect(0,0,1,1);b.contextRead.drawImage(b.overlay.sprite,h.XW*b.nbSlice.Y+b.numSlice.Y,h.XH*b.nbSlice.Z+b.nbSlice.Z-b.numSlice.Z-1,1,1,0,0,1,1);rgb=b.contextRead.getImageData(0,0,1,1).data;e=((rgb[0]==0)&amp;&amp;(rgb[1]==0)&amp;&amp;(rgb[2]==0));if(f&amp;&amp;e){b.voxelValue=NaN}else{b.voxelValue=b.getValue(rgb,b.colorMap)}}catch(g){console.warn(g.message);rgb=0;b.nanValue=true;b.voxelValue=NaN}}else{b.voxelValue=NaN}};b.multiply=function(p,o){var l=p.length,h=p[0].length,k=o.length,f=o[0].length,g=new Array(l);for(var e=0;e&lt;l;++e){g[e]=new Array(f);for(var n=0;n&lt;f;++n){g[e][n]=0;for(var j=0;j&lt;h;++j){g[e][n]+=p[e][j]*o[j][n]}}}return g};b.updateCoordinates=function(){coordVoxel=b.multiply(b.affine,[[b.numSlice.X+1],[b.numSlice.Y+1],[b.numSlice.Z+1],[1]]);b.coordinatesSlice.X=coordVoxel[0];b.coordinatesSlice.Y=coordVoxel[1];b.coordinatesSlice.Z=coordVoxel[2]};b.init=function(){b.widthCanvas.X=Math.floor(b.canvas.parentElement.clientWidth*(b.nbSlice.Y/(2*b.nbSlice.X+b.nbSlice.Y)));b.widthCanvas.Y=Math.floor(b.canvas.parentElement.clientWidth*(b.nbSlice.X/(2*b.nbSlice.X+b.nbSlice.Y)));b.widthCanvas.Z=Math.floor(b.canvas.parentElement.clientWidth*(b.nbSlice.X/(2*b.nbSlice.X+b.nbSlice.Y)));b.widthCanvas.max=Math.max(b.widthCanvas.X,b.widthCanvas.Y,b.widthCanvas.Z);b.heightCanvas.X=Math.floor(b.widthCanvas.X*b.nbSlice.Z/b.nbSlice.Y);b.heightCanvas.Y=Math.floor(b.widthCanvas.Y*b.nbSlice.Z/b.nbSlice.X);b.heightCanvas.Z=Math.floor(b.widthCanvas.Z*b.nbSlice.Y/b.nbSlice.X);b.heightCanvas.max=Math.max(b.heightCanvas.X,b.heightCanvas.Y,b.heightCanvas.Z);if(b.canvas.width!=(b.widthCanvas.X+b.widthCanvas.Y+b.widthCanvas.Z)){b.canvas.width=b.widthCanvas.X+b.widthCanvas.Y+b.widthCanvas.Z;b.canvas.height=Math.round((1+b.spaceFont)*(b.heightCanvas.max));b.context=a(b.context,b.smooth)}b.sizeFontPixels=Math.round(b.sizeFont*(b.heightCanvas.max));b.context.font=b.sizeFontPixels+&quot;px Arial&quot;;b.planes.canvasMaster.width=b.sprite.width;b.planes.canvasMaster.height=b.sprite.height;b.planes.contextMaster.globalAlpha=1;b.planes.contextMaster.drawImage(b.sprite,0,0,b.sprite.width,b.sprite.height,0,0,b.sprite.width,b.sprite.height);if(b.overlay){b.planes.contextMaster.globalAlpha=b.overlay.opacity;b.planes.contextMaster.drawImage(b.overlay.sprite,0,0,b.overlay.sprite.width,b.overlay.sprite.height,0,0,b.sprite.width,b.sprite.height)}b.planes.canvasX=document.createElement(&quot;canvas&quot;);b.planes.contextX=b.planes.canvasX.getContext(&quot;2d&quot;);b.planes.canvasX.width=b.nbSlice.Y;b.planes.canvasX.height=b.nbSlice.Z;b.planes.canvasY=document.createElement(&quot;canvas&quot;);b.planes.contextY=b.planes.canvasY.getContext(&quot;2d&quot;);b.planes.canvasY.width=b.nbSlice.X;b.planes.canvasY.height=b.nbSlice.Z;b.planes.canvasZ=document.createElement(&quot;canvas&quot;);b.planes.contextZ=b.planes.canvasZ.getContext(&quot;2d&quot;);b.planes.canvasZ.width=b.nbSlice.X;b.planes.canvasZ.height=b.nbSlice.Y;b.planes.contextZ.rotate(-Math.PI/2);b.planes.contextZ.translate(-b.nbSlice.Y,0);b.updateValue();b.updateCoordinates();b.numSlice.X=Math.round(b.numSlice.X);b.numSlice.Y=Math.round(b.numSlice.Y);b.numSlice.Z=Math.round(b.numSlice.Z)};b.draw=function(h,f){var j={},i,e,g={X:&quot;&quot;,Y:&quot;&quot;,Z:&quot;&quot;};g.X=Math.ceil((1-b.sizeCrosshair)*b.nbSlice.X/2);g.Y=Math.ceil((1-b.sizeCrosshair)*b.nbSlice.Y/2);g.Z=Math.ceil((1-b.sizeCrosshair)*b.nbSlice.Z/2);switch(f){case&quot;X&quot;:j.XW=((b.numSlice.X)%b.nbCol);j.XH=(b.numSlice.X-j.XW)/b.nbCol;b.planes.contextX.drawImage(b.planes.canvasMaster,j.XW*b.nbSlice.Y,j.XH*b.nbSlice.Z,b.nbSlice.Y,b.nbSlice.Z,0,0,b.nbSlice.Y,b.nbSlice.Z);if(b.crosshair){b.planes.contextX.fillStyle=b.colorCrosshair;b.planes.contextX.fillRect(b.numSlice.Y,g.Z,1,b.nbSlice.Z-2*g.Z);b.planes.contextX.fillRect(g.Y,b.nbSlice.Z-b.numSlice.Z-1,b.nbSlice.Y-2*g.Y,1)}b.context.fillStyle=b.colorBackground;b.context.fillRect(0,0,b.widthCanvas.X,b.canvas.height);b.context.drawImage(b.planes.canvasX,0,0,b.nbSlice.Y,b.nbSlice.Z,0,(b.heightCanvas.max-b.heightCanvas.X)/2,b.widthCanvas.X,b.heightCanvas.X);if(b.title){b.context.fillStyle=b.colorFont;b.context.fillText(b.title,Math.round(b.widthCanvas.X/10),Math.round((b.heightCanvas.max*b.heightColorBar)+(1/4)*(b.sizeFontPixels)))}if(b.flagValue){value=&quot;value = &quot;+Number.parseFloat(b.voxelValue).toPrecision(b.nbDecimals).replace(/0+$/,&quot;&quot;);valueWidth=b.context.measureText(value).width;b.context.fillStyle=b.colorFont;b.context.fillText(value,Math.round(b.widthCanvas.X/10),Math.round((b.heightCanvas.max*b.heightColorBar*2)+(3/4)*(b.sizeFontPixels)))}if(b.flagCoordinates){i=&quot;x = &quot;+Math.round(b.coordinatesSlice.X);e=b.context.measureText(i).width;b.context.fillStyle=b.colorFont;b.context.fillText(i,b.widthCanvas.X/2-e/2,Math.round(b.canvas.height-(b.sizeFontPixels/2)))}break;case&quot;Y&quot;:b.context.fillStyle=b.colorBackground;b.context.fillRect(b.widthCanvas.X,0,b.widthCanvas.Y,b.canvas.height);for(xx=0;xx&lt;b.nbSlice.X;xx++){posW=(xx%b.nbCol);posH=(xx-posW)/b.nbCol;b.planes.contextY.drawImage(b.planes.canvasMaster,posW*b.nbSlice.Y+b.numSlice.Y,posH*b.nbSlice.Z,1,b.nbSlice.Z,xx,0,1,b.nbSlice.Z)}if(b.crosshair){b.planes.contextY.fillStyle=b.colorCrosshair;b.planes.contextY.fillRect(b.numSlice.X,g.Z,1,b.nbSlice.Z-2*g.Z);b.planes.contextY.fillRect(g.X,b.nbSlice.Z-b.numSlice.Z-1,b.nbSlice.X-2*g.X,1)}b.context.drawImage(b.planes.canvasY,0,0,b.nbSlice.X,b.nbSlice.Z,b.widthCanvas.X,(b.heightCanvas.max-b.heightCanvas.Y)/2,b.widthCanvas.Y,b.heightCanvas.Y);if((b.colorMap)&amp;&amp;(!b.colorMap.hide)){b.context.drawImage(b.colorMap.img,0,0,b.colorMap.img.width,1,Math.round(b.widthCanvas.X+b.widthCanvas.Y*0.2),Math.round(b.heightCanvas.max*b.heightColorBar/2),Math.round(b.widthCanvas.Y*0.6),Math.round(b.heightCanvas.max*b.heightColorBar));b.context.fillStyle=b.colorFont;label_min=Number.parseFloat(b.colorMap.min).toPrecision(b.nbDecimals).replace(/0+$/,&quot;&quot;);label_max=Number.parseFloat(b.colorMap.max).toPrecision(b.nbDecimals).replace(/0+$/,&quot;&quot;);b.context.fillText(label_min,b.widthCanvas.X+(b.widthCanvas.Y*0.2)-b.context.measureText(label_min).width/2,Math.round((b.heightCanvas.max*b.heightColorBar*2)+(3/4)*(b.sizeFontPixels)));b.context.fillText(label_max,b.widthCanvas.X+(b.widthCanvas.Y*0.8)-b.context.measureText(label_max).width/2,Math.round((b.heightCanvas.max*b.heightColorBar*2)+(3/4)*(b.sizeFontPixels)))}if(b.flagCoordinates){b.context.font=b.sizeFontPixels+&quot;px Arial&quot;;b.context.fillStyle=b.colorFont;i=&quot;y = &quot;+Math.round(b.coordinatesSlice.Y);e=b.context.measureText(i).width;b.context.fillText(i,b.widthCanvas.X+(b.widthCanvas.Y/2)-e/2,Math.round(b.canvas.height-(b.sizeFontPixels/2)))}case&quot;Z&quot;:b.context.fillStyle=b.colorBackground;b.context.fillRect(b.widthCanvas.X+b.widthCanvas.Y,0,b.widthCanvas.Z,b.canvas.height);for(xx=0;xx&lt;b.nbSlice.X;xx++){posW=(xx%b.nbCol);posH=(xx-posW)/b.nbCol;b.planes.contextZ.drawImage(b.planes.canvasMaster,posW*b.nbSlice.Y,posH*b.nbSlice.Z+b.nbSlice.Z-b.numSlice.Z-1,b.nbSlice.Y,1,0,xx,b.nbSlice.Y,1)}if(b.crosshair){b.planes.contextZ.fillStyle=b.colorCrosshair;b.planes.contextZ.fillRect(g.Y,b.numSlice.X,b.nbSlice.Y-2*g.Y,1);b.planes.contextZ.fillRect(b.numSlice.Y,g.X,1,b.nbSlice.X-2*g.X)}b.context.drawImage(b.planes.canvasZ,0,0,b.nbSlice.X,b.nbSlice.Y,b.widthCanvas.X+b.widthCanvas.Y,(b.heightCanvas.max-b.heightCanvas.Z)/2,b.widthCanvas.Z,b.heightCanvas.Z);if(b.flagCoordinates){i=&quot;z = &quot;+Math.round(b.coordinatesSlice.Z);e=b.context.measureText(i).width;b.context.fillStyle=b.colorFont;b.context.fillText(i,b.widthCanvas.X+b.widthCanvas.Y+(b.widthCanvas.Z/2)-e/2,Math.round(b.canvas.height-(b.sizeFontPixels/2)))}}};b.clickBrain=function(h){var f=b.canvas.getBoundingClientRect();var j=h.clientX-f.left;var k=h.clientY-f.top;var i,g;if(j&lt;b.widthCanvas.X){i=Math.round((b.nbSlice.Y-1)*(j/b.widthCanvas.X));g=Math.round((b.nbSlice.Z-1)*(((b.heightCanvas.max+b.heightCanvas.X)/2)-k)/b.heightCanvas.X);b.numSlice.Y=Math.max(Math.min(i,b.nbSlice.Y-1),0);b.numSlice.Z=Math.max(Math.min(g,b.nbSlice.Z-1),0)}else{if(j&lt;(b.widthCanvas.X+b.widthCanvas.Y)){j=j-b.widthCanvas.X;sx=Math.round((b.nbSlice.X-1)*(j/b.widthCanvas.Y));g=Math.round((b.nbSlice.Z-1)*(((b.heightCanvas.max+b.heightCanvas.X)/2)-k)/b.heightCanvas.X);b.numSlice.X=Math.max(Math.min(sx,b.nbSlice.X-1),0);b.numSlice.Z=Math.max(Math.min(g,b.nbSlice.Z-1),0)}else{j=j-b.widthCanvas.X-b.widthCanvas.Y;sx=Math.round((b.nbSlice.X-1)*(j/b.widthCanvas.Z));i=Math.round((b.nbSlice.Y-1)*(((b.heightCanvas.max+b.heightCanvas.Z)/2)-k)/b.heightCanvas.Z);b.numSlice.X=Math.max(Math.min(sx,b.nbSlice.X-1),0);b.numSlice.Y=Math.max(Math.min(i,b.nbSlice.Y-1),0)}}b.updateValue();b.updateCoordinates();b.drawAll();if(b.onclick){b.onclick(h)}};b.drawAll=function(){b.draw(b.numSlice.X,&quot;X&quot;);b.draw(b.numSlice.Y,&quot;Y&quot;);b.draw(b.numSlice.Z,&quot;Z&quot;)};b.canvas.addEventListener(&quot;click&quot;,b.clickBrain,false);b.canvas.addEventListener(&quot;mousedown&quot;,function(f){b.canvas.addEventListener(&quot;mousemove&quot;,b.clickBrain,false)},false);b.canvas.addEventListener(&quot;mouseup&quot;,function(f){b.canvas.removeEventListener(&quot;mousemove&quot;,b.clickBrain,false)},false);b.sprite.addEventListener(&quot;load&quot;,function(){b.init();b.drawAll()});if(b.overlay){b.overlay.sprite.addEventListener(&quot;load&quot;,function(){b.init();b.drawAll()})}b.init();b.drawAll();return b};\r\n",
       "  &lt;/script&gt;\r\n",
       "\r\n",
       "  &lt;script&gt;\r\n",
       "  // On load: build all figures\r\n",
       "  $( window ).on(&#x27;load&#x27;,function() {\r\n",
       "    // Create brain slices\r\n",
       "    var brain = brainsprite(\r\n",
       "    {&quot;canvas&quot;: &quot;3Dviewer&quot;, &quot;sprite&quot;: &quot;spriteImg&quot;, &quot;nbSlice&quot;: {&quot;X&quot;: 27, &quot;Y&quot;: 32, &quot;Z&quot;: 26}, &quot;overlay&quot;: {&quot;sprite&quot;: &quot;overlayImg&quot;, &quot;nbSlice&quot;: {&quot;X&quot;: 27, &quot;Y&quot;: 32, &quot;Z&quot;: 26}, &quot;opacity&quot;: 1}, &quot;colorBackground&quot;: &quot;#FFFFFF&quot;, &quot;colorFont&quot;: &quot;#000000&quot;, &quot;crosshair&quot;: true, &quot;affine&quot;: [[6.0, 0.0, 0.0, -78.0], [0.0, 6.0, 0.0, -112.0], [0.0, 0.0, 6.0, -68.0], [0.0, 0.0, 0.0, 1.0]], &quot;flagCoordinates&quot;: true, &quot;title&quot;: null, &quot;flagValue&quot;: false, &quot;numSlice&quot;: {&quot;X&quot;: 13.604838993626442, &quot;Y&quot;: 11.212929677592502, &quot;Z&quot;: 16.896285579013032}, &quot;colorMap&quot;: {&quot;img&quot;: &quot;colorMap&quot;, &quot;min&quot;: -1206.0130615234375, &quot;max&quot;: 1206.0130615234375}}\r\n",
       "    );\r\n",
       "  });\r\n",
       "  &lt;/script&gt;\r\n",
       "&lt;/body&gt;\r\n",
       "&lt;/html&gt;\r\n",
       "\" width=\"600\" height=\"268.0\" frameBorder=\"0\"></iframe>"
      ],
      "text/plain": [
       "<nilearn.plotting.html_stat_map.StatMapView at 0x7f6ed152d810>"
      ]
     },
     "execution_count": 37,
     "metadata": {},
     "output_type": "execute_result"
    }
   ],
   "source": [
    "plotting.view_img(smooth_img(mean_img(controls), fwhm = 'fast'), threshold=None, bg_img=False)\n"
   ]
  },
  {
   "cell_type": "code",
   "execution_count": 38,
   "metadata": {},
   "outputs": [
    {
     "data": {
      "text/html": [
       "\n",
       "        <iframe\n",
       "            width=\"800\"\n",
       "            height=\"650\"\n",
       "            src=\"http://127.0.0.1:8050/\"\n",
       "            frameborder=\"0\"\n",
       "            allowfullscreen\n",
       "        ></iframe>\n",
       "        "
      ],
      "text/plain": [
       "<IPython.lib.display.IFrame at 0x7f6ed38e7e90>"
      ]
     },
     "metadata": {},
     "output_type": "display_data"
    }
   ],
   "source": [
    "import plotly.express as px\n",
    "from jupyter_dash import JupyterDash\n",
    "import dash_core_components as dcc\n",
    "import dash_html_components as html\n",
    "from dash.dependencies import Input, Output\n",
    "# Load Data\n",
    "df = pheno\n",
    "# Build App\n",
    "app = JupyterDash(__name__)\n",
    "app.layout = html.Div([\n",
    "    html.H1(\"Age\"),\n",
    "    dcc.Graph(id='graph'),\n",
    "    html.Label([\n",
    "        \"Participant type\",\n",
    "        dcc.Dropdown(\n",
    "            id='subject_type', clearable=False,\n",
    "            value='Patient', options=[\n",
    "                {'label': c, 'value': c}\n",
    "                for c in df.subject_type.unique() #get all unique values from column\n",
    "            ])\n",
    "    ]),\n",
    "])\n",
    "# Define callback to update graph\n",
    "@app.callback(\n",
    "    Output('graph', 'figure'),\n",
    "    [Input(\"subject_type\", \"value\")]\n",
    ")\n",
    "def update_figure(subject_type):\n",
    "    return px.histogram(\n",
    "        df[df[\"subject_type\"]==subject_type], x=\"current_age\",\n",
    "        \n",
    "        #render_mode=\"webgl\", title=\"Diagnosis\"\n",
    "    )\n",
    "# Run app and display result inline in the notebook\n",
    "app.run_server(mode='inline')"
   ]
  },
  {
   "cell_type": "code",
   "execution_count": 39,
   "metadata": {},
   "outputs": [],
   "source": [
    "#import atlas\n",
    "parcellations = datasets.fetch_atlas_basc_multiscale_2015(version='sym')\n",
    "atlas_filename = parcellations.scale064"
   ]
  },
  {
   "cell_type": "code",
   "execution_count": 40,
   "metadata": {},
   "outputs": [
    {
     "data": {
      "text/plain": [
       "<nilearn.plotting.displays.OrthoSlicer at 0x7f6ec343ca10>"
      ]
     },
     "execution_count": 40,
     "metadata": {},
     "output_type": "execute_result"
    },
    {
     "data": {
      "image/png": "[encoded data removed]",
      "text/plain": [
       "<Figure size 475.2x187.2 with 4 Axes>"
      ]
     },
     "metadata": {},
     "output_type": "display_data"
    }
   ],
   "source": [
    "# visualize atlas\n",
    "from nilearn import plotting\n",
    "plotting.plot_roi(atlas_filename, draw_cross = False)"
   ]
  },
  {
   "cell_type": "code",
   "execution_count": 41,
   "metadata": {},
   "outputs": [],
   "source": [
    "from nilearn.input_data import NiftiLabelsMasker\n",
    "from nilearn.connectome import ConnectivityMeasure\n",
    "\n",
    "# create mask\n",
    "mask = NiftiLabelsMasker(labels_img=atlas_filename, \n",
    "                           standardize=True, \n",
    "                           memory='nilearn_cache', \n",
    "                           verbose=1)\n",
    "\n",
    "# initialize correlation measure\n",
    "correlation_measure = ConnectivityMeasure(kind='correlation', vectorize=True,\n",
    "                                         discard_diagonal=True)"
   ]
  },
  {
   "cell_type": "code",
   "execution_count": 42,
   "metadata": {},
   "outputs": [
    {
     "name": "stdout",
     "output_type": "stream",
     "text": [
      "[NiftiLabelsMasker.fit_transform] loading data from /home/aalbury/nilearn_data/basc_multiscale_2015/template_cambridge_basc_multiscale_nii_sym/template_cambridge_basc_multiscale_sym_scale064.nii.gz\n",
      "Resampling labels\n",
      "finished 1 of 146\n",
      "[NiftiLabelsMasker.fit_transform] loading data from /home/aalbury/nilearn_data/basc_multiscale_2015/template_cambridge_basc_multiscale_nii_sym/template_cambridge_basc_multiscale_sym_scale064.nii.gz\n",
      "finished 2 of 146\n",
      "[NiftiLabelsMasker.fit_transform] loading data from /home/aalbury/nilearn_data/basc_multiscale_2015/template_cambridge_basc_multiscale_nii_sym/template_cambridge_basc_multiscale_sym_scale064.nii.gz\n",
      "________________________________________________________________________________\n",
      "[Memory] Calling nilearn.input_data.base_masker.filter_and_extract...\n",
      "filter_and_extract('/home/aalbury/nilearn_data/cobre/fmri_0040117.nii.gz', <nilearn.input_data.nifti_labels_masker._ExtractionFunctor object at 0x7f6ec371dd10>, \n",
      "{ 'background_label': 0,\n",
      "  'detrend': False,\n",
      "  'dtype': None,\n",
      "  'high_pass': None,\n",
      "  'labels_img': '/home/aalbury/nilearn_data/basc_multiscale_2015/template_cambridge_basc_multiscale_nii_sym/template_cambridge_basc_multiscale_sym_scale064.nii.gz',\n",
      "  'low_pass': None,\n",
      "  'mask_img': None,\n",
      "  'smoothing_fwhm': None,\n",
      "  'standardize': True,\n",
      "  'strategy': 'mean',\n",
      "  't_r': None,\n",
      "  'target_affine': None,\n",
      "  'target_shape': None}, confounds='/home/aalbury/nilearn_data/cobre/fmri_0040117.tsv', dtype=None, memory=Memory(location=nilearn_cache/joblib), memory_level=1, verbose=1)\n",
      "[NiftiLabelsMasker.transform_single_imgs] Loading data from /home/aalbury/nilearn_data/cobre/fmri_0040117.nii.gz\n",
      "[NiftiLabelsMasker.transform_single_imgs] Extracting region signals\n",
      "[NiftiLabelsMasker.transform_single_imgs] Cleaning extracted signals\n",
      "_______________________________________________filter_and_extract - 0.3s, 0.0min\n",
      "finished 3 of 146\n",
      "[NiftiLabelsMasker.fit_transform] loading data from /home/aalbury/nilearn_data/basc_multiscale_2015/template_cambridge_basc_multiscale_nii_sym/template_cambridge_basc_multiscale_sym_scale064.nii.gz\n",
      "finished 4 of 146\n",
      "[NiftiLabelsMasker.fit_transform] loading data from /home/aalbury/nilearn_data/basc_multiscale_2015/template_cambridge_basc_multiscale_nii_sym/template_cambridge_basc_multiscale_sym_scale064.nii.gz\n",
      "finished 5 of 146\n",
      "[NiftiLabelsMasker.fit_transform] loading data from /home/aalbury/nilearn_data/basc_multiscale_2015/template_cambridge_basc_multiscale_nii_sym/template_cambridge_basc_multiscale_sym_scale064.nii.gz\n",
      "________________________________________________________________________________\n",
      "[Memory] Calling nilearn.input_data.base_masker.filter_and_extract...\n",
      "filter_and_extract('/home/aalbury/nilearn_data/cobre/fmri_0040029.nii.gz', <nilearn.input_data.nifti_labels_masker._ExtractionFunctor object at 0x7f6ec322cf90>, \n",
      "{ 'background_label': 0,\n",
      "  'detrend': False,\n",
      "  'dtype': None,\n",
      "  'high_pass': None,\n",
      "  'labels_img': '/home/aalbury/nilearn_data/basc_multiscale_2015/template_cambridge_basc_multiscale_nii_sym/template_cambridge_basc_multiscale_sym_scale064.nii.gz',\n",
      "  'low_pass': None,\n",
      "  'mask_img': None,\n",
      "  'smoothing_fwhm': None,\n",
      "  'standardize': True,\n",
      "  'strategy': 'mean',\n",
      "  't_r': None,\n",
      "  'target_affine': None,\n",
      "  'target_shape': None}, confounds='/home/aalbury/nilearn_data/cobre/fmri_0040029.tsv', dtype=None, memory=Memory(location=nilearn_cache/joblib), memory_level=1, verbose=1)\n",
      "[NiftiLabelsMasker.transform_single_imgs] Loading data from /home/aalbury/nilearn_data/cobre/fmri_0040029.nii.gz\n",
      "[NiftiLabelsMasker.transform_single_imgs] Extracting region signals\n",
      "[NiftiLabelsMasker.transform_single_imgs] Cleaning extracted signals\n",
      "_______________________________________________filter_and_extract - 0.3s, 0.0min\n",
      "finished 6 of 146\n",
      "[NiftiLabelsMasker.fit_transform] loading data from /home/aalbury/nilearn_data/basc_multiscale_2015/template_cambridge_basc_multiscale_nii_sym/template_cambridge_basc_multiscale_sym_scale064.nii.gz\n",
      "________________________________________________________________________________\n",
      "[Memory] Calling nilearn.input_data.base_masker.filter_and_extract...\n",
      "filter_and_extract('/home/aalbury/nilearn_data/cobre/fmri_0040133.nii.gz', <nilearn.input_data.nifti_labels_masker._ExtractionFunctor object at 0x7f6ec2d8c290>, \n",
      "{ 'background_label': 0,\n",
      "  'detrend': False,\n",
      "  'dtype': None,\n",
      "  'high_pass': None,\n",
      "  'labels_img': '/home/aalbury/nilearn_data/basc_multiscale_2015/template_cambridge_basc_multiscale_nii_sym/template_cambridge_basc_multiscale_sym_scale064.nii.gz',\n",
      "  'low_pass': None,\n",
      "  'mask_img': None,\n",
      "  'smoothing_fwhm': None,\n",
      "  'standardize': True,\n",
      "  'strategy': 'mean',\n",
      "  't_r': None,\n",
      "  'target_affine': None,\n",
      "  'target_shape': None}, confounds='/home/aalbury/nilearn_data/cobre/fmri_0040133.tsv', dtype=None, memory=Memory(location=nilearn_cache/joblib), memory_level=1, verbose=1)\n",
      "[NiftiLabelsMasker.transform_single_imgs] Loading data from /home/aalbury/nilearn_data/cobre/fmri_0040133.nii.gz\n",
      "[NiftiLabelsMasker.transform_single_imgs] Extracting region signals\n",
      "[NiftiLabelsMasker.transform_single_imgs] Cleaning extracted signals\n",
      "_______________________________________________filter_and_extract - 0.3s, 0.0min\n",
      "finished 7 of 146\n",
      "[NiftiLabelsMasker.fit_transform] loading data from /home/aalbury/nilearn_data/basc_multiscale_2015/template_cambridge_basc_multiscale_nii_sym/template_cambridge_basc_multiscale_sym_scale064.nii.gz\n",
      "________________________________________________________________________________\n",
      "[Memory] Calling nilearn.input_data.base_masker.filter_and_extract...\n",
      "filter_and_extract('/home/aalbury/nilearn_data/cobre/fmri_0040021.nii.gz', <nilearn.input_data.nifti_labels_masker._ExtractionFunctor object at 0x7f6ec361ab90>, \n",
      "{ 'background_label': 0,\n",
      "  'detrend': False,\n",
      "  'dtype': None,\n",
      "  'high_pass': None,\n",
      "  'labels_img': '/home/aalbury/nilearn_data/basc_multiscale_2015/template_cambridge_basc_multiscale_nii_sym/template_cambridge_basc_multiscale_sym_scale064.nii.gz',\n",
      "  'low_pass': None,\n",
      "  'mask_img': None,\n",
      "  'smoothing_fwhm': None,\n",
      "  'standardize': True,\n",
      "  'strategy': 'mean',\n",
      "  't_r': None,\n",
      "  'target_affine': None,\n",
      "  'target_shape': None}, confounds='/home/aalbury/nilearn_data/cobre/fmri_0040021.tsv', dtype=None, memory=Memory(location=nilearn_cache/joblib), memory_level=1, verbose=1)\n",
      "[NiftiLabelsMasker.transform_single_imgs] Loading data from /home/aalbury/nilearn_data/cobre/fmri_0040021.nii.gz\n",
      "[NiftiLabelsMasker.transform_single_imgs] Extracting region signals\n",
      "[NiftiLabelsMasker.transform_single_imgs] Cleaning extracted signals\n",
      "_______________________________________________filter_and_extract - 0.3s, 0.0min\n",
      "finished 8 of 146\n",
      "[NiftiLabelsMasker.fit_transform] loading data from /home/aalbury/nilearn_data/basc_multiscale_2015/template_cambridge_basc_multiscale_nii_sym/template_cambridge_basc_multiscale_sym_scale064.nii.gz\n",
      "________________________________________________________________________________\n",
      "[Memory] Calling nilearn.input_data.base_masker.filter_and_extract...\n",
      "filter_and_extract('/home/aalbury/nilearn_data/cobre/fmri_0040137.nii.gz', <nilearn.input_data.nifti_labels_masker._ExtractionFunctor object at 0x7f6ec320b1d0>, \n",
      "{ 'background_label': 0,\n",
      "  'detrend': False,\n",
      "  'dtype': None,\n",
      "  'high_pass': None,\n",
      "  'labels_img': '/home/aalbury/nilearn_data/basc_multiscale_2015/template_cambridge_basc_multiscale_nii_sym/template_cambridge_basc_multiscale_sym_scale064.nii.gz',\n",
      "  'low_pass': None,\n",
      "  'mask_img': None,\n",
      "  'smoothing_fwhm': None,\n",
      "  'standardize': True,\n",
      "  'strategy': 'mean',\n",
      "  't_r': None,\n",
      "  'target_affine': None,\n",
      "  'target_shape': None}, confounds='/home/aalbury/nilearn_data/cobre/fmri_0040137.tsv', dtype=None, memory=Memory(location=nilearn_cache/joblib), memory_level=1, verbose=1)\n",
      "[NiftiLabelsMasker.transform_single_imgs] Loading data from /home/aalbury/nilearn_data/cobre/fmri_0040137.nii.gz\n",
      "[NiftiLabelsMasker.transform_single_imgs] Extracting region signals\n",
      "[NiftiLabelsMasker.transform_single_imgs] Cleaning extracted signals\n",
      "_______________________________________________filter_and_extract - 0.3s, 0.0min\n",
      "finished 9 of 146\n",
      "[NiftiLabelsMasker.fit_transform] loading data from /home/aalbury/nilearn_data/basc_multiscale_2015/template_cambridge_basc_multiscale_nii_sym/template_cambridge_basc_multiscale_sym_scale064.nii.gz\n",
      "________________________________________________________________________________\n",
      "[Memory] Calling nilearn.input_data.base_masker.filter_and_extract...\n",
      "filter_and_extract('/home/aalbury/nilearn_data/cobre/fmri_0040085.nii.gz', <nilearn.input_data.nifti_labels_masker._ExtractionFunctor object at 0x7f6ec332c210>, \n",
      "{ 'background_label': 0,\n",
      "  'detrend': False,\n",
      "  'dtype': None,\n",
      "  'high_pass': None,\n",
      "  'labels_img': '/home/aalbury/nilearn_data/basc_multiscale_2015/template_cambridge_basc_multiscale_nii_sym/template_cambridge_basc_multiscale_sym_scale064.nii.gz',\n",
      "  'low_pass': None,\n",
      "  'mask_img': None,\n",
      "  'smoothing_fwhm': None,\n",
      "  'standardize': True,\n",
      "  'strategy': 'mean',\n",
      "  't_r': None,\n",
      "  'target_affine': None,\n",
      "  'target_shape': None}, confounds='/home/aalbury/nilearn_data/cobre/fmri_0040085.tsv', dtype=None, memory=Memory(location=nilearn_cache/joblib), memory_level=1, verbose=1)\n",
      "[NiftiLabelsMasker.transform_single_imgs] Loading data from /home/aalbury/nilearn_data/cobre/fmri_0040085.nii.gz\n",
      "[NiftiLabelsMasker.transform_single_imgs] Extracting region signals\n"
     ]
    },
    {
     "name": "stdout",
     "output_type": "stream",
     "text": [
      "[NiftiLabelsMasker.transform_single_imgs] Cleaning extracted signals\n",
      "_______________________________________________filter_and_extract - 0.3s, 0.0min\n",
      "finished 10 of 146\n",
      "[NiftiLabelsMasker.fit_transform] loading data from /home/aalbury/nilearn_data/basc_multiscale_2015/template_cambridge_basc_multiscale_nii_sym/template_cambridge_basc_multiscale_sym_scale064.nii.gz\n",
      "________________________________________________________________________________\n",
      "[Memory] Calling nilearn.input_data.base_masker.filter_and_extract...\n",
      "filter_and_extract('/home/aalbury/nilearn_data/cobre/fmri_0040096.nii.gz', <nilearn.input_data.nifti_labels_masker._ExtractionFunctor object at 0x7f6ec3442ad0>, \n",
      "{ 'background_label': 0,\n",
      "  'detrend': False,\n",
      "  'dtype': None,\n",
      "  'high_pass': None,\n",
      "  'labels_img': '/home/aalbury/nilearn_data/basc_multiscale_2015/template_cambridge_basc_multiscale_nii_sym/template_cambridge_basc_multiscale_sym_scale064.nii.gz',\n",
      "  'low_pass': None,\n",
      "  'mask_img': None,\n",
      "  'smoothing_fwhm': None,\n",
      "  'standardize': True,\n",
      "  'strategy': 'mean',\n",
      "  't_r': None,\n",
      "  'target_affine': None,\n",
      "  'target_shape': None}, confounds='/home/aalbury/nilearn_data/cobre/fmri_0040096.tsv', dtype=None, memory=Memory(location=nilearn_cache/joblib), memory_level=1, verbose=1)\n",
      "[NiftiLabelsMasker.transform_single_imgs] Loading data from /home/aalbury/nilearn_data/cobre/fmri_0040096.nii.gz\n",
      "[NiftiLabelsMasker.transform_single_imgs] Extracting region signals\n",
      "[NiftiLabelsMasker.transform_single_imgs] Cleaning extracted signals\n",
      "_______________________________________________filter_and_extract - 0.3s, 0.0min\n",
      "finished 11 of 146\n",
      "[NiftiLabelsMasker.fit_transform] loading data from /home/aalbury/nilearn_data/basc_multiscale_2015/template_cambridge_basc_multiscale_nii_sym/template_cambridge_basc_multiscale_sym_scale064.nii.gz\n",
      "________________________________________________________________________________\n",
      "[Memory] Calling nilearn.input_data.base_masker.filter_and_extract...\n",
      "filter_and_extract('/home/aalbury/nilearn_data/cobre/fmri_0040122.nii.gz', <nilearn.input_data.nifti_labels_masker._ExtractionFunctor object at 0x7f6ed15dda10>, \n",
      "{ 'background_label': 0,\n",
      "  'detrend': False,\n",
      "  'dtype': None,\n",
      "  'high_pass': None,\n",
      "  'labels_img': '/home/aalbury/nilearn_data/basc_multiscale_2015/template_cambridge_basc_multiscale_nii_sym/template_cambridge_basc_multiscale_sym_scale064.nii.gz',\n",
      "  'low_pass': None,\n",
      "  'mask_img': None,\n",
      "  'smoothing_fwhm': None,\n",
      "  'standardize': True,\n",
      "  'strategy': 'mean',\n",
      "  't_r': None,\n",
      "  'target_affine': None,\n",
      "  'target_shape': None}, confounds='/home/aalbury/nilearn_data/cobre/fmri_0040122.tsv', dtype=None, memory=Memory(location=nilearn_cache/joblib), memory_level=1, verbose=1)\n",
      "[NiftiLabelsMasker.transform_single_imgs] Loading data from /home/aalbury/nilearn_data/cobre/fmri_0040122.nii.gz\n",
      "[NiftiLabelsMasker.transform_single_imgs] Extracting region signals\n",
      "[NiftiLabelsMasker.transform_single_imgs] Cleaning extracted signals\n",
      "_______________________________________________filter_and_extract - 0.3s, 0.0min\n",
      "finished 12 of 146\n",
      "[NiftiLabelsMasker.fit_transform] loading data from /home/aalbury/nilearn_data/basc_multiscale_2015/template_cambridge_basc_multiscale_nii_sym/template_cambridge_basc_multiscale_sym_scale064.nii.gz\n",
      "________________________________________________________________________________\n",
      "[Memory] Calling nilearn.input_data.base_masker.filter_and_extract...\n",
      "filter_and_extract('/home/aalbury/nilearn_data/cobre/fmri_0040022.nii.gz', <nilearn.input_data.nifti_labels_masker._ExtractionFunctor object at 0x7f6ec377e450>, \n",
      "{ 'background_label': 0,\n",
      "  'detrend': False,\n",
      "  'dtype': None,\n",
      "  'high_pass': None,\n",
      "  'labels_img': '/home/aalbury/nilearn_data/basc_multiscale_2015/template_cambridge_basc_multiscale_nii_sym/template_cambridge_basc_multiscale_sym_scale064.nii.gz',\n",
      "  'low_pass': None,\n",
      "  'mask_img': None,\n",
      "  'smoothing_fwhm': None,\n",
      "  'standardize': True,\n",
      "  'strategy': 'mean',\n",
      "  't_r': None,\n",
      "  'target_affine': None,\n",
      "  'target_shape': None}, confounds='/home/aalbury/nilearn_data/cobre/fmri_0040022.tsv', dtype=None, memory=Memory(location=nilearn_cache/joblib), memory_level=1, verbose=1)\n",
      "[NiftiLabelsMasker.transform_single_imgs] Loading data from /home/aalbury/nilearn_data/cobre/fmri_0040022.nii.gz\n",
      "[NiftiLabelsMasker.transform_single_imgs] Extracting region signals\n",
      "[NiftiLabelsMasker.transform_single_imgs] Cleaning extracted signals\n",
      "_______________________________________________filter_and_extract - 0.3s, 0.0min\n",
      "finished 13 of 146\n",
      "[NiftiLabelsMasker.fit_transform] loading data from /home/aalbury/nilearn_data/basc_multiscale_2015/template_cambridge_basc_multiscale_nii_sym/template_cambridge_basc_multiscale_sym_scale064.nii.gz\n",
      "________________________________________________________________________________\n",
      "[Memory] Calling nilearn.input_data.base_masker.filter_and_extract...\n",
      "filter_and_extract('/home/aalbury/nilearn_data/cobre/fmri_0040073.nii.gz', <nilearn.input_data.nifti_labels_masker._ExtractionFunctor object at 0x7f6ec37c8710>, \n",
      "{ 'background_label': 0,\n",
      "  'detrend': False,\n",
      "  'dtype': None,\n",
      "  'high_pass': None,\n",
      "  'labels_img': '/home/aalbury/nilearn_data/basc_multiscale_2015/template_cambridge_basc_multiscale_nii_sym/template_cambridge_basc_multiscale_sym_scale064.nii.gz',\n",
      "  'low_pass': None,\n",
      "  'mask_img': None,\n",
      "  'smoothing_fwhm': None,\n",
      "  'standardize': True,\n",
      "  'strategy': 'mean',\n",
      "  't_r': None,\n",
      "  'target_affine': None,\n",
      "  'target_shape': None}, confounds='/home/aalbury/nilearn_data/cobre/fmri_0040073.tsv', dtype=None, memory=Memory(location=nilearn_cache/joblib), memory_level=1, verbose=1)\n",
      "[NiftiLabelsMasker.transform_single_imgs] Loading data from /home/aalbury/nilearn_data/cobre/fmri_0040073.nii.gz\n",
      "[NiftiLabelsMasker.transform_single_imgs] Extracting region signals\n",
      "[NiftiLabelsMasker.transform_single_imgs] Cleaning extracted signals\n",
      "_______________________________________________filter_and_extract - 0.3s, 0.0min\n",
      "finished 14 of 146\n",
      "[NiftiLabelsMasker.fit_transform] loading data from /home/aalbury/nilearn_data/basc_multiscale_2015/template_cambridge_basc_multiscale_nii_sym/template_cambridge_basc_multiscale_sym_scale064.nii.gz\n",
      "________________________________________________________________________________\n",
      "[Memory] Calling nilearn.input_data.base_masker.filter_and_extract...\n",
      "filter_and_extract('/home/aalbury/nilearn_data/cobre/fmri_0040142.nii.gz', <nilearn.input_data.nifti_labels_masker._ExtractionFunctor object at 0x7f6ec371dd10>, \n",
      "{ 'background_label': 0,\n",
      "  'detrend': False,\n",
      "  'dtype': None,\n",
      "  'high_pass': None,\n",
      "  'labels_img': '/home/aalbury/nilearn_data/basc_multiscale_2015/template_cambridge_basc_multiscale_nii_sym/template_cambridge_basc_multiscale_sym_scale064.nii.gz',\n",
      "  'low_pass': None,\n",
      "  'mask_img': None,\n",
      "  'smoothing_fwhm': None,\n",
      "  'standardize': True,\n",
      "  'strategy': 'mean',\n",
      "  't_r': None,\n",
      "  'target_affine': None,\n",
      "  'target_shape': None}, confounds='/home/aalbury/nilearn_data/cobre/fmri_0040142.tsv', dtype=None, memory=Memory(location=nilearn_cache/joblib), memory_level=1, verbose=1)\n",
      "[NiftiLabelsMasker.transform_single_imgs] Loading data from /home/aalbury/nilearn_data/cobre/fmri_0040142.nii.gz\n",
      "[NiftiLabelsMasker.transform_single_imgs] Extracting region signals\n",
      "[NiftiLabelsMasker.transform_single_imgs] Cleaning extracted signals\n",
      "_______________________________________________filter_and_extract - 0.4s, 0.0min\n",
      "finished 15 of 146\n",
      "[NiftiLabelsMasker.fit_transform] loading data from /home/aalbury/nilearn_data/basc_multiscale_2015/template_cambridge_basc_multiscale_nii_sym/template_cambridge_basc_multiscale_sym_scale064.nii.gz\n",
      "________________________________________________________________________________\n",
      "[Memory] Calling nilearn.input_data.base_masker.filter_and_extract...\n",
      "filter_and_extract('/home/aalbury/nilearn_data/cobre/fmri_0040037.nii.gz', <nilearn.input_data.nifti_labels_masker._ExtractionFunctor object at 0x7f6ec2d86710>, \n",
      "{ 'background_label': 0,\n",
      "  'detrend': False,\n",
      "  'dtype': None,\n",
      "  'high_pass': None,\n",
      "  'labels_img': '/home/aalbury/nilearn_data/basc_multiscale_2015/template_cambridge_basc_multiscale_nii_sym/template_cambridge_basc_multiscale_sym_scale064.nii.gz',\n",
      "  'low_pass': None,\n",
      "  'mask_img': None,\n",
      "  'smoothing_fwhm': None,\n",
      "  'standardize': True,\n",
      "  'strategy': 'mean',\n",
      "  't_r': None,\n",
      "  'target_affine': None,\n",
      "  'target_shape': None}, confounds='/home/aalbury/nilearn_data/cobre/fmri_0040037.tsv', dtype=None, memory=Memory(location=nilearn_cache/joblib), memory_level=1, verbose=1)\n",
      "[NiftiLabelsMasker.transform_single_imgs] Loading data from /home/aalbury/nilearn_data/cobre/fmri_0040037.nii.gz\n",
      "[NiftiLabelsMasker.transform_single_imgs] Extracting region signals\n"
     ]
    },
    {
     "name": "stdout",
     "output_type": "stream",
     "text": [
      "[NiftiLabelsMasker.transform_single_imgs] Cleaning extracted signals\n",
      "_______________________________________________filter_and_extract - 0.3s, 0.0min\n",
      "finished 16 of 146\n",
      "[NiftiLabelsMasker.fit_transform] loading data from /home/aalbury/nilearn_data/basc_multiscale_2015/template_cambridge_basc_multiscale_nii_sym/template_cambridge_basc_multiscale_sym_scale064.nii.gz\n",
      "________________________________________________________________________________\n",
      "[Memory] Calling nilearn.input_data.base_masker.filter_and_extract...\n",
      "filter_and_extract('/home/aalbury/nilearn_data/cobre/fmri_0040059.nii.gz', <nilearn.input_data.nifti_labels_masker._ExtractionFunctor object at 0x7f6ec37751d0>, \n",
      "{ 'background_label': 0,\n",
      "  'detrend': False,\n",
      "  'dtype': None,\n",
      "  'high_pass': None,\n",
      "  'labels_img': '/home/aalbury/nilearn_data/basc_multiscale_2015/template_cambridge_basc_multiscale_nii_sym/template_cambridge_basc_multiscale_sym_scale064.nii.gz',\n",
      "  'low_pass': None,\n",
      "  'mask_img': None,\n",
      "  'smoothing_fwhm': None,\n",
      "  'standardize': True,\n",
      "  'strategy': 'mean',\n",
      "  't_r': None,\n",
      "  'target_affine': None,\n",
      "  'target_shape': None}, confounds='/home/aalbury/nilearn_data/cobre/fmri_0040059.tsv', dtype=None, memory=Memory(location=nilearn_cache/joblib), memory_level=1, verbose=1)\n",
      "[NiftiLabelsMasker.transform_single_imgs] Loading data from /home/aalbury/nilearn_data/cobre/fmri_0040059.nii.gz\n",
      "[NiftiLabelsMasker.transform_single_imgs] Extracting region signals\n",
      "[NiftiLabelsMasker.transform_single_imgs] Cleaning extracted signals\n",
      "_______________________________________________filter_and_extract - 0.3s, 0.0min\n",
      "finished 17 of 146\n",
      "[NiftiLabelsMasker.fit_transform] loading data from /home/aalbury/nilearn_data/basc_multiscale_2015/template_cambridge_basc_multiscale_nii_sym/template_cambridge_basc_multiscale_sym_scale064.nii.gz\n",
      "________________________________________________________________________________\n",
      "[Memory] Calling nilearn.input_data.base_masker.filter_and_extract...\n",
      "filter_and_extract('/home/aalbury/nilearn_data/cobre/fmri_0040072.nii.gz', <nilearn.input_data.nifti_labels_masker._ExtractionFunctor object at 0x7f6ec2dbd8d0>, \n",
      "{ 'background_label': 0,\n",
      "  'detrend': False,\n",
      "  'dtype': None,\n",
      "  'high_pass': None,\n",
      "  'labels_img': '/home/aalbury/nilearn_data/basc_multiscale_2015/template_cambridge_basc_multiscale_nii_sym/template_cambridge_basc_multiscale_sym_scale064.nii.gz',\n",
      "  'low_pass': None,\n",
      "  'mask_img': None,\n",
      "  'smoothing_fwhm': None,\n",
      "  'standardize': True,\n",
      "  'strategy': 'mean',\n",
      "  't_r': None,\n",
      "  'target_affine': None,\n",
      "  'target_shape': None}, confounds='/home/aalbury/nilearn_data/cobre/fmri_0040072.tsv', dtype=None, memory=Memory(location=nilearn_cache/joblib), memory_level=1, verbose=1)\n",
      "[NiftiLabelsMasker.transform_single_imgs] Loading data from /home/aalbury/nilearn_data/cobre/fmri_0040072.nii.gz\n",
      "[NiftiLabelsMasker.transform_single_imgs] Extracting region signals\n",
      "[NiftiLabelsMasker.transform_single_imgs] Cleaning extracted signals\n",
      "_______________________________________________filter_and_extract - 0.3s, 0.0min\n",
      "finished 18 of 146\n",
      "[NiftiLabelsMasker.fit_transform] loading data from /home/aalbury/nilearn_data/basc_multiscale_2015/template_cambridge_basc_multiscale_nii_sym/template_cambridge_basc_multiscale_sym_scale064.nii.gz\n",
      "________________________________________________________________________________\n",
      "[Memory] Calling nilearn.input_data.base_masker.filter_and_extract...\n",
      "filter_and_extract('/home/aalbury/nilearn_data/cobre/fmri_0040079.nii.gz', <nilearn.input_data.nifti_labels_masker._ExtractionFunctor object at 0x7f6ec2dbd8d0>, \n",
      "{ 'background_label': 0,\n",
      "  'detrend': False,\n",
      "  'dtype': None,\n",
      "  'high_pass': None,\n",
      "  'labels_img': '/home/aalbury/nilearn_data/basc_multiscale_2015/template_cambridge_basc_multiscale_nii_sym/template_cambridge_basc_multiscale_sym_scale064.nii.gz',\n",
      "  'low_pass': None,\n",
      "  'mask_img': None,\n",
      "  'smoothing_fwhm': None,\n",
      "  'standardize': True,\n",
      "  'strategy': 'mean',\n",
      "  't_r': None,\n",
      "  'target_affine': None,\n",
      "  'target_shape': None}, confounds='/home/aalbury/nilearn_data/cobre/fmri_0040079.tsv', dtype=None, memory=Memory(location=nilearn_cache/joblib), memory_level=1, verbose=1)\n",
      "[NiftiLabelsMasker.transform_single_imgs] Loading data from /home/aalbury/nilearn_data/cobre/fmri_0040079.nii.gz\n",
      "[NiftiLabelsMasker.transform_single_imgs] Extracting region signals\n",
      "[NiftiLabelsMasker.transform_single_imgs] Cleaning extracted signals\n",
      "_______________________________________________filter_and_extract - 0.3s, 0.0min\n",
      "finished 19 of 146\n",
      "[NiftiLabelsMasker.fit_transform] loading data from /home/aalbury/nilearn_data/basc_multiscale_2015/template_cambridge_basc_multiscale_nii_sym/template_cambridge_basc_multiscale_sym_scale064.nii.gz\n",
      "________________________________________________________________________________\n",
      "[Memory] Calling nilearn.input_data.base_masker.filter_and_extract...\n",
      "filter_and_extract('/home/aalbury/nilearn_data/cobre/fmri_0040080.nii.gz', <nilearn.input_data.nifti_labels_masker._ExtractionFunctor object at 0x7f6ec32468d0>, \n",
      "{ 'background_label': 0,\n",
      "  'detrend': False,\n",
      "  'dtype': None,\n",
      "  'high_pass': None,\n",
      "  'labels_img': '/home/aalbury/nilearn_data/basc_multiscale_2015/template_cambridge_basc_multiscale_nii_sym/template_cambridge_basc_multiscale_sym_scale064.nii.gz',\n",
      "  'low_pass': None,\n",
      "  'mask_img': None,\n",
      "  'smoothing_fwhm': None,\n",
      "  'standardize': True,\n",
      "  'strategy': 'mean',\n",
      "  't_r': None,\n",
      "  'target_affine': None,\n",
      "  'target_shape': None}, confounds='/home/aalbury/nilearn_data/cobre/fmri_0040080.tsv', dtype=None, memory=Memory(location=nilearn_cache/joblib), memory_level=1, verbose=1)\n",
      "[NiftiLabelsMasker.transform_single_imgs] Loading data from /home/aalbury/nilearn_data/cobre/fmri_0040080.nii.gz\n",
      "[NiftiLabelsMasker.transform_single_imgs] Extracting region signals\n",
      "[NiftiLabelsMasker.transform_single_imgs] Cleaning extracted signals\n",
      "_______________________________________________filter_and_extract - 0.3s, 0.0min\n",
      "finished 20 of 146\n",
      "[NiftiLabelsMasker.fit_transform] loading data from /home/aalbury/nilearn_data/basc_multiscale_2015/template_cambridge_basc_multiscale_nii_sym/template_cambridge_basc_multiscale_sym_scale064.nii.gz\n",
      "________________________________________________________________________________\n",
      "[Memory] Calling nilearn.input_data.base_masker.filter_and_extract...\n",
      "filter_and_extract('/home/aalbury/nilearn_data/cobre/fmri_0040001.nii.gz', <nilearn.input_data.nifti_labels_masker._ExtractionFunctor object at 0x7f6ec320b1d0>, \n",
      "{ 'background_label': 0,\n",
      "  'detrend': False,\n",
      "  'dtype': None,\n",
      "  'high_pass': None,\n",
      "  'labels_img': '/home/aalbury/nilearn_data/basc_multiscale_2015/template_cambridge_basc_multiscale_nii_sym/template_cambridge_basc_multiscale_sym_scale064.nii.gz',\n",
      "  'low_pass': None,\n",
      "  'mask_img': None,\n",
      "  'smoothing_fwhm': None,\n",
      "  'standardize': True,\n",
      "  'strategy': 'mean',\n",
      "  't_r': None,\n",
      "  'target_affine': None,\n",
      "  'target_shape': None}, confounds='/home/aalbury/nilearn_data/cobre/fmri_0040001.tsv', dtype=None, memory=Memory(location=nilearn_cache/joblib), memory_level=1, verbose=1)\n",
      "[NiftiLabelsMasker.transform_single_imgs] Loading data from /home/aalbury/nilearn_data/cobre/fmri_0040001.nii.gz\n",
      "[NiftiLabelsMasker.transform_single_imgs] Extracting region signals\n",
      "[NiftiLabelsMasker.transform_single_imgs] Cleaning extracted signals\n",
      "_______________________________________________filter_and_extract - 0.3s, 0.0min\n",
      "finished 21 of 146\n",
      "[NiftiLabelsMasker.fit_transform] loading data from /home/aalbury/nilearn_data/basc_multiscale_2015/template_cambridge_basc_multiscale_nii_sym/template_cambridge_basc_multiscale_sym_scale064.nii.gz\n",
      "________________________________________________________________________________\n",
      "[Memory] Calling nilearn.input_data.base_masker.filter_and_extract...\n",
      "filter_and_extract('/home/aalbury/nilearn_data/cobre/fmri_0040003.nii.gz', <nilearn.input_data.nifti_labels_masker._ExtractionFunctor object at 0x7f6ec37751d0>, \n",
      "{ 'background_label': 0,\n",
      "  'detrend': False,\n",
      "  'dtype': None,\n",
      "  'high_pass': None,\n",
      "  'labels_img': '/home/aalbury/nilearn_data/basc_multiscale_2015/template_cambridge_basc_multiscale_nii_sym/template_cambridge_basc_multiscale_sym_scale064.nii.gz',\n",
      "  'low_pass': None,\n",
      "  'mask_img': None,\n",
      "  'smoothing_fwhm': None,\n",
      "  'standardize': True,\n",
      "  'strategy': 'mean',\n",
      "  't_r': None,\n",
      "  'target_affine': None,\n",
      "  'target_shape': None}, confounds='/home/aalbury/nilearn_data/cobre/fmri_0040003.tsv', dtype=None, memory=Memory(location=nilearn_cache/joblib), memory_level=1, verbose=1)\n",
      "[NiftiLabelsMasker.transform_single_imgs] Loading data from /home/aalbury/nilearn_data/cobre/fmri_0040003.nii.gz\n",
      "[NiftiLabelsMasker.transform_single_imgs] Extracting region signals\n"
     ]
    },
    {
     "name": "stdout",
     "output_type": "stream",
     "text": [
      "[NiftiLabelsMasker.transform_single_imgs] Cleaning extracted signals\n",
      "_______________________________________________filter_and_extract - 0.3s, 0.0min\n",
      "finished 22 of 146\n",
      "[NiftiLabelsMasker.fit_transform] loading data from /home/aalbury/nilearn_data/basc_multiscale_2015/template_cambridge_basc_multiscale_nii_sym/template_cambridge_basc_multiscale_sym_scale064.nii.gz\n",
      "________________________________________________________________________________\n",
      "[Memory] Calling nilearn.input_data.base_masker.filter_and_extract...\n",
      "filter_and_extract('/home/aalbury/nilearn_data/cobre/fmri_0040008.nii.gz', <nilearn.input_data.nifti_labels_masker._ExtractionFunctor object at 0x7f6ed1476610>, \n",
      "{ 'background_label': 0,\n",
      "  'detrend': False,\n",
      "  'dtype': None,\n",
      "  'high_pass': None,\n",
      "  'labels_img': '/home/aalbury/nilearn_data/basc_multiscale_2015/template_cambridge_basc_multiscale_nii_sym/template_cambridge_basc_multiscale_sym_scale064.nii.gz',\n",
      "  'low_pass': None,\n",
      "  'mask_img': None,\n",
      "  'smoothing_fwhm': None,\n",
      "  'standardize': True,\n",
      "  'strategy': 'mean',\n",
      "  't_r': None,\n",
      "  'target_affine': None,\n",
      "  'target_shape': None}, confounds='/home/aalbury/nilearn_data/cobre/fmri_0040008.tsv', dtype=None, memory=Memory(location=nilearn_cache/joblib), memory_level=1, verbose=1)\n",
      "[NiftiLabelsMasker.transform_single_imgs] Loading data from /home/aalbury/nilearn_data/cobre/fmri_0040008.nii.gz\n",
      "[NiftiLabelsMasker.transform_single_imgs] Extracting region signals\n",
      "[NiftiLabelsMasker.transform_single_imgs] Cleaning extracted signals\n",
      "_______________________________________________filter_and_extract - 0.3s, 0.0min\n",
      "finished 23 of 146\n",
      "[NiftiLabelsMasker.fit_transform] loading data from /home/aalbury/nilearn_data/basc_multiscale_2015/template_cambridge_basc_multiscale_nii_sym/template_cambridge_basc_multiscale_sym_scale064.nii.gz\n",
      "________________________________________________________________________________\n",
      "[Memory] Calling nilearn.input_data.base_masker.filter_and_extract...\n",
      "filter_and_extract('/home/aalbury/nilearn_data/cobre/fmri_0040011.nii.gz', <nilearn.input_data.nifti_labels_masker._ExtractionFunctor object at 0x7f6ed1476610>, \n",
      "{ 'background_label': 0,\n",
      "  'detrend': False,\n",
      "  'dtype': None,\n",
      "  'high_pass': None,\n",
      "  'labels_img': '/home/aalbury/nilearn_data/basc_multiscale_2015/template_cambridge_basc_multiscale_nii_sym/template_cambridge_basc_multiscale_sym_scale064.nii.gz',\n",
      "  'low_pass': None,\n",
      "  'mask_img': None,\n",
      "  'smoothing_fwhm': None,\n",
      "  'standardize': True,\n",
      "  'strategy': 'mean',\n",
      "  't_r': None,\n",
      "  'target_affine': None,\n",
      "  'target_shape': None}, confounds='/home/aalbury/nilearn_data/cobre/fmri_0040011.tsv', dtype=None, memory=Memory(location=nilearn_cache/joblib), memory_level=1, verbose=1)\n",
      "[NiftiLabelsMasker.transform_single_imgs] Loading data from /home/aalbury/nilearn_data/cobre/fmri_0040011.nii.gz\n",
      "[NiftiLabelsMasker.transform_single_imgs] Extracting region signals\n",
      "[NiftiLabelsMasker.transform_single_imgs] Cleaning extracted signals\n",
      "_______________________________________________filter_and_extract - 0.3s, 0.0min\n",
      "finished 24 of 146\n",
      "[NiftiLabelsMasker.fit_transform] loading data from /home/aalbury/nilearn_data/basc_multiscale_2015/template_cambridge_basc_multiscale_nii_sym/template_cambridge_basc_multiscale_sym_scale064.nii.gz\n",
      "________________________________________________________________________________\n",
      "[Memory] Calling nilearn.input_data.base_masker.filter_and_extract...\n",
      "filter_and_extract('/home/aalbury/nilearn_data/cobre/fmri_0040077.nii.gz', <nilearn.input_data.nifti_labels_masker._ExtractionFunctor object at 0x7f6ed008fc90>, \n",
      "{ 'background_label': 0,\n",
      "  'detrend': False,\n",
      "  'dtype': None,\n",
      "  'high_pass': None,\n",
      "  'labels_img': '/home/aalbury/nilearn_data/basc_multiscale_2015/template_cambridge_basc_multiscale_nii_sym/template_cambridge_basc_multiscale_sym_scale064.nii.gz',\n",
      "  'low_pass': None,\n",
      "  'mask_img': None,\n",
      "  'smoothing_fwhm': None,\n",
      "  'standardize': True,\n",
      "  'strategy': 'mean',\n",
      "  't_r': None,\n",
      "  'target_affine': None,\n",
      "  'target_shape': None}, confounds='/home/aalbury/nilearn_data/cobre/fmri_0040077.tsv', dtype=None, memory=Memory(location=nilearn_cache/joblib), memory_level=1, verbose=1)\n",
      "[NiftiLabelsMasker.transform_single_imgs] Loading data from /home/aalbury/nilearn_data/cobre/fmri_0040077.nii.gz\n",
      "[NiftiLabelsMasker.transform_single_imgs] Extracting region signals\n",
      "[NiftiLabelsMasker.transform_single_imgs] Cleaning extracted signals\n",
      "_______________________________________________filter_and_extract - 0.3s, 0.0min\n",
      "finished 25 of 146\n",
      "[NiftiLabelsMasker.fit_transform] loading data from /home/aalbury/nilearn_data/basc_multiscale_2015/template_cambridge_basc_multiscale_nii_sym/template_cambridge_basc_multiscale_sym_scale064.nii.gz\n",
      "________________________________________________________________________________\n",
      "[Memory] Calling nilearn.input_data.base_masker.filter_and_extract...\n",
      "filter_and_extract('/home/aalbury/nilearn_data/cobre/fmri_0040034.nii.gz', <nilearn.input_data.nifti_labels_masker._ExtractionFunctor object at 0x7f6ec2d9d5d0>, \n",
      "{ 'background_label': 0,\n",
      "  'detrend': False,\n",
      "  'dtype': None,\n",
      "  'high_pass': None,\n",
      "  'labels_img': '/home/aalbury/nilearn_data/basc_multiscale_2015/template_cambridge_basc_multiscale_nii_sym/template_cambridge_basc_multiscale_sym_scale064.nii.gz',\n",
      "  'low_pass': None,\n",
      "  'mask_img': None,\n",
      "  'smoothing_fwhm': None,\n",
      "  'standardize': True,\n",
      "  'strategy': 'mean',\n",
      "  't_r': None,\n",
      "  'target_affine': None,\n",
      "  'target_shape': None}, confounds='/home/aalbury/nilearn_data/cobre/fmri_0040034.tsv', dtype=None, memory=Memory(location=nilearn_cache/joblib), memory_level=1, verbose=1)\n",
      "[NiftiLabelsMasker.transform_single_imgs] Loading data from /home/aalbury/nilearn_data/cobre/fmri_0040034.nii.gz\n",
      "[NiftiLabelsMasker.transform_single_imgs] Extracting region signals\n",
      "[NiftiLabelsMasker.transform_single_imgs] Cleaning extracted signals\n",
      "_______________________________________________filter_and_extract - 0.3s, 0.0min\n",
      "finished 26 of 146\n",
      "[NiftiLabelsMasker.fit_transform] loading data from /home/aalbury/nilearn_data/basc_multiscale_2015/template_cambridge_basc_multiscale_nii_sym/template_cambridge_basc_multiscale_sym_scale064.nii.gz\n",
      "________________________________________________________________________________\n",
      "[Memory] Calling nilearn.input_data.base_masker.filter_and_extract...\n",
      "filter_and_extract('/home/aalbury/nilearn_data/cobre/fmri_0040108.nii.gz', <nilearn.input_data.nifti_labels_masker._ExtractionFunctor object at 0x7f6ec2da9650>, \n",
      "{ 'background_label': 0,\n",
      "  'detrend': False,\n",
      "  'dtype': None,\n",
      "  'high_pass': None,\n",
      "  'labels_img': '/home/aalbury/nilearn_data/basc_multiscale_2015/template_cambridge_basc_multiscale_nii_sym/template_cambridge_basc_multiscale_sym_scale064.nii.gz',\n",
      "  'low_pass': None,\n",
      "  'mask_img': None,\n",
      "  'smoothing_fwhm': None,\n",
      "  'standardize': True,\n",
      "  'strategy': 'mean',\n",
      "  't_r': None,\n",
      "  'target_affine': None,\n",
      "  'target_shape': None}, confounds='/home/aalbury/nilearn_data/cobre/fmri_0040108.tsv', dtype=None, memory=Memory(location=nilearn_cache/joblib), memory_level=1, verbose=1)\n",
      "[NiftiLabelsMasker.transform_single_imgs] Loading data from /home/aalbury/nilearn_data/cobre/fmri_0040108.nii.gz\n",
      "[NiftiLabelsMasker.transform_single_imgs] Extracting region signals\n",
      "[NiftiLabelsMasker.transform_single_imgs] Cleaning extracted signals\n",
      "_______________________________________________filter_and_extract - 0.3s, 0.0min\n",
      "finished 27 of 146\n",
      "[NiftiLabelsMasker.fit_transform] loading data from /home/aalbury/nilearn_data/basc_multiscale_2015/template_cambridge_basc_multiscale_nii_sym/template_cambridge_basc_multiscale_sym_scale064.nii.gz\n",
      "________________________________________________________________________________\n",
      "[Memory] Calling nilearn.input_data.base_masker.filter_and_extract...\n",
      "filter_and_extract('/home/aalbury/nilearn_data/cobre/fmri_0040009.nii.gz', <nilearn.input_data.nifti_labels_masker._ExtractionFunctor object at 0x7f6ed1481310>, \n",
      "{ 'background_label': 0,\n",
      "  'detrend': False,\n",
      "  'dtype': None,\n",
      "  'high_pass': None,\n",
      "  'labels_img': '/home/aalbury/nilearn_data/basc_multiscale_2015/template_cambridge_basc_multiscale_nii_sym/template_cambridge_basc_multiscale_sym_scale064.nii.gz',\n",
      "  'low_pass': None,\n",
      "  'mask_img': None,\n",
      "  'smoothing_fwhm': None,\n",
      "  'standardize': True,\n",
      "  'strategy': 'mean',\n",
      "  't_r': None,\n",
      "  'target_affine': None,\n",
      "  'target_shape': None}, confounds='/home/aalbury/nilearn_data/cobre/fmri_0040009.tsv', dtype=None, memory=Memory(location=nilearn_cache/joblib), memory_level=1, verbose=1)\n",
      "[NiftiLabelsMasker.transform_single_imgs] Loading data from /home/aalbury/nilearn_data/cobre/fmri_0040009.nii.gz\n",
      "[NiftiLabelsMasker.transform_single_imgs] Extracting region signals\n"
     ]
    },
    {
     "name": "stdout",
     "output_type": "stream",
     "text": [
      "[NiftiLabelsMasker.transform_single_imgs] Cleaning extracted signals\n",
      "_______________________________________________filter_and_extract - 0.3s, 0.0min\n",
      "finished 28 of 146\n",
      "[NiftiLabelsMasker.fit_transform] loading data from /home/aalbury/nilearn_data/basc_multiscale_2015/template_cambridge_basc_multiscale_nii_sym/template_cambridge_basc_multiscale_sym_scale064.nii.gz\n",
      "________________________________________________________________________________\n",
      "[Memory] Calling nilearn.input_data.base_masker.filter_and_extract...\n",
      "filter_and_extract('/home/aalbury/nilearn_data/cobre/fmri_0040032.nii.gz', <nilearn.input_data.nifti_labels_masker._ExtractionFunctor object at 0x7f6ec361ab90>, \n",
      "{ 'background_label': 0,\n",
      "  'detrend': False,\n",
      "  'dtype': None,\n",
      "  'high_pass': None,\n",
      "  'labels_img': '/home/aalbury/nilearn_data/basc_multiscale_2015/template_cambridge_basc_multiscale_nii_sym/template_cambridge_basc_multiscale_sym_scale064.nii.gz',\n",
      "  'low_pass': None,\n",
      "  'mask_img': None,\n",
      "  'smoothing_fwhm': None,\n",
      "  'standardize': True,\n",
      "  'strategy': 'mean',\n",
      "  't_r': None,\n",
      "  'target_affine': None,\n",
      "  'target_shape': None}, confounds='/home/aalbury/nilearn_data/cobre/fmri_0040032.tsv', dtype=None, memory=Memory(location=nilearn_cache/joblib), memory_level=1, verbose=1)\n",
      "[NiftiLabelsMasker.transform_single_imgs] Loading data from /home/aalbury/nilearn_data/cobre/fmri_0040032.nii.gz\n",
      "[NiftiLabelsMasker.transform_single_imgs] Extracting region signals\n",
      "[NiftiLabelsMasker.transform_single_imgs] Cleaning extracted signals\n",
      "_______________________________________________filter_and_extract - 0.3s, 0.0min\n",
      "finished 29 of 146\n",
      "[NiftiLabelsMasker.fit_transform] loading data from /home/aalbury/nilearn_data/basc_multiscale_2015/template_cambridge_basc_multiscale_nii_sym/template_cambridge_basc_multiscale_sym_scale064.nii.gz\n",
      "________________________________________________________________________________\n",
      "[Memory] Calling nilearn.input_data.base_masker.filter_and_extract...\n",
      "filter_and_extract('/home/aalbury/nilearn_data/cobre/fmri_0040012.nii.gz', <nilearn.input_data.nifti_labels_masker._ExtractionFunctor object at 0x7f6ed1e20d10>, \n",
      "{ 'background_label': 0,\n",
      "  'detrend': False,\n",
      "  'dtype': None,\n",
      "  'high_pass': None,\n",
      "  'labels_img': '/home/aalbury/nilearn_data/basc_multiscale_2015/template_cambridge_basc_multiscale_nii_sym/template_cambridge_basc_multiscale_sym_scale064.nii.gz',\n",
      "  'low_pass': None,\n",
      "  'mask_img': None,\n",
      "  'smoothing_fwhm': None,\n",
      "  'standardize': True,\n",
      "  'strategy': 'mean',\n",
      "  't_r': None,\n",
      "  'target_affine': None,\n",
      "  'target_shape': None}, confounds='/home/aalbury/nilearn_data/cobre/fmri_0040012.tsv', dtype=None, memory=Memory(location=nilearn_cache/joblib), memory_level=1, verbose=1)\n",
      "[NiftiLabelsMasker.transform_single_imgs] Loading data from /home/aalbury/nilearn_data/cobre/fmri_0040012.nii.gz\n",
      "[NiftiLabelsMasker.transform_single_imgs] Extracting region signals\n",
      "[NiftiLabelsMasker.transform_single_imgs] Cleaning extracted signals\n",
      "_______________________________________________filter_and_extract - 0.3s, 0.0min\n",
      "finished 30 of 146\n",
      "[NiftiLabelsMasker.fit_transform] loading data from /home/aalbury/nilearn_data/basc_multiscale_2015/template_cambridge_basc_multiscale_nii_sym/template_cambridge_basc_multiscale_sym_scale064.nii.gz\n",
      "________________________________________________________________________________\n",
      "[Memory] Calling nilearn.input_data.base_masker.filter_and_extract...\n",
      "filter_and_extract('/home/aalbury/nilearn_data/cobre/fmri_0040025.nii.gz', <nilearn.input_data.nifti_labels_masker._ExtractionFunctor object at 0x7f6ed3893d50>, \n",
      "{ 'background_label': 0,\n",
      "  'detrend': False,\n",
      "  'dtype': None,\n",
      "  'high_pass': None,\n",
      "  'labels_img': '/home/aalbury/nilearn_data/basc_multiscale_2015/template_cambridge_basc_multiscale_nii_sym/template_cambridge_basc_multiscale_sym_scale064.nii.gz',\n",
      "  'low_pass': None,\n",
      "  'mask_img': None,\n",
      "  'smoothing_fwhm': None,\n",
      "  'standardize': True,\n",
      "  'strategy': 'mean',\n",
      "  't_r': None,\n",
      "  'target_affine': None,\n",
      "  'target_shape': None}, confounds='/home/aalbury/nilearn_data/cobre/fmri_0040025.tsv', dtype=None, memory=Memory(location=nilearn_cache/joblib), memory_level=1, verbose=1)\n",
      "[NiftiLabelsMasker.transform_single_imgs] Loading data from /home/aalbury/nilearn_data/cobre/fmri_0040025.nii.gz\n",
      "[NiftiLabelsMasker.transform_single_imgs] Extracting region signals\n",
      "[NiftiLabelsMasker.transform_single_imgs] Cleaning extracted signals\n",
      "_______________________________________________filter_and_extract - 0.3s, 0.0min\n",
      "finished 31 of 146\n",
      "[NiftiLabelsMasker.fit_transform] loading data from /home/aalbury/nilearn_data/basc_multiscale_2015/template_cambridge_basc_multiscale_nii_sym/template_cambridge_basc_multiscale_sym_scale064.nii.gz\n",
      "________________________________________________________________________________\n",
      "[Memory] Calling nilearn.input_data.base_masker.filter_and_extract...\n",
      "filter_and_extract('/home/aalbury/nilearn_data/cobre/fmri_0040088.nii.gz', <nilearn.input_data.nifti_labels_masker._ExtractionFunctor object at 0x7f6ec322cf90>, \n",
      "{ 'background_label': 0,\n",
      "  'detrend': False,\n",
      "  'dtype': None,\n",
      "  'high_pass': None,\n",
      "  'labels_img': '/home/aalbury/nilearn_data/basc_multiscale_2015/template_cambridge_basc_multiscale_nii_sym/template_cambridge_basc_multiscale_sym_scale064.nii.gz',\n",
      "  'low_pass': None,\n",
      "  'mask_img': None,\n",
      "  'smoothing_fwhm': None,\n",
      "  'standardize': True,\n",
      "  'strategy': 'mean',\n",
      "  't_r': None,\n",
      "  'target_affine': None,\n",
      "  'target_shape': None}, confounds='/home/aalbury/nilearn_data/cobre/fmri_0040088.tsv', dtype=None, memory=Memory(location=nilearn_cache/joblib), memory_level=1, verbose=1)\n",
      "[NiftiLabelsMasker.transform_single_imgs] Loading data from /home/aalbury/nilearn_data/cobre/fmri_0040088.nii.gz\n",
      "[NiftiLabelsMasker.transform_single_imgs] Extracting region signals\n",
      "[NiftiLabelsMasker.transform_single_imgs] Cleaning extracted signals\n",
      "_______________________________________________filter_and_extract - 0.3s, 0.0min\n",
      "finished 32 of 146\n",
      "[NiftiLabelsMasker.fit_transform] loading data from /home/aalbury/nilearn_data/basc_multiscale_2015/template_cambridge_basc_multiscale_nii_sym/template_cambridge_basc_multiscale_sym_scale064.nii.gz\n",
      "________________________________________________________________________________\n",
      "[Memory] Calling nilearn.input_data.base_masker.filter_and_extract...\n",
      "filter_and_extract('/home/aalbury/nilearn_data/cobre/fmri_0040109.nii.gz', <nilearn.input_data.nifti_labels_masker._ExtractionFunctor object at 0x7f6ec3242d50>, \n",
      "{ 'background_label': 0,\n",
      "  'detrend': False,\n",
      "  'dtype': None,\n",
      "  'high_pass': None,\n",
      "  'labels_img': '/home/aalbury/nilearn_data/basc_multiscale_2015/template_cambridge_basc_multiscale_nii_sym/template_cambridge_basc_multiscale_sym_scale064.nii.gz',\n",
      "  'low_pass': None,\n",
      "  'mask_img': None,\n",
      "  'smoothing_fwhm': None,\n",
      "  'standardize': True,\n",
      "  'strategy': 'mean',\n",
      "  't_r': None,\n",
      "  'target_affine': None,\n",
      "  'target_shape': None}, confounds='/home/aalbury/nilearn_data/cobre/fmri_0040109.tsv', dtype=None, memory=Memory(location=nilearn_cache/joblib), memory_level=1, verbose=1)\n",
      "[NiftiLabelsMasker.transform_single_imgs] Loading data from /home/aalbury/nilearn_data/cobre/fmri_0040109.nii.gz\n",
      "[NiftiLabelsMasker.transform_single_imgs] Extracting region signals\n",
      "[NiftiLabelsMasker.transform_single_imgs] Cleaning extracted signals\n",
      "_______________________________________________filter_and_extract - 0.3s, 0.0min\n",
      "finished 33 of 146\n",
      "[NiftiLabelsMasker.fit_transform] loading data from /home/aalbury/nilearn_data/basc_multiscale_2015/template_cambridge_basc_multiscale_nii_sym/template_cambridge_basc_multiscale_sym_scale064.nii.gz\n",
      "________________________________________________________________________________\n",
      "[Memory] Calling nilearn.input_data.base_masker.filter_and_extract...\n",
      "filter_and_extract('/home/aalbury/nilearn_data/cobre/fmri_0040098.nii.gz', <nilearn.input_data.nifti_labels_masker._ExtractionFunctor object at 0x7f6ec2d9d510>, \n",
      "{ 'background_label': 0,\n",
      "  'detrend': False,\n",
      "  'dtype': None,\n",
      "  'high_pass': None,\n",
      "  'labels_img': '/home/aalbury/nilearn_data/basc_multiscale_2015/template_cambridge_basc_multiscale_nii_sym/template_cambridge_basc_multiscale_sym_scale064.nii.gz',\n",
      "  'low_pass': None,\n",
      "  'mask_img': None,\n",
      "  'smoothing_fwhm': None,\n",
      "  'standardize': True,\n",
      "  'strategy': 'mean',\n",
      "  't_r': None,\n",
      "  'target_affine': None,\n",
      "  'target_shape': None}, confounds='/home/aalbury/nilearn_data/cobre/fmri_0040098.tsv', dtype=None, memory=Memory(location=nilearn_cache/joblib), memory_level=1, verbose=1)\n",
      "[NiftiLabelsMasker.transform_single_imgs] Loading data from /home/aalbury/nilearn_data/cobre/fmri_0040098.nii.gz\n",
      "[NiftiLabelsMasker.transform_single_imgs] Extracting region signals\n"
     ]
    },
    {
     "name": "stdout",
     "output_type": "stream",
     "text": [
      "[NiftiLabelsMasker.transform_single_imgs] Cleaning extracted signals\n",
      "_______________________________________________filter_and_extract - 0.3s, 0.0min\n",
      "finished 34 of 146\n",
      "[NiftiLabelsMasker.fit_transform] loading data from /home/aalbury/nilearn_data/basc_multiscale_2015/template_cambridge_basc_multiscale_nii_sym/template_cambridge_basc_multiscale_sym_scale064.nii.gz\n",
      "________________________________________________________________________________\n",
      "[Memory] Calling nilearn.input_data.base_masker.filter_and_extract...\n",
      "filter_and_extract('/home/aalbury/nilearn_data/cobre/fmri_0040100.nii.gz', <nilearn.input_data.nifti_labels_masker._ExtractionFunctor object at 0x7f6ed15dda10>, \n",
      "{ 'background_label': 0,\n",
      "  'detrend': False,\n",
      "  'dtype': None,\n",
      "  'high_pass': None,\n",
      "  'labels_img': '/home/aalbury/nilearn_data/basc_multiscale_2015/template_cambridge_basc_multiscale_nii_sym/template_cambridge_basc_multiscale_sym_scale064.nii.gz',\n",
      "  'low_pass': None,\n",
      "  'mask_img': None,\n",
      "  'smoothing_fwhm': None,\n",
      "  'standardize': True,\n",
      "  'strategy': 'mean',\n",
      "  't_r': None,\n",
      "  'target_affine': None,\n",
      "  'target_shape': None}, confounds='/home/aalbury/nilearn_data/cobre/fmri_0040100.tsv', dtype=None, memory=Memory(location=nilearn_cache/joblib), memory_level=1, verbose=1)\n",
      "[NiftiLabelsMasker.transform_single_imgs] Loading data from /home/aalbury/nilearn_data/cobre/fmri_0040100.nii.gz\n",
      "[NiftiLabelsMasker.transform_single_imgs] Extracting region signals\n",
      "[NiftiLabelsMasker.transform_single_imgs] Cleaning extracted signals\n",
      "_______________________________________________filter_and_extract - 0.3s, 0.0min\n",
      "finished 35 of 146\n",
      "[NiftiLabelsMasker.fit_transform] loading data from /home/aalbury/nilearn_data/basc_multiscale_2015/template_cambridge_basc_multiscale_nii_sym/template_cambridge_basc_multiscale_sym_scale064.nii.gz\n",
      "________________________________________________________________________________\n",
      "[Memory] Calling nilearn.input_data.base_masker.filter_and_extract...\n",
      "filter_and_extract('/home/aalbury/nilearn_data/cobre/fmri_0040047.nii.gz', <nilearn.input_data.nifti_labels_masker._ExtractionFunctor object at 0x7f6ec2da9250>, \n",
      "{ 'background_label': 0,\n",
      "  'detrend': False,\n",
      "  'dtype': None,\n",
      "  'high_pass': None,\n",
      "  'labels_img': '/home/aalbury/nilearn_data/basc_multiscale_2015/template_cambridge_basc_multiscale_nii_sym/template_cambridge_basc_multiscale_sym_scale064.nii.gz',\n",
      "  'low_pass': None,\n",
      "  'mask_img': None,\n",
      "  'smoothing_fwhm': None,\n",
      "  'standardize': True,\n",
      "  'strategy': 'mean',\n",
      "  't_r': None,\n",
      "  'target_affine': None,\n",
      "  'target_shape': None}, confounds='/home/aalbury/nilearn_data/cobre/fmri_0040047.tsv', dtype=None, memory=Memory(location=nilearn_cache/joblib), memory_level=1, verbose=1)\n",
      "[NiftiLabelsMasker.transform_single_imgs] Loading data from /home/aalbury/nilearn_data/cobre/fmri_0040047.nii.gz\n",
      "[NiftiLabelsMasker.transform_single_imgs] Extracting region signals\n",
      "[NiftiLabelsMasker.transform_single_imgs] Cleaning extracted signals\n",
      "_______________________________________________filter_and_extract - 0.3s, 0.0min\n",
      "finished 36 of 146\n",
      "[NiftiLabelsMasker.fit_transform] loading data from /home/aalbury/nilearn_data/basc_multiscale_2015/template_cambridge_basc_multiscale_nii_sym/template_cambridge_basc_multiscale_sym_scale064.nii.gz\n",
      "________________________________________________________________________________\n",
      "[Memory] Calling nilearn.input_data.base_masker.filter_and_extract...\n",
      "filter_and_extract('/home/aalbury/nilearn_data/cobre/fmri_0040099.nii.gz', <nilearn.input_data.nifti_labels_masker._ExtractionFunctor object at 0x7f6ec32468d0>, \n",
      "{ 'background_label': 0,\n",
      "  'detrend': False,\n",
      "  'dtype': None,\n",
      "  'high_pass': None,\n",
      "  'labels_img': '/home/aalbury/nilearn_data/basc_multiscale_2015/template_cambridge_basc_multiscale_nii_sym/template_cambridge_basc_multiscale_sym_scale064.nii.gz',\n",
      "  'low_pass': None,\n",
      "  'mask_img': None,\n",
      "  'smoothing_fwhm': None,\n",
      "  'standardize': True,\n",
      "  'strategy': 'mean',\n",
      "  't_r': None,\n",
      "  'target_affine': None,\n",
      "  'target_shape': None}, confounds='/home/aalbury/nilearn_data/cobre/fmri_0040099.tsv', dtype=None, memory=Memory(location=nilearn_cache/joblib), memory_level=1, verbose=1)\n",
      "[NiftiLabelsMasker.transform_single_imgs] Loading data from /home/aalbury/nilearn_data/cobre/fmri_0040099.nii.gz\n",
      "[NiftiLabelsMasker.transform_single_imgs] Extracting region signals\n",
      "[NiftiLabelsMasker.transform_single_imgs] Cleaning extracted signals\n",
      "_______________________________________________filter_and_extract - 0.3s, 0.0min\n",
      "finished 37 of 146\n",
      "[NiftiLabelsMasker.fit_transform] loading data from /home/aalbury/nilearn_data/basc_multiscale_2015/template_cambridge_basc_multiscale_nii_sym/template_cambridge_basc_multiscale_sym_scale064.nii.gz\n",
      "________________________________________________________________________________\n",
      "[Memory] Calling nilearn.input_data.base_masker.filter_and_extract...\n",
      "filter_and_extract('/home/aalbury/nilearn_data/cobre/fmri_0040042.nii.gz', <nilearn.input_data.nifti_labels_masker._ExtractionFunctor object at 0x7f6ec331c190>, \n",
      "{ 'background_label': 0,\n",
      "  'detrend': False,\n",
      "  'dtype': None,\n",
      "  'high_pass': None,\n",
      "  'labels_img': '/home/aalbury/nilearn_data/basc_multiscale_2015/template_cambridge_basc_multiscale_nii_sym/template_cambridge_basc_multiscale_sym_scale064.nii.gz',\n",
      "  'low_pass': None,\n",
      "  'mask_img': None,\n",
      "  'smoothing_fwhm': None,\n",
      "  'standardize': True,\n",
      "  'strategy': 'mean',\n",
      "  't_r': None,\n",
      "  'target_affine': None,\n",
      "  'target_shape': None}, confounds='/home/aalbury/nilearn_data/cobre/fmri_0040042.tsv', dtype=None, memory=Memory(location=nilearn_cache/joblib), memory_level=1, verbose=1)\n",
      "[NiftiLabelsMasker.transform_single_imgs] Loading data from /home/aalbury/nilearn_data/cobre/fmri_0040042.nii.gz\n",
      "[NiftiLabelsMasker.transform_single_imgs] Extracting region signals\n",
      "[NiftiLabelsMasker.transform_single_imgs] Cleaning extracted signals\n",
      "_______________________________________________filter_and_extract - 0.3s, 0.0min\n",
      "finished 38 of 146\n",
      "[NiftiLabelsMasker.fit_transform] loading data from /home/aalbury/nilearn_data/basc_multiscale_2015/template_cambridge_basc_multiscale_nii_sym/template_cambridge_basc_multiscale_sym_scale064.nii.gz\n",
      "________________________________________________________________________________\n",
      "[Memory] Calling nilearn.input_data.base_masker.filter_and_extract...\n",
      "filter_and_extract('/home/aalbury/nilearn_data/cobre/fmri_0040075.nii.gz', <nilearn.input_data.nifti_labels_masker._ExtractionFunctor object at 0x7f6ec322cf90>, \n",
      "{ 'background_label': 0,\n",
      "  'detrend': False,\n",
      "  'dtype': None,\n",
      "  'high_pass': None,\n",
      "  'labels_img': '/home/aalbury/nilearn_data/basc_multiscale_2015/template_cambridge_basc_multiscale_nii_sym/template_cambridge_basc_multiscale_sym_scale064.nii.gz',\n",
      "  'low_pass': None,\n",
      "  'mask_img': None,\n",
      "  'smoothing_fwhm': None,\n",
      "  'standardize': True,\n",
      "  'strategy': 'mean',\n",
      "  't_r': None,\n",
      "  'target_affine': None,\n",
      "  'target_shape': None}, confounds='/home/aalbury/nilearn_data/cobre/fmri_0040075.tsv', dtype=None, memory=Memory(location=nilearn_cache/joblib), memory_level=1, verbose=1)\n",
      "[NiftiLabelsMasker.transform_single_imgs] Loading data from /home/aalbury/nilearn_data/cobre/fmri_0040075.nii.gz\n",
      "[NiftiLabelsMasker.transform_single_imgs] Extracting region signals\n",
      "[NiftiLabelsMasker.transform_single_imgs] Cleaning extracted signals\n",
      "_______________________________________________filter_and_extract - 0.2s, 0.0min\n",
      "finished 39 of 146\n",
      "[NiftiLabelsMasker.fit_transform] loading data from /home/aalbury/nilearn_data/basc_multiscale_2015/template_cambridge_basc_multiscale_nii_sym/template_cambridge_basc_multiscale_sym_scale064.nii.gz\n",
      "________________________________________________________________________________\n",
      "[Memory] Calling nilearn.input_data.base_masker.filter_and_extract...\n",
      "filter_and_extract('/home/aalbury/nilearn_data/cobre/fmri_0040103.nii.gz', <nilearn.input_data.nifti_labels_masker._ExtractionFunctor object at 0x7f6ec37c2210>, \n",
      "{ 'background_label': 0,\n",
      "  'detrend': False,\n",
      "  'dtype': None,\n",
      "  'high_pass': None,\n",
      "  'labels_img': '/home/aalbury/nilearn_data/basc_multiscale_2015/template_cambridge_basc_multiscale_nii_sym/template_cambridge_basc_multiscale_sym_scale064.nii.gz',\n",
      "  'low_pass': None,\n",
      "  'mask_img': None,\n",
      "  'smoothing_fwhm': None,\n",
      "  'standardize': True,\n",
      "  'strategy': 'mean',\n",
      "  't_r': None,\n",
      "  'target_affine': None,\n",
      "  'target_shape': None}, confounds='/home/aalbury/nilearn_data/cobre/fmri_0040103.tsv', dtype=None, memory=Memory(location=nilearn_cache/joblib), memory_level=1, verbose=1)\n",
      "[NiftiLabelsMasker.transform_single_imgs] Loading data from /home/aalbury/nilearn_data/cobre/fmri_0040103.nii.gz\n",
      "[NiftiLabelsMasker.transform_single_imgs] Extracting region signals\n"
     ]
    },
    {
     "name": "stdout",
     "output_type": "stream",
     "text": [
      "[NiftiLabelsMasker.transform_single_imgs] Cleaning extracted signals\n",
      "_______________________________________________filter_and_extract - 0.3s, 0.0min\n",
      "finished 40 of 146\n",
      "[NiftiLabelsMasker.fit_transform] loading data from /home/aalbury/nilearn_data/basc_multiscale_2015/template_cambridge_basc_multiscale_nii_sym/template_cambridge_basc_multiscale_sym_scale064.nii.gz\n",
      "________________________________________________________________________________\n",
      "[Memory] Calling nilearn.input_data.base_masker.filter_and_extract...\n",
      "filter_and_extract('/home/aalbury/nilearn_data/cobre/fmri_0040060.nii.gz', <nilearn.input_data.nifti_labels_masker._ExtractionFunctor object at 0x7f6ec2d8f910>, \n",
      "{ 'background_label': 0,\n",
      "  'detrend': False,\n",
      "  'dtype': None,\n",
      "  'high_pass': None,\n",
      "  'labels_img': '/home/aalbury/nilearn_data/basc_multiscale_2015/template_cambridge_basc_multiscale_nii_sym/template_cambridge_basc_multiscale_sym_scale064.nii.gz',\n",
      "  'low_pass': None,\n",
      "  'mask_img': None,\n",
      "  'smoothing_fwhm': None,\n",
      "  'standardize': True,\n",
      "  'strategy': 'mean',\n",
      "  't_r': None,\n",
      "  'target_affine': None,\n",
      "  'target_shape': None}, confounds='/home/aalbury/nilearn_data/cobre/fmri_0040060.tsv', dtype=None, memory=Memory(location=nilearn_cache/joblib), memory_level=1, verbose=1)\n",
      "[NiftiLabelsMasker.transform_single_imgs] Loading data from /home/aalbury/nilearn_data/cobre/fmri_0040060.nii.gz\n",
      "[NiftiLabelsMasker.transform_single_imgs] Extracting region signals\n",
      "[NiftiLabelsMasker.transform_single_imgs] Cleaning extracted signals\n",
      "_______________________________________________filter_and_extract - 0.3s, 0.0min\n",
      "finished 41 of 146\n",
      "[NiftiLabelsMasker.fit_transform] loading data from /home/aalbury/nilearn_data/basc_multiscale_2015/template_cambridge_basc_multiscale_nii_sym/template_cambridge_basc_multiscale_sym_scale064.nii.gz\n",
      "________________________________________________________________________________\n",
      "[Memory] Calling nilearn.input_data.base_masker.filter_and_extract...\n",
      "filter_and_extract('/home/aalbury/nilearn_data/cobre/fmri_0040126.nii.gz', <nilearn.input_data.nifti_labels_masker._ExtractionFunctor object at 0x7f6ec332c6d0>, \n",
      "{ 'background_label': 0,\n",
      "  'detrend': False,\n",
      "  'dtype': None,\n",
      "  'high_pass': None,\n",
      "  'labels_img': '/home/aalbury/nilearn_data/basc_multiscale_2015/template_cambridge_basc_multiscale_nii_sym/template_cambridge_basc_multiscale_sym_scale064.nii.gz',\n",
      "  'low_pass': None,\n",
      "  'mask_img': None,\n",
      "  'smoothing_fwhm': None,\n",
      "  'standardize': True,\n",
      "  'strategy': 'mean',\n",
      "  't_r': None,\n",
      "  'target_affine': None,\n",
      "  'target_shape': None}, confounds='/home/aalbury/nilearn_data/cobre/fmri_0040126.tsv', dtype=None, memory=Memory(location=nilearn_cache/joblib), memory_level=1, verbose=1)\n",
      "[NiftiLabelsMasker.transform_single_imgs] Loading data from /home/aalbury/nilearn_data/cobre/fmri_0040126.nii.gz\n",
      "[NiftiLabelsMasker.transform_single_imgs] Extracting region signals\n",
      "[NiftiLabelsMasker.transform_single_imgs] Cleaning extracted signals\n",
      "_______________________________________________filter_and_extract - 0.3s, 0.0min\n",
      "finished 42 of 146\n",
      "[NiftiLabelsMasker.fit_transform] loading data from /home/aalbury/nilearn_data/basc_multiscale_2015/template_cambridge_basc_multiscale_nii_sym/template_cambridge_basc_multiscale_sym_scale064.nii.gz\n",
      "________________________________________________________________________________\n",
      "[Memory] Calling nilearn.input_data.base_masker.filter_and_extract...\n",
      "filter_and_extract('/home/aalbury/nilearn_data/cobre/fmri_0040112.nii.gz', <nilearn.input_data.nifti_labels_masker._ExtractionFunctor object at 0x7f6ed008fc90>, \n",
      "{ 'background_label': 0,\n",
      "  'detrend': False,\n",
      "  'dtype': None,\n",
      "  'high_pass': None,\n",
      "  'labels_img': '/home/aalbury/nilearn_data/basc_multiscale_2015/template_cambridge_basc_multiscale_nii_sym/template_cambridge_basc_multiscale_sym_scale064.nii.gz',\n",
      "  'low_pass': None,\n",
      "  'mask_img': None,\n",
      "  'smoothing_fwhm': None,\n",
      "  'standardize': True,\n",
      "  'strategy': 'mean',\n",
      "  't_r': None,\n",
      "  'target_affine': None,\n",
      "  'target_shape': None}, confounds='/home/aalbury/nilearn_data/cobre/fmri_0040112.tsv', dtype=None, memory=Memory(location=nilearn_cache/joblib), memory_level=1, verbose=1)\n",
      "[NiftiLabelsMasker.transform_single_imgs] Loading data from /home/aalbury/nilearn_data/cobre/fmri_0040112.nii.gz\n",
      "[NiftiLabelsMasker.transform_single_imgs] Extracting region signals\n",
      "[NiftiLabelsMasker.transform_single_imgs] Cleaning extracted signals\n",
      "_______________________________________________filter_and_extract - 0.3s, 0.0min\n",
      "finished 43 of 146\n",
      "[NiftiLabelsMasker.fit_transform] loading data from /home/aalbury/nilearn_data/basc_multiscale_2015/template_cambridge_basc_multiscale_nii_sym/template_cambridge_basc_multiscale_sym_scale064.nii.gz\n",
      "________________________________________________________________________________\n",
      "[Memory] Calling nilearn.input_data.base_masker.filter_and_extract...\n",
      "filter_and_extract('/home/aalbury/nilearn_data/cobre/fmri_0040081.nii.gz', <nilearn.input_data.nifti_labels_masker._ExtractionFunctor object at 0x7f6ec3242d50>, \n",
      "{ 'background_label': 0,\n",
      "  'detrend': False,\n",
      "  'dtype': None,\n",
      "  'high_pass': None,\n",
      "  'labels_img': '/home/aalbury/nilearn_data/basc_multiscale_2015/template_cambridge_basc_multiscale_nii_sym/template_cambridge_basc_multiscale_sym_scale064.nii.gz',\n",
      "  'low_pass': None,\n",
      "  'mask_img': None,\n",
      "  'smoothing_fwhm': None,\n",
      "  'standardize': True,\n",
      "  'strategy': 'mean',\n",
      "  't_r': None,\n",
      "  'target_affine': None,\n",
      "  'target_shape': None}, confounds='/home/aalbury/nilearn_data/cobre/fmri_0040081.tsv', dtype=None, memory=Memory(location=nilearn_cache/joblib), memory_level=1, verbose=1)\n",
      "[NiftiLabelsMasker.transform_single_imgs] Loading data from /home/aalbury/nilearn_data/cobre/fmri_0040081.nii.gz\n",
      "[NiftiLabelsMasker.transform_single_imgs] Extracting region signals\n",
      "[NiftiLabelsMasker.transform_single_imgs] Cleaning extracted signals\n",
      "_______________________________________________filter_and_extract - 0.3s, 0.0min\n",
      "finished 44 of 146\n",
      "[NiftiLabelsMasker.fit_transform] loading data from /home/aalbury/nilearn_data/basc_multiscale_2015/template_cambridge_basc_multiscale_nii_sym/template_cambridge_basc_multiscale_sym_scale064.nii.gz\n",
      "________________________________________________________________________________\n",
      "[Memory] Calling nilearn.input_data.base_masker.filter_and_extract...\n",
      "filter_and_extract('/home/aalbury/nilearn_data/cobre/fmri_0040110.nii.gz', <nilearn.input_data.nifti_labels_masker._ExtractionFunctor object at 0x7f6ec361ab90>, \n",
      "{ 'background_label': 0,\n",
      "  'detrend': False,\n",
      "  'dtype': None,\n",
      "  'high_pass': None,\n",
      "  'labels_img': '/home/aalbury/nilearn_data/basc_multiscale_2015/template_cambridge_basc_multiscale_nii_sym/template_cambridge_basc_multiscale_sym_scale064.nii.gz',\n",
      "  'low_pass': None,\n",
      "  'mask_img': None,\n",
      "  'smoothing_fwhm': None,\n",
      "  'standardize': True,\n",
      "  'strategy': 'mean',\n",
      "  't_r': None,\n",
      "  'target_affine': None,\n",
      "  'target_shape': None}, confounds='/home/aalbury/nilearn_data/cobre/fmri_0040110.tsv', dtype=None, memory=Memory(location=nilearn_cache/joblib), memory_level=1, verbose=1)\n",
      "[NiftiLabelsMasker.transform_single_imgs] Loading data from /home/aalbury/nilearn_data/cobre/fmri_0040110.nii.gz\n",
      "[NiftiLabelsMasker.transform_single_imgs] Extracting region signals\n",
      "[NiftiLabelsMasker.transform_single_imgs] Cleaning extracted signals\n",
      "_______________________________________________filter_and_extract - 0.3s, 0.0min\n",
      "finished 45 of 146\n",
      "[NiftiLabelsMasker.fit_transform] loading data from /home/aalbury/nilearn_data/basc_multiscale_2015/template_cambridge_basc_multiscale_nii_sym/template_cambridge_basc_multiscale_sym_scale064.nii.gz\n",
      "________________________________________________________________________________\n",
      "[Memory] Calling nilearn.input_data.base_masker.filter_and_extract...\n",
      "filter_and_extract('/home/aalbury/nilearn_data/cobre/fmri_0040049.nii.gz', <nilearn.input_data.nifti_labels_masker._ExtractionFunctor object at 0x7f6ec2d9d5d0>, \n",
      "{ 'background_label': 0,\n",
      "  'detrend': False,\n",
      "  'dtype': None,\n",
      "  'high_pass': None,\n",
      "  'labels_img': '/home/aalbury/nilearn_data/basc_multiscale_2015/template_cambridge_basc_multiscale_nii_sym/template_cambridge_basc_multiscale_sym_scale064.nii.gz',\n",
      "  'low_pass': None,\n",
      "  'mask_img': None,\n",
      "  'smoothing_fwhm': None,\n",
      "  'standardize': True,\n",
      "  'strategy': 'mean',\n",
      "  't_r': None,\n",
      "  'target_affine': None,\n",
      "  'target_shape': None}, confounds='/home/aalbury/nilearn_data/cobre/fmri_0040049.tsv', dtype=None, memory=Memory(location=nilearn_cache/joblib), memory_level=1, verbose=1)\n",
      "[NiftiLabelsMasker.transform_single_imgs] Loading data from /home/aalbury/nilearn_data/cobre/fmri_0040049.nii.gz\n",
      "[NiftiLabelsMasker.transform_single_imgs] Extracting region signals\n"
     ]
    },
    {
     "name": "stdout",
     "output_type": "stream",
     "text": [
      "[NiftiLabelsMasker.transform_single_imgs] Cleaning extracted signals\n",
      "_______________________________________________filter_and_extract - 0.3s, 0.0min\n",
      "finished 46 of 146\n",
      "[NiftiLabelsMasker.fit_transform] loading data from /home/aalbury/nilearn_data/basc_multiscale_2015/template_cambridge_basc_multiscale_nii_sym/template_cambridge_basc_multiscale_sym_scale064.nii.gz\n",
      "________________________________________________________________________________\n",
      "[Memory] Calling nilearn.input_data.base_masker.filter_and_extract...\n",
      "filter_and_extract('/home/aalbury/nilearn_data/cobre/fmri_0040106.nii.gz', <nilearn.input_data.nifti_labels_masker._ExtractionFunctor object at 0x7f6ec2db3b10>, \n",
      "{ 'background_label': 0,\n",
      "  'detrend': False,\n",
      "  'dtype': None,\n",
      "  'high_pass': None,\n",
      "  'labels_img': '/home/aalbury/nilearn_data/basc_multiscale_2015/template_cambridge_basc_multiscale_nii_sym/template_cambridge_basc_multiscale_sym_scale064.nii.gz',\n",
      "  'low_pass': None,\n",
      "  'mask_img': None,\n",
      "  'smoothing_fwhm': None,\n",
      "  'standardize': True,\n",
      "  'strategy': 'mean',\n",
      "  't_r': None,\n",
      "  'target_affine': None,\n",
      "  'target_shape': None}, confounds='/home/aalbury/nilearn_data/cobre/fmri_0040106.tsv', dtype=None, memory=Memory(location=nilearn_cache/joblib), memory_level=1, verbose=1)\n",
      "[NiftiLabelsMasker.transform_single_imgs] Loading data from /home/aalbury/nilearn_data/cobre/fmri_0040106.nii.gz\n",
      "[NiftiLabelsMasker.transform_single_imgs] Extracting region signals\n",
      "[NiftiLabelsMasker.transform_single_imgs] Cleaning extracted signals\n",
      "_______________________________________________filter_and_extract - 0.3s, 0.0min\n",
      "finished 47 of 146\n",
      "[NiftiLabelsMasker.fit_transform] loading data from /home/aalbury/nilearn_data/basc_multiscale_2015/template_cambridge_basc_multiscale_nii_sym/template_cambridge_basc_multiscale_sym_scale064.nii.gz\n",
      "________________________________________________________________________________\n",
      "[Memory] Calling nilearn.input_data.base_masker.filter_and_extract...\n",
      "filter_and_extract('/home/aalbury/nilearn_data/cobre/fmri_0040015.nii.gz', <nilearn.input_data.nifti_labels_masker._ExtractionFunctor object at 0x7f6ec2d8f910>, \n",
      "{ 'background_label': 0,\n",
      "  'detrend': False,\n",
      "  'dtype': None,\n",
      "  'high_pass': None,\n",
      "  'labels_img': '/home/aalbury/nilearn_data/basc_multiscale_2015/template_cambridge_basc_multiscale_nii_sym/template_cambridge_basc_multiscale_sym_scale064.nii.gz',\n",
      "  'low_pass': None,\n",
      "  'mask_img': None,\n",
      "  'smoothing_fwhm': None,\n",
      "  'standardize': True,\n",
      "  'strategy': 'mean',\n",
      "  't_r': None,\n",
      "  'target_affine': None,\n",
      "  'target_shape': None}, confounds='/home/aalbury/nilearn_data/cobre/fmri_0040015.tsv', dtype=None, memory=Memory(location=nilearn_cache/joblib), memory_level=1, verbose=1)\n",
      "[NiftiLabelsMasker.transform_single_imgs] Loading data from /home/aalbury/nilearn_data/cobre/fmri_0040015.nii.gz\n",
      "[NiftiLabelsMasker.transform_single_imgs] Extracting region signals\n",
      "[NiftiLabelsMasker.transform_single_imgs] Cleaning extracted signals\n",
      "_______________________________________________filter_and_extract - 0.3s, 0.0min\n",
      "finished 48 of 146\n",
      "[NiftiLabelsMasker.fit_transform] loading data from /home/aalbury/nilearn_data/basc_multiscale_2015/template_cambridge_basc_multiscale_nii_sym/template_cambridge_basc_multiscale_sym_scale064.nii.gz\n",
      "________________________________________________________________________________\n",
      "[Memory] Calling nilearn.input_data.base_masker.filter_and_extract...\n",
      "filter_and_extract('/home/aalbury/nilearn_data/cobre/fmri_0040005.nii.gz', <nilearn.input_data.nifti_labels_masker._ExtractionFunctor object at 0x7f6ec3242d50>, \n",
      "{ 'background_label': 0,\n",
      "  'detrend': False,\n",
      "  'dtype': None,\n",
      "  'high_pass': None,\n",
      "  'labels_img': '/home/aalbury/nilearn_data/basc_multiscale_2015/template_cambridge_basc_multiscale_nii_sym/template_cambridge_basc_multiscale_sym_scale064.nii.gz',\n",
      "  'low_pass': None,\n",
      "  'mask_img': None,\n",
      "  'smoothing_fwhm': None,\n",
      "  'standardize': True,\n",
      "  'strategy': 'mean',\n",
      "  't_r': None,\n",
      "  'target_affine': None,\n",
      "  'target_shape': None}, confounds='/home/aalbury/nilearn_data/cobre/fmri_0040005.tsv', dtype=None, memory=Memory(location=nilearn_cache/joblib), memory_level=1, verbose=1)\n",
      "[NiftiLabelsMasker.transform_single_imgs] Loading data from /home/aalbury/nilearn_data/cobre/fmri_0040005.nii.gz\n",
      "[NiftiLabelsMasker.transform_single_imgs] Extracting region signals\n",
      "[NiftiLabelsMasker.transform_single_imgs] Cleaning extracted signals\n",
      "_______________________________________________filter_and_extract - 0.3s, 0.0min\n",
      "finished 49 of 146\n",
      "[NiftiLabelsMasker.fit_transform] loading data from /home/aalbury/nilearn_data/basc_multiscale_2015/template_cambridge_basc_multiscale_nii_sym/template_cambridge_basc_multiscale_sym_scale064.nii.gz\n",
      "________________________________________________________________________________\n",
      "[Memory] Calling nilearn.input_data.base_masker.filter_and_extract...\n",
      "filter_and_extract('/home/aalbury/nilearn_data/cobre/fmri_0040044.nii.gz', <nilearn.input_data.nifti_labels_masker._ExtractionFunctor object at 0x7f6ec37751d0>, \n",
      "{ 'background_label': 0,\n",
      "  'detrend': False,\n",
      "  'dtype': None,\n",
      "  'high_pass': None,\n",
      "  'labels_img': '/home/aalbury/nilearn_data/basc_multiscale_2015/template_cambridge_basc_multiscale_nii_sym/template_cambridge_basc_multiscale_sym_scale064.nii.gz',\n",
      "  'low_pass': None,\n",
      "  'mask_img': None,\n",
      "  'smoothing_fwhm': None,\n",
      "  'standardize': True,\n",
      "  'strategy': 'mean',\n",
      "  't_r': None,\n",
      "  'target_affine': None,\n",
      "  'target_shape': None}, confounds='/home/aalbury/nilearn_data/cobre/fmri_0040044.tsv', dtype=None, memory=Memory(location=nilearn_cache/joblib), memory_level=1, verbose=1)\n",
      "[NiftiLabelsMasker.transform_single_imgs] Loading data from /home/aalbury/nilearn_data/cobre/fmri_0040044.nii.gz\n",
      "[NiftiLabelsMasker.transform_single_imgs] Extracting region signals\n",
      "[NiftiLabelsMasker.transform_single_imgs] Cleaning extracted signals\n",
      "_______________________________________________filter_and_extract - 0.3s, 0.0min\n",
      "finished 50 of 146\n",
      "[NiftiLabelsMasker.fit_transform] loading data from /home/aalbury/nilearn_data/basc_multiscale_2015/template_cambridge_basc_multiscale_nii_sym/template_cambridge_basc_multiscale_sym_scale064.nii.gz\n",
      "________________________________________________________________________________\n",
      "[Memory] Calling nilearn.input_data.base_masker.filter_and_extract...\n",
      "filter_and_extract('/home/aalbury/nilearn_data/cobre/fmri_0040016.nii.gz', <nilearn.input_data.nifti_labels_masker._ExtractionFunctor object at 0x7f6ec37751d0>, \n",
      "{ 'background_label': 0,\n",
      "  'detrend': False,\n",
      "  'dtype': None,\n",
      "  'high_pass': None,\n",
      "  'labels_img': '/home/aalbury/nilearn_data/basc_multiscale_2015/template_cambridge_basc_multiscale_nii_sym/template_cambridge_basc_multiscale_sym_scale064.nii.gz',\n",
      "  'low_pass': None,\n",
      "  'mask_img': None,\n",
      "  'smoothing_fwhm': None,\n",
      "  'standardize': True,\n",
      "  'strategy': 'mean',\n",
      "  't_r': None,\n",
      "  'target_affine': None,\n",
      "  'target_shape': None}, confounds='/home/aalbury/nilearn_data/cobre/fmri_0040016.tsv', dtype=None, memory=Memory(location=nilearn_cache/joblib), memory_level=1, verbose=1)\n",
      "[NiftiLabelsMasker.transform_single_imgs] Loading data from /home/aalbury/nilearn_data/cobre/fmri_0040016.nii.gz\n",
      "[NiftiLabelsMasker.transform_single_imgs] Extracting region signals\n",
      "[NiftiLabelsMasker.transform_single_imgs] Cleaning extracted signals\n",
      "_______________________________________________filter_and_extract - 0.3s, 0.0min\n",
      "finished 51 of 146\n",
      "[NiftiLabelsMasker.fit_transform] loading data from /home/aalbury/nilearn_data/basc_multiscale_2015/template_cambridge_basc_multiscale_nii_sym/template_cambridge_basc_multiscale_sym_scale064.nii.gz\n",
      "________________________________________________________________________________\n",
      "[Memory] Calling nilearn.input_data.base_masker.filter_and_extract...\n",
      "filter_and_extract('/home/aalbury/nilearn_data/cobre/fmri_0040092.nii.gz', <nilearn.input_data.nifti_labels_masker._ExtractionFunctor object at 0x7f6ec2db3b10>, \n",
      "{ 'background_label': 0,\n",
      "  'detrend': False,\n",
      "  'dtype': None,\n",
      "  'high_pass': None,\n",
      "  'labels_img': '/home/aalbury/nilearn_data/basc_multiscale_2015/template_cambridge_basc_multiscale_nii_sym/template_cambridge_basc_multiscale_sym_scale064.nii.gz',\n",
      "  'low_pass': None,\n",
      "  'mask_img': None,\n",
      "  'smoothing_fwhm': None,\n",
      "  'standardize': True,\n",
      "  'strategy': 'mean',\n",
      "  't_r': None,\n",
      "  'target_affine': None,\n",
      "  'target_shape': None}, confounds='/home/aalbury/nilearn_data/cobre/fmri_0040092.tsv', dtype=None, memory=Memory(location=nilearn_cache/joblib), memory_level=1, verbose=1)\n",
      "[NiftiLabelsMasker.transform_single_imgs] Loading data from /home/aalbury/nilearn_data/cobre/fmri_0040092.nii.gz\n",
      "[NiftiLabelsMasker.transform_single_imgs] Extracting region signals\n"
     ]
    },
    {
     "name": "stdout",
     "output_type": "stream",
     "text": [
      "[NiftiLabelsMasker.transform_single_imgs] Cleaning extracted signals\n",
      "_______________________________________________filter_and_extract - 0.3s, 0.0min\n",
      "finished 52 of 146\n",
      "[NiftiLabelsMasker.fit_transform] loading data from /home/aalbury/nilearn_data/basc_multiscale_2015/template_cambridge_basc_multiscale_nii_sym/template_cambridge_basc_multiscale_sym_scale064.nii.gz\n",
      "________________________________________________________________________________\n",
      "[Memory] Calling nilearn.input_data.base_masker.filter_and_extract...\n",
      "filter_and_extract('/home/aalbury/nilearn_data/cobre/fmri_0040082.nii.gz', <nilearn.input_data.nifti_labels_masker._ExtractionFunctor object at 0x7f6edbac5610>, \n",
      "{ 'background_label': 0,\n",
      "  'detrend': False,\n",
      "  'dtype': None,\n",
      "  'high_pass': None,\n",
      "  'labels_img': '/home/aalbury/nilearn_data/basc_multiscale_2015/template_cambridge_basc_multiscale_nii_sym/template_cambridge_basc_multiscale_sym_scale064.nii.gz',\n",
      "  'low_pass': None,\n",
      "  'mask_img': None,\n",
      "  'smoothing_fwhm': None,\n",
      "  'standardize': True,\n",
      "  'strategy': 'mean',\n",
      "  't_r': None,\n",
      "  'target_affine': None,\n",
      "  'target_shape': None}, confounds='/home/aalbury/nilearn_data/cobre/fmri_0040082.tsv', dtype=None, memory=Memory(location=nilearn_cache/joblib), memory_level=1, verbose=1)\n",
      "[NiftiLabelsMasker.transform_single_imgs] Loading data from /home/aalbury/nilearn_data/cobre/fmri_0040082.nii.gz\n",
      "[NiftiLabelsMasker.transform_single_imgs] Extracting region signals\n",
      "[NiftiLabelsMasker.transform_single_imgs] Cleaning extracted signals\n",
      "_______________________________________________filter_and_extract - 0.3s, 0.0min\n",
      "finished 53 of 146\n",
      "[NiftiLabelsMasker.fit_transform] loading data from /home/aalbury/nilearn_data/basc_multiscale_2015/template_cambridge_basc_multiscale_nii_sym/template_cambridge_basc_multiscale_sym_scale064.nii.gz\n",
      "________________________________________________________________________________\n",
      "[Memory] Calling nilearn.input_data.base_masker.filter_and_extract...\n",
      "filter_and_extract('/home/aalbury/nilearn_data/cobre/fmri_0040101.nii.gz', <nilearn.input_data.nifti_labels_masker._ExtractionFunctor object at 0x7f6edbac5610>, \n",
      "{ 'background_label': 0,\n",
      "  'detrend': False,\n",
      "  'dtype': None,\n",
      "  'high_pass': None,\n",
      "  'labels_img': '/home/aalbury/nilearn_data/basc_multiscale_2015/template_cambridge_basc_multiscale_nii_sym/template_cambridge_basc_multiscale_sym_scale064.nii.gz',\n",
      "  'low_pass': None,\n",
      "  'mask_img': None,\n",
      "  'smoothing_fwhm': None,\n",
      "  'standardize': True,\n",
      "  'strategy': 'mean',\n",
      "  't_r': None,\n",
      "  'target_affine': None,\n",
      "  'target_shape': None}, confounds='/home/aalbury/nilearn_data/cobre/fmri_0040101.tsv', dtype=None, memory=Memory(location=nilearn_cache/joblib), memory_level=1, verbose=1)\n",
      "[NiftiLabelsMasker.transform_single_imgs] Loading data from /home/aalbury/nilearn_data/cobre/fmri_0040101.nii.gz\n",
      "[NiftiLabelsMasker.transform_single_imgs] Extracting region signals\n",
      "[NiftiLabelsMasker.transform_single_imgs] Cleaning extracted signals\n",
      "_______________________________________________filter_and_extract - 0.3s, 0.0min\n",
      "finished 54 of 146\n",
      "[NiftiLabelsMasker.fit_transform] loading data from /home/aalbury/nilearn_data/basc_multiscale_2015/template_cambridge_basc_multiscale_nii_sym/template_cambridge_basc_multiscale_sym_scale064.nii.gz\n",
      "________________________________________________________________________________\n",
      "[Memory] Calling nilearn.input_data.base_masker.filter_and_extract...\n",
      "filter_and_extract('/home/aalbury/nilearn_data/cobre/fmri_0040132.nii.gz', <nilearn.input_data.nifti_labels_masker._ExtractionFunctor object at 0x7f6ec3242d50>, \n",
      "{ 'background_label': 0,\n",
      "  'detrend': False,\n",
      "  'dtype': None,\n",
      "  'high_pass': None,\n",
      "  'labels_img': '/home/aalbury/nilearn_data/basc_multiscale_2015/template_cambridge_basc_multiscale_nii_sym/template_cambridge_basc_multiscale_sym_scale064.nii.gz',\n",
      "  'low_pass': None,\n",
      "  'mask_img': None,\n",
      "  'smoothing_fwhm': None,\n",
      "  'standardize': True,\n",
      "  'strategy': 'mean',\n",
      "  't_r': None,\n",
      "  'target_affine': None,\n",
      "  'target_shape': None}, confounds='/home/aalbury/nilearn_data/cobre/fmri_0040132.tsv', dtype=None, memory=Memory(location=nilearn_cache/joblib), memory_level=1, verbose=1)\n",
      "[NiftiLabelsMasker.transform_single_imgs] Loading data from /home/aalbury/nilearn_data/cobre/fmri_0040132.nii.gz\n",
      "[NiftiLabelsMasker.transform_single_imgs] Extracting region signals\n",
      "[NiftiLabelsMasker.transform_single_imgs] Cleaning extracted signals\n",
      "_______________________________________________filter_and_extract - 0.3s, 0.0min\n",
      "finished 55 of 146\n",
      "[NiftiLabelsMasker.fit_transform] loading data from /home/aalbury/nilearn_data/basc_multiscale_2015/template_cambridge_basc_multiscale_nii_sym/template_cambridge_basc_multiscale_sym_scale064.nii.gz\n",
      "________________________________________________________________________________\n",
      "[Memory] Calling nilearn.input_data.base_masker.filter_and_extract...\n",
      "filter_and_extract('/home/aalbury/nilearn_data/cobre/fmri_0040039.nii.gz', <nilearn.input_data.nifti_labels_masker._ExtractionFunctor object at 0x7f6ec3326b10>, \n",
      "{ 'background_label': 0,\n",
      "  'detrend': False,\n",
      "  'dtype': None,\n",
      "  'high_pass': None,\n",
      "  'labels_img': '/home/aalbury/nilearn_data/basc_multiscale_2015/template_cambridge_basc_multiscale_nii_sym/template_cambridge_basc_multiscale_sym_scale064.nii.gz',\n",
      "  'low_pass': None,\n",
      "  'mask_img': None,\n",
      "  'smoothing_fwhm': None,\n",
      "  'standardize': True,\n",
      "  'strategy': 'mean',\n",
      "  't_r': None,\n",
      "  'target_affine': None,\n",
      "  'target_shape': None}, confounds='/home/aalbury/nilearn_data/cobre/fmri_0040039.tsv', dtype=None, memory=Memory(location=nilearn_cache/joblib), memory_level=1, verbose=1)\n",
      "[NiftiLabelsMasker.transform_single_imgs] Loading data from /home/aalbury/nilearn_data/cobre/fmri_0040039.nii.gz\n",
      "[NiftiLabelsMasker.transform_single_imgs] Extracting region signals\n",
      "[NiftiLabelsMasker.transform_single_imgs] Cleaning extracted signals\n",
      "_______________________________________________filter_and_extract - 0.3s, 0.0min\n",
      "finished 56 of 146\n",
      "[NiftiLabelsMasker.fit_transform] loading data from /home/aalbury/nilearn_data/basc_multiscale_2015/template_cambridge_basc_multiscale_nii_sym/template_cambridge_basc_multiscale_sym_scale064.nii.gz\n",
      "________________________________________________________________________________\n",
      "[Memory] Calling nilearn.input_data.base_masker.filter_and_extract...\n",
      "filter_and_extract('/home/aalbury/nilearn_data/cobre/fmri_0040071.nii.gz', <nilearn.input_data.nifti_labels_masker._ExtractionFunctor object at 0x7f6ec37c8710>, \n",
      "{ 'background_label': 0,\n",
      "  'detrend': False,\n",
      "  'dtype': None,\n",
      "  'high_pass': None,\n",
      "  'labels_img': '/home/aalbury/nilearn_data/basc_multiscale_2015/template_cambridge_basc_multiscale_nii_sym/template_cambridge_basc_multiscale_sym_scale064.nii.gz',\n",
      "  'low_pass': None,\n",
      "  'mask_img': None,\n",
      "  'smoothing_fwhm': None,\n",
      "  'standardize': True,\n",
      "  'strategy': 'mean',\n",
      "  't_r': None,\n",
      "  'target_affine': None,\n",
      "  'target_shape': None}, confounds='/home/aalbury/nilearn_data/cobre/fmri_0040071.tsv', dtype=None, memory=Memory(location=nilearn_cache/joblib), memory_level=1, verbose=1)\n",
      "[NiftiLabelsMasker.transform_single_imgs] Loading data from /home/aalbury/nilearn_data/cobre/fmri_0040071.nii.gz\n",
      "[NiftiLabelsMasker.transform_single_imgs] Extracting region signals\n",
      "[NiftiLabelsMasker.transform_single_imgs] Cleaning extracted signals\n",
      "_______________________________________________filter_and_extract - 0.3s, 0.0min\n",
      "finished 57 of 146\n",
      "[NiftiLabelsMasker.fit_transform] loading data from /home/aalbury/nilearn_data/basc_multiscale_2015/template_cambridge_basc_multiscale_nii_sym/template_cambridge_basc_multiscale_sym_scale064.nii.gz\n",
      "________________________________________________________________________________\n",
      "[Memory] Calling nilearn.input_data.base_masker.filter_and_extract...\n",
      "filter_and_extract('/home/aalbury/nilearn_data/cobre/fmri_0040010.nii.gz', <nilearn.input_data.nifti_labels_masker._ExtractionFunctor object at 0x7f6ec361ab90>, \n",
      "{ 'background_label': 0,\n",
      "  'detrend': False,\n",
      "  'dtype': None,\n",
      "  'high_pass': None,\n",
      "  'labels_img': '/home/aalbury/nilearn_data/basc_multiscale_2015/template_cambridge_basc_multiscale_nii_sym/template_cambridge_basc_multiscale_sym_scale064.nii.gz',\n",
      "  'low_pass': None,\n",
      "  'mask_img': None,\n",
      "  'smoothing_fwhm': None,\n",
      "  'standardize': True,\n",
      "  'strategy': 'mean',\n",
      "  't_r': None,\n",
      "  'target_affine': None,\n",
      "  'target_shape': None}, confounds='/home/aalbury/nilearn_data/cobre/fmri_0040010.tsv', dtype=None, memory=Memory(location=nilearn_cache/joblib), memory_level=1, verbose=1)\n",
      "[NiftiLabelsMasker.transform_single_imgs] Loading data from /home/aalbury/nilearn_data/cobre/fmri_0040010.nii.gz\n",
      "[NiftiLabelsMasker.transform_single_imgs] Extracting region signals\n"
     ]
    },
    {
     "name": "stdout",
     "output_type": "stream",
     "text": [
      "[NiftiLabelsMasker.transform_single_imgs] Cleaning extracted signals\n",
      "_______________________________________________filter_and_extract - 0.3s, 0.0min\n",
      "finished 58 of 146\n",
      "[NiftiLabelsMasker.fit_transform] loading data from /home/aalbury/nilearn_data/basc_multiscale_2015/template_cambridge_basc_multiscale_nii_sym/template_cambridge_basc_multiscale_sym_scale064.nii.gz\n",
      "________________________________________________________________________________\n",
      "[Memory] Calling nilearn.input_data.base_masker.filter_and_extract...\n",
      "filter_and_extract('/home/aalbury/nilearn_data/cobre/fmri_0040097.nii.gz', <nilearn.input_data.nifti_labels_masker._ExtractionFunctor object at 0x7f6ec320bad0>, \n",
      "{ 'background_label': 0,\n",
      "  'detrend': False,\n",
      "  'dtype': None,\n",
      "  'high_pass': None,\n",
      "  'labels_img': '/home/aalbury/nilearn_data/basc_multiscale_2015/template_cambridge_basc_multiscale_nii_sym/template_cambridge_basc_multiscale_sym_scale064.nii.gz',\n",
      "  'low_pass': None,\n",
      "  'mask_img': None,\n",
      "  'smoothing_fwhm': None,\n",
      "  'standardize': True,\n",
      "  'strategy': 'mean',\n",
      "  't_r': None,\n",
      "  'target_affine': None,\n",
      "  'target_shape': None}, confounds='/home/aalbury/nilearn_data/cobre/fmri_0040097.tsv', dtype=None, memory=Memory(location=nilearn_cache/joblib), memory_level=1, verbose=1)\n",
      "[NiftiLabelsMasker.transform_single_imgs] Loading data from /home/aalbury/nilearn_data/cobre/fmri_0040097.nii.gz\n",
      "[NiftiLabelsMasker.transform_single_imgs] Extracting region signals\n",
      "[NiftiLabelsMasker.transform_single_imgs] Cleaning extracted signals\n",
      "_______________________________________________filter_and_extract - 0.3s, 0.0min\n",
      "finished 59 of 146\n",
      "[NiftiLabelsMasker.fit_transform] loading data from /home/aalbury/nilearn_data/basc_multiscale_2015/template_cambridge_basc_multiscale_nii_sym/template_cambridge_basc_multiscale_sym_scale064.nii.gz\n",
      "________________________________________________________________________________\n",
      "[Memory] Calling nilearn.input_data.base_masker.filter_and_extract...\n",
      "filter_and_extract('/home/aalbury/nilearn_data/cobre/fmri_0040105.nii.gz', <nilearn.input_data.nifti_labels_masker._ExtractionFunctor object at 0x7f6ec2d8f910>, \n",
      "{ 'background_label': 0,\n",
      "  'detrend': False,\n",
      "  'dtype': None,\n",
      "  'high_pass': None,\n",
      "  'labels_img': '/home/aalbury/nilearn_data/basc_multiscale_2015/template_cambridge_basc_multiscale_nii_sym/template_cambridge_basc_multiscale_sym_scale064.nii.gz',\n",
      "  'low_pass': None,\n",
      "  'mask_img': None,\n",
      "  'smoothing_fwhm': None,\n",
      "  'standardize': True,\n",
      "  'strategy': 'mean',\n",
      "  't_r': None,\n",
      "  'target_affine': None,\n",
      "  'target_shape': None}, confounds='/home/aalbury/nilearn_data/cobre/fmri_0040105.tsv', dtype=None, memory=Memory(location=nilearn_cache/joblib), memory_level=1, verbose=1)\n",
      "[NiftiLabelsMasker.transform_single_imgs] Loading data from /home/aalbury/nilearn_data/cobre/fmri_0040105.nii.gz\n",
      "[NiftiLabelsMasker.transform_single_imgs] Extracting region signals\n",
      "[NiftiLabelsMasker.transform_single_imgs] Cleaning extracted signals\n",
      "_______________________________________________filter_and_extract - 0.3s, 0.0min\n",
      "finished 60 of 146\n",
      "[NiftiLabelsMasker.fit_transform] loading data from /home/aalbury/nilearn_data/basc_multiscale_2015/template_cambridge_basc_multiscale_nii_sym/template_cambridge_basc_multiscale_sym_scale064.nii.gz\n",
      "________________________________________________________________________________\n",
      "[Memory] Calling nilearn.input_data.base_masker.filter_and_extract...\n",
      "filter_and_extract('/home/aalbury/nilearn_data/cobre/fmri_0040143.nii.gz', <nilearn.input_data.nifti_labels_masker._ExtractionFunctor object at 0x7f6ec3326c90>, \n",
      "{ 'background_label': 0,\n",
      "  'detrend': False,\n",
      "  'dtype': None,\n",
      "  'high_pass': None,\n",
      "  'labels_img': '/home/aalbury/nilearn_data/basc_multiscale_2015/template_cambridge_basc_multiscale_nii_sym/template_cambridge_basc_multiscale_sym_scale064.nii.gz',\n",
      "  'low_pass': None,\n",
      "  'mask_img': None,\n",
      "  'smoothing_fwhm': None,\n",
      "  'standardize': True,\n",
      "  'strategy': 'mean',\n",
      "  't_r': None,\n",
      "  'target_affine': None,\n",
      "  'target_shape': None}, confounds='/home/aalbury/nilearn_data/cobre/fmri_0040143.tsv', dtype=None, memory=Memory(location=nilearn_cache/joblib), memory_level=1, verbose=1)\n",
      "[NiftiLabelsMasker.transform_single_imgs] Loading data from /home/aalbury/nilearn_data/cobre/fmri_0040143.nii.gz\n",
      "[NiftiLabelsMasker.transform_single_imgs] Extracting region signals\n",
      "[NiftiLabelsMasker.transform_single_imgs] Cleaning extracted signals\n",
      "_______________________________________________filter_and_extract - 0.3s, 0.0min\n",
      "finished 61 of 146\n",
      "[NiftiLabelsMasker.fit_transform] loading data from /home/aalbury/nilearn_data/basc_multiscale_2015/template_cambridge_basc_multiscale_nii_sym/template_cambridge_basc_multiscale_sym_scale064.nii.gz\n",
      "________________________________________________________________________________\n",
      "[Memory] Calling nilearn.input_data.base_masker.filter_and_extract...\n",
      "filter_and_extract('/home/aalbury/nilearn_data/cobre/fmri_0040006.nii.gz', <nilearn.input_data.nifti_labels_masker._ExtractionFunctor object at 0x7f6ed15dda10>, \n",
      "{ 'background_label': 0,\n",
      "  'detrend': False,\n",
      "  'dtype': None,\n",
      "  'high_pass': None,\n",
      "  'labels_img': '/home/aalbury/nilearn_data/basc_multiscale_2015/template_cambridge_basc_multiscale_nii_sym/template_cambridge_basc_multiscale_sym_scale064.nii.gz',\n",
      "  'low_pass': None,\n",
      "  'mask_img': None,\n",
      "  'smoothing_fwhm': None,\n",
      "  'standardize': True,\n",
      "  'strategy': 'mean',\n",
      "  't_r': None,\n",
      "  'target_affine': None,\n",
      "  'target_shape': None}, confounds='/home/aalbury/nilearn_data/cobre/fmri_0040006.tsv', dtype=None, memory=Memory(location=nilearn_cache/joblib), memory_level=1, verbose=1)\n",
      "[NiftiLabelsMasker.transform_single_imgs] Loading data from /home/aalbury/nilearn_data/cobre/fmri_0040006.nii.gz\n",
      "[NiftiLabelsMasker.transform_single_imgs] Extracting region signals\n",
      "[NiftiLabelsMasker.transform_single_imgs] Cleaning extracted signals\n",
      "_______________________________________________filter_and_extract - 0.3s, 0.0min\n",
      "finished 62 of 146\n",
      "[NiftiLabelsMasker.fit_transform] loading data from /home/aalbury/nilearn_data/basc_multiscale_2015/template_cambridge_basc_multiscale_nii_sym/template_cambridge_basc_multiscale_sym_scale064.nii.gz\n",
      "________________________________________________________________________________\n",
      "[Memory] Calling nilearn.input_data.base_masker.filter_and_extract...\n",
      "filter_and_extract('/home/aalbury/nilearn_data/cobre/fmri_0040004.nii.gz', <nilearn.input_data.nifti_labels_masker._ExtractionFunctor object at 0x7f6ed008fc90>, \n",
      "{ 'background_label': 0,\n",
      "  'detrend': False,\n",
      "  'dtype': None,\n",
      "  'high_pass': None,\n",
      "  'labels_img': '/home/aalbury/nilearn_data/basc_multiscale_2015/template_cambridge_basc_multiscale_nii_sym/template_cambridge_basc_multiscale_sym_scale064.nii.gz',\n",
      "  'low_pass': None,\n",
      "  'mask_img': None,\n",
      "  'smoothing_fwhm': None,\n",
      "  'standardize': True,\n",
      "  'strategy': 'mean',\n",
      "  't_r': None,\n",
      "  'target_affine': None,\n",
      "  'target_shape': None}, confounds='/home/aalbury/nilearn_data/cobre/fmri_0040004.tsv', dtype=None, memory=Memory(location=nilearn_cache/joblib), memory_level=1, verbose=1)\n",
      "[NiftiLabelsMasker.transform_single_imgs] Loading data from /home/aalbury/nilearn_data/cobre/fmri_0040004.nii.gz\n",
      "[NiftiLabelsMasker.transform_single_imgs] Extracting region signals\n",
      "[NiftiLabelsMasker.transform_single_imgs] Cleaning extracted signals\n",
      "_______________________________________________filter_and_extract - 0.3s, 0.0min\n",
      "finished 63 of 146\n",
      "[NiftiLabelsMasker.fit_transform] loading data from /home/aalbury/nilearn_data/basc_multiscale_2015/template_cambridge_basc_multiscale_nii_sym/template_cambridge_basc_multiscale_sym_scale064.nii.gz\n",
      "________________________________________________________________________________\n",
      "[Memory] Calling nilearn.input_data.base_masker.filter_and_extract...\n",
      "filter_and_extract('/home/aalbury/nilearn_data/cobre/fmri_0040064.nii.gz', <nilearn.input_data.nifti_labels_masker._ExtractionFunctor object at 0x7f6ed008fc90>, \n",
      "{ 'background_label': 0,\n",
      "  'detrend': False,\n",
      "  'dtype': None,\n",
      "  'high_pass': None,\n",
      "  'labels_img': '/home/aalbury/nilearn_data/basc_multiscale_2015/template_cambridge_basc_multiscale_nii_sym/template_cambridge_basc_multiscale_sym_scale064.nii.gz',\n",
      "  'low_pass': None,\n",
      "  'mask_img': None,\n",
      "  'smoothing_fwhm': None,\n",
      "  'standardize': True,\n",
      "  'strategy': 'mean',\n",
      "  't_r': None,\n",
      "  'target_affine': None,\n",
      "  'target_shape': None}, confounds='/home/aalbury/nilearn_data/cobre/fmri_0040064.tsv', dtype=None, memory=Memory(location=nilearn_cache/joblib), memory_level=1, verbose=1)\n",
      "[NiftiLabelsMasker.transform_single_imgs] Loading data from /home/aalbury/nilearn_data/cobre/fmri_0040064.nii.gz\n",
      "[NiftiLabelsMasker.transform_single_imgs] Extracting region signals\n"
     ]
    },
    {
     "name": "stdout",
     "output_type": "stream",
     "text": [
      "[NiftiLabelsMasker.transform_single_imgs] Cleaning extracted signals\n",
      "_______________________________________________filter_and_extract - 0.3s, 0.0min\n",
      "finished 64 of 146\n",
      "[NiftiLabelsMasker.fit_transform] loading data from /home/aalbury/nilearn_data/basc_multiscale_2015/template_cambridge_basc_multiscale_nii_sym/template_cambridge_basc_multiscale_sym_scale064.nii.gz\n",
      "________________________________________________________________________________\n",
      "[Memory] Calling nilearn.input_data.base_masker.filter_and_extract...\n",
      "filter_and_extract('/home/aalbury/nilearn_data/cobre/fmri_0040078.nii.gz', <nilearn.input_data.nifti_labels_masker._ExtractionFunctor object at 0x7f6ed008fc90>, \n",
      "{ 'background_label': 0,\n",
      "  'detrend': False,\n",
      "  'dtype': None,\n",
      "  'high_pass': None,\n",
      "  'labels_img': '/home/aalbury/nilearn_data/basc_multiscale_2015/template_cambridge_basc_multiscale_nii_sym/template_cambridge_basc_multiscale_sym_scale064.nii.gz',\n",
      "  'low_pass': None,\n",
      "  'mask_img': None,\n",
      "  'smoothing_fwhm': None,\n",
      "  'standardize': True,\n",
      "  'strategy': 'mean',\n",
      "  't_r': None,\n",
      "  'target_affine': None,\n",
      "  'target_shape': None}, confounds='/home/aalbury/nilearn_data/cobre/fmri_0040078.tsv', dtype=None, memory=Memory(location=nilearn_cache/joblib), memory_level=1, verbose=1)\n",
      "[NiftiLabelsMasker.transform_single_imgs] Loading data from /home/aalbury/nilearn_data/cobre/fmri_0040078.nii.gz\n",
      "[NiftiLabelsMasker.transform_single_imgs] Extracting region signals\n",
      "[NiftiLabelsMasker.transform_single_imgs] Cleaning extracted signals\n",
      "_______________________________________________filter_and_extract - 0.3s, 0.0min\n",
      "finished 65 of 146\n",
      "[NiftiLabelsMasker.fit_transform] loading data from /home/aalbury/nilearn_data/basc_multiscale_2015/template_cambridge_basc_multiscale_nii_sym/template_cambridge_basc_multiscale_sym_scale064.nii.gz\n",
      "________________________________________________________________________________\n",
      "[Memory] Calling nilearn.input_data.base_masker.filter_and_extract...\n",
      "filter_and_extract('/home/aalbury/nilearn_data/cobre/fmri_0040094.nii.gz', <nilearn.input_data.nifti_labels_masker._ExtractionFunctor object at 0x7f6ec377e450>, \n",
      "{ 'background_label': 0,\n",
      "  'detrend': False,\n",
      "  'dtype': None,\n",
      "  'high_pass': None,\n",
      "  'labels_img': '/home/aalbury/nilearn_data/basc_multiscale_2015/template_cambridge_basc_multiscale_nii_sym/template_cambridge_basc_multiscale_sym_scale064.nii.gz',\n",
      "  'low_pass': None,\n",
      "  'mask_img': None,\n",
      "  'smoothing_fwhm': None,\n",
      "  'standardize': True,\n",
      "  'strategy': 'mean',\n",
      "  't_r': None,\n",
      "  'target_affine': None,\n",
      "  'target_shape': None}, confounds='/home/aalbury/nilearn_data/cobre/fmri_0040094.tsv', dtype=None, memory=Memory(location=nilearn_cache/joblib), memory_level=1, verbose=1)\n",
      "[NiftiLabelsMasker.transform_single_imgs] Loading data from /home/aalbury/nilearn_data/cobre/fmri_0040094.nii.gz\n",
      "[NiftiLabelsMasker.transform_single_imgs] Extracting region signals\n",
      "[NiftiLabelsMasker.transform_single_imgs] Cleaning extracted signals\n",
      "_______________________________________________filter_and_extract - 0.3s, 0.0min\n",
      "finished 66 of 146\n",
      "[NiftiLabelsMasker.fit_transform] loading data from /home/aalbury/nilearn_data/basc_multiscale_2015/template_cambridge_basc_multiscale_nii_sym/template_cambridge_basc_multiscale_sym_scale064.nii.gz\n",
      "________________________________________________________________________________\n",
      "[Memory] Calling nilearn.input_data.base_masker.filter_and_extract...\n",
      "filter_and_extract('/home/aalbury/nilearn_data/cobre/fmri_0040084.nii.gz', <nilearn.input_data.nifti_labels_masker._ExtractionFunctor object at 0x7f6ec2d92210>, \n",
      "{ 'background_label': 0,\n",
      "  'detrend': False,\n",
      "  'dtype': None,\n",
      "  'high_pass': None,\n",
      "  'labels_img': '/home/aalbury/nilearn_data/basc_multiscale_2015/template_cambridge_basc_multiscale_nii_sym/template_cambridge_basc_multiscale_sym_scale064.nii.gz',\n",
      "  'low_pass': None,\n",
      "  'mask_img': None,\n",
      "  'smoothing_fwhm': None,\n",
      "  'standardize': True,\n",
      "  'strategy': 'mean',\n",
      "  't_r': None,\n",
      "  'target_affine': None,\n",
      "  'target_shape': None}, confounds='/home/aalbury/nilearn_data/cobre/fmri_0040084.tsv', dtype=None, memory=Memory(location=nilearn_cache/joblib), memory_level=1, verbose=1)\n",
      "[NiftiLabelsMasker.transform_single_imgs] Loading data from /home/aalbury/nilearn_data/cobre/fmri_0040084.nii.gz\n",
      "[NiftiLabelsMasker.transform_single_imgs] Extracting region signals\n",
      "[NiftiLabelsMasker.transform_single_imgs] Cleaning extracted signals\n",
      "_______________________________________________filter_and_extract - 0.3s, 0.0min\n",
      "finished 67 of 146\n",
      "[NiftiLabelsMasker.fit_transform] loading data from /home/aalbury/nilearn_data/basc_multiscale_2015/template_cambridge_basc_multiscale_nii_sym/template_cambridge_basc_multiscale_sym_scale064.nii.gz\n",
      "________________________________________________________________________________\n",
      "[Memory] Calling nilearn.input_data.base_masker.filter_and_extract...\n",
      "filter_and_extract('/home/aalbury/nilearn_data/cobre/fmri_0040041.nii.gz', <nilearn.input_data.nifti_labels_masker._ExtractionFunctor object at 0x7f6ec2d92210>, \n",
      "{ 'background_label': 0,\n",
      "  'detrend': False,\n",
      "  'dtype': None,\n",
      "  'high_pass': None,\n",
      "  'labels_img': '/home/aalbury/nilearn_data/basc_multiscale_2015/template_cambridge_basc_multiscale_nii_sym/template_cambridge_basc_multiscale_sym_scale064.nii.gz',\n",
      "  'low_pass': None,\n",
      "  'mask_img': None,\n",
      "  'smoothing_fwhm': None,\n",
      "  'standardize': True,\n",
      "  'strategy': 'mean',\n",
      "  't_r': None,\n",
      "  'target_affine': None,\n",
      "  'target_shape': None}, confounds='/home/aalbury/nilearn_data/cobre/fmri_0040041.tsv', dtype=None, memory=Memory(location=nilearn_cache/joblib), memory_level=1, verbose=1)\n",
      "[NiftiLabelsMasker.transform_single_imgs] Loading data from /home/aalbury/nilearn_data/cobre/fmri_0040041.nii.gz\n",
      "[NiftiLabelsMasker.transform_single_imgs] Extracting region signals\n",
      "[NiftiLabelsMasker.transform_single_imgs] Cleaning extracted signals\n",
      "_______________________________________________filter_and_extract - 0.3s, 0.0min\n",
      "finished 68 of 146\n",
      "[NiftiLabelsMasker.fit_transform] loading data from /home/aalbury/nilearn_data/basc_multiscale_2015/template_cambridge_basc_multiscale_nii_sym/template_cambridge_basc_multiscale_sym_scale064.nii.gz\n",
      "________________________________________________________________________________\n",
      "[Memory] Calling nilearn.input_data.base_masker.filter_and_extract...\n",
      "filter_and_extract('/home/aalbury/nilearn_data/cobre/fmri_0040089.nii.gz', <nilearn.input_data.nifti_labels_masker._ExtractionFunctor object at 0x7f6ec3442ad0>, \n",
      "{ 'background_label': 0,\n",
      "  'detrend': False,\n",
      "  'dtype': None,\n",
      "  'high_pass': None,\n",
      "  'labels_img': '/home/aalbury/nilearn_data/basc_multiscale_2015/template_cambridge_basc_multiscale_nii_sym/template_cambridge_basc_multiscale_sym_scale064.nii.gz',\n",
      "  'low_pass': None,\n",
      "  'mask_img': None,\n",
      "  'smoothing_fwhm': None,\n",
      "  'standardize': True,\n",
      "  'strategy': 'mean',\n",
      "  't_r': None,\n",
      "  'target_affine': None,\n",
      "  'target_shape': None}, confounds='/home/aalbury/nilearn_data/cobre/fmri_0040089.tsv', dtype=None, memory=Memory(location=nilearn_cache/joblib), memory_level=1, verbose=1)\n",
      "[NiftiLabelsMasker.transform_single_imgs] Loading data from /home/aalbury/nilearn_data/cobre/fmri_0040089.nii.gz\n",
      "[NiftiLabelsMasker.transform_single_imgs] Extracting region signals\n",
      "[NiftiLabelsMasker.transform_single_imgs] Cleaning extracted signals\n",
      "_______________________________________________filter_and_extract - 0.3s, 0.0min\n",
      "finished 69 of 146\n",
      "[NiftiLabelsMasker.fit_transform] loading data from /home/aalbury/nilearn_data/basc_multiscale_2015/template_cambridge_basc_multiscale_nii_sym/template_cambridge_basc_multiscale_sym_scale064.nii.gz\n",
      "________________________________________________________________________________\n",
      "[Memory] Calling nilearn.input_data.base_masker.filter_and_extract...\n",
      "filter_and_extract('/home/aalbury/nilearn_data/cobre/fmri_0040040.nii.gz', <nilearn.input_data.nifti_labels_masker._ExtractionFunctor object at 0x7f6eda7b61d0>, \n",
      "{ 'background_label': 0,\n",
      "  'detrend': False,\n",
      "  'dtype': None,\n",
      "  'high_pass': None,\n",
      "  'labels_img': '/home/aalbury/nilearn_data/basc_multiscale_2015/template_cambridge_basc_multiscale_nii_sym/template_cambridge_basc_multiscale_sym_scale064.nii.gz',\n",
      "  'low_pass': None,\n",
      "  'mask_img': None,\n",
      "  'smoothing_fwhm': None,\n",
      "  'standardize': True,\n",
      "  'strategy': 'mean',\n",
      "  't_r': None,\n",
      "  'target_affine': None,\n",
      "  'target_shape': None}, confounds='/home/aalbury/nilearn_data/cobre/fmri_0040040.tsv', dtype=None, memory=Memory(location=nilearn_cache/joblib), memory_level=1, verbose=1)\n",
      "[NiftiLabelsMasker.transform_single_imgs] Loading data from /home/aalbury/nilearn_data/cobre/fmri_0040040.nii.gz\n",
      "[NiftiLabelsMasker.transform_single_imgs] Extracting region signals\n"
     ]
    },
    {
     "name": "stdout",
     "output_type": "stream",
     "text": [
      "[NiftiLabelsMasker.transform_single_imgs] Cleaning extracted signals\n",
      "_______________________________________________filter_and_extract - 0.3s, 0.0min\n",
      "finished 70 of 146\n",
      "[NiftiLabelsMasker.fit_transform] loading data from /home/aalbury/nilearn_data/basc_multiscale_2015/template_cambridge_basc_multiscale_nii_sym/template_cambridge_basc_multiscale_sym_scale064.nii.gz\n",
      "________________________________________________________________________________\n",
      "[Memory] Calling nilearn.input_data.base_masker.filter_and_extract...\n",
      "filter_and_extract('/home/aalbury/nilearn_data/cobre/fmri_0040028.nii.gz', <nilearn.input_data.nifti_labels_masker._ExtractionFunctor object at 0x7f6ec3326b10>, \n",
      "{ 'background_label': 0,\n",
      "  'detrend': False,\n",
      "  'dtype': None,\n",
      "  'high_pass': None,\n",
      "  'labels_img': '/home/aalbury/nilearn_data/basc_multiscale_2015/template_cambridge_basc_multiscale_nii_sym/template_cambridge_basc_multiscale_sym_scale064.nii.gz',\n",
      "  'low_pass': None,\n",
      "  'mask_img': None,\n",
      "  'smoothing_fwhm': None,\n",
      "  'standardize': True,\n",
      "  'strategy': 'mean',\n",
      "  't_r': None,\n",
      "  'target_affine': None,\n",
      "  'target_shape': None}, confounds='/home/aalbury/nilearn_data/cobre/fmri_0040028.tsv', dtype=None, memory=Memory(location=nilearn_cache/joblib), memory_level=1, verbose=1)\n",
      "[NiftiLabelsMasker.transform_single_imgs] Loading data from /home/aalbury/nilearn_data/cobre/fmri_0040028.nii.gz\n",
      "[NiftiLabelsMasker.transform_single_imgs] Extracting region signals\n",
      "[NiftiLabelsMasker.transform_single_imgs] Cleaning extracted signals\n",
      "_______________________________________________filter_and_extract - 0.3s, 0.0min\n",
      "finished 71 of 146\n",
      "[NiftiLabelsMasker.fit_transform] loading data from /home/aalbury/nilearn_data/basc_multiscale_2015/template_cambridge_basc_multiscale_nii_sym/template_cambridge_basc_multiscale_sym_scale064.nii.gz\n",
      "________________________________________________________________________________\n",
      "[Memory] Calling nilearn.input_data.base_masker.filter_and_extract...\n",
      "filter_and_extract('/home/aalbury/nilearn_data/cobre/fmri_0040007.nii.gz', <nilearn.input_data.nifti_labels_masker._ExtractionFunctor object at 0x7f6ec2db3b10>, \n",
      "{ 'background_label': 0,\n",
      "  'detrend': False,\n",
      "  'dtype': None,\n",
      "  'high_pass': None,\n",
      "  'labels_img': '/home/aalbury/nilearn_data/basc_multiscale_2015/template_cambridge_basc_multiscale_nii_sym/template_cambridge_basc_multiscale_sym_scale064.nii.gz',\n",
      "  'low_pass': None,\n",
      "  'mask_img': None,\n",
      "  'smoothing_fwhm': None,\n",
      "  'standardize': True,\n",
      "  'strategy': 'mean',\n",
      "  't_r': None,\n",
      "  'target_affine': None,\n",
      "  'target_shape': None}, confounds='/home/aalbury/nilearn_data/cobre/fmri_0040007.tsv', dtype=None, memory=Memory(location=nilearn_cache/joblib), memory_level=1, verbose=1)\n",
      "[NiftiLabelsMasker.transform_single_imgs] Loading data from /home/aalbury/nilearn_data/cobre/fmri_0040007.nii.gz\n",
      "[NiftiLabelsMasker.transform_single_imgs] Extracting region signals\n",
      "[NiftiLabelsMasker.transform_single_imgs] Cleaning extracted signals\n",
      "_______________________________________________filter_and_extract - 0.3s, 0.0min\n",
      "finished 72 of 146\n",
      "[NiftiLabelsMasker.fit_transform] loading data from /home/aalbury/nilearn_data/basc_multiscale_2015/template_cambridge_basc_multiscale_nii_sym/template_cambridge_basc_multiscale_sym_scale064.nii.gz\n",
      "finished 73 of 146\n",
      "[NiftiLabelsMasker.fit_transform] loading data from /home/aalbury/nilearn_data/basc_multiscale_2015/template_cambridge_basc_multiscale_nii_sym/template_cambridge_basc_multiscale_sym_scale064.nii.gz\n",
      "finished 74 of 146\n",
      "[NiftiLabelsMasker.fit_transform] loading data from /home/aalbury/nilearn_data/basc_multiscale_2015/template_cambridge_basc_multiscale_nii_sym/template_cambridge_basc_multiscale_sym_scale064.nii.gz\n",
      "finished 75 of 146\n",
      "[NiftiLabelsMasker.fit_transform] loading data from /home/aalbury/nilearn_data/basc_multiscale_2015/template_cambridge_basc_multiscale_nii_sym/template_cambridge_basc_multiscale_sym_scale064.nii.gz\n",
      "finished 76 of 146\n",
      "[NiftiLabelsMasker.fit_transform] loading data from /home/aalbury/nilearn_data/basc_multiscale_2015/template_cambridge_basc_multiscale_nii_sym/template_cambridge_basc_multiscale_sym_scale064.nii.gz\n",
      "finished 77 of 146\n",
      "[NiftiLabelsMasker.fit_transform] loading data from /home/aalbury/nilearn_data/basc_multiscale_2015/template_cambridge_basc_multiscale_nii_sym/template_cambridge_basc_multiscale_sym_scale064.nii.gz\n",
      "________________________________________________________________________________\n",
      "[Memory] Calling nilearn.input_data.base_masker.filter_and_extract...\n",
      "filter_and_extract('/home/aalbury/nilearn_data/cobre/fmri_0040052.nii.gz', <nilearn.input_data.nifti_labels_masker._ExtractionFunctor object at 0x7f6ec320b1d0>, \n",
      "{ 'background_label': 0,\n",
      "  'detrend': False,\n",
      "  'dtype': None,\n",
      "  'high_pass': None,\n",
      "  'labels_img': '/home/aalbury/nilearn_data/basc_multiscale_2015/template_cambridge_basc_multiscale_nii_sym/template_cambridge_basc_multiscale_sym_scale064.nii.gz',\n",
      "  'low_pass': None,\n",
      "  'mask_img': None,\n",
      "  'smoothing_fwhm': None,\n",
      "  'standardize': True,\n",
      "  'strategy': 'mean',\n",
      "  't_r': None,\n",
      "  'target_affine': None,\n",
      "  'target_shape': None}, confounds='/home/aalbury/nilearn_data/cobre/fmri_0040052.tsv', dtype=None, memory=Memory(location=nilearn_cache/joblib), memory_level=1, verbose=1)\n",
      "[NiftiLabelsMasker.transform_single_imgs] Loading data from /home/aalbury/nilearn_data/cobre/fmri_0040052.nii.gz\n",
      "[NiftiLabelsMasker.transform_single_imgs] Extracting region signals\n",
      "[NiftiLabelsMasker.transform_single_imgs] Cleaning extracted signals\n",
      "_______________________________________________filter_and_extract - 0.3s, 0.0min\n",
      "finished 78 of 146\n",
      "[NiftiLabelsMasker.fit_transform] loading data from /home/aalbury/nilearn_data/basc_multiscale_2015/template_cambridge_basc_multiscale_nii_sym/template_cambridge_basc_multiscale_sym_scale064.nii.gz\n",
      "________________________________________________________________________________\n",
      "[Memory] Calling nilearn.input_data.base_masker.filter_and_extract...\n",
      "filter_and_extract('/home/aalbury/nilearn_data/cobre/fmri_0040065.nii.gz', <nilearn.input_data.nifti_labels_masker._ExtractionFunctor object at 0x7f6ec320b990>, \n",
      "{ 'background_label': 0,\n",
      "  'detrend': False,\n",
      "  'dtype': None,\n",
      "  'high_pass': None,\n",
      "  'labels_img': '/home/aalbury/nilearn_data/basc_multiscale_2015/template_cambridge_basc_multiscale_nii_sym/template_cambridge_basc_multiscale_sym_scale064.nii.gz',\n",
      "  'low_pass': None,\n",
      "  'mask_img': None,\n",
      "  'smoothing_fwhm': None,\n",
      "  'standardize': True,\n",
      "  'strategy': 'mean',\n",
      "  't_r': None,\n",
      "  'target_affine': None,\n",
      "  'target_shape': None}, confounds='/home/aalbury/nilearn_data/cobre/fmri_0040065.tsv', dtype=None, memory=Memory(location=nilearn_cache/joblib), memory_level=1, verbose=1)\n",
      "[NiftiLabelsMasker.transform_single_imgs] Loading data from /home/aalbury/nilearn_data/cobre/fmri_0040065.nii.gz\n",
      "[NiftiLabelsMasker.transform_single_imgs] Extracting region signals\n",
      "[NiftiLabelsMasker.transform_single_imgs] Cleaning extracted signals\n",
      "_______________________________________________filter_and_extract - 0.3s, 0.0min\n",
      "finished 79 of 146\n",
      "[NiftiLabelsMasker.fit_transform] loading data from /home/aalbury/nilearn_data/basc_multiscale_2015/template_cambridge_basc_multiscale_nii_sym/template_cambridge_basc_multiscale_sym_scale064.nii.gz\n",
      "________________________________________________________________________________\n",
      "[Memory] Calling nilearn.input_data.base_masker.filter_and_extract...\n",
      "filter_and_extract('/home/aalbury/nilearn_data/cobre/fmri_0040128.nii.gz', <nilearn.input_data.nifti_labels_masker._ExtractionFunctor object at 0x7f6ec3242d50>, \n",
      "{ 'background_label': 0,\n",
      "  'detrend': False,\n",
      "  'dtype': None,\n",
      "  'high_pass': None,\n",
      "  'labels_img': '/home/aalbury/nilearn_data/basc_multiscale_2015/template_cambridge_basc_multiscale_nii_sym/template_cambridge_basc_multiscale_sym_scale064.nii.gz',\n",
      "  'low_pass': None,\n",
      "  'mask_img': None,\n",
      "  'smoothing_fwhm': None,\n",
      "  'standardize': True,\n",
      "  'strategy': 'mean',\n",
      "  't_r': None,\n",
      "  'target_affine': None,\n",
      "  'target_shape': None}, confounds='/home/aalbury/nilearn_data/cobre/fmri_0040128.tsv', dtype=None, memory=Memory(location=nilearn_cache/joblib), memory_level=1, verbose=1)\n",
      "[NiftiLabelsMasker.transform_single_imgs] Loading data from /home/aalbury/nilearn_data/cobre/fmri_0040128.nii.gz\n",
      "[NiftiLabelsMasker.transform_single_imgs] Extracting region signals\n"
     ]
    },
    {
     "name": "stdout",
     "output_type": "stream",
     "text": [
      "[NiftiLabelsMasker.transform_single_imgs] Cleaning extracted signals\n",
      "_______________________________________________filter_and_extract - 0.3s, 0.0min\n",
      "finished 80 of 146\n",
      "[NiftiLabelsMasker.fit_transform] loading data from /home/aalbury/nilearn_data/basc_multiscale_2015/template_cambridge_basc_multiscale_nii_sym/template_cambridge_basc_multiscale_sym_scale064.nii.gz\n",
      "________________________________________________________________________________\n",
      "[Memory] Calling nilearn.input_data.base_masker.filter_and_extract...\n",
      "filter_and_extract('/home/aalbury/nilearn_data/cobre/fmri_0040051.nii.gz', <nilearn.input_data.nifti_labels_masker._ExtractionFunctor object at 0x7f6ec361ab90>, \n",
      "{ 'background_label': 0,\n",
      "  'detrend': False,\n",
      "  'dtype': None,\n",
      "  'high_pass': None,\n",
      "  'labels_img': '/home/aalbury/nilearn_data/basc_multiscale_2015/template_cambridge_basc_multiscale_nii_sym/template_cambridge_basc_multiscale_sym_scale064.nii.gz',\n",
      "  'low_pass': None,\n",
      "  'mask_img': None,\n",
      "  'smoothing_fwhm': None,\n",
      "  'standardize': True,\n",
      "  'strategy': 'mean',\n",
      "  't_r': None,\n",
      "  'target_affine': None,\n",
      "  'target_shape': None}, confounds='/home/aalbury/nilearn_data/cobre/fmri_0040051.tsv', dtype=None, memory=Memory(location=nilearn_cache/joblib), memory_level=1, verbose=1)\n",
      "[NiftiLabelsMasker.transform_single_imgs] Loading data from /home/aalbury/nilearn_data/cobre/fmri_0040051.nii.gz\n",
      "[NiftiLabelsMasker.transform_single_imgs] Extracting region signals\n",
      "[NiftiLabelsMasker.transform_single_imgs] Cleaning extracted signals\n",
      "_______________________________________________filter_and_extract - 0.3s, 0.0min\n",
      "finished 81 of 146\n",
      "[NiftiLabelsMasker.fit_transform] loading data from /home/aalbury/nilearn_data/basc_multiscale_2015/template_cambridge_basc_multiscale_nii_sym/template_cambridge_basc_multiscale_sym_scale064.nii.gz\n",
      "________________________________________________________________________________\n",
      "[Memory] Calling nilearn.input_data.base_masker.filter_and_extract...\n",
      "filter_and_extract('/home/aalbury/nilearn_data/cobre/fmri_0040114.nii.gz', <nilearn.input_data.nifti_labels_masker._ExtractionFunctor object at 0x7f6ec2da9250>, \n",
      "{ 'background_label': 0,\n",
      "  'detrend': False,\n",
      "  'dtype': None,\n",
      "  'high_pass': None,\n",
      "  'labels_img': '/home/aalbury/nilearn_data/basc_multiscale_2015/template_cambridge_basc_multiscale_nii_sym/template_cambridge_basc_multiscale_sym_scale064.nii.gz',\n",
      "  'low_pass': None,\n",
      "  'mask_img': None,\n",
      "  'smoothing_fwhm': None,\n",
      "  'standardize': True,\n",
      "  'strategy': 'mean',\n",
      "  't_r': None,\n",
      "  'target_affine': None,\n",
      "  'target_shape': None}, confounds='/home/aalbury/nilearn_data/cobre/fmri_0040114.tsv', dtype=None, memory=Memory(location=nilearn_cache/joblib), memory_level=1, verbose=1)\n",
      "[NiftiLabelsMasker.transform_single_imgs] Loading data from /home/aalbury/nilearn_data/cobre/fmri_0040114.nii.gz\n",
      "[NiftiLabelsMasker.transform_single_imgs] Extracting region signals\n",
      "[NiftiLabelsMasker.transform_single_imgs] Cleaning extracted signals\n",
      "_______________________________________________filter_and_extract - 0.3s, 0.0min\n",
      "finished 82 of 146\n",
      "[NiftiLabelsMasker.fit_transform] loading data from /home/aalbury/nilearn_data/basc_multiscale_2015/template_cambridge_basc_multiscale_nii_sym/template_cambridge_basc_multiscale_sym_scale064.nii.gz\n",
      "________________________________________________________________________________\n",
      "[Memory] Calling nilearn.input_data.base_masker.filter_and_extract...\n",
      "filter_and_extract('/home/aalbury/nilearn_data/cobre/fmri_0040129.nii.gz', <nilearn.input_data.nifti_labels_masker._ExtractionFunctor object at 0x7f6ec361ab90>, \n",
      "{ 'background_label': 0,\n",
      "  'detrend': False,\n",
      "  'dtype': None,\n",
      "  'high_pass': None,\n",
      "  'labels_img': '/home/aalbury/nilearn_data/basc_multiscale_2015/template_cambridge_basc_multiscale_nii_sym/template_cambridge_basc_multiscale_sym_scale064.nii.gz',\n",
      "  'low_pass': None,\n",
      "  'mask_img': None,\n",
      "  'smoothing_fwhm': None,\n",
      "  'standardize': True,\n",
      "  'strategy': 'mean',\n",
      "  't_r': None,\n",
      "  'target_affine': None,\n",
      "  'target_shape': None}, confounds='/home/aalbury/nilearn_data/cobre/fmri_0040129.tsv', dtype=None, memory=Memory(location=nilearn_cache/joblib), memory_level=1, verbose=1)\n",
      "[NiftiLabelsMasker.transform_single_imgs] Loading data from /home/aalbury/nilearn_data/cobre/fmri_0040129.nii.gz\n",
      "[NiftiLabelsMasker.transform_single_imgs] Extracting region signals\n",
      "[NiftiLabelsMasker.transform_single_imgs] Cleaning extracted signals\n",
      "_______________________________________________filter_and_extract - 0.3s, 0.0min\n",
      "finished 83 of 146\n",
      "[NiftiLabelsMasker.fit_transform] loading data from /home/aalbury/nilearn_data/basc_multiscale_2015/template_cambridge_basc_multiscale_nii_sym/template_cambridge_basc_multiscale_sym_scale064.nii.gz\n",
      "________________________________________________________________________________\n",
      "[Memory] Calling nilearn.input_data.base_masker.filter_and_extract...\n",
      "filter_and_extract('/home/aalbury/nilearn_data/cobre/fmri_0040053.nii.gz', <nilearn.input_data.nifti_labels_masker._ExtractionFunctor object at 0x7f6ec2d88110>, \n",
      "{ 'background_label': 0,\n",
      "  'detrend': False,\n",
      "  'dtype': None,\n",
      "  'high_pass': None,\n",
      "  'labels_img': '/home/aalbury/nilearn_data/basc_multiscale_2015/template_cambridge_basc_multiscale_nii_sym/template_cambridge_basc_multiscale_sym_scale064.nii.gz',\n",
      "  'low_pass': None,\n",
      "  'mask_img': None,\n",
      "  'smoothing_fwhm': None,\n",
      "  'standardize': True,\n",
      "  'strategy': 'mean',\n",
      "  't_r': None,\n",
      "  'target_affine': None,\n",
      "  'target_shape': None}, confounds='/home/aalbury/nilearn_data/cobre/fmri_0040053.tsv', dtype=None, memory=Memory(location=nilearn_cache/joblib), memory_level=1, verbose=1)\n",
      "[NiftiLabelsMasker.transform_single_imgs] Loading data from /home/aalbury/nilearn_data/cobre/fmri_0040053.nii.gz\n",
      "[NiftiLabelsMasker.transform_single_imgs] Extracting region signals\n",
      "[NiftiLabelsMasker.transform_single_imgs] Cleaning extracted signals\n",
      "_______________________________________________filter_and_extract - 0.3s, 0.0min\n",
      "finished 84 of 146\n",
      "[NiftiLabelsMasker.fit_transform] loading data from /home/aalbury/nilearn_data/basc_multiscale_2015/template_cambridge_basc_multiscale_nii_sym/template_cambridge_basc_multiscale_sym_scale064.nii.gz\n",
      "________________________________________________________________________________\n",
      "[Memory] Calling nilearn.input_data.base_masker.filter_and_extract...\n",
      "filter_and_extract('/home/aalbury/nilearn_data/cobre/fmri_0040068.nii.gz', <nilearn.input_data.nifti_labels_masker._ExtractionFunctor object at 0x7f6ec3326d90>, \n",
      "{ 'background_label': 0,\n",
      "  'detrend': False,\n",
      "  'dtype': None,\n",
      "  'high_pass': None,\n",
      "  'labels_img': '/home/aalbury/nilearn_data/basc_multiscale_2015/template_cambridge_basc_multiscale_nii_sym/template_cambridge_basc_multiscale_sym_scale064.nii.gz',\n",
      "  'low_pass': None,\n",
      "  'mask_img': None,\n",
      "  'smoothing_fwhm': None,\n",
      "  'standardize': True,\n",
      "  'strategy': 'mean',\n",
      "  't_r': None,\n",
      "  'target_affine': None,\n",
      "  'target_shape': None}, confounds='/home/aalbury/nilearn_data/cobre/fmri_0040068.tsv', dtype=None, memory=Memory(location=nilearn_cache/joblib), memory_level=1, verbose=1)\n",
      "[NiftiLabelsMasker.transform_single_imgs] Loading data from /home/aalbury/nilearn_data/cobre/fmri_0040068.nii.gz\n",
      "[NiftiLabelsMasker.transform_single_imgs] Extracting region signals\n",
      "[NiftiLabelsMasker.transform_single_imgs] Cleaning extracted signals\n",
      "_______________________________________________filter_and_extract - 0.3s, 0.0min\n",
      "finished 85 of 146\n",
      "[NiftiLabelsMasker.fit_transform] loading data from /home/aalbury/nilearn_data/basc_multiscale_2015/template_cambridge_basc_multiscale_nii_sym/template_cambridge_basc_multiscale_sym_scale064.nii.gz\n",
      "________________________________________________________________________________\n",
      "[Memory] Calling nilearn.input_data.base_masker.filter_and_extract...\n",
      "filter_and_extract('/home/aalbury/nilearn_data/cobre/fmri_0040091.nii.gz', <nilearn.input_data.nifti_labels_masker._ExtractionFunctor object at 0x7f6ec361ab90>, \n",
      "{ 'background_label': 0,\n",
      "  'detrend': False,\n",
      "  'dtype': None,\n",
      "  'high_pass': None,\n",
      "  'labels_img': '/home/aalbury/nilearn_data/basc_multiscale_2015/template_cambridge_basc_multiscale_nii_sym/template_cambridge_basc_multiscale_sym_scale064.nii.gz',\n",
      "  'low_pass': None,\n",
      "  'mask_img': None,\n",
      "  'smoothing_fwhm': None,\n",
      "  'standardize': True,\n",
      "  'strategy': 'mean',\n",
      "  't_r': None,\n",
      "  'target_affine': None,\n",
      "  'target_shape': None}, confounds='/home/aalbury/nilearn_data/cobre/fmri_0040091.tsv', dtype=None, memory=Memory(location=nilearn_cache/joblib), memory_level=1, verbose=1)\n",
      "[NiftiLabelsMasker.transform_single_imgs] Loading data from /home/aalbury/nilearn_data/cobre/fmri_0040091.nii.gz\n",
      "[NiftiLabelsMasker.transform_single_imgs] Extracting region signals\n"
     ]
    },
    {
     "name": "stdout",
     "output_type": "stream",
     "text": [
      "[NiftiLabelsMasker.transform_single_imgs] Cleaning extracted signals\n",
      "_______________________________________________filter_and_extract - 0.3s, 0.0min\n",
      "finished 86 of 146\n",
      "[NiftiLabelsMasker.fit_transform] loading data from /home/aalbury/nilearn_data/basc_multiscale_2015/template_cambridge_basc_multiscale_nii_sym/template_cambridge_basc_multiscale_sym_scale064.nii.gz\n",
      "________________________________________________________________________________\n",
      "[Memory] Calling nilearn.input_data.base_masker.filter_and_extract...\n",
      "filter_and_extract('/home/aalbury/nilearn_data/cobre/fmri_0040135.nii.gz', <nilearn.input_data.nifti_labels_masker._ExtractionFunctor object at 0x7f6ec37751d0>, \n",
      "{ 'background_label': 0,\n",
      "  'detrend': False,\n",
      "  'dtype': None,\n",
      "  'high_pass': None,\n",
      "  'labels_img': '/home/aalbury/nilearn_data/basc_multiscale_2015/template_cambridge_basc_multiscale_nii_sym/template_cambridge_basc_multiscale_sym_scale064.nii.gz',\n",
      "  'low_pass': None,\n",
      "  'mask_img': None,\n",
      "  'smoothing_fwhm': None,\n",
      "  'standardize': True,\n",
      "  'strategy': 'mean',\n",
      "  't_r': None,\n",
      "  'target_affine': None,\n",
      "  'target_shape': None}, confounds='/home/aalbury/nilearn_data/cobre/fmri_0040135.tsv', dtype=None, memory=Memory(location=nilearn_cache/joblib), memory_level=1, verbose=1)\n",
      "[NiftiLabelsMasker.transform_single_imgs] Loading data from /home/aalbury/nilearn_data/cobre/fmri_0040135.nii.gz\n",
      "[NiftiLabelsMasker.transform_single_imgs] Extracting region signals\n",
      "[NiftiLabelsMasker.transform_single_imgs] Cleaning extracted signals\n",
      "_______________________________________________filter_and_extract - 0.3s, 0.0min\n",
      "finished 87 of 146\n",
      "[NiftiLabelsMasker.fit_transform] loading data from /home/aalbury/nilearn_data/basc_multiscale_2015/template_cambridge_basc_multiscale_nii_sym/template_cambridge_basc_multiscale_sym_scale064.nii.gz\n",
      "________________________________________________________________________________\n",
      "[Memory] Calling nilearn.input_data.base_masker.filter_and_extract...\n",
      "filter_and_extract('/home/aalbury/nilearn_data/cobre/fmri_0040093.nii.gz', <nilearn.input_data.nifti_labels_masker._ExtractionFunctor object at 0x7f6ec320bad0>, \n",
      "{ 'background_label': 0,\n",
      "  'detrend': False,\n",
      "  'dtype': None,\n",
      "  'high_pass': None,\n",
      "  'labels_img': '/home/aalbury/nilearn_data/basc_multiscale_2015/template_cambridge_basc_multiscale_nii_sym/template_cambridge_basc_multiscale_sym_scale064.nii.gz',\n",
      "  'low_pass': None,\n",
      "  'mask_img': None,\n",
      "  'smoothing_fwhm': None,\n",
      "  'standardize': True,\n",
      "  'strategy': 'mean',\n",
      "  't_r': None,\n",
      "  'target_affine': None,\n",
      "  'target_shape': None}, confounds='/home/aalbury/nilearn_data/cobre/fmri_0040093.tsv', dtype=None, memory=Memory(location=nilearn_cache/joblib), memory_level=1, verbose=1)\n",
      "[NiftiLabelsMasker.transform_single_imgs] Loading data from /home/aalbury/nilearn_data/cobre/fmri_0040093.nii.gz\n",
      "[NiftiLabelsMasker.transform_single_imgs] Extracting region signals\n",
      "[NiftiLabelsMasker.transform_single_imgs] Cleaning extracted signals\n",
      "_______________________________________________filter_and_extract - 0.3s, 0.0min\n",
      "finished 88 of 146\n",
      "[NiftiLabelsMasker.fit_transform] loading data from /home/aalbury/nilearn_data/basc_multiscale_2015/template_cambridge_basc_multiscale_nii_sym/template_cambridge_basc_multiscale_sym_scale064.nii.gz\n",
      "________________________________________________________________________________\n",
      "[Memory] Calling nilearn.input_data.base_masker.filter_and_extract...\n",
      "filter_and_extract('/home/aalbury/nilearn_data/cobre/fmri_0040036.nii.gz', <nilearn.input_data.nifti_labels_masker._ExtractionFunctor object at 0x7f6ed1476610>, \n",
      "{ 'background_label': 0,\n",
      "  'detrend': False,\n",
      "  'dtype': None,\n",
      "  'high_pass': None,\n",
      "  'labels_img': '/home/aalbury/nilearn_data/basc_multiscale_2015/template_cambridge_basc_multiscale_nii_sym/template_cambridge_basc_multiscale_sym_scale064.nii.gz',\n",
      "  'low_pass': None,\n",
      "  'mask_img': None,\n",
      "  'smoothing_fwhm': None,\n",
      "  'standardize': True,\n",
      "  'strategy': 'mean',\n",
      "  't_r': None,\n",
      "  'target_affine': None,\n",
      "  'target_shape': None}, confounds='/home/aalbury/nilearn_data/cobre/fmri_0040036.tsv', dtype=None, memory=Memory(location=nilearn_cache/joblib), memory_level=1, verbose=1)\n",
      "[NiftiLabelsMasker.transform_single_imgs] Loading data from /home/aalbury/nilearn_data/cobre/fmri_0040036.nii.gz\n",
      "[NiftiLabelsMasker.transform_single_imgs] Extracting region signals\n",
      "[NiftiLabelsMasker.transform_single_imgs] Cleaning extracted signals\n",
      "_______________________________________________filter_and_extract - 0.3s, 0.0min\n",
      "finished 89 of 146\n",
      "[NiftiLabelsMasker.fit_transform] loading data from /home/aalbury/nilearn_data/basc_multiscale_2015/template_cambridge_basc_multiscale_nii_sym/template_cambridge_basc_multiscale_sym_scale064.nii.gz\n",
      "________________________________________________________________________________\n",
      "[Memory] Calling nilearn.input_data.base_masker.filter_and_extract...\n",
      "filter_and_extract('/home/aalbury/nilearn_data/cobre/fmri_0040104.nii.gz', <nilearn.input_data.nifti_labels_masker._ExtractionFunctor object at 0x7f6ec2d9d510>, \n",
      "{ 'background_label': 0,\n",
      "  'detrend': False,\n",
      "  'dtype': None,\n",
      "  'high_pass': None,\n",
      "  'labels_img': '/home/aalbury/nilearn_data/basc_multiscale_2015/template_cambridge_basc_multiscale_nii_sym/template_cambridge_basc_multiscale_sym_scale064.nii.gz',\n",
      "  'low_pass': None,\n",
      "  'mask_img': None,\n",
      "  'smoothing_fwhm': None,\n",
      "  'standardize': True,\n",
      "  'strategy': 'mean',\n",
      "  't_r': None,\n",
      "  'target_affine': None,\n",
      "  'target_shape': None}, confounds='/home/aalbury/nilearn_data/cobre/fmri_0040104.tsv', dtype=None, memory=Memory(location=nilearn_cache/joblib), memory_level=1, verbose=1)\n",
      "[NiftiLabelsMasker.transform_single_imgs] Loading data from /home/aalbury/nilearn_data/cobre/fmri_0040104.nii.gz\n",
      "[NiftiLabelsMasker.transform_single_imgs] Extracting region signals\n",
      "[NiftiLabelsMasker.transform_single_imgs] Cleaning extracted signals\n",
      "_______________________________________________filter_and_extract - 0.3s, 0.0min\n",
      "finished 90 of 146\n",
      "[NiftiLabelsMasker.fit_transform] loading data from /home/aalbury/nilearn_data/basc_multiscale_2015/template_cambridge_basc_multiscale_nii_sym/template_cambridge_basc_multiscale_sym_scale064.nii.gz\n",
      "________________________________________________________________________________\n",
      "[Memory] Calling nilearn.input_data.base_masker.filter_and_extract...\n",
      "filter_and_extract('/home/aalbury/nilearn_data/cobre/fmri_0040120.nii.gz', <nilearn.input_data.nifti_labels_masker._ExtractionFunctor object at 0x7f6ec377e450>, \n",
      "{ 'background_label': 0,\n",
      "  'detrend': False,\n",
      "  'dtype': None,\n",
      "  'high_pass': None,\n",
      "  'labels_img': '/home/aalbury/nilearn_data/basc_multiscale_2015/template_cambridge_basc_multiscale_nii_sym/template_cambridge_basc_multiscale_sym_scale064.nii.gz',\n",
      "  'low_pass': None,\n",
      "  'mask_img': None,\n",
      "  'smoothing_fwhm': None,\n",
      "  'standardize': True,\n",
      "  'strategy': 'mean',\n",
      "  't_r': None,\n",
      "  'target_affine': None,\n",
      "  'target_shape': None}, confounds='/home/aalbury/nilearn_data/cobre/fmri_0040120.tsv', dtype=None, memory=Memory(location=nilearn_cache/joblib), memory_level=1, verbose=1)\n",
      "[NiftiLabelsMasker.transform_single_imgs] Loading data from /home/aalbury/nilearn_data/cobre/fmri_0040120.nii.gz\n",
      "[NiftiLabelsMasker.transform_single_imgs] Extracting region signals\n",
      "[NiftiLabelsMasker.transform_single_imgs] Cleaning extracted signals\n",
      "_______________________________________________filter_and_extract - 0.3s, 0.0min\n",
      "finished 91 of 146\n",
      "[NiftiLabelsMasker.fit_transform] loading data from /home/aalbury/nilearn_data/basc_multiscale_2015/template_cambridge_basc_multiscale_nii_sym/template_cambridge_basc_multiscale_sym_scale064.nii.gz\n",
      "________________________________________________________________________________\n",
      "[Memory] Calling nilearn.input_data.base_masker.filter_and_extract...\n",
      "filter_and_extract('/home/aalbury/nilearn_data/cobre/fmri_0040127.nii.gz', <nilearn.input_data.nifti_labels_masker._ExtractionFunctor object at 0x7f6ec37751d0>, \n",
      "{ 'background_label': 0,\n",
      "  'detrend': False,\n",
      "  'dtype': None,\n",
      "  'high_pass': None,\n",
      "  'labels_img': '/home/aalbury/nilearn_data/basc_multiscale_2015/template_cambridge_basc_multiscale_nii_sym/template_cambridge_basc_multiscale_sym_scale064.nii.gz',\n",
      "  'low_pass': None,\n",
      "  'mask_img': None,\n",
      "  'smoothing_fwhm': None,\n",
      "  'standardize': True,\n",
      "  'strategy': 'mean',\n",
      "  't_r': None,\n",
      "  'target_affine': None,\n",
      "  'target_shape': None}, confounds='/home/aalbury/nilearn_data/cobre/fmri_0040127.tsv', dtype=None, memory=Memory(location=nilearn_cache/joblib), memory_level=1, verbose=1)\n",
      "[NiftiLabelsMasker.transform_single_imgs] Loading data from /home/aalbury/nilearn_data/cobre/fmri_0040127.nii.gz\n",
      "[NiftiLabelsMasker.transform_single_imgs] Extracting region signals\n"
     ]
    },
    {
     "name": "stdout",
     "output_type": "stream",
     "text": [
      "[NiftiLabelsMasker.transform_single_imgs] Cleaning extracted signals\n",
      "_______________________________________________filter_and_extract - 0.3s, 0.0min\n",
      "finished 92 of 146\n",
      "[NiftiLabelsMasker.fit_transform] loading data from /home/aalbury/nilearn_data/basc_multiscale_2015/template_cambridge_basc_multiscale_nii_sym/template_cambridge_basc_multiscale_sym_scale064.nii.gz\n",
      "________________________________________________________________________________\n",
      "[Memory] Calling nilearn.input_data.base_masker.filter_and_extract...\n",
      "filter_and_extract('/home/aalbury/nilearn_data/cobre/fmri_0040056.nii.gz', <nilearn.input_data.nifti_labels_masker._ExtractionFunctor object at 0x7f6ec2d86710>, \n",
      "{ 'background_label': 0,\n",
      "  'detrend': False,\n",
      "  'dtype': None,\n",
      "  'high_pass': None,\n",
      "  'labels_img': '/home/aalbury/nilearn_data/basc_multiscale_2015/template_cambridge_basc_multiscale_nii_sym/template_cambridge_basc_multiscale_sym_scale064.nii.gz',\n",
      "  'low_pass': None,\n",
      "  'mask_img': None,\n",
      "  'smoothing_fwhm': None,\n",
      "  'standardize': True,\n",
      "  'strategy': 'mean',\n",
      "  't_r': None,\n",
      "  'target_affine': None,\n",
      "  'target_shape': None}, confounds='/home/aalbury/nilearn_data/cobre/fmri_0040056.tsv', dtype=None, memory=Memory(location=nilearn_cache/joblib), memory_level=1, verbose=1)\n",
      "[NiftiLabelsMasker.transform_single_imgs] Loading data from /home/aalbury/nilearn_data/cobre/fmri_0040056.nii.gz\n",
      "[NiftiLabelsMasker.transform_single_imgs] Extracting region signals\n",
      "[NiftiLabelsMasker.transform_single_imgs] Cleaning extracted signals\n",
      "_______________________________________________filter_and_extract - 0.3s, 0.0min\n",
      "finished 93 of 146\n",
      "[NiftiLabelsMasker.fit_transform] loading data from /home/aalbury/nilearn_data/basc_multiscale_2015/template_cambridge_basc_multiscale_nii_sym/template_cambridge_basc_multiscale_sym_scale064.nii.gz\n",
      "________________________________________________________________________________\n",
      "[Memory] Calling nilearn.input_data.base_masker.filter_and_extract...\n",
      "filter_and_extract('/home/aalbury/nilearn_data/cobre/fmri_0040058.nii.gz', <nilearn.input_data.nifti_labels_masker._ExtractionFunctor object at 0x7f6ec332c210>, \n",
      "{ 'background_label': 0,\n",
      "  'detrend': False,\n",
      "  'dtype': None,\n",
      "  'high_pass': None,\n",
      "  'labels_img': '/home/aalbury/nilearn_data/basc_multiscale_2015/template_cambridge_basc_multiscale_nii_sym/template_cambridge_basc_multiscale_sym_scale064.nii.gz',\n",
      "  'low_pass': None,\n",
      "  'mask_img': None,\n",
      "  'smoothing_fwhm': None,\n",
      "  'standardize': True,\n",
      "  'strategy': 'mean',\n",
      "  't_r': None,\n",
      "  'target_affine': None,\n",
      "  'target_shape': None}, confounds='/home/aalbury/nilearn_data/cobre/fmri_0040058.tsv', dtype=None, memory=Memory(location=nilearn_cache/joblib), memory_level=1, verbose=1)\n",
      "[NiftiLabelsMasker.transform_single_imgs] Loading data from /home/aalbury/nilearn_data/cobre/fmri_0040058.nii.gz\n",
      "[NiftiLabelsMasker.transform_single_imgs] Extracting region signals\n",
      "[NiftiLabelsMasker.transform_single_imgs] Cleaning extracted signals\n",
      "_______________________________________________filter_and_extract - 0.3s, 0.0min\n",
      "finished 94 of 146\n",
      "[NiftiLabelsMasker.fit_transform] loading data from /home/aalbury/nilearn_data/basc_multiscale_2015/template_cambridge_basc_multiscale_nii_sym/template_cambridge_basc_multiscale_sym_scale064.nii.gz\n",
      "________________________________________________________________________________\n",
      "[Memory] Calling nilearn.input_data.base_masker.filter_and_extract...\n",
      "filter_and_extract('/home/aalbury/nilearn_data/cobre/fmri_0040087.nii.gz', <nilearn.input_data.nifti_labels_masker._ExtractionFunctor object at 0x7f6ec2d88110>, \n",
      "{ 'background_label': 0,\n",
      "  'detrend': False,\n",
      "  'dtype': None,\n",
      "  'high_pass': None,\n",
      "  'labels_img': '/home/aalbury/nilearn_data/basc_multiscale_2015/template_cambridge_basc_multiscale_nii_sym/template_cambridge_basc_multiscale_sym_scale064.nii.gz',\n",
      "  'low_pass': None,\n",
      "  'mask_img': None,\n",
      "  'smoothing_fwhm': None,\n",
      "  'standardize': True,\n",
      "  'strategy': 'mean',\n",
      "  't_r': None,\n",
      "  'target_affine': None,\n",
      "  'target_shape': None}, confounds='/home/aalbury/nilearn_data/cobre/fmri_0040087.tsv', dtype=None, memory=Memory(location=nilearn_cache/joblib), memory_level=1, verbose=1)\n",
      "[NiftiLabelsMasker.transform_single_imgs] Loading data from /home/aalbury/nilearn_data/cobre/fmri_0040087.nii.gz\n",
      "[NiftiLabelsMasker.transform_single_imgs] Extracting region signals\n",
      "[NiftiLabelsMasker.transform_single_imgs] Cleaning extracted signals\n",
      "_______________________________________________filter_and_extract - 0.3s, 0.0min\n",
      "finished 95 of 146\n",
      "[NiftiLabelsMasker.fit_transform] loading data from /home/aalbury/nilearn_data/basc_multiscale_2015/template_cambridge_basc_multiscale_nii_sym/template_cambridge_basc_multiscale_sym_scale064.nii.gz\n",
      "________________________________________________________________________________\n",
      "[Memory] Calling nilearn.input_data.base_masker.filter_and_extract...\n",
      "filter_and_extract('/home/aalbury/nilearn_data/cobre/fmri_0040115.nii.gz', <nilearn.input_data.nifti_labels_masker._ExtractionFunctor object at 0x7f6ec2d88110>, \n",
      "{ 'background_label': 0,\n",
      "  'detrend': False,\n",
      "  'dtype': None,\n",
      "  'high_pass': None,\n",
      "  'labels_img': '/home/aalbury/nilearn_data/basc_multiscale_2015/template_cambridge_basc_multiscale_nii_sym/template_cambridge_basc_multiscale_sym_scale064.nii.gz',\n",
      "  'low_pass': None,\n",
      "  'mask_img': None,\n",
      "  'smoothing_fwhm': None,\n",
      "  'standardize': True,\n",
      "  'strategy': 'mean',\n",
      "  't_r': None,\n",
      "  'target_affine': None,\n",
      "  'target_shape': None}, confounds='/home/aalbury/nilearn_data/cobre/fmri_0040115.tsv', dtype=None, memory=Memory(location=nilearn_cache/joblib), memory_level=1, verbose=1)\n",
      "[NiftiLabelsMasker.transform_single_imgs] Loading data from /home/aalbury/nilearn_data/cobre/fmri_0040115.nii.gz\n",
      "[NiftiLabelsMasker.transform_single_imgs] Extracting region signals\n",
      "[NiftiLabelsMasker.transform_single_imgs] Cleaning extracted signals\n",
      "_______________________________________________filter_and_extract - 0.3s, 0.0min\n",
      "finished 96 of 146\n",
      "[NiftiLabelsMasker.fit_transform] loading data from /home/aalbury/nilearn_data/basc_multiscale_2015/template_cambridge_basc_multiscale_nii_sym/template_cambridge_basc_multiscale_sym_scale064.nii.gz\n",
      "________________________________________________________________________________\n",
      "[Memory] Calling nilearn.input_data.base_masker.filter_and_extract...\n",
      "filter_and_extract('/home/aalbury/nilearn_data/cobre/fmri_0040138.nii.gz', <nilearn.input_data.nifti_labels_masker._ExtractionFunctor object at 0x7f6ed1476610>, \n",
      "{ 'background_label': 0,\n",
      "  'detrend': False,\n",
      "  'dtype': None,\n",
      "  'high_pass': None,\n",
      "  'labels_img': '/home/aalbury/nilearn_data/basc_multiscale_2015/template_cambridge_basc_multiscale_nii_sym/template_cambridge_basc_multiscale_sym_scale064.nii.gz',\n",
      "  'low_pass': None,\n",
      "  'mask_img': None,\n",
      "  'smoothing_fwhm': None,\n",
      "  'standardize': True,\n",
      "  'strategy': 'mean',\n",
      "  't_r': None,\n",
      "  'target_affine': None,\n",
      "  'target_shape': None}, confounds='/home/aalbury/nilearn_data/cobre/fmri_0040138.tsv', dtype=None, memory=Memory(location=nilearn_cache/joblib), memory_level=1, verbose=1)\n",
      "[NiftiLabelsMasker.transform_single_imgs] Loading data from /home/aalbury/nilearn_data/cobre/fmri_0040138.nii.gz\n",
      "[NiftiLabelsMasker.transform_single_imgs] Extracting region signals\n",
      "[NiftiLabelsMasker.transform_single_imgs] Cleaning extracted signals\n",
      "_______________________________________________filter_and_extract - 0.3s, 0.0min\n",
      "finished 97 of 146\n",
      "[NiftiLabelsMasker.fit_transform] loading data from /home/aalbury/nilearn_data/basc_multiscale_2015/template_cambridge_basc_multiscale_nii_sym/template_cambridge_basc_multiscale_sym_scale064.nii.gz\n",
      "________________________________________________________________________________\n",
      "[Memory] Calling nilearn.input_data.base_masker.filter_and_extract...\n",
      "filter_and_extract('/home/aalbury/nilearn_data/cobre/fmri_0040139.nii.gz', <nilearn.input_data.nifti_labels_masker._ExtractionFunctor object at 0x7f6ed1e15850>, \n",
      "{ 'background_label': 0,\n",
      "  'detrend': False,\n",
      "  'dtype': None,\n",
      "  'high_pass': None,\n",
      "  'labels_img': '/home/aalbury/nilearn_data/basc_multiscale_2015/template_cambridge_basc_multiscale_nii_sym/template_cambridge_basc_multiscale_sym_scale064.nii.gz',\n",
      "  'low_pass': None,\n",
      "  'mask_img': None,\n",
      "  'smoothing_fwhm': None,\n",
      "  'standardize': True,\n",
      "  'strategy': 'mean',\n",
      "  't_r': None,\n",
      "  'target_affine': None,\n",
      "  'target_shape': None}, confounds='/home/aalbury/nilearn_data/cobre/fmri_0040139.tsv', dtype=None, memory=Memory(location=nilearn_cache/joblib), memory_level=1, verbose=1)\n",
      "[NiftiLabelsMasker.transform_single_imgs] Loading data from /home/aalbury/nilearn_data/cobre/fmri_0040139.nii.gz\n",
      "[NiftiLabelsMasker.transform_single_imgs] Extracting region signals\n"
     ]
    },
    {
     "name": "stdout",
     "output_type": "stream",
     "text": [
      "[NiftiLabelsMasker.transform_single_imgs] Cleaning extracted signals\n",
      "_______________________________________________filter_and_extract - 0.3s, 0.0min\n",
      "finished 98 of 146\n",
      "[NiftiLabelsMasker.fit_transform] loading data from /home/aalbury/nilearn_data/basc_multiscale_2015/template_cambridge_basc_multiscale_nii_sym/template_cambridge_basc_multiscale_sym_scale064.nii.gz\n",
      "________________________________________________________________________________\n",
      "[Memory] Calling nilearn.input_data.base_masker.filter_and_extract...\n",
      "filter_and_extract('/home/aalbury/nilearn_data/cobre/fmri_0040017.nii.gz', <nilearn.input_data.nifti_labels_masker._ExtractionFunctor object at 0x7f6ed008fc90>, \n",
      "{ 'background_label': 0,\n",
      "  'detrend': False,\n",
      "  'dtype': None,\n",
      "  'high_pass': None,\n",
      "  'labels_img': '/home/aalbury/nilearn_data/basc_multiscale_2015/template_cambridge_basc_multiscale_nii_sym/template_cambridge_basc_multiscale_sym_scale064.nii.gz',\n",
      "  'low_pass': None,\n",
      "  'mask_img': None,\n",
      "  'smoothing_fwhm': None,\n",
      "  'standardize': True,\n",
      "  'strategy': 'mean',\n",
      "  't_r': None,\n",
      "  'target_affine': None,\n",
      "  'target_shape': None}, confounds='/home/aalbury/nilearn_data/cobre/fmri_0040017.tsv', dtype=None, memory=Memory(location=nilearn_cache/joblib), memory_level=1, verbose=1)\n",
      "[NiftiLabelsMasker.transform_single_imgs] Loading data from /home/aalbury/nilearn_data/cobre/fmri_0040017.nii.gz\n",
      "[NiftiLabelsMasker.transform_single_imgs] Extracting region signals\n",
      "[NiftiLabelsMasker.transform_single_imgs] Cleaning extracted signals\n",
      "_______________________________________________filter_and_extract - 0.3s, 0.0min\n",
      "finished 99 of 146\n",
      "[NiftiLabelsMasker.fit_transform] loading data from /home/aalbury/nilearn_data/basc_multiscale_2015/template_cambridge_basc_multiscale_nii_sym/template_cambridge_basc_multiscale_sym_scale064.nii.gz\n",
      "________________________________________________________________________________\n",
      "[Memory] Calling nilearn.input_data.base_masker.filter_and_extract...\n",
      "filter_and_extract('/home/aalbury/nilearn_data/cobre/fmri_0040035.nii.gz', <nilearn.input_data.nifti_labels_masker._ExtractionFunctor object at 0x7f6ec3242d50>, \n",
      "{ 'background_label': 0,\n",
      "  'detrend': False,\n",
      "  'dtype': None,\n",
      "  'high_pass': None,\n",
      "  'labels_img': '/home/aalbury/nilearn_data/basc_multiscale_2015/template_cambridge_basc_multiscale_nii_sym/template_cambridge_basc_multiscale_sym_scale064.nii.gz',\n",
      "  'low_pass': None,\n",
      "  'mask_img': None,\n",
      "  'smoothing_fwhm': None,\n",
      "  'standardize': True,\n",
      "  'strategy': 'mean',\n",
      "  't_r': None,\n",
      "  'target_affine': None,\n",
      "  'target_shape': None}, confounds='/home/aalbury/nilearn_data/cobre/fmri_0040035.tsv', dtype=None, memory=Memory(location=nilearn_cache/joblib), memory_level=1, verbose=1)\n",
      "[NiftiLabelsMasker.transform_single_imgs] Loading data from /home/aalbury/nilearn_data/cobre/fmri_0040035.nii.gz\n",
      "[NiftiLabelsMasker.transform_single_imgs] Extracting region signals\n",
      "[NiftiLabelsMasker.transform_single_imgs] Cleaning extracted signals\n",
      "_______________________________________________filter_and_extract - 0.3s, 0.0min\n",
      "finished 100 of 146\n",
      "[NiftiLabelsMasker.fit_transform] loading data from /home/aalbury/nilearn_data/basc_multiscale_2015/template_cambridge_basc_multiscale_nii_sym/template_cambridge_basc_multiscale_sym_scale064.nii.gz\n",
      "________________________________________________________________________________\n",
      "[Memory] Calling nilearn.input_data.base_masker.filter_and_extract...\n",
      "filter_and_extract('/home/aalbury/nilearn_data/cobre/fmri_0040045.nii.gz', <nilearn.input_data.nifti_labels_masker._ExtractionFunctor object at 0x7f6ed3893d50>, \n",
      "{ 'background_label': 0,\n",
      "  'detrend': False,\n",
      "  'dtype': None,\n",
      "  'high_pass': None,\n",
      "  'labels_img': '/home/aalbury/nilearn_data/basc_multiscale_2015/template_cambridge_basc_multiscale_nii_sym/template_cambridge_basc_multiscale_sym_scale064.nii.gz',\n",
      "  'low_pass': None,\n",
      "  'mask_img': None,\n",
      "  'smoothing_fwhm': None,\n",
      "  'standardize': True,\n",
      "  'strategy': 'mean',\n",
      "  't_r': None,\n",
      "  'target_affine': None,\n",
      "  'target_shape': None}, confounds='/home/aalbury/nilearn_data/cobre/fmri_0040045.tsv', dtype=None, memory=Memory(location=nilearn_cache/joblib), memory_level=1, verbose=1)\n",
      "[NiftiLabelsMasker.transform_single_imgs] Loading data from /home/aalbury/nilearn_data/cobre/fmri_0040045.nii.gz\n",
      "[NiftiLabelsMasker.transform_single_imgs] Extracting region signals\n",
      "[NiftiLabelsMasker.transform_single_imgs] Cleaning extracted signals\n",
      "_______________________________________________filter_and_extract - 0.3s, 0.0min\n",
      "finished 101 of 146\n",
      "[NiftiLabelsMasker.fit_transform] loading data from /home/aalbury/nilearn_data/basc_multiscale_2015/template_cambridge_basc_multiscale_nii_sym/template_cambridge_basc_multiscale_sym_scale064.nii.gz\n",
      "________________________________________________________________________________\n",
      "[Memory] Calling nilearn.input_data.base_masker.filter_and_extract...\n",
      "filter_and_extract('/home/aalbury/nilearn_data/cobre/fmri_0040055.nii.gz', <nilearn.input_data.nifti_labels_masker._ExtractionFunctor object at 0x7f6ed1e20d10>, \n",
      "{ 'background_label': 0,\n",
      "  'detrend': False,\n",
      "  'dtype': None,\n",
      "  'high_pass': None,\n",
      "  'labels_img': '/home/aalbury/nilearn_data/basc_multiscale_2015/template_cambridge_basc_multiscale_nii_sym/template_cambridge_basc_multiscale_sym_scale064.nii.gz',\n",
      "  'low_pass': None,\n",
      "  'mask_img': None,\n",
      "  'smoothing_fwhm': None,\n",
      "  'standardize': True,\n",
      "  'strategy': 'mean',\n",
      "  't_r': None,\n",
      "  'target_affine': None,\n",
      "  'target_shape': None}, confounds='/home/aalbury/nilearn_data/cobre/fmri_0040055.tsv', dtype=None, memory=Memory(location=nilearn_cache/joblib), memory_level=1, verbose=1)\n",
      "[NiftiLabelsMasker.transform_single_imgs] Loading data from /home/aalbury/nilearn_data/cobre/fmri_0040055.nii.gz\n",
      "[NiftiLabelsMasker.transform_single_imgs] Extracting region signals\n",
      "[NiftiLabelsMasker.transform_single_imgs] Cleaning extracted signals\n",
      "_______________________________________________filter_and_extract - 0.3s, 0.0min\n",
      "finished 102 of 146\n",
      "[NiftiLabelsMasker.fit_transform] loading data from /home/aalbury/nilearn_data/basc_multiscale_2015/template_cambridge_basc_multiscale_nii_sym/template_cambridge_basc_multiscale_sym_scale064.nii.gz\n",
      "________________________________________________________________________________\n",
      "[Memory] Calling nilearn.input_data.base_masker.filter_and_extract...\n",
      "filter_and_extract('/home/aalbury/nilearn_data/cobre/fmri_0040014.nii.gz', <nilearn.input_data.nifti_labels_masker._ExtractionFunctor object at 0x7f6ec3442ad0>, \n",
      "{ 'background_label': 0,\n",
      "  'detrend': False,\n",
      "  'dtype': None,\n",
      "  'high_pass': None,\n",
      "  'labels_img': '/home/aalbury/nilearn_data/basc_multiscale_2015/template_cambridge_basc_multiscale_nii_sym/template_cambridge_basc_multiscale_sym_scale064.nii.gz',\n",
      "  'low_pass': None,\n",
      "  'mask_img': None,\n",
      "  'smoothing_fwhm': None,\n",
      "  'standardize': True,\n",
      "  'strategy': 'mean',\n",
      "  't_r': None,\n",
      "  'target_affine': None,\n",
      "  'target_shape': None}, confounds='/home/aalbury/nilearn_data/cobre/fmri_0040014.tsv', dtype=None, memory=Memory(location=nilearn_cache/joblib), memory_level=1, verbose=1)\n",
      "[NiftiLabelsMasker.transform_single_imgs] Loading data from /home/aalbury/nilearn_data/cobre/fmri_0040014.nii.gz\n",
      "[NiftiLabelsMasker.transform_single_imgs] Extracting region signals\n",
      "[NiftiLabelsMasker.transform_single_imgs] Cleaning extracted signals\n",
      "_______________________________________________filter_and_extract - 0.3s, 0.0min\n",
      "finished 103 of 146\n",
      "[NiftiLabelsMasker.fit_transform] loading data from /home/aalbury/nilearn_data/basc_multiscale_2015/template_cambridge_basc_multiscale_nii_sym/template_cambridge_basc_multiscale_sym_scale064.nii.gz\n",
      "________________________________________________________________________________\n",
      "[Memory] Calling nilearn.input_data.base_masker.filter_and_extract...\n",
      "filter_and_extract('/home/aalbury/nilearn_data/cobre/fmri_0040033.nii.gz', <nilearn.input_data.nifti_labels_masker._ExtractionFunctor object at 0x7f6ec3442ad0>, \n",
      "{ 'background_label': 0,\n",
      "  'detrend': False,\n",
      "  'dtype': None,\n",
      "  'high_pass': None,\n",
      "  'labels_img': '/home/aalbury/nilearn_data/basc_multiscale_2015/template_cambridge_basc_multiscale_nii_sym/template_cambridge_basc_multiscale_sym_scale064.nii.gz',\n",
      "  'low_pass': None,\n",
      "  'mask_img': None,\n",
      "  'smoothing_fwhm': None,\n",
      "  'standardize': True,\n",
      "  'strategy': 'mean',\n",
      "  't_r': None,\n",
      "  'target_affine': None,\n",
      "  'target_shape': None}, confounds='/home/aalbury/nilearn_data/cobre/fmri_0040033.tsv', dtype=None, memory=Memory(location=nilearn_cache/joblib), memory_level=1, verbose=1)\n",
      "[NiftiLabelsMasker.transform_single_imgs] Loading data from /home/aalbury/nilearn_data/cobre/fmri_0040033.nii.gz\n",
      "[NiftiLabelsMasker.transform_single_imgs] Extracting region signals\n"
     ]
    },
    {
     "name": "stdout",
     "output_type": "stream",
     "text": [
      "[NiftiLabelsMasker.transform_single_imgs] Cleaning extracted signals\n",
      "_______________________________________________filter_and_extract - 0.3s, 0.0min\n",
      "finished 104 of 146\n",
      "[NiftiLabelsMasker.fit_transform] loading data from /home/aalbury/nilearn_data/basc_multiscale_2015/template_cambridge_basc_multiscale_nii_sym/template_cambridge_basc_multiscale_sym_scale064.nii.gz\n",
      "________________________________________________________________________________\n",
      "[Memory] Calling nilearn.input_data.base_masker.filter_and_extract...\n",
      "filter_and_extract('/home/aalbury/nilearn_data/cobre/fmri_0040048.nii.gz', <nilearn.input_data.nifti_labels_masker._ExtractionFunctor object at 0x7f6ec2db3b10>, \n",
      "{ 'background_label': 0,\n",
      "  'detrend': False,\n",
      "  'dtype': None,\n",
      "  'high_pass': None,\n",
      "  'labels_img': '/home/aalbury/nilearn_data/basc_multiscale_2015/template_cambridge_basc_multiscale_nii_sym/template_cambridge_basc_multiscale_sym_scale064.nii.gz',\n",
      "  'low_pass': None,\n",
      "  'mask_img': None,\n",
      "  'smoothing_fwhm': None,\n",
      "  'standardize': True,\n",
      "  'strategy': 'mean',\n",
      "  't_r': None,\n",
      "  'target_affine': None,\n",
      "  'target_shape': None}, confounds='/home/aalbury/nilearn_data/cobre/fmri_0040048.tsv', dtype=None, memory=Memory(location=nilearn_cache/joblib), memory_level=1, verbose=1)\n",
      "[NiftiLabelsMasker.transform_single_imgs] Loading data from /home/aalbury/nilearn_data/cobre/fmri_0040048.nii.gz\n",
      "[NiftiLabelsMasker.transform_single_imgs] Extracting region signals\n",
      "[NiftiLabelsMasker.transform_single_imgs] Cleaning extracted signals\n",
      "_______________________________________________filter_and_extract - 0.3s, 0.0min\n",
      "finished 105 of 146\n",
      "[NiftiLabelsMasker.fit_transform] loading data from /home/aalbury/nilearn_data/basc_multiscale_2015/template_cambridge_basc_multiscale_nii_sym/template_cambridge_basc_multiscale_sym_scale064.nii.gz\n",
      "________________________________________________________________________________\n",
      "[Memory] Calling nilearn.input_data.base_masker.filter_and_extract...\n",
      "filter_and_extract('/home/aalbury/nilearn_data/cobre/fmri_0040067.nii.gz', <nilearn.input_data.nifti_labels_masker._ExtractionFunctor object at 0x7f6ec2d88110>, \n",
      "{ 'background_label': 0,\n",
      "  'detrend': False,\n",
      "  'dtype': None,\n",
      "  'high_pass': None,\n",
      "  'labels_img': '/home/aalbury/nilearn_data/basc_multiscale_2015/template_cambridge_basc_multiscale_nii_sym/template_cambridge_basc_multiscale_sym_scale064.nii.gz',\n",
      "  'low_pass': None,\n",
      "  'mask_img': None,\n",
      "  'smoothing_fwhm': None,\n",
      "  'standardize': True,\n",
      "  'strategy': 'mean',\n",
      "  't_r': None,\n",
      "  'target_affine': None,\n",
      "  'target_shape': None}, confounds='/home/aalbury/nilearn_data/cobre/fmri_0040067.tsv', dtype=None, memory=Memory(location=nilearn_cache/joblib), memory_level=1, verbose=1)\n",
      "[NiftiLabelsMasker.transform_single_imgs] Loading data from /home/aalbury/nilearn_data/cobre/fmri_0040067.nii.gz\n",
      "[NiftiLabelsMasker.transform_single_imgs] Extracting region signals\n",
      "[NiftiLabelsMasker.transform_single_imgs] Cleaning extracted signals\n",
      "_______________________________________________filter_and_extract - 0.3s, 0.0min\n",
      "finished 106 of 146\n",
      "[NiftiLabelsMasker.fit_transform] loading data from /home/aalbury/nilearn_data/basc_multiscale_2015/template_cambridge_basc_multiscale_nii_sym/template_cambridge_basc_multiscale_sym_scale064.nii.gz\n",
      "________________________________________________________________________________\n",
      "[Memory] Calling nilearn.input_data.base_masker.filter_and_extract...\n",
      "filter_and_extract('/home/aalbury/nilearn_data/cobre/fmri_0040107.nii.gz', <nilearn.input_data.nifti_labels_masker._ExtractionFunctor object at 0x7f6ed1e20d10>, \n",
      "{ 'background_label': 0,\n",
      "  'detrend': False,\n",
      "  'dtype': None,\n",
      "  'high_pass': None,\n",
      "  'labels_img': '/home/aalbury/nilearn_data/basc_multiscale_2015/template_cambridge_basc_multiscale_nii_sym/template_cambridge_basc_multiscale_sym_scale064.nii.gz',\n",
      "  'low_pass': None,\n",
      "  'mask_img': None,\n",
      "  'smoothing_fwhm': None,\n",
      "  'standardize': True,\n",
      "  'strategy': 'mean',\n",
      "  't_r': None,\n",
      "  'target_affine': None,\n",
      "  'target_shape': None}, confounds='/home/aalbury/nilearn_data/cobre/fmri_0040107.tsv', dtype=None, memory=Memory(location=nilearn_cache/joblib), memory_level=1, verbose=1)\n",
      "[NiftiLabelsMasker.transform_single_imgs] Loading data from /home/aalbury/nilearn_data/cobre/fmri_0040107.nii.gz\n",
      "[NiftiLabelsMasker.transform_single_imgs] Extracting region signals\n",
      "[NiftiLabelsMasker.transform_single_imgs] Cleaning extracted signals\n",
      "_______________________________________________filter_and_extract - 0.3s, 0.0min\n",
      "finished 107 of 146\n",
      "[NiftiLabelsMasker.fit_transform] loading data from /home/aalbury/nilearn_data/basc_multiscale_2015/template_cambridge_basc_multiscale_nii_sym/template_cambridge_basc_multiscale_sym_scale064.nii.gz\n",
      "________________________________________________________________________________\n",
      "[Memory] Calling nilearn.input_data.base_masker.filter_and_extract...\n",
      "filter_and_extract('/home/aalbury/nilearn_data/cobre/fmri_0040013.nii.gz', <nilearn.input_data.nifti_labels_masker._ExtractionFunctor object at 0x7f6ec3242d50>, \n",
      "{ 'background_label': 0,\n",
      "  'detrend': False,\n",
      "  'dtype': None,\n",
      "  'high_pass': None,\n",
      "  'labels_img': '/home/aalbury/nilearn_data/basc_multiscale_2015/template_cambridge_basc_multiscale_nii_sym/template_cambridge_basc_multiscale_sym_scale064.nii.gz',\n",
      "  'low_pass': None,\n",
      "  'mask_img': None,\n",
      "  'smoothing_fwhm': None,\n",
      "  'standardize': True,\n",
      "  'strategy': 'mean',\n",
      "  't_r': None,\n",
      "  'target_affine': None,\n",
      "  'target_shape': None}, confounds='/home/aalbury/nilearn_data/cobre/fmri_0040013.tsv', dtype=None, memory=Memory(location=nilearn_cache/joblib), memory_level=1, verbose=1)\n",
      "[NiftiLabelsMasker.transform_single_imgs] Loading data from /home/aalbury/nilearn_data/cobre/fmri_0040013.nii.gz\n",
      "[NiftiLabelsMasker.transform_single_imgs] Extracting region signals\n",
      "[NiftiLabelsMasker.transform_single_imgs] Cleaning extracted signals\n",
      "_______________________________________________filter_and_extract - 0.3s, 0.0min\n",
      "finished 108 of 146\n",
      "[NiftiLabelsMasker.fit_transform] loading data from /home/aalbury/nilearn_data/basc_multiscale_2015/template_cambridge_basc_multiscale_nii_sym/template_cambridge_basc_multiscale_sym_scale064.nii.gz\n",
      "________________________________________________________________________________\n",
      "[Memory] Calling nilearn.input_data.base_masker.filter_and_extract...\n",
      "filter_and_extract('/home/aalbury/nilearn_data/cobre/fmri_0040074.nii.gz', <nilearn.input_data.nifti_labels_masker._ExtractionFunctor object at 0x7f6ec2d8f910>, \n",
      "{ 'background_label': 0,\n",
      "  'detrend': False,\n",
      "  'dtype': None,\n",
      "  'high_pass': None,\n",
      "  'labels_img': '/home/aalbury/nilearn_data/basc_multiscale_2015/template_cambridge_basc_multiscale_nii_sym/template_cambridge_basc_multiscale_sym_scale064.nii.gz',\n",
      "  'low_pass': None,\n",
      "  'mask_img': None,\n",
      "  'smoothing_fwhm': None,\n",
      "  'standardize': True,\n",
      "  'strategy': 'mean',\n",
      "  't_r': None,\n",
      "  'target_affine': None,\n",
      "  'target_shape': None}, confounds='/home/aalbury/nilearn_data/cobre/fmri_0040074.tsv', dtype=None, memory=Memory(location=nilearn_cache/joblib), memory_level=1, verbose=1)\n",
      "[NiftiLabelsMasker.transform_single_imgs] Loading data from /home/aalbury/nilearn_data/cobre/fmri_0040074.nii.gz\n",
      "[NiftiLabelsMasker.transform_single_imgs] Extracting region signals\n",
      "[NiftiLabelsMasker.transform_single_imgs] Cleaning extracted signals\n",
      "_______________________________________________filter_and_extract - 0.3s, 0.0min\n",
      "finished 109 of 146\n",
      "[NiftiLabelsMasker.fit_transform] loading data from /home/aalbury/nilearn_data/basc_multiscale_2015/template_cambridge_basc_multiscale_nii_sym/template_cambridge_basc_multiscale_sym_scale064.nii.gz\n",
      "________________________________________________________________________________\n",
      "[Memory] Calling nilearn.input_data.base_masker.filter_and_extract...\n",
      "filter_and_extract('/home/aalbury/nilearn_data/cobre/fmri_0040118.nii.gz', <nilearn.input_data.nifti_labels_masker._ExtractionFunctor object at 0x7f6ec2d92210>, \n",
      "{ 'background_label': 0,\n",
      "  'detrend': False,\n",
      "  'dtype': None,\n",
      "  'high_pass': None,\n",
      "  'labels_img': '/home/aalbury/nilearn_data/basc_multiscale_2015/template_cambridge_basc_multiscale_nii_sym/template_cambridge_basc_multiscale_sym_scale064.nii.gz',\n",
      "  'low_pass': None,\n",
      "  'mask_img': None,\n",
      "  'smoothing_fwhm': None,\n",
      "  'standardize': True,\n",
      "  'strategy': 'mean',\n",
      "  't_r': None,\n",
      "  'target_affine': None,\n",
      "  'target_shape': None}, confounds='/home/aalbury/nilearn_data/cobre/fmri_0040118.tsv', dtype=None, memory=Memory(location=nilearn_cache/joblib), memory_level=1, verbose=1)\n",
      "[NiftiLabelsMasker.transform_single_imgs] Loading data from /home/aalbury/nilearn_data/cobre/fmri_0040118.nii.gz\n",
      "[NiftiLabelsMasker.transform_single_imgs] Extracting region signals\n"
     ]
    },
    {
     "name": "stdout",
     "output_type": "stream",
     "text": [
      "[NiftiLabelsMasker.transform_single_imgs] Cleaning extracted signals\n",
      "_______________________________________________filter_and_extract - 0.3s, 0.0min\n",
      "finished 110 of 146\n",
      "[NiftiLabelsMasker.fit_transform] loading data from /home/aalbury/nilearn_data/basc_multiscale_2015/template_cambridge_basc_multiscale_nii_sym/template_cambridge_basc_multiscale_sym_scale064.nii.gz\n",
      "________________________________________________________________________________\n",
      "[Memory] Calling nilearn.input_data.base_masker.filter_and_extract...\n",
      "filter_and_extract('/home/aalbury/nilearn_data/cobre/fmri_0040147.nii.gz', <nilearn.input_data.nifti_labels_masker._ExtractionFunctor object at 0x7f6ec322cf90>, \n",
      "{ 'background_label': 0,\n",
      "  'detrend': False,\n",
      "  'dtype': None,\n",
      "  'high_pass': None,\n",
      "  'labels_img': '/home/aalbury/nilearn_data/basc_multiscale_2015/template_cambridge_basc_multiscale_nii_sym/template_cambridge_basc_multiscale_sym_scale064.nii.gz',\n",
      "  'low_pass': None,\n",
      "  'mask_img': None,\n",
      "  'smoothing_fwhm': None,\n",
      "  'standardize': True,\n",
      "  'strategy': 'mean',\n",
      "  't_r': None,\n",
      "  'target_affine': None,\n",
      "  'target_shape': None}, confounds='/home/aalbury/nilearn_data/cobre/fmri_0040147.tsv', dtype=None, memory=Memory(location=nilearn_cache/joblib), memory_level=1, verbose=1)\n",
      "[NiftiLabelsMasker.transform_single_imgs] Loading data from /home/aalbury/nilearn_data/cobre/fmri_0040147.nii.gz\n",
      "[NiftiLabelsMasker.transform_single_imgs] Extracting region signals\n",
      "[NiftiLabelsMasker.transform_single_imgs] Cleaning extracted signals\n",
      "_______________________________________________filter_and_extract - 0.3s, 0.0min\n",
      "finished 111 of 146\n",
      "[NiftiLabelsMasker.fit_transform] loading data from /home/aalbury/nilearn_data/basc_multiscale_2015/template_cambridge_basc_multiscale_nii_sym/template_cambridge_basc_multiscale_sym_scale064.nii.gz\n",
      "________________________________________________________________________________\n",
      "[Memory] Calling nilearn.input_data.base_masker.filter_and_extract...\n",
      "filter_and_extract('/home/aalbury/nilearn_data/cobre/fmri_0040124.nii.gz', <nilearn.input_data.nifti_labels_masker._ExtractionFunctor object at 0x7f6ec377e450>, \n",
      "{ 'background_label': 0,\n",
      "  'detrend': False,\n",
      "  'dtype': None,\n",
      "  'high_pass': None,\n",
      "  'labels_img': '/home/aalbury/nilearn_data/basc_multiscale_2015/template_cambridge_basc_multiscale_nii_sym/template_cambridge_basc_multiscale_sym_scale064.nii.gz',\n",
      "  'low_pass': None,\n",
      "  'mask_img': None,\n",
      "  'smoothing_fwhm': None,\n",
      "  'standardize': True,\n",
      "  'strategy': 'mean',\n",
      "  't_r': None,\n",
      "  'target_affine': None,\n",
      "  'target_shape': None}, confounds='/home/aalbury/nilearn_data/cobre/fmri_0040124.tsv', dtype=None, memory=Memory(location=nilearn_cache/joblib), memory_level=1, verbose=1)\n",
      "[NiftiLabelsMasker.transform_single_imgs] Loading data from /home/aalbury/nilearn_data/cobre/fmri_0040124.nii.gz\n",
      "[NiftiLabelsMasker.transform_single_imgs] Extracting region signals\n",
      "[NiftiLabelsMasker.transform_single_imgs] Cleaning extracted signals\n",
      "_______________________________________________filter_and_extract - 0.3s, 0.0min\n",
      "finished 112 of 146\n",
      "[NiftiLabelsMasker.fit_transform] loading data from /home/aalbury/nilearn_data/basc_multiscale_2015/template_cambridge_basc_multiscale_nii_sym/template_cambridge_basc_multiscale_sym_scale064.nii.gz\n",
      "________________________________________________________________________________\n",
      "[Memory] Calling nilearn.input_data.base_masker.filter_and_extract...\n",
      "filter_and_extract('/home/aalbury/nilearn_data/cobre/fmri_0040141.nii.gz', <nilearn.input_data.nifti_labels_masker._ExtractionFunctor object at 0x7f6ed1481310>, \n",
      "{ 'background_label': 0,\n",
      "  'detrend': False,\n",
      "  'dtype': None,\n",
      "  'high_pass': None,\n",
      "  'labels_img': '/home/aalbury/nilearn_data/basc_multiscale_2015/template_cambridge_basc_multiscale_nii_sym/template_cambridge_basc_multiscale_sym_scale064.nii.gz',\n",
      "  'low_pass': None,\n",
      "  'mask_img': None,\n",
      "  'smoothing_fwhm': None,\n",
      "  'standardize': True,\n",
      "  'strategy': 'mean',\n",
      "  't_r': None,\n",
      "  'target_affine': None,\n",
      "  'target_shape': None}, confounds='/home/aalbury/nilearn_data/cobre/fmri_0040141.tsv', dtype=None, memory=Memory(location=nilearn_cache/joblib), memory_level=1, verbose=1)\n",
      "[NiftiLabelsMasker.transform_single_imgs] Loading data from /home/aalbury/nilearn_data/cobre/fmri_0040141.nii.gz\n",
      "[NiftiLabelsMasker.transform_single_imgs] Extracting region signals\n",
      "[NiftiLabelsMasker.transform_single_imgs] Cleaning extracted signals\n",
      "_______________________________________________filter_and_extract - 0.4s, 0.0min\n",
      "finished 113 of 146\n",
      "[NiftiLabelsMasker.fit_transform] loading data from /home/aalbury/nilearn_data/basc_multiscale_2015/template_cambridge_basc_multiscale_nii_sym/template_cambridge_basc_multiscale_sym_scale064.nii.gz\n",
      "________________________________________________________________________________\n",
      "[Memory] Calling nilearn.input_data.base_masker.filter_and_extract...\n",
      "filter_and_extract('/home/aalbury/nilearn_data/cobre/fmri_0040050.nii.gz', <nilearn.input_data.nifti_labels_masker._ExtractionFunctor object at 0x7f6ec37c2210>, \n",
      "{ 'background_label': 0,\n",
      "  'detrend': False,\n",
      "  'dtype': None,\n",
      "  'high_pass': None,\n",
      "  'labels_img': '/home/aalbury/nilearn_data/basc_multiscale_2015/template_cambridge_basc_multiscale_nii_sym/template_cambridge_basc_multiscale_sym_scale064.nii.gz',\n",
      "  'low_pass': None,\n",
      "  'mask_img': None,\n",
      "  'smoothing_fwhm': None,\n",
      "  'standardize': True,\n",
      "  'strategy': 'mean',\n",
      "  't_r': None,\n",
      "  'target_affine': None,\n",
      "  'target_shape': None}, confounds='/home/aalbury/nilearn_data/cobre/fmri_0040050.tsv', dtype=None, memory=Memory(location=nilearn_cache/joblib), memory_level=1, verbose=1)\n",
      "[NiftiLabelsMasker.transform_single_imgs] Loading data from /home/aalbury/nilearn_data/cobre/fmri_0040050.nii.gz\n",
      "[NiftiLabelsMasker.transform_single_imgs] Extracting region signals\n",
      "[NiftiLabelsMasker.transform_single_imgs] Cleaning extracted signals\n",
      "_______________________________________________filter_and_extract - 0.3s, 0.0min\n",
      "finished 114 of 146\n",
      "[NiftiLabelsMasker.fit_transform] loading data from /home/aalbury/nilearn_data/basc_multiscale_2015/template_cambridge_basc_multiscale_nii_sym/template_cambridge_basc_multiscale_sym_scale064.nii.gz\n",
      "________________________________________________________________________________\n",
      "[Memory] Calling nilearn.input_data.base_masker.filter_and_extract...\n",
      "filter_and_extract('/home/aalbury/nilearn_data/cobre/fmri_0040057.nii.gz', <nilearn.input_data.nifti_labels_masker._ExtractionFunctor object at 0x7f6eda7b6190>, \n",
      "{ 'background_label': 0,\n",
      "  'detrend': False,\n",
      "  'dtype': None,\n",
      "  'high_pass': None,\n",
      "  'labels_img': '/home/aalbury/nilearn_data/basc_multiscale_2015/template_cambridge_basc_multiscale_nii_sym/template_cambridge_basc_multiscale_sym_scale064.nii.gz',\n",
      "  'low_pass': None,\n",
      "  'mask_img': None,\n",
      "  'smoothing_fwhm': None,\n",
      "  'standardize': True,\n",
      "  'strategy': 'mean',\n",
      "  't_r': None,\n",
      "  'target_affine': None,\n",
      "  'target_shape': None}, confounds='/home/aalbury/nilearn_data/cobre/fmri_0040057.tsv', dtype=None, memory=Memory(location=nilearn_cache/joblib), memory_level=1, verbose=1)\n",
      "[NiftiLabelsMasker.transform_single_imgs] Loading data from /home/aalbury/nilearn_data/cobre/fmri_0040057.nii.gz\n",
      "[NiftiLabelsMasker.transform_single_imgs] Extracting region signals\n",
      "[NiftiLabelsMasker.transform_single_imgs] Cleaning extracted signals\n",
      "_______________________________________________filter_and_extract - 0.3s, 0.0min\n",
      "finished 115 of 146\n",
      "[NiftiLabelsMasker.fit_transform] loading data from /home/aalbury/nilearn_data/basc_multiscale_2015/template_cambridge_basc_multiscale_nii_sym/template_cambridge_basc_multiscale_sym_scale064.nii.gz\n",
      "________________________________________________________________________________\n",
      "[Memory] Calling nilearn.input_data.base_masker.filter_and_extract...\n",
      "filter_and_extract('/home/aalbury/nilearn_data/cobre/fmri_0040063.nii.gz', <nilearn.input_data.nifti_labels_masker._ExtractionFunctor object at 0x7f6edbac5610>, \n",
      "{ 'background_label': 0,\n",
      "  'detrend': False,\n",
      "  'dtype': None,\n",
      "  'high_pass': None,\n",
      "  'labels_img': '/home/aalbury/nilearn_data/basc_multiscale_2015/template_cambridge_basc_multiscale_nii_sym/template_cambridge_basc_multiscale_sym_scale064.nii.gz',\n",
      "  'low_pass': None,\n",
      "  'mask_img': None,\n",
      "  'smoothing_fwhm': None,\n",
      "  'standardize': True,\n",
      "  'strategy': 'mean',\n",
      "  't_r': None,\n",
      "  'target_affine': None,\n",
      "  'target_shape': None}, confounds='/home/aalbury/nilearn_data/cobre/fmri_0040063.tsv', dtype=None, memory=Memory(location=nilearn_cache/joblib), memory_level=1, verbose=1)\n",
      "[NiftiLabelsMasker.transform_single_imgs] Loading data from /home/aalbury/nilearn_data/cobre/fmri_0040063.nii.gz\n",
      "[NiftiLabelsMasker.transform_single_imgs] Extracting region signals\n"
     ]
    },
    {
     "name": "stdout",
     "output_type": "stream",
     "text": [
      "[NiftiLabelsMasker.transform_single_imgs] Cleaning extracted signals\n",
      "_______________________________________________filter_and_extract - 0.3s, 0.0min\n",
      "finished 116 of 146\n",
      "[NiftiLabelsMasker.fit_transform] loading data from /home/aalbury/nilearn_data/basc_multiscale_2015/template_cambridge_basc_multiscale_nii_sym/template_cambridge_basc_multiscale_sym_scale064.nii.gz\n",
      "________________________________________________________________________________\n",
      "[Memory] Calling nilearn.input_data.base_masker.filter_and_extract...\n",
      "filter_and_extract('/home/aalbury/nilearn_data/cobre/fmri_0040043.nii.gz', <nilearn.input_data.nifti_labels_masker._ExtractionFunctor object at 0x7f6ec3242d50>, \n",
      "{ 'background_label': 0,\n",
      "  'detrend': False,\n",
      "  'dtype': None,\n",
      "  'high_pass': None,\n",
      "  'labels_img': '/home/aalbury/nilearn_data/basc_multiscale_2015/template_cambridge_basc_multiscale_nii_sym/template_cambridge_basc_multiscale_sym_scale064.nii.gz',\n",
      "  'low_pass': None,\n",
      "  'mask_img': None,\n",
      "  'smoothing_fwhm': None,\n",
      "  'standardize': True,\n",
      "  'strategy': 'mean',\n",
      "  't_r': None,\n",
      "  'target_affine': None,\n",
      "  'target_shape': None}, confounds='/home/aalbury/nilearn_data/cobre/fmri_0040043.tsv', dtype=None, memory=Memory(location=nilearn_cache/joblib), memory_level=1, verbose=1)\n",
      "[NiftiLabelsMasker.transform_single_imgs] Loading data from /home/aalbury/nilearn_data/cobre/fmri_0040043.nii.gz\n",
      "[NiftiLabelsMasker.transform_single_imgs] Extracting region signals\n",
      "[NiftiLabelsMasker.transform_single_imgs] Cleaning extracted signals\n",
      "_______________________________________________filter_and_extract - 0.3s, 0.0min\n",
      "finished 117 of 146\n",
      "[NiftiLabelsMasker.fit_transform] loading data from /home/aalbury/nilearn_data/basc_multiscale_2015/template_cambridge_basc_multiscale_nii_sym/template_cambridge_basc_multiscale_sym_scale064.nii.gz\n",
      "________________________________________________________________________________\n",
      "[Memory] Calling nilearn.input_data.base_masker.filter_and_extract...\n",
      "filter_and_extract('/home/aalbury/nilearn_data/cobre/fmri_0040136.nii.gz', <nilearn.input_data.nifti_labels_masker._ExtractionFunctor object at 0x7f6ec322cf90>, \n",
      "{ 'background_label': 0,\n",
      "  'detrend': False,\n",
      "  'dtype': None,\n",
      "  'high_pass': None,\n",
      "  'labels_img': '/home/aalbury/nilearn_data/basc_multiscale_2015/template_cambridge_basc_multiscale_nii_sym/template_cambridge_basc_multiscale_sym_scale064.nii.gz',\n",
      "  'low_pass': None,\n",
      "  'mask_img': None,\n",
      "  'smoothing_fwhm': None,\n",
      "  'standardize': True,\n",
      "  'strategy': 'mean',\n",
      "  't_r': None,\n",
      "  'target_affine': None,\n",
      "  'target_shape': None}, confounds='/home/aalbury/nilearn_data/cobre/fmri_0040136.tsv', dtype=None, memory=Memory(location=nilearn_cache/joblib), memory_level=1, verbose=1)\n",
      "[NiftiLabelsMasker.transform_single_imgs] Loading data from /home/aalbury/nilearn_data/cobre/fmri_0040136.nii.gz\n",
      "[NiftiLabelsMasker.transform_single_imgs] Extracting region signals\n",
      "[NiftiLabelsMasker.transform_single_imgs] Cleaning extracted signals\n",
      "_______________________________________________filter_and_extract - 0.3s, 0.0min\n",
      "finished 118 of 146\n",
      "[NiftiLabelsMasker.fit_transform] loading data from /home/aalbury/nilearn_data/basc_multiscale_2015/template_cambridge_basc_multiscale_nii_sym/template_cambridge_basc_multiscale_sym_scale064.nii.gz\n",
      "________________________________________________________________________________\n",
      "[Memory] Calling nilearn.input_data.base_masker.filter_and_extract...\n",
      "filter_and_extract('/home/aalbury/nilearn_data/cobre/fmri_0040146.nii.gz', <nilearn.input_data.nifti_labels_masker._ExtractionFunctor object at 0x7f6ec2d88110>, \n",
      "{ 'background_label': 0,\n",
      "  'detrend': False,\n",
      "  'dtype': None,\n",
      "  'high_pass': None,\n",
      "  'labels_img': '/home/aalbury/nilearn_data/basc_multiscale_2015/template_cambridge_basc_multiscale_nii_sym/template_cambridge_basc_multiscale_sym_scale064.nii.gz',\n",
      "  'low_pass': None,\n",
      "  'mask_img': None,\n",
      "  'smoothing_fwhm': None,\n",
      "  'standardize': True,\n",
      "  'strategy': 'mean',\n",
      "  't_r': None,\n",
      "  'target_affine': None,\n",
      "  'target_shape': None}, confounds='/home/aalbury/nilearn_data/cobre/fmri_0040146.tsv', dtype=None, memory=Memory(location=nilearn_cache/joblib), memory_level=1, verbose=1)\n",
      "[NiftiLabelsMasker.transform_single_imgs] Loading data from /home/aalbury/nilearn_data/cobre/fmri_0040146.nii.gz\n",
      "[NiftiLabelsMasker.transform_single_imgs] Extracting region signals\n",
      "[NiftiLabelsMasker.transform_single_imgs] Cleaning extracted signals\n",
      "_______________________________________________filter_and_extract - 0.3s, 0.0min\n",
      "finished 119 of 146\n",
      "[NiftiLabelsMasker.fit_transform] loading data from /home/aalbury/nilearn_data/basc_multiscale_2015/template_cambridge_basc_multiscale_nii_sym/template_cambridge_basc_multiscale_sym_scale064.nii.gz\n",
      "________________________________________________________________________________\n",
      "[Memory] Calling nilearn.input_data.base_masker.filter_and_extract...\n",
      "filter_and_extract('/home/aalbury/nilearn_data/cobre/fmri_0040095.nii.gz', <nilearn.input_data.nifti_labels_masker._ExtractionFunctor object at 0x7f6ec2d8f910>, \n",
      "{ 'background_label': 0,\n",
      "  'detrend': False,\n",
      "  'dtype': None,\n",
      "  'high_pass': None,\n",
      "  'labels_img': '/home/aalbury/nilearn_data/basc_multiscale_2015/template_cambridge_basc_multiscale_nii_sym/template_cambridge_basc_multiscale_sym_scale064.nii.gz',\n",
      "  'low_pass': None,\n",
      "  'mask_img': None,\n",
      "  'smoothing_fwhm': None,\n",
      "  'standardize': True,\n",
      "  'strategy': 'mean',\n",
      "  't_r': None,\n",
      "  'target_affine': None,\n",
      "  'target_shape': None}, confounds='/home/aalbury/nilearn_data/cobre/fmri_0040095.tsv', dtype=None, memory=Memory(location=nilearn_cache/joblib), memory_level=1, verbose=1)\n",
      "[NiftiLabelsMasker.transform_single_imgs] Loading data from /home/aalbury/nilearn_data/cobre/fmri_0040095.nii.gz\n",
      "[NiftiLabelsMasker.transform_single_imgs] Extracting region signals\n",
      "[NiftiLabelsMasker.transform_single_imgs] Cleaning extracted signals\n",
      "_______________________________________________filter_and_extract - 0.3s, 0.0min\n",
      "finished 120 of 146\n",
      "[NiftiLabelsMasker.fit_transform] loading data from /home/aalbury/nilearn_data/basc_multiscale_2015/template_cambridge_basc_multiscale_nii_sym/template_cambridge_basc_multiscale_sym_scale064.nii.gz\n",
      "________________________________________________________________________________\n",
      "[Memory] Calling nilearn.input_data.base_masker.filter_and_extract...\n",
      "filter_and_extract('/home/aalbury/nilearn_data/cobre/fmri_0040102.nii.gz', <nilearn.input_data.nifti_labels_masker._ExtractionFunctor object at 0x7f6ec2da3d10>, \n",
      "{ 'background_label': 0,\n",
      "  'detrend': False,\n",
      "  'dtype': None,\n",
      "  'high_pass': None,\n",
      "  'labels_img': '/home/aalbury/nilearn_data/basc_multiscale_2015/template_cambridge_basc_multiscale_nii_sym/template_cambridge_basc_multiscale_sym_scale064.nii.gz',\n",
      "  'low_pass': None,\n",
      "  'mask_img': None,\n",
      "  'smoothing_fwhm': None,\n",
      "  'standardize': True,\n",
      "  'strategy': 'mean',\n",
      "  't_r': None,\n",
      "  'target_affine': None,\n",
      "  'target_shape': None}, confounds='/home/aalbury/nilearn_data/cobre/fmri_0040102.tsv', dtype=None, memory=Memory(location=nilearn_cache/joblib), memory_level=1, verbose=1)\n",
      "[NiftiLabelsMasker.transform_single_imgs] Loading data from /home/aalbury/nilearn_data/cobre/fmri_0040102.nii.gz\n",
      "[NiftiLabelsMasker.transform_single_imgs] Extracting region signals\n",
      "[NiftiLabelsMasker.transform_single_imgs] Cleaning extracted signals\n",
      "_______________________________________________filter_and_extract - 0.3s, 0.0min\n",
      "finished 121 of 146\n",
      "[NiftiLabelsMasker.fit_transform] loading data from /home/aalbury/nilearn_data/basc_multiscale_2015/template_cambridge_basc_multiscale_nii_sym/template_cambridge_basc_multiscale_sym_scale064.nii.gz\n",
      "________________________________________________________________________________\n",
      "[Memory] Calling nilearn.input_data.base_masker.filter_and_extract...\n",
      "filter_and_extract('/home/aalbury/nilearn_data/cobre/fmri_0040024.nii.gz', <nilearn.input_data.nifti_labels_masker._ExtractionFunctor object at 0x7f6ed1476610>, \n",
      "{ 'background_label': 0,\n",
      "  'detrend': False,\n",
      "  'dtype': None,\n",
      "  'high_pass': None,\n",
      "  'labels_img': '/home/aalbury/nilearn_data/basc_multiscale_2015/template_cambridge_basc_multiscale_nii_sym/template_cambridge_basc_multiscale_sym_scale064.nii.gz',\n",
      "  'low_pass': None,\n",
      "  'mask_img': None,\n",
      "  'smoothing_fwhm': None,\n",
      "  'standardize': True,\n",
      "  'strategy': 'mean',\n",
      "  't_r': None,\n",
      "  'target_affine': None,\n",
      "  'target_shape': None}, confounds='/home/aalbury/nilearn_data/cobre/fmri_0040024.tsv', dtype=None, memory=Memory(location=nilearn_cache/joblib), memory_level=1, verbose=1)\n",
      "[NiftiLabelsMasker.transform_single_imgs] Loading data from /home/aalbury/nilearn_data/cobre/fmri_0040024.nii.gz\n",
      "[NiftiLabelsMasker.transform_single_imgs] Extracting region signals\n"
     ]
    },
    {
     "name": "stdout",
     "output_type": "stream",
     "text": [
      "[NiftiLabelsMasker.transform_single_imgs] Cleaning extracted signals\n",
      "_______________________________________________filter_and_extract - 0.3s, 0.0min\n",
      "finished 122 of 146\n",
      "[NiftiLabelsMasker.fit_transform] loading data from /home/aalbury/nilearn_data/basc_multiscale_2015/template_cambridge_basc_multiscale_nii_sym/template_cambridge_basc_multiscale_sym_scale064.nii.gz\n",
      "________________________________________________________________________________\n",
      "[Memory] Calling nilearn.input_data.base_masker.filter_and_extract...\n",
      "filter_and_extract('/home/aalbury/nilearn_data/cobre/fmri_0040134.nii.gz', <nilearn.input_data.nifti_labels_masker._ExtractionFunctor object at 0x7f6ed15dda10>, \n",
      "{ 'background_label': 0,\n",
      "  'detrend': False,\n",
      "  'dtype': None,\n",
      "  'high_pass': None,\n",
      "  'labels_img': '/home/aalbury/nilearn_data/basc_multiscale_2015/template_cambridge_basc_multiscale_nii_sym/template_cambridge_basc_multiscale_sym_scale064.nii.gz',\n",
      "  'low_pass': None,\n",
      "  'mask_img': None,\n",
      "  'smoothing_fwhm': None,\n",
      "  'standardize': True,\n",
      "  'strategy': 'mean',\n",
      "  't_r': None,\n",
      "  'target_affine': None,\n",
      "  'target_shape': None}, confounds='/home/aalbury/nilearn_data/cobre/fmri_0040134.tsv', dtype=None, memory=Memory(location=nilearn_cache/joblib), memory_level=1, verbose=1)\n",
      "[NiftiLabelsMasker.transform_single_imgs] Loading data from /home/aalbury/nilearn_data/cobre/fmri_0040134.nii.gz\n",
      "[NiftiLabelsMasker.transform_single_imgs] Extracting region signals\n",
      "[NiftiLabelsMasker.transform_single_imgs] Cleaning extracted signals\n",
      "_______________________________________________filter_and_extract - 0.3s, 0.0min\n",
      "finished 123 of 146\n",
      "[NiftiLabelsMasker.fit_transform] loading data from /home/aalbury/nilearn_data/basc_multiscale_2015/template_cambridge_basc_multiscale_nii_sym/template_cambridge_basc_multiscale_sym_scale064.nii.gz\n",
      "________________________________________________________________________________\n",
      "[Memory] Calling nilearn.input_data.base_masker.filter_and_extract...\n",
      "filter_and_extract('/home/aalbury/nilearn_data/cobre/fmri_0040030.nii.gz', <nilearn.input_data.nifti_labels_masker._ExtractionFunctor object at 0x7f6ec32468d0>, \n",
      "{ 'background_label': 0,\n",
      "  'detrend': False,\n",
      "  'dtype': None,\n",
      "  'high_pass': None,\n",
      "  'labels_img': '/home/aalbury/nilearn_data/basc_multiscale_2015/template_cambridge_basc_multiscale_nii_sym/template_cambridge_basc_multiscale_sym_scale064.nii.gz',\n",
      "  'low_pass': None,\n",
      "  'mask_img': None,\n",
      "  'smoothing_fwhm': None,\n",
      "  'standardize': True,\n",
      "  'strategy': 'mean',\n",
      "  't_r': None,\n",
      "  'target_affine': None,\n",
      "  'target_shape': None}, confounds='/home/aalbury/nilearn_data/cobre/fmri_0040030.tsv', dtype=None, memory=Memory(location=nilearn_cache/joblib), memory_level=1, verbose=1)\n",
      "[NiftiLabelsMasker.transform_single_imgs] Loading data from /home/aalbury/nilearn_data/cobre/fmri_0040030.nii.gz\n",
      "[NiftiLabelsMasker.transform_single_imgs] Extracting region signals\n",
      "[NiftiLabelsMasker.transform_single_imgs] Cleaning extracted signals\n",
      "_______________________________________________filter_and_extract - 0.3s, 0.0min\n",
      "finished 124 of 146\n",
      "[NiftiLabelsMasker.fit_transform] loading data from /home/aalbury/nilearn_data/basc_multiscale_2015/template_cambridge_basc_multiscale_nii_sym/template_cambridge_basc_multiscale_sym_scale064.nii.gz\n",
      "________________________________________________________________________________\n",
      "[Memory] Calling nilearn.input_data.base_masker.filter_and_extract...\n",
      "filter_and_extract('/home/aalbury/nilearn_data/cobre/fmri_0040031.nii.gz', <nilearn.input_data.nifti_labels_masker._ExtractionFunctor object at 0x7f6ec2dbd8d0>, \n",
      "{ 'background_label': 0,\n",
      "  'detrend': False,\n",
      "  'dtype': None,\n",
      "  'high_pass': None,\n",
      "  'labels_img': '/home/aalbury/nilearn_data/basc_multiscale_2015/template_cambridge_basc_multiscale_nii_sym/template_cambridge_basc_multiscale_sym_scale064.nii.gz',\n",
      "  'low_pass': None,\n",
      "  'mask_img': None,\n",
      "  'smoothing_fwhm': None,\n",
      "  'standardize': True,\n",
      "  'strategy': 'mean',\n",
      "  't_r': None,\n",
      "  'target_affine': None,\n",
      "  'target_shape': None}, confounds='/home/aalbury/nilearn_data/cobre/fmri_0040031.tsv', dtype=None, memory=Memory(location=nilearn_cache/joblib), memory_level=1, verbose=1)\n",
      "[NiftiLabelsMasker.transform_single_imgs] Loading data from /home/aalbury/nilearn_data/cobre/fmri_0040031.nii.gz\n",
      "[NiftiLabelsMasker.transform_single_imgs] Extracting region signals\n",
      "[NiftiLabelsMasker.transform_single_imgs] Cleaning extracted signals\n",
      "_______________________________________________filter_and_extract - 0.3s, 0.0min\n",
      "finished 125 of 146\n",
      "[NiftiLabelsMasker.fit_transform] loading data from /home/aalbury/nilearn_data/basc_multiscale_2015/template_cambridge_basc_multiscale_nii_sym/template_cambridge_basc_multiscale_sym_scale064.nii.gz\n",
      "________________________________________________________________________________\n",
      "[Memory] Calling nilearn.input_data.base_masker.filter_and_extract...\n",
      "filter_and_extract('/home/aalbury/nilearn_data/cobre/fmri_0040019.nii.gz', <nilearn.input_data.nifti_labels_masker._ExtractionFunctor object at 0x7f6ec3242d50>, \n",
      "{ 'background_label': 0,\n",
      "  'detrend': False,\n",
      "  'dtype': None,\n",
      "  'high_pass': None,\n",
      "  'labels_img': '/home/aalbury/nilearn_data/basc_multiscale_2015/template_cambridge_basc_multiscale_nii_sym/template_cambridge_basc_multiscale_sym_scale064.nii.gz',\n",
      "  'low_pass': None,\n",
      "  'mask_img': None,\n",
      "  'smoothing_fwhm': None,\n",
      "  'standardize': True,\n",
      "  'strategy': 'mean',\n",
      "  't_r': None,\n",
      "  'target_affine': None,\n",
      "  'target_shape': None}, confounds='/home/aalbury/nilearn_data/cobre/fmri_0040019.tsv', dtype=None, memory=Memory(location=nilearn_cache/joblib), memory_level=1, verbose=1)\n",
      "[NiftiLabelsMasker.transform_single_imgs] Loading data from /home/aalbury/nilearn_data/cobre/fmri_0040019.nii.gz\n",
      "[NiftiLabelsMasker.transform_single_imgs] Extracting region signals\n",
      "[NiftiLabelsMasker.transform_single_imgs] Cleaning extracted signals\n",
      "_______________________________________________filter_and_extract - 0.3s, 0.0min\n",
      "finished 126 of 146\n",
      "[NiftiLabelsMasker.fit_transform] loading data from /home/aalbury/nilearn_data/basc_multiscale_2015/template_cambridge_basc_multiscale_nii_sym/template_cambridge_basc_multiscale_sym_scale064.nii.gz\n",
      "________________________________________________________________________________\n",
      "[Memory] Calling nilearn.input_data.base_masker.filter_and_extract...\n",
      "filter_and_extract('/home/aalbury/nilearn_data/cobre/fmri_0040026.nii.gz', <nilearn.input_data.nifti_labels_masker._ExtractionFunctor object at 0x7f6ec2da9650>, \n",
      "{ 'background_label': 0,\n",
      "  'detrend': False,\n",
      "  'dtype': None,\n",
      "  'high_pass': None,\n",
      "  'labels_img': '/home/aalbury/nilearn_data/basc_multiscale_2015/template_cambridge_basc_multiscale_nii_sym/template_cambridge_basc_multiscale_sym_scale064.nii.gz',\n",
      "  'low_pass': None,\n",
      "  'mask_img': None,\n",
      "  'smoothing_fwhm': None,\n",
      "  'standardize': True,\n",
      "  'strategy': 'mean',\n",
      "  't_r': None,\n",
      "  'target_affine': None,\n",
      "  'target_shape': None}, confounds='/home/aalbury/nilearn_data/cobre/fmri_0040026.tsv', dtype=None, memory=Memory(location=nilearn_cache/joblib), memory_level=1, verbose=1)\n",
      "[NiftiLabelsMasker.transform_single_imgs] Loading data from /home/aalbury/nilearn_data/cobre/fmri_0040026.nii.gz\n",
      "[NiftiLabelsMasker.transform_single_imgs] Extracting region signals\n",
      "[NiftiLabelsMasker.transform_single_imgs] Cleaning extracted signals\n",
      "_______________________________________________filter_and_extract - 0.3s, 0.0min\n",
      "finished 127 of 146\n",
      "[NiftiLabelsMasker.fit_transform] loading data from /home/aalbury/nilearn_data/basc_multiscale_2015/template_cambridge_basc_multiscale_nii_sym/template_cambridge_basc_multiscale_sym_scale064.nii.gz\n",
      "________________________________________________________________________________\n",
      "[Memory] Calling nilearn.input_data.base_masker.filter_and_extract...\n",
      "filter_and_extract('/home/aalbury/nilearn_data/cobre/fmri_0040119.nii.gz', <nilearn.input_data.nifti_labels_masker._ExtractionFunctor object at 0x7f6ec2d54610>, \n",
      "{ 'background_label': 0,\n",
      "  'detrend': False,\n",
      "  'dtype': None,\n",
      "  'high_pass': None,\n",
      "  'labels_img': '/home/aalbury/nilearn_data/basc_multiscale_2015/template_cambridge_basc_multiscale_nii_sym/template_cambridge_basc_multiscale_sym_scale064.nii.gz',\n",
      "  'low_pass': None,\n",
      "  'mask_img': None,\n",
      "  'smoothing_fwhm': None,\n",
      "  'standardize': True,\n",
      "  'strategy': 'mean',\n",
      "  't_r': None,\n",
      "  'target_affine': None,\n",
      "  'target_shape': None}, confounds='/home/aalbury/nilearn_data/cobre/fmri_0040119.tsv', dtype=None, memory=Memory(location=nilearn_cache/joblib), memory_level=1, verbose=1)\n",
      "[NiftiLabelsMasker.transform_single_imgs] Loading data from /home/aalbury/nilearn_data/cobre/fmri_0040119.nii.gz\n",
      "[NiftiLabelsMasker.transform_single_imgs] Extracting region signals\n"
     ]
    },
    {
     "name": "stdout",
     "output_type": "stream",
     "text": [
      "[NiftiLabelsMasker.transform_single_imgs] Cleaning extracted signals\n",
      "_______________________________________________filter_and_extract - 0.3s, 0.0min\n",
      "finished 128 of 146\n",
      "[NiftiLabelsMasker.fit_transform] loading data from /home/aalbury/nilearn_data/basc_multiscale_2015/template_cambridge_basc_multiscale_nii_sym/template_cambridge_basc_multiscale_sym_scale064.nii.gz\n",
      "________________________________________________________________________________\n",
      "[Memory] Calling nilearn.input_data.base_masker.filter_and_extract...\n",
      "filter_and_extract('/home/aalbury/nilearn_data/cobre/fmri_0040018.nii.gz', <nilearn.input_data.nifti_labels_masker._ExtractionFunctor object at 0x7f6edbac5610>, \n",
      "{ 'background_label': 0,\n",
      "  'detrend': False,\n",
      "  'dtype': None,\n",
      "  'high_pass': None,\n",
      "  'labels_img': '/home/aalbury/nilearn_data/basc_multiscale_2015/template_cambridge_basc_multiscale_nii_sym/template_cambridge_basc_multiscale_sym_scale064.nii.gz',\n",
      "  'low_pass': None,\n",
      "  'mask_img': None,\n",
      "  'smoothing_fwhm': None,\n",
      "  'standardize': True,\n",
      "  'strategy': 'mean',\n",
      "  't_r': None,\n",
      "  'target_affine': None,\n",
      "  'target_shape': None}, confounds='/home/aalbury/nilearn_data/cobre/fmri_0040018.tsv', dtype=None, memory=Memory(location=nilearn_cache/joblib), memory_level=1, verbose=1)\n",
      "[NiftiLabelsMasker.transform_single_imgs] Loading data from /home/aalbury/nilearn_data/cobre/fmri_0040018.nii.gz\n",
      "[NiftiLabelsMasker.transform_single_imgs] Extracting region signals\n",
      "[NiftiLabelsMasker.transform_single_imgs] Cleaning extracted signals\n",
      "_______________________________________________filter_and_extract - 0.3s, 0.0min\n",
      "finished 129 of 146\n",
      "[NiftiLabelsMasker.fit_transform] loading data from /home/aalbury/nilearn_data/basc_multiscale_2015/template_cambridge_basc_multiscale_nii_sym/template_cambridge_basc_multiscale_sym_scale064.nii.gz\n",
      "________________________________________________________________________________\n",
      "[Memory] Calling nilearn.input_data.base_masker.filter_and_extract...\n",
      "filter_and_extract('/home/aalbury/nilearn_data/cobre/fmri_0040116.nii.gz', <nilearn.input_data.nifti_labels_masker._ExtractionFunctor object at 0x7f6ec2d8f910>, \n",
      "{ 'background_label': 0,\n",
      "  'detrend': False,\n",
      "  'dtype': None,\n",
      "  'high_pass': None,\n",
      "  'labels_img': '/home/aalbury/nilearn_data/basc_multiscale_2015/template_cambridge_basc_multiscale_nii_sym/template_cambridge_basc_multiscale_sym_scale064.nii.gz',\n",
      "  'low_pass': None,\n",
      "  'mask_img': None,\n",
      "  'smoothing_fwhm': None,\n",
      "  'standardize': True,\n",
      "  'strategy': 'mean',\n",
      "  't_r': None,\n",
      "  'target_affine': None,\n",
      "  'target_shape': None}, confounds='/home/aalbury/nilearn_data/cobre/fmri_0040116.tsv', dtype=None, memory=Memory(location=nilearn_cache/joblib), memory_level=1, verbose=1)\n",
      "[NiftiLabelsMasker.transform_single_imgs] Loading data from /home/aalbury/nilearn_data/cobre/fmri_0040116.nii.gz\n",
      "[NiftiLabelsMasker.transform_single_imgs] Extracting region signals\n",
      "[NiftiLabelsMasker.transform_single_imgs] Cleaning extracted signals\n",
      "_______________________________________________filter_and_extract - 0.3s, 0.0min\n",
      "finished 130 of 146\n",
      "[NiftiLabelsMasker.fit_transform] loading data from /home/aalbury/nilearn_data/basc_multiscale_2015/template_cambridge_basc_multiscale_nii_sym/template_cambridge_basc_multiscale_sym_scale064.nii.gz\n",
      "________________________________________________________________________________\n",
      "[Memory] Calling nilearn.input_data.base_masker.filter_and_extract...\n",
      "filter_and_extract('/home/aalbury/nilearn_data/cobre/fmri_0040130.nii.gz', <nilearn.input_data.nifti_labels_masker._ExtractionFunctor object at 0x7f6ec2d80cd0>, \n",
      "{ 'background_label': 0,\n",
      "  'detrend': False,\n",
      "  'dtype': None,\n",
      "  'high_pass': None,\n",
      "  'labels_img': '/home/aalbury/nilearn_data/basc_multiscale_2015/template_cambridge_basc_multiscale_nii_sym/template_cambridge_basc_multiscale_sym_scale064.nii.gz',\n",
      "  'low_pass': None,\n",
      "  'mask_img': None,\n",
      "  'smoothing_fwhm': None,\n",
      "  'standardize': True,\n",
      "  'strategy': 'mean',\n",
      "  't_r': None,\n",
      "  'target_affine': None,\n",
      "  'target_shape': None}, confounds='/home/aalbury/nilearn_data/cobre/fmri_0040130.tsv', dtype=None, memory=Memory(location=nilearn_cache/joblib), memory_level=1, verbose=1)\n",
      "[NiftiLabelsMasker.transform_single_imgs] Loading data from /home/aalbury/nilearn_data/cobre/fmri_0040130.nii.gz\n",
      "[NiftiLabelsMasker.transform_single_imgs] Extracting region signals\n",
      "[NiftiLabelsMasker.transform_single_imgs] Cleaning extracted signals\n",
      "_______________________________________________filter_and_extract - 0.3s, 0.0min\n",
      "finished 131 of 146\n",
      "[NiftiLabelsMasker.fit_transform] loading data from /home/aalbury/nilearn_data/basc_multiscale_2015/template_cambridge_basc_multiscale_nii_sym/template_cambridge_basc_multiscale_sym_scale064.nii.gz\n",
      "________________________________________________________________________________\n",
      "[Memory] Calling nilearn.input_data.base_masker.filter_and_extract...\n",
      "filter_and_extract('/home/aalbury/nilearn_data/cobre/fmri_0040131.nii.gz', <nilearn.input_data.nifti_labels_masker._ExtractionFunctor object at 0x7f6eda7b6190>, \n",
      "{ 'background_label': 0,\n",
      "  'detrend': False,\n",
      "  'dtype': None,\n",
      "  'high_pass': None,\n",
      "  'labels_img': '/home/aalbury/nilearn_data/basc_multiscale_2015/template_cambridge_basc_multiscale_nii_sym/template_cambridge_basc_multiscale_sym_scale064.nii.gz',\n",
      "  'low_pass': None,\n",
      "  'mask_img': None,\n",
      "  'smoothing_fwhm': None,\n",
      "  'standardize': True,\n",
      "  'strategy': 'mean',\n",
      "  't_r': None,\n",
      "  'target_affine': None,\n",
      "  'target_shape': None}, confounds='/home/aalbury/nilearn_data/cobre/fmri_0040131.tsv', dtype=None, memory=Memory(location=nilearn_cache/joblib), memory_level=1, verbose=1)\n",
      "[NiftiLabelsMasker.transform_single_imgs] Loading data from /home/aalbury/nilearn_data/cobre/fmri_0040131.nii.gz\n",
      "[NiftiLabelsMasker.transform_single_imgs] Extracting region signals\n",
      "[NiftiLabelsMasker.transform_single_imgs] Cleaning extracted signals\n",
      "_______________________________________________filter_and_extract - 0.3s, 0.0min\n",
      "finished 132 of 146\n",
      "[NiftiLabelsMasker.fit_transform] loading data from /home/aalbury/nilearn_data/basc_multiscale_2015/template_cambridge_basc_multiscale_nii_sym/template_cambridge_basc_multiscale_sym_scale064.nii.gz\n",
      "________________________________________________________________________________\n",
      "[Memory] Calling nilearn.input_data.base_masker.filter_and_extract...\n",
      "filter_and_extract('/home/aalbury/nilearn_data/cobre/fmri_0040023.nii.gz', <nilearn.input_data.nifti_labels_masker._ExtractionFunctor object at 0x7f6ec2d92210>, \n",
      "{ 'background_label': 0,\n",
      "  'detrend': False,\n",
      "  'dtype': None,\n",
      "  'high_pass': None,\n",
      "  'labels_img': '/home/aalbury/nilearn_data/basc_multiscale_2015/template_cambridge_basc_multiscale_nii_sym/template_cambridge_basc_multiscale_sym_scale064.nii.gz',\n",
      "  'low_pass': None,\n",
      "  'mask_img': None,\n",
      "  'smoothing_fwhm': None,\n",
      "  'standardize': True,\n",
      "  'strategy': 'mean',\n",
      "  't_r': None,\n",
      "  'target_affine': None,\n",
      "  'target_shape': None}, confounds='/home/aalbury/nilearn_data/cobre/fmri_0040023.tsv', dtype=None, memory=Memory(location=nilearn_cache/joblib), memory_level=1, verbose=1)\n",
      "[NiftiLabelsMasker.transform_single_imgs] Loading data from /home/aalbury/nilearn_data/cobre/fmri_0040023.nii.gz\n",
      "[NiftiLabelsMasker.transform_single_imgs] Extracting region signals\n",
      "[NiftiLabelsMasker.transform_single_imgs] Cleaning extracted signals\n",
      "_______________________________________________filter_and_extract - 0.3s, 0.0min\n",
      "finished 133 of 146\n",
      "[NiftiLabelsMasker.fit_transform] loading data from /home/aalbury/nilearn_data/basc_multiscale_2015/template_cambridge_basc_multiscale_nii_sym/template_cambridge_basc_multiscale_sym_scale064.nii.gz\n",
      "________________________________________________________________________________\n",
      "[Memory] Calling nilearn.input_data.base_masker.filter_and_extract...\n",
      "filter_and_extract('/home/aalbury/nilearn_data/cobre/fmri_0040027.nii.gz', <nilearn.input_data.nifti_labels_masker._ExtractionFunctor object at 0x7f6ec322a3d0>, \n",
      "{ 'background_label': 0,\n",
      "  'detrend': False,\n",
      "  'dtype': None,\n",
      "  'high_pass': None,\n",
      "  'labels_img': '/home/aalbury/nilearn_data/basc_multiscale_2015/template_cambridge_basc_multiscale_nii_sym/template_cambridge_basc_multiscale_sym_scale064.nii.gz',\n",
      "  'low_pass': None,\n",
      "  'mask_img': None,\n",
      "  'smoothing_fwhm': None,\n",
      "  'standardize': True,\n",
      "  'strategy': 'mean',\n",
      "  't_r': None,\n",
      "  'target_affine': None,\n",
      "  'target_shape': None}, confounds='/home/aalbury/nilearn_data/cobre/fmri_0040027.tsv', dtype=None, memory=Memory(location=nilearn_cache/joblib), memory_level=1, verbose=1)\n",
      "[NiftiLabelsMasker.transform_single_imgs] Loading data from /home/aalbury/nilearn_data/cobre/fmri_0040027.nii.gz\n",
      "[NiftiLabelsMasker.transform_single_imgs] Extracting region signals\n"
     ]
    },
    {
     "name": "stdout",
     "output_type": "stream",
     "text": [
      "[NiftiLabelsMasker.transform_single_imgs] Cleaning extracted signals\n",
      "_______________________________________________filter_and_extract - 0.3s, 0.0min\n",
      "finished 134 of 146\n",
      "[NiftiLabelsMasker.fit_transform] loading data from /home/aalbury/nilearn_data/basc_multiscale_2015/template_cambridge_basc_multiscale_nii_sym/template_cambridge_basc_multiscale_sym_scale064.nii.gz\n",
      "________________________________________________________________________________\n",
      "[Memory] Calling nilearn.input_data.base_masker.filter_and_extract...\n",
      "filter_and_extract('/home/aalbury/nilearn_data/cobre/fmri_0040123.nii.gz', <nilearn.input_data.nifti_labels_masker._ExtractionFunctor object at 0x7f6ec2d80cd0>, \n",
      "{ 'background_label': 0,\n",
      "  'detrend': False,\n",
      "  'dtype': None,\n",
      "  'high_pass': None,\n",
      "  'labels_img': '/home/aalbury/nilearn_data/basc_multiscale_2015/template_cambridge_basc_multiscale_nii_sym/template_cambridge_basc_multiscale_sym_scale064.nii.gz',\n",
      "  'low_pass': None,\n",
      "  'mask_img': None,\n",
      "  'smoothing_fwhm': None,\n",
      "  'standardize': True,\n",
      "  'strategy': 'mean',\n",
      "  't_r': None,\n",
      "  'target_affine': None,\n",
      "  'target_shape': None}, confounds='/home/aalbury/nilearn_data/cobre/fmri_0040123.tsv', dtype=None, memory=Memory(location=nilearn_cache/joblib), memory_level=1, verbose=1)\n",
      "[NiftiLabelsMasker.transform_single_imgs] Loading data from /home/aalbury/nilearn_data/cobre/fmri_0040123.nii.gz\n",
      "[NiftiLabelsMasker.transform_single_imgs] Extracting region signals\n",
      "[NiftiLabelsMasker.transform_single_imgs] Cleaning extracted signals\n",
      "_______________________________________________filter_and_extract - 0.3s, 0.0min\n",
      "finished 135 of 146\n",
      "[NiftiLabelsMasker.fit_transform] loading data from /home/aalbury/nilearn_data/basc_multiscale_2015/template_cambridge_basc_multiscale_nii_sym/template_cambridge_basc_multiscale_sym_scale064.nii.gz\n",
      "________________________________________________________________________________\n",
      "[Memory] Calling nilearn.input_data.base_masker.filter_and_extract...\n",
      "filter_and_extract('/home/aalbury/nilearn_data/cobre/fmri_0040125.nii.gz', <nilearn.input_data.nifti_labels_masker._ExtractionFunctor object at 0x7f6edbac5610>, \n",
      "{ 'background_label': 0,\n",
      "  'detrend': False,\n",
      "  'dtype': None,\n",
      "  'high_pass': None,\n",
      "  'labels_img': '/home/aalbury/nilearn_data/basc_multiscale_2015/template_cambridge_basc_multiscale_nii_sym/template_cambridge_basc_multiscale_sym_scale064.nii.gz',\n",
      "  'low_pass': None,\n",
      "  'mask_img': None,\n",
      "  'smoothing_fwhm': None,\n",
      "  'standardize': True,\n",
      "  'strategy': 'mean',\n",
      "  't_r': None,\n",
      "  'target_affine': None,\n",
      "  'target_shape': None}, confounds='/home/aalbury/nilearn_data/cobre/fmri_0040125.tsv', dtype=None, memory=Memory(location=nilearn_cache/joblib), memory_level=1, verbose=1)\n",
      "[NiftiLabelsMasker.transform_single_imgs] Loading data from /home/aalbury/nilearn_data/cobre/fmri_0040125.nii.gz\n",
      "[NiftiLabelsMasker.transform_single_imgs] Extracting region signals\n",
      "[NiftiLabelsMasker.transform_single_imgs] Cleaning extracted signals\n",
      "_______________________________________________filter_and_extract - 0.3s, 0.0min\n",
      "finished 136 of 146\n",
      "[NiftiLabelsMasker.fit_transform] loading data from /home/aalbury/nilearn_data/basc_multiscale_2015/template_cambridge_basc_multiscale_nii_sym/template_cambridge_basc_multiscale_sym_scale064.nii.gz\n",
      "________________________________________________________________________________\n",
      "[Memory] Calling nilearn.input_data.base_masker.filter_and_extract...\n",
      "filter_and_extract('/home/aalbury/nilearn_data/cobre/fmri_0040062.nii.gz', <nilearn.input_data.nifti_labels_masker._ExtractionFunctor object at 0x7f6ec332c6d0>, \n",
      "{ 'background_label': 0,\n",
      "  'detrend': False,\n",
      "  'dtype': None,\n",
      "  'high_pass': None,\n",
      "  'labels_img': '/home/aalbury/nilearn_data/basc_multiscale_2015/template_cambridge_basc_multiscale_nii_sym/template_cambridge_basc_multiscale_sym_scale064.nii.gz',\n",
      "  'low_pass': None,\n",
      "  'mask_img': None,\n",
      "  'smoothing_fwhm': None,\n",
      "  'standardize': True,\n",
      "  'strategy': 'mean',\n",
      "  't_r': None,\n",
      "  'target_affine': None,\n",
      "  'target_shape': None}, confounds='/home/aalbury/nilearn_data/cobre/fmri_0040062.tsv', dtype=None, memory=Memory(location=nilearn_cache/joblib), memory_level=1, verbose=1)\n",
      "[NiftiLabelsMasker.transform_single_imgs] Loading data from /home/aalbury/nilearn_data/cobre/fmri_0040062.nii.gz\n",
      "[NiftiLabelsMasker.transform_single_imgs] Extracting region signals\n",
      "[NiftiLabelsMasker.transform_single_imgs] Cleaning extracted signals\n",
      "_______________________________________________filter_and_extract - 0.3s, 0.0min\n",
      "finished 137 of 146\n",
      "[NiftiLabelsMasker.fit_transform] loading data from /home/aalbury/nilearn_data/basc_multiscale_2015/template_cambridge_basc_multiscale_nii_sym/template_cambridge_basc_multiscale_sym_scale064.nii.gz\n",
      "________________________________________________________________________________\n",
      "[Memory] Calling nilearn.input_data.base_masker.filter_and_extract...\n",
      "filter_and_extract('/home/aalbury/nilearn_data/cobre/fmri_0040054.nii.gz', <nilearn.input_data.nifti_labels_masker._ExtractionFunctor object at 0x7f6ec2db3b10>, \n",
      "{ 'background_label': 0,\n",
      "  'detrend': False,\n",
      "  'dtype': None,\n",
      "  'high_pass': None,\n",
      "  'labels_img': '/home/aalbury/nilearn_data/basc_multiscale_2015/template_cambridge_basc_multiscale_nii_sym/template_cambridge_basc_multiscale_sym_scale064.nii.gz',\n",
      "  'low_pass': None,\n",
      "  'mask_img': None,\n",
      "  'smoothing_fwhm': None,\n",
      "  'standardize': True,\n",
      "  'strategy': 'mean',\n",
      "  't_r': None,\n",
      "  'target_affine': None,\n",
      "  'target_shape': None}, confounds='/home/aalbury/nilearn_data/cobre/fmri_0040054.tsv', dtype=None, memory=Memory(location=nilearn_cache/joblib), memory_level=1, verbose=1)\n",
      "[NiftiLabelsMasker.transform_single_imgs] Loading data from /home/aalbury/nilearn_data/cobre/fmri_0040054.nii.gz\n",
      "[NiftiLabelsMasker.transform_single_imgs] Extracting region signals\n",
      "[NiftiLabelsMasker.transform_single_imgs] Cleaning extracted signals\n",
      "_______________________________________________filter_and_extract - 0.3s, 0.0min\n",
      "finished 138 of 146\n",
      "[NiftiLabelsMasker.fit_transform] loading data from /home/aalbury/nilearn_data/basc_multiscale_2015/template_cambridge_basc_multiscale_nii_sym/template_cambridge_basc_multiscale_sym_scale064.nii.gz\n",
      "________________________________________________________________________________\n",
      "[Memory] Calling nilearn.input_data.base_masker.filter_and_extract...\n",
      "filter_and_extract('/home/aalbury/nilearn_data/cobre/fmri_0040076.nii.gz', <nilearn.input_data.nifti_labels_masker._ExtractionFunctor object at 0x7f6ec361ab90>, \n",
      "{ 'background_label': 0,\n",
      "  'detrend': False,\n",
      "  'dtype': None,\n",
      "  'high_pass': None,\n",
      "  'labels_img': '/home/aalbury/nilearn_data/basc_multiscale_2015/template_cambridge_basc_multiscale_nii_sym/template_cambridge_basc_multiscale_sym_scale064.nii.gz',\n",
      "  'low_pass': None,\n",
      "  'mask_img': None,\n",
      "  'smoothing_fwhm': None,\n",
      "  'standardize': True,\n",
      "  'strategy': 'mean',\n",
      "  't_r': None,\n",
      "  'target_affine': None,\n",
      "  'target_shape': None}, confounds='/home/aalbury/nilearn_data/cobre/fmri_0040076.tsv', dtype=None, memory=Memory(location=nilearn_cache/joblib), memory_level=1, verbose=1)\n",
      "[NiftiLabelsMasker.transform_single_imgs] Loading data from /home/aalbury/nilearn_data/cobre/fmri_0040076.nii.gz\n",
      "[NiftiLabelsMasker.transform_single_imgs] Extracting region signals\n",
      "[NiftiLabelsMasker.transform_single_imgs] Cleaning extracted signals\n",
      "_______________________________________________filter_and_extract - 0.3s, 0.0min\n",
      "finished 139 of 146\n",
      "[NiftiLabelsMasker.fit_transform] loading data from /home/aalbury/nilearn_data/basc_multiscale_2015/template_cambridge_basc_multiscale_nii_sym/template_cambridge_basc_multiscale_sym_scale064.nii.gz\n",
      "________________________________________________________________________________\n",
      "[Memory] Calling nilearn.input_data.base_masker.filter_and_extract...\n",
      "filter_and_extract('/home/aalbury/nilearn_data/cobre/fmri_0040038.nii.gz', <nilearn.input_data.nifti_labels_masker._ExtractionFunctor object at 0x7f6ec3326d90>, \n",
      "{ 'background_label': 0,\n",
      "  'detrend': False,\n",
      "  'dtype': None,\n",
      "  'high_pass': None,\n",
      "  'labels_img': '/home/aalbury/nilearn_data/basc_multiscale_2015/template_cambridge_basc_multiscale_nii_sym/template_cambridge_basc_multiscale_sym_scale064.nii.gz',\n",
      "  'low_pass': None,\n",
      "  'mask_img': None,\n",
      "  'smoothing_fwhm': None,\n",
      "  'standardize': True,\n",
      "  'strategy': 'mean',\n",
      "  't_r': None,\n",
      "  'target_affine': None,\n",
      "  'target_shape': None}, confounds='/home/aalbury/nilearn_data/cobre/fmri_0040038.tsv', dtype=None, memory=Memory(location=nilearn_cache/joblib), memory_level=1, verbose=1)\n",
      "[NiftiLabelsMasker.transform_single_imgs] Loading data from /home/aalbury/nilearn_data/cobre/fmri_0040038.nii.gz\n",
      "[NiftiLabelsMasker.transform_single_imgs] Extracting region signals\n"
     ]
    },
    {
     "name": "stdout",
     "output_type": "stream",
     "text": [
      "[NiftiLabelsMasker.transform_single_imgs] Cleaning extracted signals\n",
      "_______________________________________________filter_and_extract - 0.3s, 0.0min\n",
      "finished 140 of 146\n",
      "[NiftiLabelsMasker.fit_transform] loading data from /home/aalbury/nilearn_data/basc_multiscale_2015/template_cambridge_basc_multiscale_nii_sym/template_cambridge_basc_multiscale_sym_scale064.nii.gz\n",
      "________________________________________________________________________________\n",
      "[Memory] Calling nilearn.input_data.base_masker.filter_and_extract...\n",
      "filter_and_extract('/home/aalbury/nilearn_data/cobre/fmri_0040140.nii.gz', <nilearn.input_data.nifti_labels_masker._ExtractionFunctor object at 0x7f6ec2d92210>, \n",
      "{ 'background_label': 0,\n",
      "  'detrend': False,\n",
      "  'dtype': None,\n",
      "  'high_pass': None,\n",
      "  'labels_img': '/home/aalbury/nilearn_data/basc_multiscale_2015/template_cambridge_basc_multiscale_nii_sym/template_cambridge_basc_multiscale_sym_scale064.nii.gz',\n",
      "  'low_pass': None,\n",
      "  'mask_img': None,\n",
      "  'smoothing_fwhm': None,\n",
      "  'standardize': True,\n",
      "  'strategy': 'mean',\n",
      "  't_r': None,\n",
      "  'target_affine': None,\n",
      "  'target_shape': None}, confounds='/home/aalbury/nilearn_data/cobre/fmri_0040140.tsv', dtype=None, memory=Memory(location=nilearn_cache/joblib), memory_level=1, verbose=1)\n",
      "[NiftiLabelsMasker.transform_single_imgs] Loading data from /home/aalbury/nilearn_data/cobre/fmri_0040140.nii.gz\n",
      "[NiftiLabelsMasker.transform_single_imgs] Extracting region signals\n",
      "[NiftiLabelsMasker.transform_single_imgs] Cleaning extracted signals\n",
      "_______________________________________________filter_and_extract - 0.3s, 0.0min\n",
      "finished 141 of 146\n",
      "[NiftiLabelsMasker.fit_transform] loading data from /home/aalbury/nilearn_data/basc_multiscale_2015/template_cambridge_basc_multiscale_nii_sym/template_cambridge_basc_multiscale_sym_scale064.nii.gz\n",
      "________________________________________________________________________________\n",
      "[Memory] Calling nilearn.input_data.base_masker.filter_and_extract...\n",
      "filter_and_extract('/home/aalbury/nilearn_data/cobre/fmri_0040144.nii.gz', <nilearn.input_data.nifti_labels_masker._ExtractionFunctor object at 0x7f6eda7b61d0>, \n",
      "{ 'background_label': 0,\n",
      "  'detrend': False,\n",
      "  'dtype': None,\n",
      "  'high_pass': None,\n",
      "  'labels_img': '/home/aalbury/nilearn_data/basc_multiscale_2015/template_cambridge_basc_multiscale_nii_sym/template_cambridge_basc_multiscale_sym_scale064.nii.gz',\n",
      "  'low_pass': None,\n",
      "  'mask_img': None,\n",
      "  'smoothing_fwhm': None,\n",
      "  'standardize': True,\n",
      "  'strategy': 'mean',\n",
      "  't_r': None,\n",
      "  'target_affine': None,\n",
      "  'target_shape': None}, confounds='/home/aalbury/nilearn_data/cobre/fmri_0040144.tsv', dtype=None, memory=Memory(location=nilearn_cache/joblib), memory_level=1, verbose=1)\n",
      "[NiftiLabelsMasker.transform_single_imgs] Loading data from /home/aalbury/nilearn_data/cobre/fmri_0040144.nii.gz\n",
      "[NiftiLabelsMasker.transform_single_imgs] Extracting region signals\n",
      "[NiftiLabelsMasker.transform_single_imgs] Cleaning extracted signals\n",
      "_______________________________________________filter_and_extract - 0.3s, 0.0min\n",
      "finished 142 of 146\n",
      "[NiftiLabelsMasker.fit_transform] loading data from /home/aalbury/nilearn_data/basc_multiscale_2015/template_cambridge_basc_multiscale_nii_sym/template_cambridge_basc_multiscale_sym_scale064.nii.gz\n",
      "________________________________________________________________________________\n",
      "[Memory] Calling nilearn.input_data.base_masker.filter_and_extract...\n",
      "filter_and_extract('/home/aalbury/nilearn_data/cobre/fmri_0040069.nii.gz', <nilearn.input_data.nifti_labels_masker._ExtractionFunctor object at 0x7f6ed1e15850>, \n",
      "{ 'background_label': 0,\n",
      "  'detrend': False,\n",
      "  'dtype': None,\n",
      "  'high_pass': None,\n",
      "  'labels_img': '/home/aalbury/nilearn_data/basc_multiscale_2015/template_cambridge_basc_multiscale_nii_sym/template_cambridge_basc_multiscale_sym_scale064.nii.gz',\n",
      "  'low_pass': None,\n",
      "  'mask_img': None,\n",
      "  'smoothing_fwhm': None,\n",
      "  'standardize': True,\n",
      "  'strategy': 'mean',\n",
      "  't_r': None,\n",
      "  'target_affine': None,\n",
      "  'target_shape': None}, confounds='/home/aalbury/nilearn_data/cobre/fmri_0040069.tsv', dtype=None, memory=Memory(location=nilearn_cache/joblib), memory_level=1, verbose=1)\n",
      "[NiftiLabelsMasker.transform_single_imgs] Loading data from /home/aalbury/nilearn_data/cobre/fmri_0040069.nii.gz\n",
      "[NiftiLabelsMasker.transform_single_imgs] Extracting region signals\n",
      "[NiftiLabelsMasker.transform_single_imgs] Cleaning extracted signals\n",
      "_______________________________________________filter_and_extract - 0.3s, 0.0min\n",
      "finished 143 of 146\n",
      "[NiftiLabelsMasker.fit_transform] loading data from /home/aalbury/nilearn_data/basc_multiscale_2015/template_cambridge_basc_multiscale_nii_sym/template_cambridge_basc_multiscale_sym_scale064.nii.gz\n",
      "________________________________________________________________________________\n",
      "[Memory] Calling nilearn.input_data.base_masker.filter_and_extract...\n",
      "filter_and_extract('/home/aalbury/nilearn_data/cobre/fmri_0040111.nii.gz', <nilearn.input_data.nifti_labels_masker._ExtractionFunctor object at 0x7f6ed1476610>, \n",
      "{ 'background_label': 0,\n",
      "  'detrend': False,\n",
      "  'dtype': None,\n",
      "  'high_pass': None,\n",
      "  'labels_img': '/home/aalbury/nilearn_data/basc_multiscale_2015/template_cambridge_basc_multiscale_nii_sym/template_cambridge_basc_multiscale_sym_scale064.nii.gz',\n",
      "  'low_pass': None,\n",
      "  'mask_img': None,\n",
      "  'smoothing_fwhm': None,\n",
      "  'standardize': True,\n",
      "  'strategy': 'mean',\n",
      "  't_r': None,\n",
      "  'target_affine': None,\n",
      "  'target_shape': None}, confounds='/home/aalbury/nilearn_data/cobre/fmri_0040111.tsv', dtype=None, memory=Memory(location=nilearn_cache/joblib), memory_level=1, verbose=1)\n",
      "[NiftiLabelsMasker.transform_single_imgs] Loading data from /home/aalbury/nilearn_data/cobre/fmri_0040111.nii.gz\n",
      "[NiftiLabelsMasker.transform_single_imgs] Extracting region signals\n",
      "[NiftiLabelsMasker.transform_single_imgs] Cleaning extracted signals\n",
      "_______________________________________________filter_and_extract - 0.4s, 0.0min\n",
      "finished 144 of 146\n",
      "[NiftiLabelsMasker.fit_transform] loading data from /home/aalbury/nilearn_data/basc_multiscale_2015/template_cambridge_basc_multiscale_nii_sym/template_cambridge_basc_multiscale_sym_scale064.nii.gz\n",
      "________________________________________________________________________________\n",
      "[Memory] Calling nilearn.input_data.base_masker.filter_and_extract...\n",
      "filter_and_extract('/home/aalbury/nilearn_data/cobre/fmri_0040066.nii.gz', <nilearn.input_data.nifti_labels_masker._ExtractionFunctor object at 0x7f6ec2d86710>, \n",
      "{ 'background_label': 0,\n",
      "  'detrend': False,\n",
      "  'dtype': None,\n",
      "  'high_pass': None,\n",
      "  'labels_img': '/home/aalbury/nilearn_data/basc_multiscale_2015/template_cambridge_basc_multiscale_nii_sym/template_cambridge_basc_multiscale_sym_scale064.nii.gz',\n",
      "  'low_pass': None,\n",
      "  'mask_img': None,\n",
      "  'smoothing_fwhm': None,\n",
      "  'standardize': True,\n",
      "  'strategy': 'mean',\n",
      "  't_r': None,\n",
      "  'target_affine': None,\n",
      "  'target_shape': None}, confounds='/home/aalbury/nilearn_data/cobre/fmri_0040066.tsv', dtype=None, memory=Memory(location=nilearn_cache/joblib), memory_level=1, verbose=1)\n",
      "[NiftiLabelsMasker.transform_single_imgs] Loading data from /home/aalbury/nilearn_data/cobre/fmri_0040066.nii.gz\n",
      "[NiftiLabelsMasker.transform_single_imgs] Extracting region signals\n",
      "[NiftiLabelsMasker.transform_single_imgs] Cleaning extracted signals\n",
      "_______________________________________________filter_and_extract - 0.3s, 0.0min\n",
      "finished 145 of 146\n",
      "[NiftiLabelsMasker.fit_transform] loading data from /home/aalbury/nilearn_data/basc_multiscale_2015/template_cambridge_basc_multiscale_nii_sym/template_cambridge_basc_multiscale_sym_scale064.nii.gz\n",
      "________________________________________________________________________________\n",
      "[Memory] Calling nilearn.input_data.base_masker.filter_and_extract...\n",
      "filter_and_extract('/home/aalbury/nilearn_data/cobre/fmri_0040086.nii.gz', <nilearn.input_data.nifti_labels_masker._ExtractionFunctor object at 0x7f6ed008fc90>, \n",
      "{ 'background_label': 0,\n",
      "  'detrend': False,\n",
      "  'dtype': None,\n",
      "  'high_pass': None,\n",
      "  'labels_img': '/home/aalbury/nilearn_data/basc_multiscale_2015/template_cambridge_basc_multiscale_nii_sym/template_cambridge_basc_multiscale_sym_scale064.nii.gz',\n",
      "  'low_pass': None,\n",
      "  'mask_img': None,\n",
      "  'smoothing_fwhm': None,\n",
      "  'standardize': True,\n",
      "  'strategy': 'mean',\n",
      "  't_r': None,\n",
      "  'target_affine': None,\n",
      "  'target_shape': None}, confounds='/home/aalbury/nilearn_data/cobre/fmri_0040086.tsv', dtype=None, memory=Memory(location=nilearn_cache/joblib), memory_level=1, verbose=1)\n",
      "[NiftiLabelsMasker.transform_single_imgs] Loading data from /home/aalbury/nilearn_data/cobre/fmri_0040086.nii.gz\n",
      "[NiftiLabelsMasker.transform_single_imgs] Extracting region signals\n"
     ]
    },
    {
     "name": "stdout",
     "output_type": "stream",
     "text": [
      "[NiftiLabelsMasker.transform_single_imgs] Cleaning extracted signals\n",
      "_______________________________________________filter_and_extract - 0.3s, 0.0min\n",
      "finished 146 of 146\n"
     ]
    }
   ],
   "source": [
    "import pandas as pd\n",
    "all_features = pd.DataFrame(columns=['features', 'file'])\n",
    "\n",
    "for i,sub in enumerate(data.func):\n",
    "    # extract the timeseries from the ROIs in the atlas\n",
    "    time_series = mask.fit_transform(sub, confounds=data.confounds[i])\n",
    "    # create a region x region correlation matrix\n",
    "    correlation_matrix = correlation_measure.fit_transform([time_series])[0]\n",
    "    # add to dataframe\n",
    "    all_features = all_features.append({'features': correlation_matrix, 'file': data.func[i]}, ignore_index=True)\n",
    "    # keep track of status\n",
    "    print('finished %s of %s'%(i+1,len(data.func)))"
   ]
  },
  {
   "cell_type": "code",
   "execution_count": 43,
   "metadata": {},
   "outputs": [],
   "source": [
    "# create pandas dataframe of features and phenotypic data\n",
    "full = pandas.merge(pheno, all_features, left_on = 'path', right_on = 'file')"
   ]
  },
  {
   "cell_type": "code",
   "execution_count": 44,
   "metadata": {},
   "outputs": [
    {
     "data": {
      "text/html": [
       "<div>\n",
       "<style scoped>\n",
       "    .dataframe tbody tr th:only-of-type {\n",
       "        vertical-align: middle;\n",
       "    }\n",
       "\n",
       "    .dataframe tbody tr th {\n",
       "        vertical-align: top;\n",
       "    }\n",
       "\n",
       "    .dataframe thead th {\n",
       "        text-align: right;\n",
       "    }\n",
       "</style>\n",
       "<table border=\"1\" class=\"dataframe\">\n",
       "  <thead>\n",
       "    <tr style=\"text-align: right;\">\n",
       "      <th></th>\n",
       "      <th>id</th>\n",
       "      <th>current_age</th>\n",
       "      <th>gender</th>\n",
       "      <th>handedness</th>\n",
       "      <th>subject_type</th>\n",
       "      <th>diagnosis</th>\n",
       "      <th>frames_ok</th>\n",
       "      <th>fd</th>\n",
       "      <th>fd_scrubbed</th>\n",
       "      <th>path</th>\n",
       "      <th>features</th>\n",
       "      <th>file</th>\n",
       "    </tr>\n",
       "  </thead>\n",
       "  <tbody>\n",
       "    <tr>\n",
       "      <th>0</th>\n",
       "      <td>40061</td>\n",
       "      <td>18</td>\n",
       "      <td>Male</td>\n",
       "      <td>Right</td>\n",
       "      <td>Control</td>\n",
       "      <td>None</td>\n",
       "      <td>133</td>\n",
       "      <td>0.25512</td>\n",
       "      <td>0.22657</td>\n",
       "      <td>/home/aalbury/nilearn_data/cobre/fmri_0040061....</td>\n",
       "      <td>[0.12785325357282862, 0.24422311479417322, 0.0...</td>\n",
       "      <td>/home/aalbury/nilearn_data/cobre/fmri_0040061....</td>\n",
       "    </tr>\n",
       "    <tr>\n",
       "      <th>1</th>\n",
       "      <td>40090</td>\n",
       "      <td>18</td>\n",
       "      <td>Female</td>\n",
       "      <td>Right</td>\n",
       "      <td>Control</td>\n",
       "      <td>None</td>\n",
       "      <td>150</td>\n",
       "      <td>0.16963</td>\n",
       "      <td>0.16963</td>\n",
       "      <td>/home/aalbury/nilearn_data/cobre/fmri_0040090....</td>\n",
       "      <td>[0.05584897620355883, 0.11246991477285287, 0.0...</td>\n",
       "      <td>/home/aalbury/nilearn_data/cobre/fmri_0040090....</td>\n",
       "    </tr>\n",
       "    <tr>\n",
       "      <th>2</th>\n",
       "      <td>40046</td>\n",
       "      <td>18</td>\n",
       "      <td>Male</td>\n",
       "      <td>Left</td>\n",
       "      <td>Patient</td>\n",
       "      <td>295.70 depressed type</td>\n",
       "      <td>76</td>\n",
       "      <td>0.37504</td>\n",
       "      <td>0.30042</td>\n",
       "      <td>/home/aalbury/nilearn_data/cobre/fmri_0040046....</td>\n",
       "      <td>[0.08678037911430761, 0.06380639929297223, 0.2...</td>\n",
       "      <td>/home/aalbury/nilearn_data/cobre/fmri_0040046....</td>\n",
       "    </tr>\n",
       "    <tr>\n",
       "      <th>3</th>\n",
       "      <td>40002</td>\n",
       "      <td>19</td>\n",
       "      <td>Male</td>\n",
       "      <td>Right</td>\n",
       "      <td>Patient</td>\n",
       "      <td>295.3</td>\n",
       "      <td>67</td>\n",
       "      <td>0.40006</td>\n",
       "      <td>0.21575</td>\n",
       "      <td>/home/aalbury/nilearn_data/cobre/fmri_0040002....</td>\n",
       "      <td>[0.1456258349041035, -0.06313977045762048, 0.0...</td>\n",
       "      <td>/home/aalbury/nilearn_data/cobre/fmri_0040002....</td>\n",
       "    </tr>\n",
       "    <tr>\n",
       "      <th>4</th>\n",
       "      <td>40117</td>\n",
       "      <td>19</td>\n",
       "      <td>Male</td>\n",
       "      <td>Right</td>\n",
       "      <td>Patient</td>\n",
       "      <td>295.3</td>\n",
       "      <td>133</td>\n",
       "      <td>0.20975</td>\n",
       "      <td>0.18410</td>\n",
       "      <td>/home/aalbury/nilearn_data/cobre/fmri_0040117....</td>\n",
       "      <td>[0.17462308889197792, -0.11825290188441862, -0...</td>\n",
       "      <td>/home/aalbury/nilearn_data/cobre/fmri_0040117....</td>\n",
       "    </tr>\n",
       "    <tr>\n",
       "      <th>...</th>\n",
       "      <td>...</td>\n",
       "      <td>...</td>\n",
       "      <td>...</td>\n",
       "      <td>...</td>\n",
       "      <td>...</td>\n",
       "      <td>...</td>\n",
       "      <td>...</td>\n",
       "      <td>...</td>\n",
       "      <td>...</td>\n",
       "      <td>...</td>\n",
       "      <td>...</td>\n",
       "      <td>...</td>\n",
       "    </tr>\n",
       "    <tr>\n",
       "      <th>141</th>\n",
       "      <td>40089</td>\n",
       "      <td>62</td>\n",
       "      <td>Male</td>\n",
       "      <td>Right</td>\n",
       "      <td>Patient</td>\n",
       "      <td>295.3</td>\n",
       "      <td>40</td>\n",
       "      <td>0.70368</td>\n",
       "      <td>0.72439</td>\n",
       "      <td>/home/aalbury/nilearn_data/cobre/fmri_0040089....</td>\n",
       "      <td>[0.010289989396440208, 0.05385253837186407, 0....</td>\n",
       "      <td>/home/aalbury/nilearn_data/cobre/fmri_0040089....</td>\n",
       "    </tr>\n",
       "    <tr>\n",
       "      <th>142</th>\n",
       "      <td>40040</td>\n",
       "      <td>63</td>\n",
       "      <td>Male</td>\n",
       "      <td>Right</td>\n",
       "      <td>Patient</td>\n",
       "      <td>295.3</td>\n",
       "      <td>42</td>\n",
       "      <td>0.58301</td>\n",
       "      <td>0.40646</td>\n",
       "      <td>/home/aalbury/nilearn_data/cobre/fmri_0040040....</td>\n",
       "      <td>[-0.05942811380550243, 0.005379451667081145, 0...</td>\n",
       "      <td>/home/aalbury/nilearn_data/cobre/fmri_0040040....</td>\n",
       "    </tr>\n",
       "    <tr>\n",
       "      <th>143</th>\n",
       "      <td>40028</td>\n",
       "      <td>64</td>\n",
       "      <td>Male</td>\n",
       "      <td>Right</td>\n",
       "      <td>Patient</td>\n",
       "      <td>295.3</td>\n",
       "      <td>55</td>\n",
       "      <td>0.42364</td>\n",
       "      <td>0.26393</td>\n",
       "      <td>/home/aalbury/nilearn_data/cobre/fmri_0040028....</td>\n",
       "      <td>[0.1526906170886252, 0.2197449376315366, 0.301...</td>\n",
       "      <td>/home/aalbury/nilearn_data/cobre/fmri_0040028....</td>\n",
       "    </tr>\n",
       "    <tr>\n",
       "      <th>144</th>\n",
       "      <td>40086</td>\n",
       "      <td>65</td>\n",
       "      <td>Male</td>\n",
       "      <td>Right</td>\n",
       "      <td>Control</td>\n",
       "      <td>None</td>\n",
       "      <td>48</td>\n",
       "      <td>0.39595</td>\n",
       "      <td>0.32296</td>\n",
       "      <td>/home/aalbury/nilearn_data/cobre/fmri_0040086....</td>\n",
       "      <td>[0.44868677474053265, -0.1957847795785304, -0....</td>\n",
       "      <td>/home/aalbury/nilearn_data/cobre/fmri_0040086....</td>\n",
       "    </tr>\n",
       "    <tr>\n",
       "      <th>145</th>\n",
       "      <td>40007</td>\n",
       "      <td>65</td>\n",
       "      <td>Female</td>\n",
       "      <td>Right</td>\n",
       "      <td>Patient</td>\n",
       "      <td>295.3</td>\n",
       "      <td>40</td>\n",
       "      <td>0.70044</td>\n",
       "      <td>0.72077</td>\n",
       "      <td>/home/aalbury/nilearn_data/cobre/fmri_0040007....</td>\n",
       "      <td>[0.08900283860731034, 0.11650348658751322, 0.3...</td>\n",
       "      <td>/home/aalbury/nilearn_data/cobre/fmri_0040007....</td>\n",
       "    </tr>\n",
       "  </tbody>\n",
       "</table>\n",
       "<p>146 rows × 12 columns</p>\n",
       "</div>"
      ],
      "text/plain": [
       "        id  current_age  gender handedness subject_type  \\\n",
       "0    40061           18    Male      Right      Control   \n",
       "1    40090           18  Female      Right      Control   \n",
       "2    40046           18    Male       Left      Patient   \n",
       "3    40002           19    Male      Right      Patient   \n",
       "4    40117           19    Male      Right      Patient   \n",
       "..     ...          ...     ...        ...          ...   \n",
       "141  40089           62    Male      Right      Patient   \n",
       "142  40040           63    Male      Right      Patient   \n",
       "143  40028           64    Male      Right      Patient   \n",
       "144  40086           65    Male      Right      Control   \n",
       "145  40007           65  Female      Right      Patient   \n",
       "\n",
       "                 diagnosis  frames_ok       fd  fd_scrubbed  \\\n",
       "0                     None        133  0.25512      0.22657   \n",
       "1                     None        150  0.16963      0.16963   \n",
       "2    295.70 depressed type         76  0.37504      0.30042   \n",
       "3                    295.3         67  0.40006      0.21575   \n",
       "4                    295.3        133  0.20975      0.18410   \n",
       "..                     ...        ...      ...          ...   \n",
       "141                  295.3         40  0.70368      0.72439   \n",
       "142                  295.3         42  0.58301      0.40646   \n",
       "143                  295.3         55  0.42364      0.26393   \n",
       "144                   None         48  0.39595      0.32296   \n",
       "145                  295.3         40  0.70044      0.72077   \n",
       "\n",
       "                                                  path  \\\n",
       "0    /home/aalbury/nilearn_data/cobre/fmri_0040061....   \n",
       "1    /home/aalbury/nilearn_data/cobre/fmri_0040090....   \n",
       "2    /home/aalbury/nilearn_data/cobre/fmri_0040046....   \n",
       "3    /home/aalbury/nilearn_data/cobre/fmri_0040002....   \n",
       "4    /home/aalbury/nilearn_data/cobre/fmri_0040117....   \n",
       "..                                                 ...   \n",
       "141  /home/aalbury/nilearn_data/cobre/fmri_0040089....   \n",
       "142  /home/aalbury/nilearn_data/cobre/fmri_0040040....   \n",
       "143  /home/aalbury/nilearn_data/cobre/fmri_0040028....   \n",
       "144  /home/aalbury/nilearn_data/cobre/fmri_0040086....   \n",
       "145  /home/aalbury/nilearn_data/cobre/fmri_0040007....   \n",
       "\n",
       "                                              features  \\\n",
       "0    [0.12785325357282862, 0.24422311479417322, 0.0...   \n",
       "1    [0.05584897620355883, 0.11246991477285287, 0.0...   \n",
       "2    [0.08678037911430761, 0.06380639929297223, 0.2...   \n",
       "3    [0.1456258349041035, -0.06313977045762048, 0.0...   \n",
       "4    [0.17462308889197792, -0.11825290188441862, -0...   \n",
       "..                                                 ...   \n",
       "141  [0.010289989396440208, 0.05385253837186407, 0....   \n",
       "142  [-0.05942811380550243, 0.005379451667081145, 0...   \n",
       "143  [0.1526906170886252, 0.2197449376315366, 0.301...   \n",
       "144  [0.44868677474053265, -0.1957847795785304, -0....   \n",
       "145  [0.08900283860731034, 0.11650348658751322, 0.3...   \n",
       "\n",
       "                                                  file  \n",
       "0    /home/aalbury/nilearn_data/cobre/fmri_0040061....  \n",
       "1    /home/aalbury/nilearn_data/cobre/fmri_0040090....  \n",
       "2    /home/aalbury/nilearn_data/cobre/fmri_0040046....  \n",
       "3    /home/aalbury/nilearn_data/cobre/fmri_0040002....  \n",
       "4    /home/aalbury/nilearn_data/cobre/fmri_0040117....  \n",
       "..                                                 ...  \n",
       "141  /home/aalbury/nilearn_data/cobre/fmri_0040089....  \n",
       "142  /home/aalbury/nilearn_data/cobre/fmri_0040040....  \n",
       "143  /home/aalbury/nilearn_data/cobre/fmri_0040028....  \n",
       "144  /home/aalbury/nilearn_data/cobre/fmri_0040086....  \n",
       "145  /home/aalbury/nilearn_data/cobre/fmri_0040007....  \n",
       "\n",
       "[146 rows x 12 columns]"
      ]
     },
     "execution_count": 44,
     "metadata": {},
     "output_type": "execute_result"
    }
   ],
   "source": [
    "full"
   ]
  },
  {
   "cell_type": "markdown",
   "metadata": {},
   "source": [
    "## Classification"
   ]
  },
  {
   "cell_type": "code",
   "execution_count": 45,
   "metadata": {},
   "outputs": [],
   "source": [
    "from sklearn.model_selection import train_test_split\n",
    "\n",
    "# Split the sample to training/validation with a 80/20 ratio, and \n",
    "\n",
    "x_train, x_val, y_train, y_val = train_test_split(\n",
    "                                                    list(full['features']), # x\n",
    "                                                    full['subject_type'], # y\n",
    "                                                    test_size = 0.2, # 80%/20% split  \n",
    "                                                    shuffle = True, # shuffle dataset\n",
    "                                                    random_state = 242 \n",
    "                                                                       )"
   ]
  },
  {
   "cell_type": "code",
   "execution_count": 46,
   "metadata": {},
   "outputs": [],
   "source": [
    "# build classifier\n",
    "from sklearn.svm import SVC\n",
    "svc = SVC(kernel='linear')"
   ]
  },
  {
   "cell_type": "code",
   "execution_count": 47,
   "metadata": {},
   "outputs": [
    {
     "data": {
      "text/plain": [
       "SVC(C=1.0, break_ties=False, cache_size=200, class_weight=None, coef0=0.0,\n",
       "    decision_function_shape='ovr', degree=3, gamma='scale', kernel='linear',\n",
       "    max_iter=-1, probability=False, random_state=None, shrinking=True,\n",
       "    tol=0.001, verbose=False)"
      ]
     },
     "execution_count": 47,
     "metadata": {},
     "output_type": "execute_result"
    }
   ],
   "source": [
    "#train model\n",
    "svc.fit(x_train, y_train)"
   ]
  },
  {
   "cell_type": "code",
   "execution_count": 48,
   "metadata": {},
   "outputs": [
    {
     "name": "stdout",
     "output_type": "stream",
     "text": [
      "1.0\n"
     ]
    }
   ],
   "source": [
    "prediction = svc.predict(x_train)\n",
    "\n",
    "# caluclate the model accuracy\n",
    "acc = svc.score(x_train, y_train)\n",
    "print(acc)"
   ]
  },
  {
   "cell_type": "code",
   "execution_count": 49,
   "metadata": {},
   "outputs": [
    {
     "data": {
      "text/plain": [
       "array(['Control', 'Patient', 'Patient', 'Patient', 'Patient', 'Patient',\n",
       "       'Patient', 'Control', 'Control', 'Patient', 'Control', 'Control',\n",
       "       'Patient', 'Control', 'Patient', 'Patient', 'Patient', 'Control',\n",
       "       'Patient', 'Patient', 'Control', 'Patient', 'Control', 'Control',\n",
       "       'Control', 'Control', 'Patient', 'Control', 'Control', 'Control',\n",
       "       'Control', 'Patient', 'Patient', 'Patient', 'Control', 'Patient',\n",
       "       'Patient', 'Control', 'Patient', 'Control', 'Control', 'Patient',\n",
       "       'Control', 'Patient', 'Control', 'Control', 'Patient', 'Control',\n",
       "       'Patient', 'Patient', 'Patient', 'Control', 'Control', 'Control',\n",
       "       'Patient', 'Patient', 'Control', 'Patient', 'Patient', 'Patient',\n",
       "       'Control', 'Control', 'Control', 'Patient', 'Patient', 'Control',\n",
       "       'Control', 'Patient', 'Patient', 'Control', 'Control', 'Patient',\n",
       "       'Patient', 'Control', 'Patient', 'Control', 'Patient', 'Patient',\n",
       "       'Patient', 'Patient', 'Control', 'Patient', 'Control', 'Control',\n",
       "       'Control', 'Control', 'Patient', 'Patient', 'Control', 'Patient',\n",
       "       'Control', 'Control', 'Control', 'Control', 'Control', 'Patient',\n",
       "       'Control', 'Control', 'Control', 'Patient', 'Patient', 'Control',\n",
       "       'Patient', 'Control', 'Control', 'Patient', 'Control', 'Patient',\n",
       "       'Control', 'Patient', 'Control', 'Control', 'Patient', 'Patient',\n",
       "       'Control', 'Patient'], dtype=object)"
      ]
     },
     "execution_count": 49,
     "metadata": {},
     "output_type": "execute_result"
    }
   ],
   "source": [
    "prediction"
   ]
  },
  {
   "cell_type": "code",
   "execution_count": 56,
   "metadata": {},
   "outputs": [
    {
     "name": "stdout",
     "output_type": "stream",
     "text": [
      "[[59  0]\n",
      " [ 0 57]]\n"
     ]
    }
   ],
   "source": [
    "from sklearn.metrics import confusion_matrix\n",
    "from sklearn.metrics import roc_curve\n",
    "cm = confusion_matrix(y_train, prediction)\n",
    "print(cm)\n",
    "\n"
   ]
  },
  {
   "cell_type": "code",
   "execution_count": null,
   "metadata": {},
   "outputs": [],
   "source": [
    "#roc_curve(y_train, prediction, pos_label=\"Patient\")"
   ]
  },
  {
   "cell_type": "code",
   "execution_count": 51,
   "metadata": {},
   "outputs": [
    {
     "name": "stdout",
     "output_type": "stream",
     "text": [
      "[0.83333333 0.58333333 0.91666667 0.75       0.58333333 0.66666667\n",
      " 0.81818182 0.54545455 0.81818182 0.90909091]\n"
     ]
    }
   ],
   "source": [
    "from sklearn.model_selection import cross_val_score\n",
    "cv_score = cross_val_score(svc, x_train, y_train, cv=10)\n",
    "print(cv_score)"
   ]
  },
  {
   "cell_type": "code",
   "execution_count": null,
   "metadata": {},
   "outputs": [],
   "source": []
  }
 ],
 "metadata": {
  "kernelspec": {
   "display_name": "Python 3",
   "language": "python",
   "name": "python3"
  },
  "language_info": {
   "codemirror_mode": {
    "name": "ipython",
    "version": 3
   },
   "file_extension": ".py",
   "mimetype": "text/x-python",
   "name": "python",
   "nbconvert_exporter": "python",
   "pygments_lexer": "ipython3",
   "version": "3.7.6"
  }
 },
 "nbformat": 4,
 "nbformat_minor": 4
}
